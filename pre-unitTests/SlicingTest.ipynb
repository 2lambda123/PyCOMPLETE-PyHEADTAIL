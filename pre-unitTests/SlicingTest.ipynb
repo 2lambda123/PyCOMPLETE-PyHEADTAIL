{
 "metadata": {
  "name": "",
  "signature": "sha256:7874c101384e50b52bc44e7d800051f0e5bb07b5e5683ad8a613e0820a62659b"
 },
 "nbformat": 3,
 "nbformat_minor": 0,
 "worksheets": [
  {
   "cells": [
    {
     "cell_type": "code",
     "collapsed": false,
     "input": [
      "import sys, os\n",
      "BIN = os.path.expanduser(\"~/cern/git/PyHEADTAIL-new/\")\n",
      "sys.path.append(BIN)"
     ],
     "language": "python",
     "metadata": {},
     "outputs": [],
     "prompt_number": 39
    },
    {
     "cell_type": "code",
     "collapsed": false,
     "input": [
      "import numpy as np\n",
      "from scipy.constants import m_p, c, e\n",
      "import matplotlib.pyplot as plt\n",
      "\n",
      "from PyHEADTAIL.particles.particles import Particles\n",
      "import PyHEADTAIL.particles.generators as generators\n",
      "from PyHEADTAIL.particles.slicing import UniformBinSlicer, UniformChargeSlicer, ModeIsNotUniformBin, ModeIsUniformCharge"
     ],
     "language": "python",
     "metadata": {},
     "outputs": [],
     "prompt_number": 40
    },
    {
     "cell_type": "code",
     "collapsed": false,
     "input": [
      "# HELPERS\n",
      "\n",
      "def plot_slice_set_structure(axes, bunch, slice_set):\n",
      "    '''Plot basic structure of SliceSet - z_bins, z_centers,\n",
      "    n_macroparticles_per_slice.\n",
      "    '''\n",
      "    [axes.axvline(z, c='b', lw=2) for z in slice_set.z_bins[1:]]\n",
      "    axes.axvline(slice_set.z_bins[0], c='b', lw=2,\n",
      "                 label='z_bins')\n",
      "    [axes.axvline(z, c='b', ls='dashed') for z in\n",
      "        slice_set.z_centers[1:]]\n",
      "    axes.axvline(slice_set.z_centers[0], c='b', ls='dashed',\n",
      "                 label='z_centers')\n",
      "    axes.plot(slice_set.z_centers,\n",
      "              slice_set.n_macroparticles_per_slice,\n",
      "              'x', color='black', ms=10, mew=2,\n",
      "              label='z_centers vs. n_macroparticles')\n",
      "    y_up =  max(slice_set.n_macroparticles_per_slice)\n",
      "    y_up += 0.1 * y_up\n",
      "    axes.set_ylim((0,y_up))\n",
      "    axes.set_xlim(((1+0.1) * min(bunch.z), (1+0.1) * max(bunch.z)))\n",
      "\n",
      "def plot_particle_indices_of_slice(axes, bunch, slice_set):\n",
      "    '''Show all particles in a z vs. slice_index plot. Add SliceSet\n",
      "    and slice boundaries. particles_within_cuts are overlayed\n",
      "    to see if they have been correctly determined.\n",
      "    '''\n",
      "    z_cut_tail = slice_set.z_cut_tail\n",
      "    z_cut_head = slice_set.z_cut_head\n",
      "    part_in_cuts = slice_set.particles_within_cuts\n",
      "    six = slice_set.slice_index_of_particle\n",
      "\n",
      "    axes.plot(six, bunch.z, '.r', ms=12, label='All particles')\n",
      "    axes.plot(six.take(part_in_cuts), bunch.z.take(part_in_cuts), '.g',\n",
      "             label='particles_within_cuts')\n",
      "    axes.axhline(z_cut_tail, color='b', ls='dashed',\n",
      "                label='SliceSet boundaries')\n",
      "    axes.axhline(z_cut_head, color='b', ls='dashed')\n",
      "    [axes.axhline(z, color='b', ls='dashed') for z in\n",
      "        slice_set.z_bins]\n",
      "    axes.axvline(0, color='m', label='slices 0 and n-1')\n",
      "    axes.axvline(slice_set.n_slices-1, color='m')\n",
      "    axes.set_xlim((min(slice_set.slice_index_of_particle)-1,\n",
      "                   max(slice_set.slice_index_of_particle)+1))\n",
      "    axes.legend(loc='lower right')\n",
      "\n",
      "def test_particle_indices_of_slice(bunch, slice_set):\n",
      "    '''Get particle_indices_of_slice for specific slice index. Apply\n",
      "    'inverse function' slice_index_of_particle to get back slice_index\n",
      "    if everything works correctly.\n",
      "    '''\n",
      "    all_pass = True\n",
      "    for i in xrange(slice_set.n_slices):\n",
      "        pix_slice = slice_set.particle_indices_of_slice(i)\n",
      "        six_pix = slice_set.slice_index_of_particle[pix_slice]\n",
      "        if (six_pix != i).any():\n",
      "            all_pass = False\n",
      "\n",
      "    if all_pass:\n",
      "        print ('  Particle_indices_of_slice <-> slice_index_of_particle PASSED')\n",
      "    if not all_pass:\n",
      "        print ('  Particle_indices_of_slice and slice_index_of_particle FAILED')\n",
      "\n",
      "def slice_set_statistics(bunch, slice_set):\n",
      "    '''Test if statistics functions are executable. No value\n",
      "    checking\n",
      "    '''\n",
      "    slice_set.mean_x(bunch)\n",
      "    slice_set.sigma_x(bunch)\n",
      "    slice_set.epsn_x(bunch)\n",
      "    slice_set.mean_y(bunch)\n",
      "    slice_set.sigma_y(bunch)\n",
      "    slice_set.epsn_y(bunch)\n",
      "    slice_set.mean_z(bunch)\n",
      "    slice_set.sigma_z(bunch)\n",
      "    slice_set.epsn_z(bunch)\n",
      "    \n",
      "def plot_results_uniform_bin(bunch, uniform_bin_slice_set):\n",
      "    # Plot environment\n",
      "    fig = plt.figure(figsize=(12,12))\n",
      "    ax1 = fig.add_subplot(211)\n",
      "    ax2 = fig.add_subplot(212)\n",
      "\n",
      "    plot_slice_set_structure(axes=ax1, bunch=bunch,\n",
      "                             slice_set=uniform_bin_slice_set)\n",
      "    if n_sigma_z == None:\n",
      "        ax1.hist(bunch.z, uniform_bin_slice_set.n_slices, color='r', alpha=0.6,\n",
      "                 label='matplotlib hist')\n",
      "    ax1.legend(loc='lower left')\n",
      "\n",
      "    plot_particle_indices_of_slice(axes=ax2, bunch=bunch,\n",
      "                                   slice_set=uniform_bin_slice_set)\n",
      "\n",
      "    ax1.set_xlabel('z [m]')\n",
      "    ax1.set_ylabel('# macroparticles')\n",
      "    ax2.set_xlabel('slice index')\n",
      "    ax2.set_ylabel('z [m]')\n",
      "    plt.show()\n",
      "    \n",
      "def plot_results_uniform_charge(bunch, uniform_charge_slice_set):\n",
      "    # Plot environment\n",
      "    fig = plt.figure(figsize=(12,12))\n",
      "    ax1 = fig.add_subplot(211)\n",
      "    ax2 = fig.add_subplot(212)\n",
      "\n",
      "    plot_slice_set_structure(axes=ax1, bunch=bunch,\n",
      "                             slice_set=uniform_charge_slice_set)\n",
      "\n",
      "    n_particles_within_cuts = len(uniform_charge_slice_set.particles_within_cuts)\n",
      "    ax1.axhline(n_particles_within_cuts / float(uniform_charge_slice_set.n_slices),\n",
      "                c='r', ls='dashed', lw=2,\n",
      "                label='expected number of particles per slice')\n",
      "    ax1.legend(loc='lower left')\n",
      "\n",
      "    plot_particle_indices_of_slice(axes=ax2, bunch=bunch,\n",
      "                                   slice_set=uniform_charge_slice_set)\n",
      "\n",
      "    ax1.set_xlabel('z [m]')\n",
      "    ax1.set_ylabel('# macroparticles')\n",
      "    ax2.set_xlabel('slice index')\n",
      "    ax2.set_ylabel('z [m]')\n",
      "    plt.show()\n",
      "\n",
      "def call_slice_set_attributes(bunch, slice_set):\n",
      "    # Call all the properties / attributes / methods.\n",
      "    print 'z_cut_head', slice_set.z_cut_head\n",
      "    print 'z_cut_tail', slice_set.z_cut_tail\n",
      "    print 'z_centers', slice_set.z_centers\n",
      "    print 'n_slices', slice_set.n_slices\n",
      "    print 'slice_widths', slice_set.slice_widths\n",
      "    print 'slice_positions', slice_set.slice_positions\n",
      "    print 'n_macroparticles_per_slice', slice_set.n_macroparticles_per_slice\n",
      "    print 'particles_within_cuts', slice_set.particles_within_cuts\n",
      "    print 'particle_indices_by_slice', slice_set.particle_indices_by_slice\n",
      "\n",
      "    test_particle_indices_of_slice(bunch, slice_set)\n",
      "    slice_set_statistics(bunch, slice_set)\n",
      "\n",
      "    print 'line_density_derivative_gauss', slice_set.line_density_derivative_gauss()\n",
      "    print 'line_density_derivative', slice_set.line_density_derivative()\n",
      "\n",
      "    \n",
      "def call_slicer_attributes():\n",
      "    pass\n",
      "\n",
      "def clean_bunch(bunch):\n",
      "    bunch.clean_slices()"
     ],
     "language": "python",
     "metadata": {
      "slideshow": {
       "slide_type": "-"
      }
     },
     "outputs": [],
     "prompt_number": 56
    },
    {
     "cell_type": "code",
     "collapsed": false,
     "input": [
      "# Basic parameters.\n",
      "n_macroparticles = 500\n",
      "\n",
      "Q_x = 64.28\n",
      "Q_y = 59.31\n",
      "Q_s = 0.0020443\n",
      "\n",
      "C = 26658.883\n",
      "R = C / (2.*np.pi)\n",
      "\n",
      "alpha_x_inj = 0.\n",
      "alpha_y_inj = 0.\n",
      "beta_x_inj = 66.0064\n",
      "beta_y_inj = 71.5376\n",
      "alpha_0 = [0.0003225]"
     ],
     "language": "python",
     "metadata": {},
     "outputs": [],
     "prompt_number": 43
    },
    {
     "cell_type": "code",
     "collapsed": false,
     "input": [
      "# general simulation parameters\n",
      "n_particles = 10000\n",
      "\n",
      "# machine parameters\n",
      "circumference = 157.\n",
      "inj_alpha_x = 0\n",
      "inj_alpha_y = 0\n",
      "inj_beta_x = 5.9 # in [m]\n",
      "inj_beta_y = 5.7 # in [m]\n",
      "Qx = 5.1\n",
      "Qy = 6.1\n",
      "gamma_tr = 4.05\n",
      "alpha_c_array = [gamma_tr**-2]\n",
      "V_rf = 8e3 # in [V]\n",
      "harmonic = 1\n",
      "phi_offset = 0 # measured from aligned focussing phase (0 or pi)\n",
      "pipe_radius = 5e-2\n",
      "\n",
      "# beam parameters\n",
      "Ekin = 1.4e9 # in [eV]\n",
      "intensity = 1.684e12\n",
      "epsn_x = 2.5e-6 # in [m*rad]\n",
      "epsn_y = 2.5e-6 # in [m*rad]\n",
      "epsn_z = 1.2 # 4pi*sig_z*sig_dp (*p0/e) in [eVs]\n",
      "\n",
      "# calculations\n",
      "gamma = 1 + e * Ekin / (m_p * c**2)\n",
      "beta = np.sqrt(1 - gamma**-2)\n",
      "eta = alpha_c_array[0] - gamma**-2\n",
      "if eta < 0:\n",
      "    phi_offset = np.pi - phi_offset\n",
      "Etot = gamma * m_p * c**2 / e\n",
      "p0 = np.sqrt(gamma**2 - 1) * m_p * c\n",
      "Qs = np.sqrt(np.abs(eta) * V_rf / (2 * np.pi * beta**2 * Etot))\n",
      "beta_z = np.abs(eta) * circumference / (2 * np.pi * Qs)\n",
      "turn_period = circumference / (beta * c)\n",
      "\n",
      "bunch = generators.Gaussian6DTwiss( # implicitly tests Gaussian and Gaussian2DTwiss as well\n",
      "    n_particles, intensity, e, m_p, circumference, gamma,\n",
      "    inj_alpha_x, inj_beta_x, epsn_x,\n",
      "    inj_alpha_y, inj_beta_y, epsn_y, \n",
      "    beta_z, epsn_z\n",
      "    ).generate()"
     ],
     "language": "python",
     "metadata": {},
     "outputs": [],
     "prompt_number": 47
    },
    {
     "cell_type": "code",
     "collapsed": false,
     "input": [
      "# Call all the properties / attributes of the SliceSet and Slicer.\n",
      "# Note that most of them are also called and actually checked for\n",
      "# their values in the visual checks below.\n",
      "# particle_indices_of_slice and slice_index_of_particle are checked\n",
      "# by the method test_particle_indices_of_slice(bunch, slice_set).\n",
      "# Stats are checked by method slice_set_statistics(bunch, slice_set)."
     ],
     "language": "python",
     "metadata": {},
     "outputs": [],
     "prompt_number": 24
    },
    {
     "cell_type": "code",
     "collapsed": false,
     "input": [
      "# Uniform bin slicer\n",
      "n_slices = 10\n",
      "n_sigma_z = 2\n",
      "uniform_bin_slicer = UniformBinSlicer(n_slices, n_sigma_z)\n",
      "\n",
      "# Request slice_set from bunch with the uniform_bin_slicer config.\n",
      "print 'bunch._slice_sets', bunch._slice_sets\n",
      "uniform_bin_slice_set = bunch.get_slices(uniform_bin_slicer)\n",
      "print 'bunch._slice_sets', bunch._slice_sets\n",
      "\n",
      "print '\\n UNIFORM BIN SLICE SET, NSIGMAZ=2, 10 SLICES \\n'\n",
      "print 'slicer.config', uniform_bin_slicer.config\n",
      "call_slice_set_attributes(bunch, uniform_bin_slice_set)\n",
      "#call_slicer_attributes(uniform_bin_slice_set)\n",
      "\n",
      "# Let bunch remove the slice_set.\n",
      "bunch.clean_slices()\n",
      "print 'bunch._slice_sets', bunch._slice_sets"
     ],
     "language": "python",
     "metadata": {},
     "outputs": [
      {
       "output_type": "stream",
       "stream": "stdout",
       "text": [
        " bunch._slice_sets {<PyHEADTAIL.particles.slicing.UniformChargeSlicer object at 0x7f06e6a8ac90>: <PyHEADTAIL.particles.slicing.SliceSet object at 0x7f06e6a8a850>}\n",
        "bunch._slice_sets {<PyHEADTAIL.particles.slicing.UniformChargeSlicer object at 0x7f06e6a8ac90>: <PyHEADTAIL.particles.slicing.SliceSet object at 0x7f06e6a8a850>, <PyHEADTAIL.particles.slicing.UniformBinSlicer object at 0x7f06e6ab9490>: <PyHEADTAIL.particles.slicing.SliceSet object at 0x7f06e6ab9a10>}\n",
        "\n",
        " UNIFORM BIN SLICE SET, NSIGMAZ=2, 10 SLICES \n",
        "\n",
        "slicer.config ('uniform_bin', 10, 2, None)\n",
        "z_cut_head 22.694441884\n",
        "z_cut_tail -23.0341109463\n",
        "z_centers [-20.7476833  -16.17482802 -11.60197274  -7.02911746  -2.45626217\n",
        "   2.11659311   6.68944839  11.26230368  15.83515896  20.40801424]\n",
        "n_slices 10\n",
        "slice_widths [ 4.57285528  4.57285528  4.57285528  4.57285528  4.57285528  4.57285528\n",
        "  4.57285528  4.57285528  4.57285528  4.57285528]\n",
        "slice_positions [   0  334  973 1911 3268 4780 6341 7662 8634 9199 9553]\n",
        "n_macroparticles_per_slice [ 334  639  938 1357 1512 1561 1321  972  565  354]\n",
        "particles_within_cuts [   0    1    2 ..., 9997 9998 9999]\n",
        "particle_indices_by_slice [   2   11   19 ..., 9954 9975 9977]\n",
        "  Particle_indices_of_slice <-> slice_index_of_particle PASSED\n",
        "line_density_derivative_gauss [ 59.25971779  65.49903047  76.28260304  60.81021491  22.05478104\n",
        " -20.86195109 -62.42382107 -80.0244784  -66.2579952  -42.52928693]\n",
        "line_density_derivative [ 66.69793403  66.04188878  78.50674858  62.76166251  22.30553859\n",
        " -20.88410721 -64.40177565 -82.66170185 -67.57266103 -46.14184944]\n",
        "bunch._slice_sets {}\n"
       ]
      }
     ],
     "prompt_number": 50
    },
    {
     "cell_type": "code",
     "collapsed": false,
     "input": [
      "# Uniform charge slicer\n",
      "n_slices = 10\n",
      "n_sigma_z = 2\n",
      "\n",
      "clean_bunch(bunch)\n",
      "\n",
      "uniform_charge_slicer = UniformChargeSlicer(n_slices, n_sigma_z)\n",
      "uniform_charge_slice_set = bunch.get_slices(uniform_charge_slicer)\n",
      "\n",
      "print uniform_charge_slice_set.mode\n",
      "\n",
      "print '\\n UNIFORM CHARGE SLICE SET, NSIGMAZ=2, 10 SLICES \\n'\n",
      "print 'slicer.config', uniform_charge_slicer.config\n",
      "\n",
      "call_slice_set_attributes(bunch, uniform_charge_slice_set)\n"
     ],
     "language": "python",
     "metadata": {},
     "outputs": [
      {
       "ename": "ModeIsNotUniformBin",
       "evalue": "This SliceSet has self.mode not set to 'uniform_bin'!",
       "output_type": "pyerr",
       "traceback": [
        "\u001b[0;31m---------------------------------------------------------------------------\u001b[0m\n\u001b[0;31mModeIsNotUniformBin\u001b[0m                       Traceback (most recent call last)",
        "\u001b[0;32m<ipython-input-57-f8d8147b1e0d>\u001b[0m in \u001b[0;36m<module>\u001b[0;34m()\u001b[0m\n\u001b[1;32m     13\u001b[0m \u001b[0;32mprint\u001b[0m \u001b[0;34m'slicer.config'\u001b[0m\u001b[0;34m,\u001b[0m \u001b[0muniform_charge_slicer\u001b[0m\u001b[0;34m.\u001b[0m\u001b[0mconfig\u001b[0m\u001b[0;34m\u001b[0m\u001b[0m\n\u001b[1;32m     14\u001b[0m \u001b[0;34m\u001b[0m\u001b[0m\n\u001b[0;32m---> 15\u001b[0;31m \u001b[0mcall_slice_set_attributes\u001b[0m\u001b[0;34m(\u001b[0m\u001b[0mbunch\u001b[0m\u001b[0;34m,\u001b[0m \u001b[0muniform_charge_slice_set\u001b[0m\u001b[0;34m)\u001b[0m\u001b[0;34m\u001b[0m\u001b[0m\n\u001b[0m",
        "\u001b[0;32m<ipython-input-56-a5e3ac6dc425>\u001b[0m in \u001b[0;36mcall_slice_set_attributes\u001b[0;34m(bunch, slice_set)\u001b[0m\n\u001b[1;32m    137\u001b[0m     \u001b[0mslice_set_statistics\u001b[0m\u001b[0;34m(\u001b[0m\u001b[0mbunch\u001b[0m\u001b[0;34m,\u001b[0m \u001b[0mslice_set\u001b[0m\u001b[0;34m)\u001b[0m\u001b[0;34m\u001b[0m\u001b[0m\n\u001b[1;32m    138\u001b[0m \u001b[0;34m\u001b[0m\u001b[0m\n\u001b[0;32m--> 139\u001b[0;31m     \u001b[0;32mprint\u001b[0m \u001b[0;34m'line_density_derivative_gauss'\u001b[0m\u001b[0;34m,\u001b[0m \u001b[0mslice_set\u001b[0m\u001b[0;34m.\u001b[0m\u001b[0mline_density_derivative_gauss\u001b[0m\u001b[0;34m(\u001b[0m\u001b[0;34m)\u001b[0m\u001b[0;34m\u001b[0m\u001b[0m\n\u001b[0m\u001b[1;32m    140\u001b[0m     \u001b[0;32mprint\u001b[0m \u001b[0;34m'line_density_derivative'\u001b[0m\u001b[0;34m,\u001b[0m \u001b[0mslice_set\u001b[0m\u001b[0;34m.\u001b[0m\u001b[0mline_density_derivative\u001b[0m\u001b[0;34m(\u001b[0m\u001b[0;34m)\u001b[0m\u001b[0;34m\u001b[0m\u001b[0m\n\u001b[1;32m    141\u001b[0m \u001b[0;34m\u001b[0m\u001b[0m\n",
        "\u001b[0;32m/home/oeftiger/cern/git/PyHEADTAIL-new/PyHEADTAIL/particles/slicing.py\u001b[0m in \u001b[0;36mline_density_derivative_gauss\u001b[0;34m(self, sigma, smoothen_before, smoothen_after)\u001b[0m\n\u001b[1;32m    149\u001b[0m         \u001b[0mn_slices\u001b[0m\u001b[0;34m.\u001b[0m\u001b[0;34m\u001b[0m\u001b[0m\n\u001b[1;32m    150\u001b[0m         '''\n\u001b[0;32m--> 151\u001b[0;31m         \u001b[0;32mif\u001b[0m \u001b[0mself\u001b[0m\u001b[0;34m.\u001b[0m\u001b[0mmode\u001b[0m \u001b[0;32mis\u001b[0m \u001b[0;32mnot\u001b[0m \u001b[0;34m'uniform_bin'\u001b[0m\u001b[0;34m:\u001b[0m\u001b[0;34m\u001b[0m\u001b[0m\n\u001b[0m\u001b[1;32m    152\u001b[0m             \u001b[0;32mraise\u001b[0m \u001b[0mModeIsNotUniformBin\u001b[0m\u001b[0;34m(\u001b[0m\u001b[0;34m)\u001b[0m\u001b[0;34m\u001b[0m\u001b[0m\n\u001b[1;32m    153\u001b[0m         \u001b[0;32mif\u001b[0m \u001b[0msigma\u001b[0m \u001b[0;32mis\u001b[0m \u001b[0mNone\u001b[0m\u001b[0;34m:\u001b[0m\u001b[0;34m\u001b[0m\u001b[0m\n",
        "\u001b[0;31mModeIsNotUniformBin\u001b[0m: This SliceSet has self.mode not set to 'uniform_bin'!"
       ]
      },
      {
       "output_type": "stream",
       "stream": "stdout",
       "text": [
        "uniform_charge\n",
        "\n",
        " UNIFORM CHARGE SLICE SET, NSIGMAZ=2, 10 SLICES \n",
        "\n",
        "slicer.config ('uniform_charge', 10, 2, None)\n",
        "z_cut_head 22.694441884\n",
        "z_cut_tail -23.0341109463\n",
        "z_centers [-18.50098201 -11.64569562  -7.68532338  -4.57387225  -1.64186868\n",
        "   1.19237538   4.06883284   7.2322149   11.08527259  17.98518538]\n",
        "n_slices 10\n",
        "slice_widths [ 9.06625787  4.64431491  3.27642959  2.94647266  2.9175345   2.75095362\n",
        "  3.0019613   3.32480281  4.38131258  9.418513  ]\n",
        "slice_positions [   0  955 1910 2865 3820 4776 5731 6687 7642 8597 9553]\n",
        "n_macroparticles_per_slice [955 955 955 955 956 955 956 955 955 956]\n",
        "particles_within_cuts [   0    1    2 ..., 9997 9998 9999]\n",
        "particle_indices_by_slice [   2   11   19 ..., 9975 9977 9979]\n",
        "  Particle_indices_of_slice <-> slice_index_of_particle PASSED\n",
        "line_density_derivative_gauss"
       ]
      }
     ],
     "prompt_number": 57
    },
    {
     "cell_type": "code",
     "collapsed": false,
     "input": [
      "# Other cases. When are slicers equal?\n",
      "n_slices = 10\n",
      "n_sigma_z = 2\n",
      "uniform_bin_slicer = UniformBinSlicer(n_slices, n_sigma_z)\n",
      "uniform_charge_slicer = UniformChargeSlicer(n_slices, n_sigma_z)\n",
      "\n",
      "uniform_charge_slicer == uniform_bin_slicer"
     ],
     "language": "python",
     "metadata": {},
     "outputs": [
      {
       "metadata": {},
       "output_type": "pyout",
       "prompt_number": 52,
       "text": [
        "False"
       ]
      },
      {
       "output_type": "stream",
       "stream": "stdout",
       "text": [
        "\n"
       ]
      }
     ],
     "prompt_number": 52
    },
    {
     "cell_type": "code",
     "collapsed": false,
     "input": [
      "# Other cases. When are slicers equal?\n",
      "n_slices = 10\n",
      "n_sigma_z = 2\n",
      "uniform_bin_slicer = UniformBinSlicer(n_slices, n_sigma_z)\n",
      "uniform_bin_slicer_2 = UniformBinSlicer(n_slices, n_sigma_z)\n",
      "\n",
      "uniform_bin_slicer_2 == uniform_bin_slicer"
     ],
     "language": "python",
     "metadata": {},
     "outputs": [
      {
       "metadata": {},
       "output_type": "pyout",
       "prompt_number": 53,
       "text": [
        "True"
       ]
      }
     ],
     "prompt_number": 53
    },
    {
     "cell_type": "code",
     "collapsed": false,
     "input": [
      "# Does bunch slice_set management work?\n",
      "n_slices = 10\n",
      "n_sigma_z = 2\n",
      "\n",
      "clean_bunch(bunch)\n",
      "\n",
      "uniform_charge_slicer = UniformChargeSlicer(n_slices, n_sigma_z)\n",
      "uniform_bin_slicer = UniformBinSlicer(n_slices, n_sigma_z)\n",
      "\n",
      "print bunch._slice_sets\n",
      "uniform_charge_slice_set = bunch.get_slices(uniform_charge_slicer)\n",
      "print bunch._slice_sets\n",
      "uniform_bin_slice_set = bunch.get_slices(uniform_bin_slicer)\n",
      "uniform_charge_slice_set = bunch.get_slices(uniform_charge_slicer)\n",
      "print bunch._slice_sets\n",
      "\n",
      "bunch.clean_slices()\n",
      "print bunch._slice_sets"
     ],
     "language": "python",
     "metadata": {},
     "outputs": [
      {
       "output_type": "stream",
       "stream": "stdout",
       "text": [
        " {}\n",
        "{<PyHEADTAIL.particles.slicing.UniformChargeSlicer object at 0x7f06e6964b10>: <PyHEADTAIL.particles.slicing.SliceSet object at 0x7f06e6a3a990>}\n",
        "{<PyHEADTAIL.particles.slicing.UniformChargeSlicer object at 0x7f06e6964b10>: <PyHEADTAIL.particles.slicing.SliceSet object at 0x7f06e6a3a990>, <PyHEADTAIL.particles.slicing.UniformBinSlicer object at 0x7f06e6964990>: <PyHEADTAIL.particles.slicing.SliceSet object at 0x7f06e6964110>}\n",
        "{}\n"
       ]
      }
     ],
     "prompt_number": 58
    },
    {
     "cell_type": "code",
     "collapsed": false,
     "input": [
      "# Old method update_slices should give RuntimeError.\n",
      "n_slices = 10\n",
      "n_sigma_z = 2\n",
      "\n",
      "clean_bunch(bunch)\n",
      "\n",
      "uniform_charge_slicer = UniformChargeSlicer(n_slices, n_sigma_z)\n",
      "uniform_charge_slicer.update_slices(bunch)"
     ],
     "language": "python",
     "metadata": {},
     "outputs": [
      {
       "ename": "RuntimeError",
       "evalue": "update_slices(beam) no longer exists. Instead, remove all previously recorded SliceSetobjects in the beam via beam.clean_slices() when the longitudinal state of the beam is changed. Concretely: replace slices.update_slices(beam) by beam.clean_slices().The SliceSet objects should be retrieved via beam.get_slices(Slicer) *only*. In this way the beam can memorize previously created slice snapshots. This minimises computation time.",
       "output_type": "pyerr",
       "traceback": [
        "\u001b[0;31m---------------------------------------------------------------------------\u001b[0m\n\u001b[0;31mRuntimeError\u001b[0m                              Traceback (most recent call last)",
        "\u001b[0;32m<ipython-input-59-0b57cb3163e8>\u001b[0m in \u001b[0;36m<module>\u001b[0;34m()\u001b[0m\n\u001b[1;32m      6\u001b[0m \u001b[0;34m\u001b[0m\u001b[0m\n\u001b[1;32m      7\u001b[0m \u001b[0muniform_charge_slicer\u001b[0m \u001b[0;34m=\u001b[0m \u001b[0mUniformChargeSlicer\u001b[0m\u001b[0;34m(\u001b[0m\u001b[0mn_slices\u001b[0m\u001b[0;34m,\u001b[0m \u001b[0mn_sigma_z\u001b[0m\u001b[0;34m)\u001b[0m\u001b[0;34m\u001b[0m\u001b[0m\n\u001b[0;32m----> 8\u001b[0;31m \u001b[0muniform_charge_slicer\u001b[0m\u001b[0;34m.\u001b[0m\u001b[0mupdate_slices\u001b[0m\u001b[0;34m(\u001b[0m\u001b[0mbunch\u001b[0m\u001b[0;34m)\u001b[0m\u001b[0;34m\u001b[0m\u001b[0m\n\u001b[0m",
        "\u001b[0;32m/home/oeftiger/cern/git/PyHEADTAIL-new/PyHEADTAIL/particles/slicing.py\u001b[0m in \u001b[0;36mupdate_slices\u001b[0;34m(self, beam)\u001b[0m\n\u001b[1;32m    308\u001b[0m                            \u001b[0;34m'retrieved via beam.get_slices(Slicer) *only*. '\u001b[0m \u001b[0;34m+\u001b[0m\u001b[0;34m\u001b[0m\u001b[0m\n\u001b[1;32m    309\u001b[0m                            \u001b[0;34m'In this way the beam can memorize previously '\u001b[0m \u001b[0;34m+\u001b[0m\u001b[0;34m\u001b[0m\u001b[0m\n\u001b[0;32m--> 310\u001b[0;31m                            \u001b[0;34m'created slice snapshots. This minimises '\u001b[0m \u001b[0;34m+\u001b[0m\u001b[0;34m\u001b[0m\u001b[0m\n\u001b[0m\u001b[1;32m    311\u001b[0m                            'computation time.')\n\u001b[1;32m    312\u001b[0m \u001b[0;34m\u001b[0m\u001b[0m\n",
        "\u001b[0;31mRuntimeError\u001b[0m: update_slices(beam) no longer exists. Instead, remove all previously recorded SliceSetobjects in the beam via beam.clean_slices() when the longitudinal state of the beam is changed. Concretely: replace slices.update_slices(beam) by beam.clean_slices().The SliceSet objects should be retrieved via beam.get_slices(Slicer) *only*. In this way the beam can memorize previously created slice snapshots. This minimises computation time."
       ]
      }
     ],
     "prompt_number": 59
    },
    {
     "cell_type": "code",
     "collapsed": false,
     "input": [
      "# VISUAL CHECKS FOR DIFFERENT SLICER CONFIGURATIONS."
     ],
     "language": "python",
     "metadata": {},
     "outputs": [],
     "prompt_number": 26
    },
    {
     "cell_type": "code",
     "collapsed": false,
     "input": [
      "# CASE I\n",
      "# UniformBinSlicer, no longitudinal cut.\n",
      "n_slices = 10\n",
      "n_sigma_z = None\n",
      "uniform_bin_slicer = UniformBinSlicer(n_slices, n_sigma_z)\n",
      "\n",
      "clean_bunch(bunch)\n",
      "\n",
      "print 'bunch._slice_sets', bunch._slice_sets\n",
      "\n",
      "# Request slice_set from bunch with the uniform_bin_slicer config.\n",
      "uniform_bin_slice_set = bunch.get_slices(uniform_bin_slicer)\n",
      "print 'bunch._slice_sets', bunch._slice_sets\n",
      "\n",
      "plot_results_uniform_bin(bunch, uniform_bin_slice_set)"
     ],
     "language": "python",
     "metadata": {},
     "outputs": [
      {
       "output_type": "stream",
       "stream": "stdout",
       "text": [
        "bunch._slice_sets {}\n",
        "bunch._slice_sets {<PyHEADTAIL.particles.slicing.UniformBinSlicer object at 0x7f06e6964c10>: <PyHEADTAIL.particles.slicing.SliceSet object at 0x7f06e6964810>}\n"
       ]
      }
     ],
     "prompt_number": 61
    },
    {
     "cell_type": "code",
     "collapsed": false,
     "input": [
      "# CASE II\n",
      "# UniformBinSlicer, n_sigma_z = 1\n",
      "n_slices = 10\n",
      "n_sigma_z = 1\n",
      "uniform_bin_slicer = UniformBinSlicer(n_slices, n_sigma_z)\n",
      "\n",
      "clean_bunch(bunch)\n",
      "\n",
      "print 'bunch._slice_sets', bunch._slice_sets\n",
      "\n",
      "# Request slice_set from bunch with the uniform_bin_slicer config.\n",
      "uniform_bin_slice_set = bunch.get_slices(uniform_bin_slicer)\n",
      "print 'bunch._slice_sets', bunch._slice_sets\n",
      "\n",
      "plot_results_uniform_bin(bunch, uniform_bin_slice_set)"
     ],
     "language": "python",
     "metadata": {},
     "outputs": [
      {
       "output_type": "stream",
       "stream": "stdout",
       "text": [
        "bunch._slice_sets {}\n",
        "bunch._slice_sets {<PyHEADTAIL.particles.slicing.UniformBinSlicer object at 0x7f06e6ab9410>: <PyHEADTAIL.particles.slicing.SliceSet object at 0x7f06e720bb90>}\n"
       ]
      }
     ],
     "prompt_number": 62
    },
    {
     "cell_type": "code",
     "collapsed": false,
     "input": [
      "# CASE II b.\n",
      "# UniformBinSlicer, set z_cuts\n",
      "n_slices = 10\n",
      "z_cuts = (-0.05, 0.15)\n",
      "uniform_bin_slicer = UniformBinSlicer(n_slices, z_cuts=z_cuts)\n",
      "\n",
      "clean_bunch(bunch)\n",
      "\n",
      "print 'bunch._slice_sets', bunch._slice_sets\n",
      "\n",
      "# Request slice_set from bunch with the uniform_bin_slicer config.\n",
      "uniform_bin_slice_set = bunch.get_slices(uniform_bin_slicer)\n",
      "print 'bunch._slice_sets', bunch._slice_sets\n",
      "\n",
      "plot_results_uniform_bin(bunch, uniform_bin_slice_set)"
     ],
     "language": "python",
     "metadata": {},
     "outputs": [
      {
       "output_type": "stream",
       "stream": "stdout",
       "text": [
        "bunch._slice_sets {}\n",
        "bunch._slice_sets {<PyHEADTAIL.particles.slicing.UniformBinSlicer object at 0x7f06e7482c90>: <PyHEADTAIL.particles.slicing.SliceSet object at 0x7f06e7482b50>}\n"
       ]
      }
     ],
     "prompt_number": 63
    },
    {
     "cell_type": "code",
     "collapsed": false,
     "input": [
      "# CASE II c.\n",
      "# UniformBinSlicer, set z_cuts and n_sigma_z (THIS SHOULD FAIL).\n",
      "n_slices = 10\n",
      "z_cuts = (-0.05, 0.1)\n",
      "n_sigma_z = 2\n",
      "uniform_bin_slicer = UniformBinSlicer(n_slices, n_sigma_z=n_sigma_z, z_cuts=z_cuts)"
     ],
     "language": "python",
     "metadata": {},
     "outputs": [
      {
       "ename": "ValueError",
       "evalue": "Both arguments n_sigma_z and z_cuts are given while only one is accepted!",
       "output_type": "pyerr",
       "traceback": [
        "\u001b[0;31m---------------------------------------------------------------------------\u001b[0m\n\u001b[0;31mValueError\u001b[0m                                Traceback (most recent call last)",
        "\u001b[0;32m<ipython-input-30-14fcaa95864c>\u001b[0m in \u001b[0;36m<module>\u001b[0;34m()\u001b[0m\n\u001b[1;32m      4\u001b[0m \u001b[0mz_cuts\u001b[0m \u001b[0;34m=\u001b[0m \u001b[0;34m(\u001b[0m\u001b[0;34m-\u001b[0m\u001b[0;36m0.05\u001b[0m\u001b[0;34m,\u001b[0m \u001b[0;36m0.1\u001b[0m\u001b[0;34m)\u001b[0m\u001b[0;34m\u001b[0m\u001b[0m\n\u001b[1;32m      5\u001b[0m \u001b[0mn_sigma_z\u001b[0m \u001b[0;34m=\u001b[0m \u001b[0;36m2\u001b[0m\u001b[0;34m\u001b[0m\u001b[0m\n\u001b[0;32m----> 6\u001b[0;31m \u001b[0muniform_bin_slicer\u001b[0m \u001b[0;34m=\u001b[0m \u001b[0mUniformBinSlicer\u001b[0m\u001b[0;34m(\u001b[0m\u001b[0mn_slices\u001b[0m\u001b[0;34m,\u001b[0m \u001b[0mn_sigma_z\u001b[0m\u001b[0;34m=\u001b[0m\u001b[0mn_sigma_z\u001b[0m\u001b[0;34m,\u001b[0m \u001b[0mz_cuts\u001b[0m\u001b[0;34m=\u001b[0m\u001b[0mz_cuts\u001b[0m\u001b[0;34m)\u001b[0m\u001b[0;34m\u001b[0m\u001b[0m\n\u001b[0m",
        "\u001b[0;32m/home/oeftiger/cern/git/PyHEADTAIL-new/PyHEADTAIL/particles/slicing.py\u001b[0m in \u001b[0;36m__init__\u001b[0;34m(self, n_slices, n_sigma_z, z_cuts)\u001b[0m\n\u001b[1;32m    322\u001b[0m         \u001b[0;32mif\u001b[0m \u001b[0mn_sigma_z\u001b[0m \u001b[0;32mand\u001b[0m \u001b[0mz_cuts\u001b[0m\u001b[0;34m:\u001b[0m\u001b[0;34m\u001b[0m\u001b[0m\n\u001b[1;32m    323\u001b[0m             raise ValueError(\"Both arguments n_sigma_z and z_cuts are\" +\n\u001b[0;32m--> 324\u001b[0;31m                              \" given while only one is accepted!\")\n\u001b[0m\u001b[1;32m    325\u001b[0m         \u001b[0mmode\u001b[0m \u001b[0;34m=\u001b[0m \u001b[0;34m'uniform_bin'\u001b[0m\u001b[0;34m\u001b[0m\u001b[0m\n\u001b[1;32m    326\u001b[0m         \u001b[0mself\u001b[0m\u001b[0;34m.\u001b[0m\u001b[0mconfig\u001b[0m \u001b[0;34m=\u001b[0m \u001b[0;34m(\u001b[0m\u001b[0mmode\u001b[0m\u001b[0;34m,\u001b[0m \u001b[0mn_slices\u001b[0m\u001b[0;34m,\u001b[0m \u001b[0mn_sigma_z\u001b[0m\u001b[0;34m,\u001b[0m \u001b[0mz_cuts\u001b[0m\u001b[0;34m)\u001b[0m\u001b[0;34m\u001b[0m\u001b[0m\n",
        "\u001b[0;31mValueError\u001b[0m: Both arguments n_sigma_z and z_cuts are given while only one is accepted!"
       ]
      }
     ],
     "prompt_number": 30
    },
    {
     "cell_type": "code",
     "collapsed": false,
     "input": [
      "# CASE III\n",
      "# UniformChargeSlicer, no longitudinal cut.\n",
      "n_slices = 10\n",
      "n_sigma_z = None\n",
      "uniform_charge_slicer = UniformChargeSlicer(n_slices, n_sigma_z)\n",
      "\n",
      "clean_bunch(bunch)\n",
      "\n",
      "print 'bunch._slice_sets', bunch._slice_sets\n",
      "\n",
      "# Request slice_set from bunch with the uniform_charge_slicer config.\n",
      "uniform_charge_slice_set = bunch.get_slices(uniform_charge_slicer)\n",
      "print 'bunch._slice_sets', bunch._slice_sets\n",
      "\n",
      "plot_results_uniform_charge(bunch, uniform_charge_slice_set)"
     ],
     "language": "python",
     "metadata": {},
     "outputs": [
      {
       "output_type": "stream",
       "stream": "stdout",
       "text": [
        "bunch._slice_sets {}\n",
        "bunch._slice_sets {<PyHEADTAIL.particles.slicing.UniformChargeSlicer object at 0x7f06e6a54710>: <PyHEADTAIL.particles.slicing.SliceSet object at 0x7f06e6a54350>}\n"
       ]
      }
     ],
     "prompt_number": 64
    },
    {
     "cell_type": "code",
     "collapsed": false,
     "input": [
      "# CASE IV\n",
      "# UniformChargeSlicer, n_sigma_z = 1\n",
      "n_slices = 10\n",
      "n_sigma_z = 1\n",
      "uniform_charge_slicer = UniformChargeSlicer(n_slices, n_sigma_z)\n",
      "\n",
      "clean_bunch(bunch)\n",
      "\n",
      "print 'bunch._slice_sets', bunch._slice_sets\n",
      "\n",
      "# Request slice_set from bunch with the uniform_charge_slicer config.\n",
      "uniform_charge_slice_set = bunch.get_slices(uniform_charge_slicer)\n",
      "print 'bunch._slice_sets', bunch._slice_sets\n",
      "\n",
      "plot_results_uniform_charge(bunch, uniform_charge_slice_set)"
     ],
     "language": "python",
     "metadata": {},
     "outputs": [
      {
       "output_type": "stream",
       "stream": "stdout",
       "text": [
        "bunch._slice_sets {}\n",
        "bunch._slice_sets {<PyHEADTAIL.particles.slicing.UniformChargeSlicer object at 0x7f06ef2b3e90>: <PyHEADTAIL.particles.slicing.SliceSet object at 0x7f06ef25a350>}\n"
       ]
      }
     ],
     "prompt_number": 65
    },
    {
     "cell_type": "code",
     "collapsed": false,
     "input": [
      "# CASE IV b.\n",
      "# UniformChargeSlicer, set z_cuts\n",
      "n_slices = 10\n",
      "z_cuts = (-0.05, 0.1)\n",
      "uniform_charge_slicer = UniformChargeSlicer(n_slices, z_cuts=z_cuts)\n",
      "\n",
      "clean_bunch(bunch)\n",
      "\n",
      "print 'bunch._slice_sets', bunch._slice_sets\n",
      "\n",
      "# Request slice_set from bunch with the uniform_bin_slicer config.\n",
      "uniform_charge_slice_set = bunch.get_slices(uniform_charge_slicer)\n",
      "print 'bunch._slice_sets', bunch._slice_sets\n",
      "\n",
      "plot_results_uniform_charge(bunch, uniform_charge_slice_set)"
     ],
     "language": "python",
     "metadata": {},
     "outputs": [
      {
       "output_type": "stream",
       "stream": "stdout",
       "text": [
        "bunch._slice_sets {}\n",
        "bunch._slice_sets {<PyHEADTAIL.particles.slicing.UniformChargeSlicer object at 0x7f06e7e56610>: <PyHEADTAIL.particles.slicing.SliceSet object at 0x7f06ef2b3e90>}\n"
       ]
      }
     ],
     "prompt_number": 66
    },
    {
     "cell_type": "code",
     "collapsed": false,
     "input": [
      "# CASE IV c.\n",
      "# UniformChargeSlicer, set z_cuts and n_sigma_z (THIS SHOULD FAIL).\n",
      "n_slices = 10\n",
      "z_cuts = (-0.05, 0.1)\n",
      "n_sigma_z = 2\n",
      "uniform_charge_slicer = UniformChargeSlicer(n_slices, n_sigma_z=n_sigma_z, z_cuts=z_cuts)"
     ],
     "language": "python",
     "metadata": {},
     "outputs": [
      {
       "ename": "ValueError",
       "evalue": "Both arguments n_sigma_z and z_cuts are given while only one is accepted!",
       "output_type": "pyerr",
       "traceback": [
        "\u001b[0;31m---------------------------------------------------------------------------\u001b[0m\n\u001b[0;31mValueError\u001b[0m                                Traceback (most recent call last)",
        "\u001b[0;32m<ipython-input-67-43aca7726807>\u001b[0m in \u001b[0;36m<module>\u001b[0;34m()\u001b[0m\n\u001b[1;32m      4\u001b[0m \u001b[0mz_cuts\u001b[0m \u001b[0;34m=\u001b[0m \u001b[0;34m(\u001b[0m\u001b[0;34m-\u001b[0m\u001b[0;36m0.05\u001b[0m\u001b[0;34m,\u001b[0m \u001b[0;36m0.1\u001b[0m\u001b[0;34m)\u001b[0m\u001b[0;34m\u001b[0m\u001b[0m\n\u001b[1;32m      5\u001b[0m \u001b[0mn_sigma_z\u001b[0m \u001b[0;34m=\u001b[0m \u001b[0;36m2\u001b[0m\u001b[0;34m\u001b[0m\u001b[0m\n\u001b[0;32m----> 6\u001b[0;31m \u001b[0muniform_charge_slicer\u001b[0m \u001b[0;34m=\u001b[0m \u001b[0mUniformChargeSlicer\u001b[0m\u001b[0;34m(\u001b[0m\u001b[0mn_slices\u001b[0m\u001b[0;34m,\u001b[0m \u001b[0mn_sigma_z\u001b[0m\u001b[0;34m=\u001b[0m\u001b[0mn_sigma_z\u001b[0m\u001b[0;34m,\u001b[0m \u001b[0mz_cuts\u001b[0m\u001b[0;34m=\u001b[0m\u001b[0mz_cuts\u001b[0m\u001b[0;34m)\u001b[0m\u001b[0;34m\u001b[0m\u001b[0m\n\u001b[0m",
        "\u001b[0;32m/home/oeftiger/cern/git/PyHEADTAIL-new/PyHEADTAIL/particles/slicing.py\u001b[0m in \u001b[0;36m__init__\u001b[0;34m(self, n_slices, n_sigma_z, z_cuts)\u001b[0m\n\u001b[1;32m    355\u001b[0m         '''\n\u001b[1;32m    356\u001b[0m         \u001b[0;32mif\u001b[0m \u001b[0mn_sigma_z\u001b[0m \u001b[0;32mand\u001b[0m \u001b[0mz_cuts\u001b[0m\u001b[0;34m:\u001b[0m\u001b[0;34m\u001b[0m\u001b[0m\n\u001b[0;32m--> 357\u001b[0;31m             raise ValueError(\"Both arguments n_sigma_z and z_cuts are\" +\n\u001b[0m\u001b[1;32m    358\u001b[0m                              \" given while only one is accepted!\")\n\u001b[1;32m    359\u001b[0m         \u001b[0mmode\u001b[0m \u001b[0;34m=\u001b[0m \u001b[0;34m'uniform_charge'\u001b[0m\u001b[0;34m\u001b[0m\u001b[0m\n",
        "\u001b[0;31mValueError\u001b[0m: Both arguments n_sigma_z and z_cuts are given while only one is accepted!"
       ]
      }
     ],
     "prompt_number": 67
    },
    {
     "cell_type": "code",
     "collapsed": false,
     "input": [],
     "language": "python",
     "metadata": {},
     "outputs": []
    }
   ],
   "metadata": {}
  }
 ]
}