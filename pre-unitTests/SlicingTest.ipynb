{
 "metadata": {
  "name": "",
  "signature": "sha256:7874c101384e50b52bc44e7d800051f0e5bb07b5e5683ad8a613e0820a62659b"
 },
 "nbformat": 3,
 "nbformat_minor": 0,
 "worksheets": [
  {
   "cells": [
    {
     "cell_type": "code",
     "collapsed": false,
     "input": [
      "import sys, os\n",
      "BIN = os.path.expanduser(\"~/cern/git/PyHEADTAIL-new/\")\n",
      "sys.path.append(BIN)"
     ],
     "language": "python",
     "metadata": {},
     "outputs": [],
     "prompt_number": 38
    },
    {
     "cell_type": "code",
     "collapsed": false,
     "input": [
      "import numpy as np\n",
      "from scipy.constants import m_p, c, e\n",
      "import matplotlib.pyplot as plt\n",
      "\n",
      "from PyHEADTAIL.particles.particles import Particles\n",
      "import PyHEADTAIL.particles.generators as generators\n",
      "from PyHEADTAIL.particles.slicing import UniformBinSlicer, UniformChargeSlicer, ModeIsNotUniformBin, ModeIsUniformCharge"
     ],
     "language": "python",
     "metadata": {},
     "outputs": [],
     "prompt_number": 36
    },
    {
     "cell_type": "code",
     "collapsed": false,
     "input": [
      "# HELPERS\n",
      "def generate_bunch(n_macroparticles, alpha_x, alpha_y, beta_x, beta_y, alpha_0, Q_s, R):\n",
      "\n",
      "    intensity = 1.05e11\n",
      "    sigma_z = 0.059958\n",
      "    gamma = 3730.26\n",
      "    eta = alpha_0 - 1. / gamma**2\n",
      "    gamma_t = 1. / np.sqrt(alpha_0)\n",
      "    p0 = np.sqrt(gamma**2 - 1) * m_p * c\n",
      "\n",
      "    beta_z = eta * R / Q_s\n",
      "\n",
      "    epsn_x = 3.75e-6 # [m rad]\n",
      "    epsn_y = 3.75e-6 # [m rad]\n",
      "    epsn_z = 4 * np.pi * sigma_z**2 * p0 / (beta_z * e)\n",
      "    \n",
      "    bunch = generators.Gaussian6DTwiss(\n",
      "        macroparticlenumber=n_macroparticles, intensity=intensity, charge=e,\n",
      "        gamma_reference=gamma, mass=m_p, circumference=C,\n",
      "        alpha_x=alpha_x, beta_x=beta_x, epsn_x=epsn_x,\n",
      "        alpha_y=alpha_y, beta_y=beta_y, epsn_y=epsn_y,\n",
      "        beta_z=beta_z, epsn_z=epsn_z).generate()\n",
      "    print bunch.sigma_z()\n",
      "    \n",
      "    return bunch\n",
      "\n",
      "def plot_slice_set_structure(axes, bunch, slice_set):\n",
      "    '''Plot basic structure of SliceSet - z_bins, z_centers,\n",
      "    n_macroparticles_per_slice.\n",
      "    '''\n",
      "    [axes.axvline(z, c='b', lw=2) for z in slice_set.z_bins[1:]]\n",
      "    axes.axvline(slice_set.z_bins[0], c='b', lw=2,\n",
      "                 label='z_bins')\n",
      "    [axes.axvline(z, c='b', ls='dashed') for z in\n",
      "        slice_set.z_centers[1:]]\n",
      "    axes.axvline(slice_set.z_centers[0], c='b', ls='dashed',\n",
      "                 label='z_centers')\n",
      "    axes.plot(slice_set.z_centers,\n",
      "              slice_set.n_macroparticles_per_slice,\n",
      "              'x', color='black', ms=10, mew=2,\n",
      "              label='z_centers vs. n_macroparticles')\n",
      "    y_up =  max(slice_set.n_macroparticles_per_slice)\n",
      "    y_up += 0.1 * y_up\n",
      "    axes.set_ylim((0,y_up))\n",
      "    axes.set_xlim(((1+0.1) * min(bunch.z), (1+0.1) * max(bunch.z)))\n",
      "\n",
      "def plot_particle_indices_of_slice(axes, bunch, slice_set):\n",
      "    '''Show all particles in a z vs. slice_index plot. Add SliceSet\n",
      "    and slice boundaries. particles_within_cuts are overlayed\n",
      "    to see if they have been correctly determined.\n",
      "    '''\n",
      "    z_cut_tail = slice_set.z_cut_tail\n",
      "    z_cut_head = slice_set.z_cut_head\n",
      "    part_in_cuts = slice_set.particles_within_cuts\n",
      "    six = slice_set.slice_index_of_particle\n",
      "\n",
      "    axes.plot(six, bunch.z, '.r', ms=12, label='All particles')\n",
      "    axes.plot(six.take(part_in_cuts), bunch.z.take(part_in_cuts), '.g',\n",
      "             label='particles_within_cuts')\n",
      "    axes.axhline(z_cut_tail, color='b', ls='dashed',\n",
      "                label='SliceSet boundaries')\n",
      "    axes.axhline(z_cut_head, color='b', ls='dashed')\n",
      "    [axes.axhline(z, color='b', ls='dashed') for z in\n",
      "        slice_set.z_bins]\n",
      "    axes.axvline(0, color='m', label='slices 0 and n-1')\n",
      "    axes.axvline(slice_set.n_slices-1, color='m')\n",
      "    axes.set_xlim((min(slice_set.slice_index_of_particle)-1,\n",
      "                   max(slice_set.slice_index_of_particle)+1))\n",
      "    axes.legend(loc='lower right')\n",
      "\n",
      "def test_particle_indices_of_slice(bunch, slice_set):\n",
      "    '''Get particle_indices_of_slice for specific slice index. Apply\n",
      "    'inverse function' slice_index_of_particle to get back slice_index\n",
      "    if everything works correctly.\n",
      "    '''\n",
      "    all_pass = True\n",
      "    for i in xrange(slice_set.n_slices):\n",
      "        pix_slice = slice_set.particle_indices_of_slice(i)\n",
      "        six_pix = slice_set.slice_index_of_particle[pix_slice]\n",
      "        if (six_pix != i).any():\n",
      "            all_pass = False\n",
      "\n",
      "    if all_pass:\n",
      "        print ('  Particle_indices_of_slice <-> slice_index_of_particle PASSED')\n",
      "    if not all_pass:\n",
      "        print ('  Particle_indices_of_slice and slice_index_of_particle FAILED')\n",
      "\n",
      "def slice_set_statistics(bunch, slice_set):\n",
      "    '''Test if statistics functions are executable. No value\n",
      "    checking\n",
      "    '''\n",
      "    slice_set.mean_x(bunch)\n",
      "    slice_set.sigma_x(bunch)\n",
      "    slice_set.epsn_x(bunch)\n",
      "    slice_set.mean_y(bunch)\n",
      "    slice_set.sigma_y(bunch)\n",
      "    slice_set.epsn_y(bunch)\n",
      "    slice_set.mean_z(bunch)\n",
      "    slice_set.sigma_z(bunch)\n",
      "    slice_set.epsn_z(bunch)\n",
      "    \n",
      "def plot_results_uniform_bin(bunch, uniform_bin_slice_set):\n",
      "    # Plot environment\n",
      "    fig = plt.figure(figsize=(12,12))\n",
      "    ax1 = fig.add_subplot(211)\n",
      "    ax2 = fig.add_subplot(212)\n",
      "\n",
      "    plot_slice_set_structure(axes=ax1, bunch=bunch,\n",
      "                             slice_set=uniform_bin_slice_set)\n",
      "    if n_sigma_z == None:\n",
      "        ax1.hist(bunch.z, uniform_bin_slice_set.n_slices, color='r', alpha=0.6,\n",
      "                 label='matplotlib hist')\n",
      "    ax1.legend(loc='lower left')\n",
      "\n",
      "    plot_particle_indices_of_slice(axes=ax2, bunch=bunch,\n",
      "                                   slice_set=uniform_bin_slice_set)\n",
      "\n",
      "    ax1.set_xlabel('z [m]')\n",
      "    ax1.set_ylabel('# macroparticles')\n",
      "    ax2.set_xlabel('slice index')\n",
      "    ax2.set_ylabel('z [m]')\n",
      "    plt.show()\n",
      "    \n",
      "def plot_results_uniform_charge(bunch, uniform_charge_slice_set):\n",
      "    # Plot environment\n",
      "    fig = plt.figure(figsize=(12,12))\n",
      "    ax1 = fig.add_subplot(211)\n",
      "    ax2 = fig.add_subplot(212)\n",
      "\n",
      "    plot_slice_set_structure(axes=ax1, bunch=bunch,\n",
      "                             slice_set=uniform_charge_slice_set)\n",
      "\n",
      "    n_particles_within_cuts = len(uniform_charge_slice_set.particles_within_cuts)\n",
      "    ax1.axhline(n_particles_within_cuts / float(uniform_charge_slice_set.n_slices),\n",
      "                c='r', ls='dashed', lw=2,\n",
      "                label='expected number of particles per slice')\n",
      "    ax1.legend(loc='lower left')\n",
      "\n",
      "    plot_particle_indices_of_slice(axes=ax2, bunch=bunch,\n",
      "                                   slice_set=uniform_charge_slice_set)\n",
      "\n",
      "    ax1.set_xlabel('z [m]')\n",
      "    ax1.set_ylabel('# macroparticles')\n",
      "    ax2.set_xlabel('slice index')\n",
      "    ax2.set_ylabel('z [m]')\n",
      "    plt.show()\n",
      "\n",
      "def call_slice_set_attributes(bunch, slice_set):\n",
      "    # Call all the properties / attributes / methods.\n",
      "    print 'z_cut_head', slice_set.z_cut_head\n",
      "    print 'z_cut_tail', slice_set.z_cut_tail\n",
      "    print 'z_centers', slice_set.z_centers\n",
      "    print 'n_slices', slice_set.n_slices\n",
      "    print 'slice_widths', slice_set.slice_widths\n",
      "    print 'slice_positions', slice_set.slice_positions\n",
      "    print 'n_macroparticles_per_slice', slice_set.n_macroparticles_per_slice\n",
      "    print 'particles_within_cuts', slice_set.particles_within_cuts\n",
      "    print 'particle_indices_by_slice', slice_set.particle_indices_by_slice\n",
      "\n",
      "    test_particle_indices_of_slice(bunch, slice_set)\n",
      "    slice_set_statistics(bunch, slice_set)\n",
      "\n",
      "    print 'line_density_derivative_gauss', slice_set.line_density_derivative_gauss()\n",
      "    print 'line_density_derivative', slice_set.line_density_derivative()\n",
      "\n",
      "    \n",
      "def call_slicer_attributes():\n",
      "    pass"
     ],
     "language": "python",
     "metadata": {
      "slideshow": {
       "slide_type": "-"
      }
     },
     "outputs": [],
     "prompt_number": 16
    },
    {
     "cell_type": "code",
     "collapsed": false,
     "input": [
      "# Basic parameters.\n",
      "n_macroparticles = 500\n",
      "\n",
      "Q_x = 64.28\n",
      "Q_y = 59.31\n",
      "Q_s = 0.0020443\n",
      "\n",
      "C = 26658.883\n",
      "R = C / (2.*np.pi)\n",
      "\n",
      "alpha_x_inj = 0.\n",
      "alpha_y_inj = 0.\n",
      "beta_x_inj = 66.0064\n",
      "beta_y_inj = 71.5376\n",
      "alpha_0 = 0.0003225"
     ],
     "language": "python",
     "metadata": {},
     "outputs": [],
     "prompt_number": 13
    },
    {
     "cell_type": "code",
     "collapsed": false,
     "input": [],
     "language": "python",
     "metadata": {},
     "outputs": [],
     "prompt_number": 3
    },
    {
     "cell_type": "code",
     "collapsed": false,
     "input": [
      "# Call all the properties / attributes of the SliceSet and Slicer.\n",
      "# Note that most of them are also called and actually checked for\n",
      "# their values in the visual checks below.\n",
      "# particle_indices_of_slice and slice_index_of_particle are checked\n",
      "# by the method test_particle_indices_of_slice(bunch, slice_set).\n",
      "# Stats are checked by method slice_set_statistics(bunch, slice_set)."
     ],
     "language": "python",
     "metadata": {},
     "outputs": [],
     "prompt_number": 24
    },
    {
     "cell_type": "code",
     "collapsed": false,
     "input": [
      "# Uniform bin slicer\n",
      "n_slices = 10\n",
      "n_sigma_z = 2\n",
      "uniform_bin_slicer = UniformBinSlicer(n_slices, n_sigma_z)\n",
      "\n",
      "bunch = generate_bunch(\n",
      "    n_macroparticles, alpha_x_inj, alpha_y_inj, beta_x_inj, beta_y_inj,\n",
      "    alpha_0, Q_s, R)\n",
      "\n",
      "# Request slice_set from bunch with the uniform_bin_slicer config.\n",
      "print 'bunch._slice_sets', bunch._slice_sets\n",
      "uniform_bin_slice_set = bunch.get_slices(uniform_bin_slicer)\n",
      "print 'bunch._slice_sets', bunch._slice_sets\n",
      "\n",
      "print '\\n UNIFORM BIN SLICE SET, NSIGMAZ=2, 10 SLICES \\n'\n",
      "print 'slicer.config', uniform_bin_slicer.config\n",
      "call_slice_set_attributes(bunch, uniform_bin_slice_set)\n",
      "#call_slicer_attributes(uniform_bin_slice_set)\n",
      "\n",
      "# Let bunch remove the slice_set.\n",
      "bunch.clean_slices()\n",
      "print 'bunch._slice_sets', bunch._slice_sets"
     ],
     "language": "python",
     "metadata": {},
     "outputs": [
      {
       "output_type": "stream",
       "stream": "stdout",
       "text": [
        "0.0592930293693\n",
        "bunch._slice_sets {}\n",
        "bunch._slice_sets {<PyHEADTAIL.particles.slicing.UniformBinSlicer object at 0x7f06e880f710>: <PyHEADTAIL.particles.slicing.SliceSet object at 0x7f070f001810>}\n",
        "\n",
        " UNIFORM BIN SLICE SET, NSIGMAZ=2, 10 SLICES \n",
        "\n",
        "slicer.config ('uniform_bin', 10, 2, None)\n",
        "z_cut_head 0.120102440905\n",
        "z_cut_tail -0.117069676572\n",
        "z_centers [-0.10521107 -0.08149386 -0.05777665 -0.03405944 -0.01034222  0.01337499\n",
        "  0.0370922   0.06080941  0.08452662  0.10824384]\n",
        "n_slices 10\n",
        "slice_widths [ 0.02371721  0.02371721  0.02371721  0.02371721  0.02371721  0.02371721\n",
        "  0.02371721  0.02371721  0.02371721  0.02371721]\n",
        "slice_positions [  0  12  45  85 158 236 302 381 426 457 474]\n",
        "n_macroparticles_per_slice [12 33 40 73 78 66 79 45 31 17]\n",
        "particles_within_cuts [  0   1   2   3   5   6   7   8   9  10  11  12  13  14  15  17  18  19\n",
        "  20  21  22  23  24  25  26  27  28  29  30  31  32  33  35  36  37  39\n",
        "  40  41  42  43  44  45  46  47  48  49  50  51  52  53  54  55  56  57\n",
        "  58  59  60  61  62  63  64  65  66  67  68  69  70  71  72  73  74  75\n",
        "  76  77  78  79  80  81  82  83  84  85  86  87  88  89  90  91  92  93\n",
        "  94  95  96  97  98  99 100 101 102 103 104 105 106 107 108 109 110 111\n",
        " 113 114 115 116 117 118 119 120 121 122 123 124 125 126 127 128 130 131\n",
        " 132 133 134 135 136 137 138 139 140 141 142 143 144 145 146 147 148 150\n",
        " 151 152 153 154 155 157 158 159 160 161 162 163 164 165 167 168 169 170\n",
        " 171 172 173 174 175 176 177 178 179 180 181 183 184 185 186 187 189 190\n",
        " 191 192 193 194 195 196 197 198 199 200 201 202 203 204 205 206 207 209\n",
        " 210 211 212 213 214 215 216 217 218 219 221 222 223 224 225 226 227 228\n",
        " 229 230 231 232 233 234 235 236 237 238 239 240 241 242 243 244 245 246\n",
        " 247 248 249 251 252 254 255 256 257 258 259 260 261 262 263 264 265 266\n",
        " 267 268 269 270 271 272 273 274 275 276 277 278 279 280 281 282 283 284\n",
        " 285 286 287 288 289 290 291 292 294 295 296 297 298 299 300 301 302 303\n",
        " 304 305 306 307 308 309 310 311 312 313 314 315 316 317 318 319 320 321\n",
        " 322 323 324 325 326 327 328 329 330 331 332 333 334 335 336 337 338 339\n",
        " 340 341 342 343 344 345 346 347 348 349 350 351 352 353 354 355 356 357\n",
        " 358 359 360 361 362 363 364 365 367 368 370 371 372 373 374 375 376 377\n",
        " 378 380 382 383 384 385 386 388 389 390 391 392 393 394 395 396 397 398\n",
        " 399 400 401 402 403 404 405 406 407 408 409 410 411 412 413 414 415 416\n",
        " 417 418 419 420 421 423 424 425 426 427 428 429 430 431 432 433 434 436\n",
        " 437 439 440 441 442 444 445 446 447 448 449 450 451 452 453 454 455 456\n",
        " 457 458 459 460 461 462 463 464 465 466 467 468 469 470 471 472 473 474\n",
        " 475 476 477 478 479 480 481 482 483 484 485 486 487 489 490 491 492 493\n",
        " 494 495 496 497 498 499]\n",
        "particle_indices_by_slice [ 43  70 118 154 318 348 354 355 389 477 486 495   7  19  25  28  52  53\n",
        "  67  80  93 121 153 183 207 209 213 227 235 246 257 263 268 288 294 303\n",
        " 327 329 335 361 384 434 453 458 482  13  15  37  40  61  64  83  88  89\n",
        " 105 111 147 170 194 210 225 233 247 261 265 271 276 278 287 307 328 331\n",
        " 338 349 359 371 386 390 393 399 404 428 444 471 472   2  11  21  23  27\n",
        "  29  30  32  35  36  45  49  65  75  76  77  81  82  84  85  94  99 102\n",
        " 106 109 115 138 167 171 172 179 192 195 199 217 218 231 236 248 249 256\n",
        " 270 280 289 290 301 305 310 321 325 344 345 373 376 395 396 398 401 403\n",
        " 408 417 421 427 430 439 454 457 467 470 491 497 498 499   5   8  12  22\n",
        "  26  31  47  55  62  68  69  72  73  98 113 124 135 151 152 162 164 176\n",
        " 184 187 197 198 202 212 214 222 223 228 239 245 259 266 267 274 285 292\n",
        " 302 309 312 314 317 320 324 326 332 333 334 336 346 357 362 364 374 382\n",
        " 411 414 416 419 423 424 440 441 445 446 448 450 462 463 476 481 484 490\n",
        " 492 493  14  33  41  42  46  58  63  66  95 100 107 108 110 116 117 120\n",
        " 127 130 134 137 143 163 168 189 200 201 206 216 219 232 237 238 251 273\n",
        " 281 282 296 299 300 304 306 322 323 341 347 353 356 358 360 372 375 380\n",
        " 409 415 420 433 437 447 449 461 464 479 480 485 487 494   6   9  17  39\n",
        "  50  59  74  78  79  86  90  97 114 125 126 131 132 133 136 141 142 144\n",
        " 145 157 161 173 174 186 190 191 215 224 226 230 234 241 243 260 262 272\n",
        " 275 279 283 284 295 313 319 330 337 339 351 352 365 367 370 377 385 392\n",
        " 394 397 400 402 406 412 425 426 431 432 436 442 452 456 459 460 466 468\n",
        " 469 473 483   3  10  18  24  44  48  54  56  57  87  96 103 119 122 123\n",
        " 128 139 146 155 158 159 160 169 175 178 180 185 205 221 229 242 244 252\n",
        " 254 264 298 308 342 343 388 391 410 429 451 455   0   1  20  51  71  91\n",
        "  92 101 104 140 177 181 193 211 240 255 277 286 297 340 363 378 383 405\n",
        " 418 465 474 475 478 489 496  60 148 150 165 196 203 204 258 269 291 311\n",
        " 315 316 350 368 407 413]\n",
        "  Particle_indices_of_slice <-> slice_index_of_particle PASSED\n",
        "line_density_derivative_gauss [ 736.39175738  608.165408    810.26435676  727.43600361  -46.8617318\n",
        "  -22.13819014 -465.50021058 -933.99471526 -605.60935155 -534.09075663]\n",
        "line_density_derivative [  885.43291781   590.28861187   843.26944553   801.10597325  -147.57215297\n",
        "    21.08173614  -442.7164589  -1011.92333464  -590.28861187  -590.28861187]\n",
        "bunch._slice_sets {}\n"
       ]
      }
     ],
     "prompt_number": 17
    },
    {
     "cell_type": "code",
     "collapsed": false,
     "input": [
      "# Uniform charge slicer\n",
      "n_slices = 10\n",
      "n_sigma_z = 2\n",
      "\n",
      "uniform_charge_slicer = UniformChargeSlicer(n_slices, n_sigma_z)\n",
      "uniform_charge_slice_set = bunch.get_slices(uniform_charge_slicer)\n",
      "\n",
      "bunch = generate_bunch(\n",
      "    n_macroparticles, alpha_x_inj, alpha_y_inj, beta_x_inj, beta_y_inj,\n",
      "    alpha_0, Q_s, R)\n",
      "\n",
      "print uniform_charge_slice_set.mode\n",
      "\n",
      "print '\\n UNIFORM CHARGE SLICE SET, NSIGMAZ=2, 10 SLICES \\n'\n",
      "print 'slicer.config', uniform_charge_slicer.config\n",
      "call_slice_set_attributes(bunch, uniform_charge_slice_set)\n"
     ],
     "language": "python",
     "metadata": {},
     "outputs": [
      {
       "ename": "ModeIsNotUniformBin",
       "evalue": "This SliceSet has self.mode not set to 'uniform_bin'!",
       "output_type": "pyerr",
       "traceback": [
        "\u001b[0;31m---------------------------------------------------------------------------\u001b[0m\n\u001b[0;31mModeIsNotUniformBin\u001b[0m                       Traceback (most recent call last)",
        "\u001b[0;32m<ipython-input-20-aa23cd31712a>\u001b[0m in \u001b[0;36m<module>\u001b[0;34m()\u001b[0m\n\u001b[1;32m     14\u001b[0m \u001b[0;32mprint\u001b[0m \u001b[0;34m'\\n UNIFORM CHARGE SLICE SET, NSIGMAZ=2, 10 SLICES \\n'\u001b[0m\u001b[0;34m\u001b[0m\u001b[0m\n\u001b[1;32m     15\u001b[0m \u001b[0;32mprint\u001b[0m \u001b[0;34m'slicer.config'\u001b[0m\u001b[0;34m,\u001b[0m \u001b[0muniform_charge_slicer\u001b[0m\u001b[0;34m.\u001b[0m\u001b[0mconfig\u001b[0m\u001b[0;34m\u001b[0m\u001b[0m\n\u001b[0;32m---> 16\u001b[0;31m \u001b[0mcall_slice_set_attributes\u001b[0m\u001b[0;34m(\u001b[0m\u001b[0mbunch\u001b[0m\u001b[0;34m,\u001b[0m \u001b[0muniform_charge_slice_set\u001b[0m\u001b[0;34m)\u001b[0m\u001b[0;34m\u001b[0m\u001b[0m\n\u001b[0m",
        "\u001b[0;32m<ipython-input-16-9cb7ffd493a6>\u001b[0m in \u001b[0;36mcall_slice_set_attributes\u001b[0;34m(bunch, slice_set)\u001b[0m\n\u001b[1;32m    161\u001b[0m     \u001b[0mslice_set_statistics\u001b[0m\u001b[0;34m(\u001b[0m\u001b[0mbunch\u001b[0m\u001b[0;34m,\u001b[0m \u001b[0mslice_set\u001b[0m\u001b[0;34m)\u001b[0m\u001b[0;34m\u001b[0m\u001b[0m\n\u001b[1;32m    162\u001b[0m \u001b[0;34m\u001b[0m\u001b[0m\n\u001b[0;32m--> 163\u001b[0;31m     \u001b[0;32mprint\u001b[0m \u001b[0;34m'line_density_derivative_gauss'\u001b[0m\u001b[0;34m,\u001b[0m \u001b[0mslice_set\u001b[0m\u001b[0;34m.\u001b[0m\u001b[0mline_density_derivative_gauss\u001b[0m\u001b[0;34m(\u001b[0m\u001b[0;34m)\u001b[0m\u001b[0;34m\u001b[0m\u001b[0m\n\u001b[0m\u001b[1;32m    164\u001b[0m     \u001b[0;32mprint\u001b[0m \u001b[0;34m'line_density_derivative'\u001b[0m\u001b[0;34m,\u001b[0m \u001b[0mslice_set\u001b[0m\u001b[0;34m.\u001b[0m\u001b[0mline_density_derivative\u001b[0m\u001b[0;34m(\u001b[0m\u001b[0;34m)\u001b[0m\u001b[0;34m\u001b[0m\u001b[0m\n\u001b[1;32m    165\u001b[0m \u001b[0;34m\u001b[0m\u001b[0m\n",
        "\u001b[0;32m/home/oeftiger/cern/git/PyHEADTAIL-new/PyHEADTAIL/particles/slicing.py\u001b[0m in \u001b[0;36mline_density_derivative_gauss\u001b[0;34m(self, sigma, smoothen_before, smoothen_after)\u001b[0m\n\u001b[1;32m    149\u001b[0m         '''\n\u001b[1;32m    150\u001b[0m         \u001b[0;32mif\u001b[0m \u001b[0mself\u001b[0m\u001b[0;34m.\u001b[0m\u001b[0mmode\u001b[0m \u001b[0;32mis\u001b[0m \u001b[0;32mnot\u001b[0m \u001b[0;34m'uniform_bin'\u001b[0m\u001b[0;34m:\u001b[0m\u001b[0;34m\u001b[0m\u001b[0m\n\u001b[0;32m--> 151\u001b[0;31m             \u001b[0;32mraise\u001b[0m \u001b[0mModeIsNotUniformBin\u001b[0m\u001b[0;34m(\u001b[0m\u001b[0;34m)\u001b[0m\u001b[0;34m\u001b[0m\u001b[0m\n\u001b[0m\u001b[1;32m    152\u001b[0m         \u001b[0;32mif\u001b[0m \u001b[0msigma\u001b[0m \u001b[0;32mis\u001b[0m \u001b[0mNone\u001b[0m\u001b[0;34m:\u001b[0m\u001b[0;34m\u001b[0m\u001b[0m\n\u001b[1;32m    153\u001b[0m             \u001b[0msigma\u001b[0m \u001b[0;34m=\u001b[0m \u001b[0;36m0.04\u001b[0m \u001b[0;34m*\u001b[0m \u001b[0mself\u001b[0m\u001b[0;34m.\u001b[0m\u001b[0mn_slices\u001b[0m\u001b[0;34m\u001b[0m\u001b[0m\n",
        "\u001b[0;31mModeIsNotUniformBin\u001b[0m: This SliceSet has self.mode not set to 'uniform_bin'!"
       ]
      },
      {
       "output_type": "stream",
       "stream": "stdout",
       "text": [
        " 0.0587033920409\n",
        "uniform_charge\n",
        "\n",
        " UNIFORM CHARGE SLICE SET, NSIGMAZ=2, 10 SLICES \n",
        "\n",
        "slicer.config ('uniform_charge', 10, 2, None)\n",
        "z_cut_head 0.123637858658\n",
        "z_cut_tail -0.123203861562\n",
        "z_centers [-0.09807827 -0.06262722 -0.04565966 -0.02791545 -0.00928974  0.00678447\n",
        "  0.0237929   0.04251638  0.0648419   0.10026981]\n",
        "n_slices 10\n",
        "slice_widths [ 0.05025118  0.02065091  0.01328421  0.02220422  0.01504719  0.01710123\n",
        "  0.01691563  0.02053133  0.02411971  0.0467361 ]\n",
        "slice_positions [  0  48  97 145 193 241 289 337 385 433 482]\n",
        "n_macroparticles_per_slice [48 49 48 48 48 48 48 48 48 49]\n",
        "particles_within_cuts [  0   1   2   3   4   5   6   7   8   9  10  11  12  15  16  17  18  19\n",
        "  21  22  23  24  25  26  27  28  29  30  31  32  34  35  36  37  38  39\n",
        "  40  41  42  43  44  45  46  47  48  49  50  51  52  53  54  55  56  57\n",
        "  58  59  60  61  62  63  64  65  66  67  68  69  70  71  72  73  74  75\n",
        "  76  77  78  79  80  81  83  85  86  88  89  90  91  92  93  94  95  96\n",
        "  97  98  99 100 101 102 103 104 105 106 107 108 109 110 111 112 113 114\n",
        " 115 116 117 118 119 120 121 123 124 125 126 127 128 129 130 131 132 133\n",
        " 134 135 136 137 138 139 140 141 142 143 144 145 146 147 148 149 150 151\n",
        " 152 153 154 155 156 157 158 159 160 161 162 163 164 165 166 167 168 169\n",
        " 170 171 172 173 174 175 176 177 178 179 180 181 182 183 184 185 186 187\n",
        " 188 189 190 191 192 193 194 195 196 197 198 199 200 201 202 203 204 205\n",
        " 206 208 209 210 211 212 213 214 215 216 217 218 219 220 221 222 223 224\n",
        " 225 226 227 228 229 230 231 232 233 234 235 236 237 238 239 240 241 242\n",
        " 243 244 245 246 247 248 249 250 251 252 253 254 255 256 257 258 259 260\n",
        " 261 262 263 264 265 266 267 268 269 270 271 272 273 274 275 276 277 278\n",
        " 279 280 281 282 283 284 285 287 288 290 291 292 293 294 295 296 297 298\n",
        " 299 300 301 302 303 304 305 306 307 308 309 310 311 312 313 314 315 316\n",
        " 317 318 319 320 321 322 323 324 325 326 327 328 329 330 331 332 333 334\n",
        " 335 336 337 338 339 340 341 342 343 344 345 346 347 348 349 350 351 352\n",
        " 353 354 355 357 358 360 361 362 363 364 365 366 367 368 369 370 371 372\n",
        " 373 374 375 376 377 378 379 380 381 382 383 384 385 386 387 388 389 390\n",
        " 391 392 393 394 395 396 397 398 399 400 401 402 403 404 406 407 408 409\n",
        " 410 411 412 413 414 415 416 417 418 419 420 421 422 423 424 425 426 427\n",
        " 429 430 431 432 433 434 435 437 438 440 441 442 443 444 445 446 447 448\n",
        " 449 450 451 452 453 454 455 456 457 458 459 460 461 462 463 464 465 466\n",
        " 467 468 469 470 471 472 473 474 475 476 477 478 479 480 481 482 483 484\n",
        " 485 486 487 488 489 490 491 492 493 494 495 496 497 498]\n",
        "particle_indices_by_slice [ 43  44  66  86  89  90  93  95 108 123 130 131 137 143 144 153 183 188\n",
        " 196 197 214 222 232 238 239 249 278 279 281 282 306 308 320 339 344 362\n",
        " 370 371 375 380 386 406 446 451 465 466 491 494   1   4  22  30  31  61\n",
        "  85 116 125 141 147 166 170 177 180 186 187 189 206 227 235 248 260 261\n",
        " 288 298 299 311 314 324 334 360 363 364 381 389 414 415 427 456 458 462\n",
        " 468 471 474 475 480 490 492   6  62  74  76  91 114 127 128 132 133 138\n",
        " 156 171 184 202 203 204 211 220 241 243 246 267 297 302 326 327 332 335\n",
        " 348 352 399 411 418 419 421 425 441 443 444 445 461 469 472 478 481 487\n",
        " 489  10  24  27  51  53  60  75 103 119 121 126 140 150 155 157 162 193\n",
        " 200 255 257 263 277 301 305 313 322 328 329 355 357 365 369 376 385 388\n",
        " 390 395 400 407 413 423 431 459 463 476 482 488 495   0   5   9  19  25\n",
        "  28  39  55  58  72  88  92 101 117 118 149 151 154 158 199 205 219 229\n",
        " 251 259 269 274 275 295 318 331 333 338 353 367 377 383 391 392 393 394\n",
        " 412 435 440 457 460 483 496  12  21  23  26  34  36  38  47  56  78  94\n",
        "  98 124 134 136 161 164 167 172 181 191 192 208 213 216 224 225 228 230\n",
        " 231 244 258 273 287 290 303 307 309 337 341 349 373 379 397 429 455 464\n",
        " 470   7  35  48  52  67  68  97 105 106 109 111 129 135 139 145 160 163\n",
        " 168 169 178 182 185 198 209 217 221 223 233 236 237 271 283 285 291 300\n",
        " 319 343 350 358 401 404 417 424 434 438 447 485 497   8  11  29  37  42\n",
        "  45  57  59  80  81 107 110 146 148 159 175 194 195 234 252 265 268 270\n",
        " 292 293 294 310 346 347 351 378 382 398 403 408 409 420 426 433 437 449\n",
        " 450 452 467 477 484 486 498   3  15  18  32  40  50  54  63  64  70  79\n",
        "  83  99 104 112 120 173 176 210 226 247 253 254 256 262 264 266 272 276\n",
        " 296 304 312 316 317 321 325 330 340 354 368 387 396 402 410 430 432 454\n",
        " 473   2  16  17  41  46  49  65  69  71  73  77  96 100 102 113 115 142\n",
        " 152 165 174 179 190 201 212 215 218 240 242 245 250 280 284 315 323 336\n",
        " 342 345 361 366 372 374 384 416 422 442 448 453 479 493]\n",
        "  Particle_indices_of_slice <-> slice_index_of_particle PASSED\n",
        "line_density_derivative_gauss"
       ]
      }
     ],
     "prompt_number": 20
    },
    {
     "cell_type": "code",
     "collapsed": false,
     "input": [
      "# Other cases. When are slicers equal?\n",
      "n_slices = 10\n",
      "n_sigma_z = 2\n",
      "uniform_bin_slicer = UniformBinSlicer(n_slices, n_sigma_z)\n",
      "uniform_charge_slicer = UniformChargeSlicer(n_slices, n_sigma_z)\n",
      "\n",
      "uniform_charge_slicer == uniform_bin_slicer"
     ],
     "language": "python",
     "metadata": {},
     "outputs": [
      {
       "metadata": {},
       "output_type": "pyout",
       "prompt_number": 21,
       "text": [
        "False"
       ]
      },
      {
       "output_type": "stream",
       "stream": "stdout",
       "text": [
        "\n"
       ]
      }
     ],
     "prompt_number": 21
    },
    {
     "cell_type": "code",
     "collapsed": false,
     "input": [
      "# Other cases. When are slicers equal?\n",
      "n_slices = 10\n",
      "n_sigma_z = 2\n",
      "uniform_bin_slicer = UniformBinSlicer(n_slices, n_sigma_z)\n",
      "uniform_bin_slicer_2 = UniformBinSlicer(n_slices, n_sigma_z)\n",
      "\n",
      "uniform_bin_slicer_2 == uniform_bin_slicer"
     ],
     "language": "python",
     "metadata": {},
     "outputs": [
      {
       "metadata": {},
       "output_type": "pyout",
       "prompt_number": 23,
       "text": [
        "True"
       ]
      }
     ],
     "prompt_number": 23
    },
    {
     "cell_type": "code",
     "collapsed": false,
     "input": [
      "# Does bunch slice_set management work?\n",
      "n_slices = 10\n",
      "n_sigma_z = 2\n",
      "\n",
      "bunch = generate_bunch(\n",
      "    n_macroparticles, alpha_x_inj, alpha_y_inj, beta_x_inj, beta_y_inj,\n",
      "    alpha_0, Q_s, R)\n",
      "\n",
      "uniform_charge_slicer = UniformChargeSlicer(n_slices, n_sigma_z)\n",
      "uniform_bin_slicer = UniformBinSlicer(n_slices, n_sigma_z)\n",
      "\n",
      "print bunch._slice_sets\n",
      "uniform_charge_slice_set = bunch.get_slices(uniform_charge_slicer)\n",
      "print bunch._slice_sets\n",
      "uniform_bin_slice_set = bunch.get_slices(uniform_bin_slicer)\n",
      "uniform_charge_slice_set = bunch.get_slices(uniform_charge_slicer)\n",
      "print bunch._slice_sets\n",
      "\n",
      "bunch.clean_slices()\n",
      "print bunch._slice_sets"
     ],
     "language": "python",
     "metadata": {},
     "outputs": [
      {
       "output_type": "stream",
       "stream": "stdout",
       "text": [
        "0.0572771115608\n",
        "{}\n",
        "{<PyHEADTAIL.particles.slicing.UniformChargeSlicer object at 0x7f06e7ed4350>: <PyHEADTAIL.particles.slicing.SliceSet object at 0x7f06e880f990>}\n",
        "{<PyHEADTAIL.particles.slicing.UniformChargeSlicer object at 0x7f06e7ed4350>: <PyHEADTAIL.particles.slicing.SliceSet object at 0x7f06e880f990>, <PyHEADTAIL.particles.slicing.UniformBinSlicer object at 0x7f06e88167d0>: <PyHEADTAIL.particles.slicing.SliceSet object at 0x7f06e7ed4390>}\n",
        "{}\n"
       ]
      }
     ],
     "prompt_number": 24
    },
    {
     "cell_type": "code",
     "collapsed": false,
     "input": [
      "# Old method update_slices should give RuntimeError.\n",
      "n_slices = 10\n",
      "n_sigma_z = 2\n",
      "\n",
      "bunch = generate_bunch(\n",
      "    n_macroparticles, alpha_x_inj, alpha_y_inj, beta_x_inj, beta_y_inj,\n",
      "    alpha_0, Q_s, R)\n",
      "\n",
      "uniform_charge_slicer = UniformChargeSlicer(n_slices, n_sigma_z)\n",
      "uniform_charge_slicer.update_slices(bunch)"
     ],
     "language": "python",
     "metadata": {},
     "outputs": [
      {
       "ename": "RuntimeError",
       "evalue": "update_slices(beam) no longer exists. Instead, remove all previously recorded SliceSetobjects in the beam via beam.clean_slices() when the longitudinal state of the beam is changed. Concretely: replace slices.update_slices(beam) by beam.clean_slices().The SliceSet objects should be retrieved via beam.get_slices(Slicer) *only*. In this way the beam can memorize previously created slice snapshots. This minimises computation time.",
       "output_type": "pyerr",
       "traceback": [
        "\u001b[0;31m---------------------------------------------------------------------------\u001b[0m\n\u001b[0;31mRuntimeError\u001b[0m                              Traceback (most recent call last)",
        "\u001b[0;32m<ipython-input-25-98b4db9278ee>\u001b[0m in \u001b[0;36m<module>\u001b[0;34m()\u001b[0m\n\u001b[1;32m      8\u001b[0m \u001b[0;34m\u001b[0m\u001b[0m\n\u001b[1;32m      9\u001b[0m \u001b[0muniform_charge_slicer\u001b[0m \u001b[0;34m=\u001b[0m \u001b[0mUniformChargeSlicer\u001b[0m\u001b[0;34m(\u001b[0m\u001b[0mn_slices\u001b[0m\u001b[0;34m,\u001b[0m \u001b[0mn_sigma_z\u001b[0m\u001b[0;34m)\u001b[0m\u001b[0;34m\u001b[0m\u001b[0m\n\u001b[0;32m---> 10\u001b[0;31m \u001b[0muniform_charge_slicer\u001b[0m\u001b[0;34m.\u001b[0m\u001b[0mupdate_slices\u001b[0m\u001b[0;34m(\u001b[0m\u001b[0mbunch\u001b[0m\u001b[0;34m)\u001b[0m\u001b[0;34m\u001b[0m\u001b[0m\n\u001b[0m",
        "\u001b[0;32m/home/oeftiger/cern/git/PyHEADTAIL-new/PyHEADTAIL/particles/slicing.py\u001b[0m in \u001b[0;36mupdate_slices\u001b[0;34m(self, beam)\u001b[0m\n\u001b[1;32m    308\u001b[0m                            \u001b[0;34m'In this way the beam can memorize previously '\u001b[0m \u001b[0;34m+\u001b[0m\u001b[0;34m\u001b[0m\u001b[0m\n\u001b[1;32m    309\u001b[0m                            \u001b[0;34m'created slice snapshots. This minimises '\u001b[0m \u001b[0;34m+\u001b[0m\u001b[0;34m\u001b[0m\u001b[0m\n\u001b[0;32m--> 310\u001b[0;31m                            'computation time.')\n\u001b[0m\u001b[1;32m    311\u001b[0m \u001b[0;34m\u001b[0m\u001b[0m\n\u001b[1;32m    312\u001b[0m \u001b[0;32mclass\u001b[0m \u001b[0mUniformBinSlicer\u001b[0m\u001b[0;34m(\u001b[0m\u001b[0mSlicer\u001b[0m\u001b[0;34m)\u001b[0m\u001b[0;34m:\u001b[0m\u001b[0;34m\u001b[0m\u001b[0m\n",
        "\u001b[0;31mRuntimeError\u001b[0m: update_slices(beam) no longer exists. Instead, remove all previously recorded SliceSetobjects in the beam via beam.clean_slices() when the longitudinal state of the beam is changed. Concretely: replace slices.update_slices(beam) by beam.clean_slices().The SliceSet objects should be retrieved via beam.get_slices(Slicer) *only*. In this way the beam can memorize previously created slice snapshots. This minimises computation time."
       ]
      },
      {
       "output_type": "stream",
       "stream": "stdout",
       "text": [
        "0.0581918470479\n"
       ]
      }
     ],
     "prompt_number": 25
    },
    {
     "cell_type": "code",
     "collapsed": false,
     "input": [
      "# VISUAL CHECKS FOR DIFFERENT SLICER CONFIGURATIONS."
     ],
     "language": "python",
     "metadata": {},
     "outputs": [],
     "prompt_number": 26
    },
    {
     "cell_type": "code",
     "collapsed": false,
     "input": [
      "# CASE I\n",
      "# UniformBinSlicer, no longitudinal cut.\n",
      "n_slices = 10\n",
      "n_sigma_z = None\n",
      "uniform_bin_slicer = UniformBinSlicer(n_slices, n_sigma_z)\n",
      "\n",
      "bunch = generate_bunch(\n",
      "    n_macroparticles, alpha_x_inj, alpha_y_inj, beta_x_inj, beta_y_inj,\n",
      "    alpha_0, Q_s, R)\n",
      "print 'bunch._slice_sets', bunch._slice_sets\n",
      "\n",
      "# Request slice_set from bunch with the uniform_bin_slicer config.\n",
      "uniform_bin_slice_set = bunch.get_slices(uniform_bin_slicer)\n",
      "print 'bunch._slice_sets', bunch._slice_sets\n",
      "\n",
      "plot_results_uniform_bin(bunch, uniform_bin_slice_set)"
     ],
     "language": "python",
     "metadata": {},
     "outputs": [
      {
       "output_type": "stream",
       "stream": "stdout",
       "text": [
        "0.058518788666\n",
        "bunch._slice_sets {}\n",
        "bunch._slice_sets {<PyHEADTAIL.particles.slicing.UniformBinSlicer object at 0x7f06e880ffd0>: <PyHEADTAIL.particles.slicing.SliceSet object at 0x7f06ef2b3450>}\n"
       ]
      }
     ],
     "prompt_number": 27
    },
    {
     "cell_type": "code",
     "collapsed": false,
     "input": [
      "# CASE II\n",
      "# UniformBinSlicer, n_sigma_z = 1\n",
      "n_slices = 10\n",
      "n_sigma_z = 1\n",
      "uniform_bin_slicer = UniformBinSlicer(n_slices, n_sigma_z)\n",
      "\n",
      "bunch = generate_bunch(\n",
      "    n_macroparticles, alpha_x_inj, alpha_y_inj, beta_x_inj, beta_y_inj,\n",
      "    alpha_0, Q_s, R)\n",
      "print 'bunch._slice_sets', bunch._slice_sets\n",
      "\n",
      "# Request slice_set from bunch with the uniform_bin_slicer config.\n",
      "uniform_bin_slice_set = bunch.get_slices(uniform_bin_slicer)\n",
      "print 'bunch._slice_sets', bunch._slice_sets\n",
      "\n",
      "plot_results_uniform_bin(bunch, uniform_bin_slice_set)"
     ],
     "language": "python",
     "metadata": {},
     "outputs": [
      {
       "output_type": "stream",
       "stream": "stdout",
       "text": [
        "0.0592792925633\n",
        "bunch._slice_sets {}\n",
        "bunch._slice_sets {<PyHEADTAIL.particles.slicing.UniformBinSlicer object at 0x7f06e7f3a7d0>: <PyHEADTAIL.particles.slicing.SliceSet object at 0x7f06e880fc10>}\n"
       ]
      }
     ],
     "prompt_number": 28
    },
    {
     "cell_type": "code",
     "collapsed": false,
     "input": [
      "# CASE II b.\n",
      "# UniformBinSlicer, set z_cuts\n",
      "n_slices = 10\n",
      "z_cuts = (-0.05, 0.15)\n",
      "uniform_bin_slicer = UniformBinSlicer(n_slices, z_cuts=z_cuts)\n",
      "\n",
      "bunch = generate_bunch(\n",
      "    n_macroparticles, alpha_x_inj, alpha_y_inj, beta_x_inj, beta_y_inj,\n",
      "    alpha_0, Q_s, R)\n",
      "print 'bunch._slice_sets', bunch._slice_sets\n",
      "\n",
      "# Request slice_set from bunch with the uniform_bin_slicer config.\n",
      "uniform_bin_slice_set = bunch.get_slices(uniform_bin_slicer)\n",
      "print 'bunch._slice_sets', bunch._slice_sets\n",
      "\n",
      "plot_results_uniform_bin(bunch, uniform_bin_slice_set)"
     ],
     "language": "python",
     "metadata": {},
     "outputs": [
      {
       "output_type": "stream",
       "stream": "stdout",
       "text": [
        "0.0602661447303\n",
        "bunch._slice_sets {}\n",
        "bunch._slice_sets {<PyHEADTAIL.particles.slicing.UniformBinSlicer object at 0x7f06e69010d0>: <PyHEADTAIL.particles.slicing.SliceSet object at 0x7f06e6901090>}\n"
       ]
      }
     ],
     "prompt_number": 29
    },
    {
     "cell_type": "code",
     "collapsed": false,
     "input": [
      "# CASE II c.\n",
      "# UniformBinSlicer, set z_cuts and n_sigma_z (THIS SHOULD FAIL).\n",
      "n_slices = 10\n",
      "z_cuts = (-0.05, 0.1)\n",
      "n_sigma_z = 2\n",
      "uniform_bin_slicer = UniformBinSlicer(n_slices, n_sigma_z=n_sigma_z, z_cuts=z_cuts)"
     ],
     "language": "python",
     "metadata": {},
     "outputs": [
      {
       "ename": "ValueError",
       "evalue": "Both arguments n_sigma_z and z_cuts are given while only one is accepted!",
       "output_type": "pyerr",
       "traceback": [
        "\u001b[0;31m---------------------------------------------------------------------------\u001b[0m\n\u001b[0;31mValueError\u001b[0m                                Traceback (most recent call last)",
        "\u001b[0;32m<ipython-input-30-14fcaa95864c>\u001b[0m in \u001b[0;36m<module>\u001b[0;34m()\u001b[0m\n\u001b[1;32m      4\u001b[0m \u001b[0mz_cuts\u001b[0m \u001b[0;34m=\u001b[0m \u001b[0;34m(\u001b[0m\u001b[0;34m-\u001b[0m\u001b[0;36m0.05\u001b[0m\u001b[0;34m,\u001b[0m \u001b[0;36m0.1\u001b[0m\u001b[0;34m)\u001b[0m\u001b[0;34m\u001b[0m\u001b[0m\n\u001b[1;32m      5\u001b[0m \u001b[0mn_sigma_z\u001b[0m \u001b[0;34m=\u001b[0m \u001b[0;36m2\u001b[0m\u001b[0;34m\u001b[0m\u001b[0m\n\u001b[0;32m----> 6\u001b[0;31m \u001b[0muniform_bin_slicer\u001b[0m \u001b[0;34m=\u001b[0m \u001b[0mUniformBinSlicer\u001b[0m\u001b[0;34m(\u001b[0m\u001b[0mn_slices\u001b[0m\u001b[0;34m,\u001b[0m \u001b[0mn_sigma_z\u001b[0m\u001b[0;34m=\u001b[0m\u001b[0mn_sigma_z\u001b[0m\u001b[0;34m,\u001b[0m \u001b[0mz_cuts\u001b[0m\u001b[0;34m=\u001b[0m\u001b[0mz_cuts\u001b[0m\u001b[0;34m)\u001b[0m\u001b[0;34m\u001b[0m\u001b[0m\n\u001b[0m",
        "\u001b[0;32m/home/oeftiger/cern/git/PyHEADTAIL-new/PyHEADTAIL/particles/slicing.py\u001b[0m in \u001b[0;36m__init__\u001b[0;34m(self, n_slices, n_sigma_z, z_cuts)\u001b[0m\n\u001b[1;32m    322\u001b[0m         \u001b[0;32mif\u001b[0m \u001b[0mn_sigma_z\u001b[0m \u001b[0;32mand\u001b[0m \u001b[0mz_cuts\u001b[0m\u001b[0;34m:\u001b[0m\u001b[0;34m\u001b[0m\u001b[0m\n\u001b[1;32m    323\u001b[0m             raise ValueError(\"Both arguments n_sigma_z and z_cuts are\" +\n\u001b[0;32m--> 324\u001b[0;31m                              \" given while only one is accepted!\")\n\u001b[0m\u001b[1;32m    325\u001b[0m         \u001b[0mmode\u001b[0m \u001b[0;34m=\u001b[0m \u001b[0;34m'uniform_bin'\u001b[0m\u001b[0;34m\u001b[0m\u001b[0m\n\u001b[1;32m    326\u001b[0m         \u001b[0mself\u001b[0m\u001b[0;34m.\u001b[0m\u001b[0mconfig\u001b[0m \u001b[0;34m=\u001b[0m \u001b[0;34m(\u001b[0m\u001b[0mmode\u001b[0m\u001b[0;34m,\u001b[0m \u001b[0mn_slices\u001b[0m\u001b[0;34m,\u001b[0m \u001b[0mn_sigma_z\u001b[0m\u001b[0;34m,\u001b[0m \u001b[0mz_cuts\u001b[0m\u001b[0;34m)\u001b[0m\u001b[0;34m\u001b[0m\u001b[0m\n",
        "\u001b[0;31mValueError\u001b[0m: Both arguments n_sigma_z and z_cuts are given while only one is accepted!"
       ]
      }
     ],
     "prompt_number": 30
    },
    {
     "cell_type": "code",
     "collapsed": false,
     "input": [
      "# CASE III\n",
      "# UniformChargeSlicer, no longitudinal cut.\n",
      "n_slices = 10\n",
      "n_sigma_z = None\n",
      "uniform_charge_slicer = UniformChargeSlicer(n_slices, n_sigma_z)\n",
      "\n",
      "bunch = generate_bunch(\n",
      "    n_macroparticles, alpha_x_inj, alpha_y_inj, beta_x_inj, beta_y_inj,\n",
      "    alpha_0, Q_s, R)\n",
      "print 'bunch._slice_sets', bunch._slice_sets\n",
      "\n",
      "# Request slice_set from bunch with the uniform_charge_slicer config.\n",
      "uniform_charge_slice_set = bunch.get_slices(uniform_charge_slicer)\n",
      "print 'bunch._slice_sets', bunch._slice_sets\n",
      "\n",
      "plot_results_uniform_charge(bunch, uniform_charge_slice_set)"
     ],
     "language": "python",
     "metadata": {},
     "outputs": [
      {
       "output_type": "stream",
       "stream": "stdout",
       "text": [
        "0.0582674278876\n",
        "bunch._slice_sets {}\n",
        "bunch._slice_sets {<PyHEADTAIL.particles.slicing.UniformChargeSlicer object at 0x7f06e6a35bd0>: <PyHEADTAIL.particles.slicing.SliceSet object at 0x7f06e6a35750>}\n"
       ]
      }
     ],
     "prompt_number": 31
    },
    {
     "cell_type": "code",
     "collapsed": false,
     "input": [
      "# CASE IV\n",
      "# UniformChargeSlicer, n_sigma_z = 1\n",
      "n_slices = 10\n",
      "n_sigma_z = 1\n",
      "uniform_charge_slicer = UniformChargeSlicer(n_slices, n_sigma_z)\n",
      "\n",
      "bunch = generate_bunch(\n",
      "    n_macroparticles, alpha_x_inj, alpha_y_inj, beta_x_inj, beta_y_inj,\n",
      "    alpha_0, Q_s, R)\n",
      "print 'bunch._slice_sets', bunch._slice_sets\n",
      "\n",
      "# Request slice_set from bunch with the uniform_charge_slicer config.\n",
      "uniform_charge_slice_set = bunch.get_slices(uniform_charge_slicer)\n",
      "print 'bunch._slice_sets', bunch._slice_sets\n",
      "\n",
      "plot_results_uniform_charge(bunch, uniform_charge_slice_set)"
     ],
     "language": "python",
     "metadata": {},
     "outputs": [
      {
       "output_type": "stream",
       "stream": "stdout",
       "text": [
        "0.0566727677116\n",
        "bunch._slice_sets {}\n",
        "bunch._slice_sets {<PyHEADTAIL.particles.slicing.UniformChargeSlicer object at 0x7f06e712d290>: <PyHEADTAIL.particles.slicing.SliceSet object at 0x7f06e697bc90>}\n"
       ]
      }
     ],
     "prompt_number": 32
    },
    {
     "cell_type": "code",
     "collapsed": false,
     "input": [
      "# CASE IV b.\n",
      "# UniformChargeSlicer, set z_cuts\n",
      "n_slices = 10\n",
      "z_cuts = (-0.05, 0.1)\n",
      "uniform_charge_slicer = UniformChargeSlicer(n_slices, z_cuts=z_cuts)\n",
      "\n",
      "bunch = generate_bunch(\n",
      "    n_macroparticles, alpha_x_inj, alpha_y_inj, beta_x_inj, beta_y_inj,\n",
      "    alpha_0, Q_s, R)\n",
      "print 'bunch._slice_sets', bunch._slice_sets\n",
      "\n",
      "# Request slice_set from bunch with the uniform_bin_slicer config.\n",
      "uniform_charge_slice_set = bunch.get_slices(uniform_charge_slicer)\n",
      "print 'bunch._slice_sets', bunch._slice_sets\n",
      "\n",
      "plot_results_uniform_charge(bunch, uniform_charge_slice_set)"
     ],
     "language": "python",
     "metadata": {},
     "outputs": [
      {
       "output_type": "stream",
       "stream": "stdout",
       "text": [
        "0.0590473941964\n",
        "bunch._slice_sets {}\n",
        "bunch._slice_sets {<PyHEADTAIL.particles.slicing.UniformChargeSlicer object at 0x7f06e6a24e10>: <PyHEADTAIL.particles.slicing.SliceSet object at 0x7f06e6a24490>}\n"
       ]
      }
     ],
     "prompt_number": 33
    },
    {
     "cell_type": "code",
     "collapsed": false,
     "input": [
      "# CASE IV c.\n",
      "# UniformChargeSlicer, set z_cuts and n_sigma_z (THIS SHOULD FAIL).\n",
      "n_slices = 10\n",
      "z_cuts = (-0.05, 0.1)\n",
      "n_sigma_z = 2\n",
      "uniform_charge_slicer = UniformChargeSlicer(n_slices, n_sigma_z=n_sigma_z, z_cuts=z_cuts)"
     ],
     "language": "python",
     "metadata": {},
     "outputs": [
      {
       "ename": "ValueError",
       "evalue": "Both arguments n_sigma_z and z_cuts are given while only one is accepted!",
       "output_type": "pyerr",
       "traceback": [
        "\u001b[0;31m---------------------------------------------------------------------------\u001b[0m\n\u001b[0;31mValueError\u001b[0m                                Traceback (most recent call last)",
        "\u001b[0;32m<ipython-input-34-43aca7726807>\u001b[0m in \u001b[0;36m<module>\u001b[0;34m()\u001b[0m\n\u001b[1;32m      4\u001b[0m \u001b[0mz_cuts\u001b[0m \u001b[0;34m=\u001b[0m \u001b[0;34m(\u001b[0m\u001b[0;34m-\u001b[0m\u001b[0;36m0.05\u001b[0m\u001b[0;34m,\u001b[0m \u001b[0;36m0.1\u001b[0m\u001b[0;34m)\u001b[0m\u001b[0;34m\u001b[0m\u001b[0m\n\u001b[1;32m      5\u001b[0m \u001b[0mn_sigma_z\u001b[0m \u001b[0;34m=\u001b[0m \u001b[0;36m2\u001b[0m\u001b[0;34m\u001b[0m\u001b[0m\n\u001b[0;32m----> 6\u001b[0;31m \u001b[0muniform_charge_slicer\u001b[0m \u001b[0;34m=\u001b[0m \u001b[0mUniformChargeSlicer\u001b[0m\u001b[0;34m(\u001b[0m\u001b[0mn_slices\u001b[0m\u001b[0;34m,\u001b[0m \u001b[0mn_sigma_z\u001b[0m\u001b[0;34m=\u001b[0m\u001b[0mn_sigma_z\u001b[0m\u001b[0;34m,\u001b[0m \u001b[0mz_cuts\u001b[0m\u001b[0;34m=\u001b[0m\u001b[0mz_cuts\u001b[0m\u001b[0;34m)\u001b[0m\u001b[0;34m\u001b[0m\u001b[0m\n\u001b[0m",
        "\u001b[0;32m/home/oeftiger/cern/git/PyHEADTAIL-new/PyHEADTAIL/particles/slicing.py\u001b[0m in \u001b[0;36m__init__\u001b[0;34m(self, n_slices, n_sigma_z, z_cuts)\u001b[0m\n\u001b[1;32m    355\u001b[0m         \u001b[0;32mif\u001b[0m \u001b[0mn_sigma_z\u001b[0m \u001b[0;32mand\u001b[0m \u001b[0mz_cuts\u001b[0m\u001b[0;34m:\u001b[0m\u001b[0;34m\u001b[0m\u001b[0m\n\u001b[1;32m    356\u001b[0m             raise ValueError(\"Both arguments n_sigma_z and z_cuts are\" +\n\u001b[0;32m--> 357\u001b[0;31m                              \" given while only one is accepted!\")\n\u001b[0m\u001b[1;32m    358\u001b[0m         \u001b[0mmode\u001b[0m \u001b[0;34m=\u001b[0m \u001b[0;34m'uniform_charge'\u001b[0m\u001b[0;34m\u001b[0m\u001b[0m\n\u001b[1;32m    359\u001b[0m         \u001b[0mself\u001b[0m\u001b[0;34m.\u001b[0m\u001b[0mconfig\u001b[0m \u001b[0;34m=\u001b[0m \u001b[0;34m(\u001b[0m\u001b[0mmode\u001b[0m\u001b[0;34m,\u001b[0m \u001b[0mn_slices\u001b[0m\u001b[0;34m,\u001b[0m \u001b[0mn_sigma_z\u001b[0m\u001b[0;34m,\u001b[0m \u001b[0mz_cuts\u001b[0m\u001b[0;34m)\u001b[0m\u001b[0;34m\u001b[0m\u001b[0m\n",
        "\u001b[0;31mValueError\u001b[0m: Both arguments n_sigma_z and z_cuts are given while only one is accepted!"
       ]
      }
     ],
     "prompt_number": 34
    },
    {
     "cell_type": "code",
     "collapsed": false,
     "input": [],
     "language": "python",
     "metadata": {},
     "outputs": []
    }
   ],
   "metadata": {}
  }
 ]
}