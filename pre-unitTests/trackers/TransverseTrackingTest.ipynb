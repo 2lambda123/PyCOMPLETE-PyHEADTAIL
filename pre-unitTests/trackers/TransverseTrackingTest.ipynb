{
 "metadata": {
  "name": "",
  "signature": "sha256:7435b65e73e7fa0e4e2e8bdcac2e93ac50c44e8588f65eedda62f8f52170af60"
 },
 "nbformat": 3,
 "nbformat_minor": 0,
 "worksheets": [
  {
   "cells": [
    {
     "cell_type": "code",
     "collapsed": false,
     "input": [
      "import numpy as np\n",
      "from scipy.constants import m_p, c, e\n",
      "import matplotlib.pyplot as plt\n",
      "\n",
      "from PyHEADTAIL.trackers.transverse_tracking import TransverseMap\n",
      "from PyHEADTAIL.trackers.detuners import Chromaticity, AmplitudeDetuning\n",
      "from PyHEADTAIL.trackers.simple_long_linear_map import LinearMap\n",
      "from PyHEADTAIL.particles.particles import Particles"
     ],
     "language": "python",
     "metadata": {},
     "outputs": [],
     "prompt_number": 1
    },
    {
     "cell_type": "code",
     "collapsed": false,
     "input": [
      "# Basic parameters.\n",
      "n_turns = 500\n",
      "n_segments = 5\n",
      "n_macroparticles = 500\n",
      "\n",
      "Q_x = 64.28\n",
      "Q_y = 59.31\n",
      "Q_s = 0.0020443\n",
      "\n",
      "C = 26658.883\n",
      "R = C / (2.*np.pi)\n",
      "\n",
      "alpha_x_inj = 0.\n",
      "alpha_y_inj = 0.\n",
      "beta_x_inj = 66.0064\n",
      "beta_y_inj = 71.5376\n",
      "alpha_0 = 0.0003225"
     ],
     "language": "python",
     "metadata": {},
     "outputs": [],
     "prompt_number": 2
    },
    {
     "cell_type": "heading",
     "level": 5,
     "metadata": {},
     "source": [
      "Things tested:\n",
      "  - Instantiation of a TransverseMap (and therewith of several\n",
      "    TransverseSegmentMaps as we have more than 1 segment).\n",
      "  - With and without detuners, i.e. instantiation of Chromaticity and\n",
      "    AmplitudeDetuning DetunerCollections as well as the corresponding\n",
      "    SegmentDetuners.\n",
      "  - Are betatron tunes Q_{x,y} and detuning strengths correctly\n",
      "    scaled to segment lengths?\n",
      "  - If TransverseMap is a sequence.\n",
      "  - TransverseSegmentMap.track(beam) method.\n",
      "      - Check spectrum of beam centroid motion.\n",
      "      - Betatron tune (implicitly checks the scaling to segment lengths)\n",
      "      - If chromaticity and linear synchro motion are on: synchrotron sidebands?\n",
      "      - If amplitude detuning is on and there is initial kick: decoherence?\n",
      "  - Is exception risen when s[0] != 0 or s[-1] != C?\n",
      "  - Is exception risen when spec. D_{x,y}?\n",
      "  - Get optics at injection is tested in RFBucket matching\n",
      "    Particles generation)."
     ]
    },
    {
     "cell_type": "code",
     "collapsed": false,
     "input": [
      "# Parameters for transverse map.\n",
      "s = np.arange(0, n_segments + 1) * C / n_segments\n",
      "\n",
      "alpha_x = alpha_x_inj * np.ones(n_segments)\n",
      "beta_x = beta_x_inj * np.ones(n_segments)\n",
      "D_x = np.zeros(n_segments)\n",
      "\n",
      "alpha_y = alpha_y_inj * np.ones(n_segments)\n",
      "beta_y = beta_y_inj * np.ones(n_segments)\n",
      "D_y = np.zeros(n_segments)"
     ],
     "language": "python",
     "metadata": {},
     "outputs": [],
     "prompt_number": 3
    },
    {
     "cell_type": "code",
     "collapsed": false,
     "input": [
      "# CASE I\n",
      "# Pure transverse tracking. Without detuners.\n",
      "bunch = generate_bunch(\n",
      "    n_macroparticles, alpha_x_inj, alpha_y_inj, beta_x_inj, beta_y_inj,\n",
      "    alpha_0, Q_s, R)\n",
      "\n",
      "trans_map = TransverseMap(\n",
      "    C, s, alpha_x, beta_x, D_x, alpha_y, beta_y, D_y, Q_x, Q_y)\n",
      "\n",
      "map_ = trans_map\n",
      "mean_x, mean_y, sigma_z = track_n_save(bunch, map_)\n",
      "plot_data(sigma_z, mean_y, Q_y, Q_s)"
     ],
     "language": "python",
     "metadata": {},
     "outputs": [
      {
       "output_type": "stream",
       "stream": "stdout",
       "text": [
        "0.0617767579493\n"
       ]
      }
     ],
     "prompt_number": 5
    },
    {
     "cell_type": "code",
     "collapsed": false,
     "input": [
      "# CASE II\n",
      "# Without detuners. With linear synchrotron motion.\n",
      "bunch = generate_bunch(\n",
      "    n_macroparticles, alpha_x_inj, alpha_y_inj, beta_x_inj, beta_y_inj,\n",
      "    alpha_0, Q_s, R)\n",
      "\n",
      "trans_map = TransverseMap(\n",
      "    C, s, alpha_x, beta_x, D_x, alpha_y, beta_y, D_y, Q_x, Q_y)\n",
      "long_map = LinearMap(C, alpha_0, Q_s)\n",
      "\n",
      "# This tests if TransverseMap is actually a sequence.\n",
      "trans_one_turn = [ m for m in trans_map ]\n",
      "\n",
      "map_ = trans_one_turn + [long_map]\n",
      "mean_x, mean_y, sigma_z = track_n_save(bunch, map_)\n",
      "plot_data(sigma_z, mean_x, Q_x, Q_s)"
     ],
     "language": "python",
     "metadata": {},
     "outputs": [
      {
       "output_type": "stream",
       "stream": "stdout",
       "text": [
        "0.0598561851063\n"
       ]
      }
     ],
     "prompt_number": 6
    },
    {
     "cell_type": "code",
     "collapsed": false,
     "input": [
      "# CASE III\n",
      "# With chromaticity in horizontal and vertical. With linear synchrotron motion.\n",
      "bunch = generate_bunch(\n",
      "    n_macroparticles, alpha_x_inj, alpha_y_inj, beta_x_inj, beta_y_inj,\n",
      "    alpha_0, Q_s, R)\n",
      "\n",
      "chroma = Chromaticity(Qp_x=6, Qp_y=10)\n",
      "trans_map = TransverseMap(\n",
      "    C, s, alpha_x, beta_x, D_x, alpha_y, beta_y, D_y, Q_x, Q_y, chroma)\n",
      "long_map = LinearMap(C, alpha_0, Q_s)\n",
      "\n",
      "trans_one_turn = [ m for m in trans_map ]\n",
      "\n",
      "map_ = trans_one_turn + [long_map]\n",
      "mean_x, mean_y, sigma_z = track_n_save(bunch, map_)\n",
      "plot_data(sigma_z, mean_y, Q_y, Q_s)"
     ],
     "language": "python",
     "metadata": {},
     "outputs": [
      {
       "output_type": "stream",
       "stream": "stdout",
       "text": [
        "0.0629873919214\n"
       ]
      }
     ],
     "prompt_number": 6
    },
    {
     "cell_type": "code",
     "collapsed": false,
     "input": [
      "# CASE IV\n",
      "# With amplitude detuning. With linear synchrotron motion. With initial kick.\n",
      "bunch = generate_bunch(\n",
      "    n_macroparticles, alpha_x_inj, alpha_y_inj, beta_x_inj, beta_y_inj,\n",
      "    alpha_0, Q_s, R)\n",
      "\n",
      "ampl_det = AmplitudeDetuning.from_octupole_currents_LHC(i_focusing=200, i_defocusing=-200)\n",
      "trans_map = TransverseMap(\n",
      "    C, s, alpha_x, beta_x, D_x, alpha_y, beta_y, D_y, Q_x, Q_y, ampl_det)\n",
      "long_map = LinearMap(C, alpha_0, Q_s)\n",
      "\n",
      "trans_one_turn = [ m for m in trans_map ]\n",
      "\n",
      "map_ = trans_one_turn + [long_map]\n",
      "bunch.x += 0.0003\n",
      "bunch.y += 0.0005\n",
      "\n",
      "mean_x, mean_y, sigma_z = track_n_save(bunch, map_)\n",
      "plot_data(sigma_z, mean_x, Q_x, Q_s)"
     ],
     "language": "python",
     "metadata": {},
     "outputs": [
      {
       "output_type": "stream",
       "stream": "stdout",
       "text": [
        "0.0604181887909\n"
       ]
      }
     ],
     "prompt_number": 7
    },
    {
     "cell_type": "code",
     "collapsed": false,
     "input": [
      "# CASE V\n",
      "# With amplitude detuning and chromaticity. With linear synchrotron motion. With initial kick.\n",
      "bunch = generate_bunch(\n",
      "    n_macroparticles, alpha_x_inj, alpha_y_inj, beta_x_inj, beta_y_inj,\n",
      "    alpha_0, Q_s, R)\n",
      "\n",
      "ampl_det = AmplitudeDetuning.from_octupole_currents_LHC(i_focusing=200, i_defocusing=-200)\n",
      "chroma = Chromaticity(Qp_x=10, Qp_y=6)\n",
      "trans_map = TransverseMap(\n",
      "    C, s, alpha_x, beta_x, D_x, alpha_y, beta_y, D_y, Q_x, Q_y, ampl_det, chroma)\n",
      "long_map = LinearMap(C, alpha_0, Q_s)\n",
      "\n",
      "trans_one_turn = [ m for m in trans_map ]\n",
      "\n",
      "map_ = trans_one_turn + [long_map]\n",
      "bunch.x += 0.0003\n",
      "bunch.y += 0.0005\n",
      "\n",
      "mean_x, mean_y, sigma_z = track_n_save(bunch, map_)\n",
      "plot_data(sigma_z, mean_x, Q_x, Q_s)"
     ],
     "language": "python",
     "metadata": {},
     "outputs": [
      {
       "output_type": "stream",
       "stream": "stdout",
       "text": [
        "0.0614424553276\n"
       ]
      }
     ],
     "prompt_number": 10
    },
    {
     "cell_type": "code",
     "collapsed": false,
     "input": [
      "# Test how detuning parameters and betatron tunes are scaled\n",
      "# for the TransverseSegmentMaps.\n",
      "Qp_x = 8.\n",
      "Qp_y = 10.\n",
      "chroma = Chromaticity(Qp_x, Qp_y)\n",
      "trans_map = TransverseMap(\n",
      "    C, s, alpha_x, beta_x, D_x, alpha_y, beta_y, D_y, Q_x, Q_y,\n",
      "    chroma)\n",
      "\n",
      "i = 1\n",
      "\n",
      "print 'Q_x'\n",
      "print Q_x / float(n_segments)\n",
      "print trans_map[i].dQ_x\n",
      "\n",
      "print 'Q_y'\n",
      "print Q_y / float(n_segments)\n",
      "print trans_map[i].dQ_y\n",
      "\n",
      "print 'Qp_x'\n",
      "print Qp_x / float(n_segments)\n",
      "print trans_map[i].segment_detuners[0].dQp_x\n",
      "\n",
      "print 'Qp_y'\n",
      "print Qp_y / float(n_segments)\n",
      "print trans_map[i].segment_detuners[0].dQp_y\n",
      "\n",
      "app_x = 20.\n",
      "app_y = 12.\n",
      "app_xy = 30.\n",
      "ampl_det = AmplitudeDetuning(app_x, app_y, app_xy)\n",
      "trans_map = TransverseMap(\n",
      "    C, s, alpha_x, beta_x, D_x, alpha_y, beta_y, D_y, Q_x, Q_y,\n",
      "    ampl_det)\n",
      "\n",
      "print 'app_x'\n",
      "print app_x / float(n_segments)\n",
      "print trans_map[i].segment_detuners[0].dapp_x\n",
      "\n",
      "print 'app_y'\n",
      "print app_y / float(n_segments)\n",
      "print trans_map[i].segment_detuners[0].dapp_y\n",
      "\n",
      "print 'app_xy'\n",
      "print app_xy / float(n_segments)\n",
      "print trans_map[i].segment_detuners[0].dapp_xy"
     ],
     "language": "python",
     "metadata": {},
     "outputs": [
      {
       "output_type": "stream",
       "stream": "stdout",
       "text": [
        "Q_x\n",
        "12.856\n",
        "12.856\n",
        "Q_y\n",
        "11.862\n",
        "11.862\n",
        "Qp_x\n",
        "1.6\n",
        "1.6\n",
        "Qp_y\n",
        "2.0\n",
        "2.0\n",
        "app_x\n",
        "4.0\n",
        "4.0\n",
        "app_y\n",
        "2.4\n",
        "2.4\n",
        "app_xy\n",
        "6.0\n",
        "6.0\n"
       ]
      }
     ],
     "prompt_number": 8
    },
    {
     "cell_type": "code",
     "collapsed": false,
     "input": [
      "# Test if optics at injection are correctly returned.\n",
      "trans_map = TransverseMap(\n",
      "    C, s, alpha_x, beta_x, D_x, alpha_y, beta_y, D_y, Q_x, Q_y)\n",
      "alpha_x_inj, beta_x_inj, alpha_y_inj, beta_y_inj = trans_map.get_injection_optics()\n",
      "print alpha_x_inj, beta_x_inj, alpha_y_inj, beta_y_inj"
     ],
     "language": "python",
     "metadata": {},
     "outputs": [
      {
       "output_type": "stream",
       "stream": "stdout",
       "text": [
        "0.0 66.0064 0.0 71.5376\n"
       ]
      }
     ],
     "prompt_number": 9
    },
    {
     "cell_type": "code",
     "collapsed": false,
     "input": [
      "# Test if exception is risen when D_{x,y} are != 0.\n",
      "D_x = 0.1 * np.ones(n_segments)\n",
      "D_y = 0.1 * np.ones(n_segments)\n",
      "\n",
      "trans_map = TransverseMap(\n",
      "    C, s, alpha_x, beta_x, D_x, alpha_y, beta_y, D_y, Q_x, Q_y)"
     ],
     "language": "python",
     "metadata": {},
     "outputs": [
      {
       "ename": "NotImplementedError",
       "evalue": "Non-zero values have been \nspecified for the dispersion coefficients D_{x,y}.\nBut, the effects of dispersion are not yet implemented. \n",
       "output_type": "pyerr",
       "traceback": [
        "\u001b[1;31m---------------------------------------------------------------------------\u001b[0m\n\u001b[1;31mNotImplementedError\u001b[0m                       Traceback (most recent call last)",
        "\u001b[1;32m<ipython-input-10-a519678d5c68>\u001b[0m in \u001b[0;36m<module>\u001b[1;34m()\u001b[0m\n\u001b[0;32m      4\u001b[0m \u001b[1;33m\u001b[0m\u001b[0m\n\u001b[0;32m      5\u001b[0m trans_map = TransverseMap(\n\u001b[1;32m----> 6\u001b[1;33m     C, s, alpha_x, beta_x, D_x, alpha_y, beta_y, D_y, Q_x, Q_y)\n\u001b[0m",
        "\u001b[1;32m/home/michael/TECH/PyHEADTAIL/trackers/transverse_tracking.pyc\u001b[0m in \u001b[0;36m__init__\u001b[1;34m(self, C, s, alpha_x, beta_x, D_x, alpha_y, beta_y, D_y, Q_x, Q_y, *detuner_collections)\u001b[0m\n\u001b[0;32m    199\u001b[0m         \u001b[1;31m# List to store TransverseSegmentMap objects.\u001b[0m\u001b[1;33m\u001b[0m\u001b[1;33m\u001b[0m\u001b[0m\n\u001b[0;32m    200\u001b[0m         \u001b[0mself\u001b[0m\u001b[1;33m.\u001b[0m\u001b[0msegment_maps\u001b[0m \u001b[1;33m=\u001b[0m \u001b[1;33m[\u001b[0m\u001b[1;33m]\u001b[0m\u001b[1;33m\u001b[0m\u001b[0m\n\u001b[1;32m--> 201\u001b[1;33m         \u001b[0mself\u001b[0m\u001b[1;33m.\u001b[0m\u001b[0m_generate_segment_maps\u001b[0m\u001b[1;33m(\u001b[0m\u001b[1;33m)\u001b[0m\u001b[1;33m\u001b[0m\u001b[0m\n\u001b[0m\u001b[0;32m    202\u001b[0m \u001b[1;33m\u001b[0m\u001b[0m\n\u001b[0;32m    203\u001b[0m     \u001b[1;32mdef\u001b[0m \u001b[0m_generate_segment_maps\u001b[0m\u001b[1;33m(\u001b[0m\u001b[0mself\u001b[0m\u001b[1;33m)\u001b[0m\u001b[1;33m:\u001b[0m\u001b[1;33m\u001b[0m\u001b[0m\n",
        "\u001b[1;32m/home/michael/TECH/PyHEADTAIL/trackers/transverse_tracking.pyc\u001b[0m in \u001b[0;36m_generate_segment_maps\u001b[1;34m(self)\u001b[0m\n\u001b[0;32m    238\u001b[0m                 \u001b[0mself\u001b[0m\u001b[1;33m.\u001b[0m\u001b[0malpha_y\u001b[0m\u001b[1;33m[\u001b[0m\u001b[0ms1\u001b[0m\u001b[1;33m]\u001b[0m\u001b[1;33m,\u001b[0m \u001b[0mself\u001b[0m\u001b[1;33m.\u001b[0m\u001b[0mbeta_y\u001b[0m\u001b[1;33m[\u001b[0m\u001b[0ms1\u001b[0m\u001b[1;33m]\u001b[0m\u001b[1;33m,\u001b[0m \u001b[0mself\u001b[0m\u001b[1;33m.\u001b[0m\u001b[0mD_y\u001b[0m\u001b[1;33m[\u001b[0m\u001b[0ms1\u001b[0m\u001b[1;33m]\u001b[0m\u001b[1;33m,\u001b[0m\u001b[1;33m\u001b[0m\u001b[0m\n\u001b[0;32m    239\u001b[0m                 \u001b[0mdQ_x\u001b[0m\u001b[1;33m[\u001b[0m\u001b[0mseg\u001b[0m\u001b[1;33m]\u001b[0m\u001b[1;33m,\u001b[0m \u001b[0mdQ_y\u001b[0m\u001b[1;33m[\u001b[0m\u001b[0mseg\u001b[0m\u001b[1;33m]\u001b[0m\u001b[1;33m,\u001b[0m\u001b[1;33m\u001b[0m\u001b[0m\n\u001b[1;32m--> 240\u001b[1;33m                 *[detuner[seg] for detuner in self.detuner_collections])\n\u001b[0m\u001b[0;32m    241\u001b[0m \u001b[1;33m\u001b[0m\u001b[0m\n\u001b[0;32m    242\u001b[0m             \u001b[0mself\u001b[0m\u001b[1;33m.\u001b[0m\u001b[0msegment_maps\u001b[0m\u001b[1;33m.\u001b[0m\u001b[0mappend\u001b[0m\u001b[1;33m(\u001b[0m\u001b[0mtransverse_segment_map\u001b[0m\u001b[1;33m)\u001b[0m\u001b[1;33m\u001b[0m\u001b[0m\n",
        "\u001b[1;32m/home/michael/TECH/PyHEADTAIL/trackers/transverse_tracking.pyc\u001b[0m in \u001b[0;36m__init__\u001b[1;34m(self, alpha_x_s0, beta_x_s0, D_x_s0, alpha_x_s1, beta_x_s1, D_x_s1, alpha_y_s0, beta_y_s0, D_y_s0, alpha_y_s1, beta_y_s1, D_y_s1, dQ_x, dQ_y, *segment_detuners)\u001b[0m\n\u001b[0;32m     52\u001b[0m             raise NotImplementedError('Non-zero values have been \\n' +\n\u001b[0;32m     53\u001b[0m                 \u001b[1;34m'specified for the dispersion coefficients D_{x,y}.\\n'\u001b[0m \u001b[1;33m+\u001b[0m\u001b[1;33m\u001b[0m\u001b[0m\n\u001b[1;32m---> 54\u001b[1;33m                 'But, the effects of dispersion are not yet implemented. \\n')\n\u001b[0m\u001b[0;32m     55\u001b[0m \u001b[1;33m\u001b[0m\u001b[0m\n\u001b[0;32m     56\u001b[0m     def _build_segment_map(self, alpha_x_s0, beta_x_s0, alpha_x_s1, beta_x_s1,\n",
        "\u001b[1;31mNotImplementedError\u001b[0m: Non-zero values have been \nspecified for the dispersion coefficients D_{x,y}.\nBut, the effects of dispersion are not yet implemented. \n"
       ]
      }
     ],
     "prompt_number": 10
    },
    {
     "cell_type": "code",
     "collapsed": false,
     "input": [
      "# Test if exception is risen when s[0] != 0 or s[-1] != C\n",
      "s = np.array([0., 4, 10, 12, C-1])\n",
      "trans_map = TransverseMap(\n",
      "    C, s, alpha_x, beta_x, D_x, alpha_y, beta_y, D_y, Q_x, Q_y)"
     ],
     "language": "python",
     "metadata": {},
     "outputs": [
      {
       "ename": "ValueError",
       "evalue": "The first element of s must be zero \nand the last element must be equal to the \naccelerator circumference C. \n",
       "output_type": "pyerr",
       "traceback": [
        "\u001b[1;31m---------------------------------------------------------------------------\u001b[0m\n\u001b[1;31mValueError\u001b[0m                                Traceback (most recent call last)",
        "\u001b[1;32m<ipython-input-12-3b3b888cd450>\u001b[0m in \u001b[0;36m<module>\u001b[1;34m()\u001b[0m\n\u001b[0;32m      2\u001b[0m \u001b[0ms\u001b[0m \u001b[1;33m=\u001b[0m \u001b[0mnp\u001b[0m\u001b[1;33m.\u001b[0m\u001b[0marray\u001b[0m\u001b[1;33m(\u001b[0m\u001b[1;33m[\u001b[0m\u001b[1;36m0.\u001b[0m\u001b[1;33m,\u001b[0m \u001b[1;36m4\u001b[0m\u001b[1;33m,\u001b[0m \u001b[1;36m10\u001b[0m\u001b[1;33m,\u001b[0m \u001b[1;36m12\u001b[0m\u001b[1;33m,\u001b[0m \u001b[0mC\u001b[0m\u001b[1;33m-\u001b[0m\u001b[1;36m1\u001b[0m\u001b[1;33m]\u001b[0m\u001b[1;33m)\u001b[0m\u001b[1;33m\u001b[0m\u001b[0m\n\u001b[0;32m      3\u001b[0m trans_map = TransverseMap(\n\u001b[1;32m----> 4\u001b[1;33m     C, s, alpha_x, beta_x, D_x, alpha_y, beta_y, D_y, Q_x, Q_y)\n\u001b[0m",
        "\u001b[1;32m/home/michael/TECH/PyHEADTAIL/trackers/transverse_tracking.pyc\u001b[0m in \u001b[0;36m__init__\u001b[1;34m(self, C, s, alpha_x, beta_x, D_x, alpha_y, beta_y, D_y, Q_x, Q_y, *detuner_collections)\u001b[0m\n\u001b[0;32m    185\u001b[0m             raise ValueError('The first element of s must be zero \\n' +\n\u001b[0;32m    186\u001b[0m                 \u001b[1;34m'and the last element must be equal to the \\n'\u001b[0m \u001b[1;33m+\u001b[0m\u001b[1;33m\u001b[0m\u001b[0m\n\u001b[1;32m--> 187\u001b[1;33m                 'accelerator circumference C. \\n')\n\u001b[0m\u001b[0;32m    188\u001b[0m         \u001b[0mself\u001b[0m\u001b[1;33m.\u001b[0m\u001b[0ms\u001b[0m \u001b[1;33m=\u001b[0m \u001b[0ms\u001b[0m\u001b[1;33m\u001b[0m\u001b[0m\n\u001b[0;32m    189\u001b[0m         \u001b[0mself\u001b[0m\u001b[1;33m.\u001b[0m\u001b[0malpha_x\u001b[0m \u001b[1;33m=\u001b[0m \u001b[0malpha_x\u001b[0m\u001b[1;33m\u001b[0m\u001b[0m\n",
        "\u001b[1;31mValueError\u001b[0m: The first element of s must be zero \nand the last element must be equal to the \naccelerator circumference C. \n"
       ]
      }
     ],
     "prompt_number": 12
    },
    {
     "cell_type": "code",
     "collapsed": false,
     "input": [
      "# HELPERS\n",
      "def plot_data(sigma_z, mean, Q, Qs):\n",
      "    fig = plt.figure(figsize=(16, 16))\n",
      "    ax1 = fig.add_subplot(311)\n",
      "    ax2 = fig.add_subplot(312)\n",
      "    ax3 = fig.add_subplot(313)\n",
      "\n",
      "    ax1.plot(mean, '-', c='b')\n",
      "    #ax1.plot(mean_y, '-', c='r')\n",
      "    ax1.set_xlabel('turns')\n",
      "    ax1.set_ylabel('mean [m]')\n",
      "\n",
      "    ax2.plot(sigma_z, '-', c='b')\n",
      "    ax2.set_xlabel('turns')\n",
      "    ax2.set_ylabel('sigma_z [m]')\n",
      "\n",
      "    fr_x, ax_x = my_fft(mean)\n",
      "    markerline, stemlines, baseline = ax3.stem(fr_x, ax_x, label=r'bunch spectrum')\n",
      "    plt.setp(baseline, 'color','b', 'linewidth', 2)\n",
      "    ax3.axvline(Q%1, color='r', label='transverse main tune')\n",
      "    ax3.axvline(Q%1 - Qs, color='g', linestyle='dashed', label=r'1st synchrotron sidebands')\n",
      "    ax3.axvline(Q%1 + Qs, color='g', linestyle='dashed')\n",
      "    handles, labels = ax3.get_legend_handles_labels()\n",
      "    ax3.legend(handles, labels, loc='upper left')\n",
      "    ax3.set_xlabel('tune')\n",
      "    ax3.set_ylabel('amplitude')\n",
      "    ax3.set_xlim((0.25, 0.32))\n",
      "\n",
      "    plt.show()\n",
      "    \n",
      "def track_n_save(bunch, map_):\n",
      "    mean_x = np.empty(n_turns)\n",
      "    mean_y = np.empty(n_turns)\n",
      "    sigma_z = np.empty(n_turns)\n",
      "    \n",
      "    for i in xrange(n_turns):\n",
      "        mean_x[i] = bunch.mean_x()\n",
      "        mean_y[i] = bunch.mean_y()\n",
      "        sigma_z[i] = bunch.sigma_z()\n",
      "\n",
      "        for m_ in map_:\n",
      "            m_.track(bunch)\n",
      "\n",
      "    return mean_x, mean_y, sigma_z\n",
      "\n",
      "def my_fft(data):\n",
      "    t = np.arange(len(data))\n",
      "    fft = np.fft.rfft(data)\n",
      "    fft_freq = np.fft.rfftfreq(t.shape[-1])\n",
      "    \n",
      "    return fft_freq, np.abs(fft.real)\n",
      "\n",
      "def generate_bunch(n_macroparticles, alpha_x, alpha_y, beta_x, beta_y, alpha_0, Q_s, R):\n",
      "    \n",
      "    intensity = 1.05e11\n",
      "    sigma_z = 0.059958\n",
      "    gamma = 3730.26\n",
      "    eta = alpha_0 - 1. / gamma**2\n",
      "    gamma_t = 1. / np.sqrt(alpha_0)\n",
      "    p0 = np.sqrt(gamma**2 - 1) * m_p * c\n",
      "\n",
      "    beta_z = eta * R / Q_s\n",
      "\n",
      "    epsn_x = 3.75e-6 # [m rad]\n",
      "    epsn_y = 3.75e-6 # [m rad]\n",
      "    epsn_z = sigma_z**2 * p0 / (beta_z * e) # WITH OR WITHOUT 4 PI???\n",
      "    \n",
      "    bunch = Particles.as_gaussian_linear(\n",
      "        macroparticlenumber=n_macroparticles, intensity=intensity, charge=e,\n",
      "        gamma_reference=gamma, mass=m_p, circumference=C,\n",
      "        alpha_x=alpha_x, beta_x=beta_x, epsn_x=epsn_x,\n",
      "        alpha_y=alpha_y, beta_y=beta_y, epsn_y=epsn_y,\n",
      "        beta_z=beta_z, epsn_z=epsn_z)\n",
      "    print bunch.sigma_z()\n",
      "    \n",
      "    return bunch"
     ],
     "language": "python",
     "metadata": {},
     "outputs": [],
     "prompt_number": 4
    },
    {
     "cell_type": "code",
     "collapsed": false,
     "input": [],
     "language": "python",
     "metadata": {},
     "outputs": []
    }
   ],
   "metadata": {}
  }
 ]
}