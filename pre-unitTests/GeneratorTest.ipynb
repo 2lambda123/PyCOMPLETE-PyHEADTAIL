{
 "metadata": {
  "name": ""
 },
 "nbformat": 3,
 "nbformat_minor": 0,
 "worksheets": [
  {
   "cells": [
    {
     "cell_type": "code",
     "collapsed": false,
     "input": [
      "import sys, os\n",
      "BIN = os.path.expanduser(\"~/cern/git/PyHEADTAIL-new/\")\n",
      "sys.path.append(BIN)"
     ],
     "language": "python",
     "metadata": {},
     "outputs": [],
     "prompt_number": 1
    },
    {
     "cell_type": "code",
     "collapsed": false,
     "input": [
      "import numpy as np\n",
      "from scipy.constants import m_p, c, e"
     ],
     "language": "python",
     "metadata": {},
     "outputs": [],
     "prompt_number": 2
    },
    {
     "cell_type": "code",
     "collapsed": false,
     "input": [
      "from   PyHEADTAIL.particles.particles import Particles\n",
      "import PyHEADTAIL.particles.generators as generators\n",
      "from PyHEADTAIL.trackers.transverse_tracker import TransverseMap\n",
      "from PyHEADTAIL.trackers.simple_long_tracking import RFSystems, LinearMap"
     ],
     "language": "python",
     "metadata": {},
     "outputs": [],
     "prompt_number": 3
    },
    {
     "cell_type": "code",
     "collapsed": false,
     "input": [
      "import matplotlib.pyplot as plt"
     ],
     "language": "python",
     "metadata": {},
     "outputs": [],
     "prompt_number": 4
    },
    {
     "cell_type": "code",
     "collapsed": false,
     "input": [
      "# general simulation parameters\n",
      "n_turns = 20000\n",
      "n_particles = 10000\n",
      "n_segments = 1\n",
      "\n",
      "# machine parameters\n",
      "circumference = 157.\n",
      "inj_alpha_x = 0\n",
      "inj_alpha_y = 0\n",
      "inj_beta_x = 5.9 # in [m]\n",
      "inj_beta_y = 5.7 # in [m]\n",
      "Qx = 5.1\n",
      "Qy = 6.1\n",
      "gamma_tr = 4.05\n",
      "alpha_c_array = [gamma_tr**-2]\n",
      "V_rf = 8e3 # in [V]\n",
      "harmonic = 1\n",
      "phi_offset = 0 # measured from aligned focussing phase (0 or pi)\n",
      "pipe_radius = 5e-2\n",
      "\n",
      "# beam parameters\n",
      "Ekin = 1.4e9 # in [eV]\n",
      "intensity = 1.684e12\n",
      "epsn_x = 2.5e-6 # in [m*rad]\n",
      "epsn_y = 2.5e-6 # in [m*rad]\n",
      "epsn_z = 1.2 # 4pi*sig_z*sig_dp (*p0/e) in [eVs]\n",
      "\n",
      "# calculations\n",
      "gamma = 1 + e * Ekin / (m_p * c**2)\n",
      "beta = np.sqrt(1 - gamma**-2)\n",
      "eta = alpha_c_array[0] - gamma**-2\n",
      "if eta < 0:\n",
      "    phi_offset = np.pi - phi_offset\n",
      "Etot = gamma * m_p * c**2 / e\n",
      "p0 = np.sqrt(gamma**2 - 1) * m_p * c\n",
      "Qs = np.sqrt(np.abs(eta) * V_rf / (2 * np.pi * beta**2 * Etot))\n",
      "beta_z = np.abs(eta) * circumference / (2 * np.pi * Qs)\n",
      "turn_period = circumference / (beta * c)\n",
      "\n",
      "# BETATRON\n",
      "# Loop on number of segments and create the TransverseSegmentMap\n",
      "# for each segment.\n",
      "s = np.arange(0, n_segments + 1) * circumference / n_segments\n",
      "alpha_x = inj_alpha_x * np.ones(n_segments)\n",
      "beta_x  = inj_beta_x * np.ones(n_segments)\n",
      "D_x     = np.zeros(n_segments)\n",
      "alpha_y = inj_alpha_y * np.ones(n_segments)\n",
      "beta_y  = inj_beta_y * np.ones(n_segments)\n",
      "D_y     = np.zeros(n_segments)"
     ],
     "language": "python",
     "metadata": {},
     "outputs": [],
     "prompt_number": 5
    },
    {
     "cell_type": "code",
     "collapsed": false,
     "input": [
      "def plot_phase_space(bunch):\n",
      "    fig, (ax0, ax1, ax2) = plt.subplots(3, 1)\n",
      "    # phase spaces\n",
      "    ax0.scatter(bunch.x, bunch.xp)\n",
      "    ax1.scatter(bunch.y, bunch.yp)\n",
      "    ax2.scatter(bunch.z, bunch.dp)\n",
      "    # statistical quantities\n",
      "    ax0.scatter(bunch.mean_x(), bunch.mean_xp(), color='red')\n",
      "    ax1.scatter(bunch.mean_y(), bunch.mean_yp(), color='red')\n",
      "    ax2.scatter(bunch.mean_z(), bunch.mean_dp(), color='red')\n",
      "    plt.show()"
     ],
     "language": "python",
     "metadata": {},
     "outputs": [],
     "prompt_number": 6
    },
    {
     "cell_type": "code",
     "collapsed": false,
     "input": [
      "bunch = generators.Gaussian6DTwiss( # implicitly tests Gaussian and Gaussian2DTwiss as well\n",
      "    n_particles, intensity, e, m_p, circumference, gamma,\n",
      "    inj_alpha_x, inj_beta_x, epsn_x,\n",
      "    inj_alpha_y, inj_beta_y, epsn_y, \n",
      "    beta_z, epsn_z\n",
      "    ).generate()\n",
      "plot_phase_space(bunch)"
     ],
     "language": "python",
     "metadata": {},
     "outputs": [],
     "prompt_number": 47
    },
    {
     "cell_type": "code",
     "collapsed": false,
     "input": [
      "bunch = generators.ImportDistribution(\n",
      "    n_particles, intensity, e, m_p, circumference, gamma,\n",
      "    bunch.get_coords_n_momenta_dict()\n",
      "    ).generate()\n",
      "plot_phase_space(bunch)"
     ],
     "language": "python",
     "metadata": {},
     "outputs": [],
     "prompt_number": 48
    },
    {
     "cell_type": "code",
     "collapsed": false,
     "input": [
      "bunch = generators.Uniform3D(\n",
      "    n_particles, intensity, e, m_p, circumference, gamma,\n",
      "    2e-3, 2e-3, 30\n",
      "    ).generate()\n",
      "plot_phase_space(bunch)"
     ],
     "language": "python",
     "metadata": {},
     "outputs": [],
     "prompt_number": 49
    },
    {
     "cell_type": "code",
     "collapsed": false,
     "input": [
      "transverse = TransverseMap(s, alpha_x, beta_x, D_x, alpha_y,\n",
      "                           beta_y, D_y, Qx, Qy)\n",
      "longitudinal = LinearMap(alpha_c_array, circumference, Qs)"
     ],
     "language": "python",
     "metadata": {},
     "outputs": [],
     "prompt_number": 7
    },
    {
     "cell_type": "code",
     "collapsed": false,
     "input": [
      "bunch = generators.MatchGaussian6D( # implicitly tests MatchLinearLongMap and MatchTransverseMap\n",
      "    n_particles, intensity, e, m_p, circumference, gamma,\n",
      "    transverse, epsn_x, epsn_y, longitudinal, epsn_z\n",
      "    ).generate()\n",
      "plot_phase_space(bunch)"
     ],
     "language": "python",
     "metadata": {},
     "outputs": [],
     "prompt_number": 8
    },
    {
     "cell_type": "code",
     "collapsed": false,
     "input": [
      "rfsystems = RFSystems(circumference, [harmonic], [V_rf], [phi_offset],\n",
      "                      alpha_c_array, gamma)"
     ],
     "language": "python",
     "metadata": {},
     "outputs": [],
     "prompt_number": 9
    },
    {
     "cell_type": "code",
     "collapsed": false,
     "input": [
      "bunch = generators.MatchRFBucket6D( # implicitly tests MatchRFBucket2D and MatchTransverseMap\n",
      "    n_particles, intensity, e, m_p, circumference, gamma,\n",
      "    transverse, epsn_x, epsn_y, rfsystems.rfbucket, epsn_z\n",
      "    ).generate()\n",
      "plot_phase_space(bunch)"
     ],
     "language": "python",
     "metadata": {},
     "outputs": [
      {
       "output_type": "stream",
       "stream": "stdout",
       "text": [
        "\n",
        "*** Maximum RMS emittance 4.76186429682 eV s.\n",
        "... distance to target emittance:"
       ]
      },
      {
       "output_type": "stream",
       "stream": "stdout",
       "text": [
        " 0.286025924213\n",
        "... distance to target emittance:"
       ]
      },
      {
       "output_type": "stream",
       "stream": "stdout",
       "text": [
        " 0.286280731494\n",
        "... distance to target emittance:"
       ]
      },
      {
       "output_type": "stream",
       "stream": "stdout",
       "text": [
        " -0.00155969354539\n",
        "\n",
        "--> Emittance:"
       ]
      },
      {
       "output_type": "stream",
       "stream": "stdout",
       "text": [
        " 1.20000256448\n",
        "--> Bunch length: 12.0228252955\n"
       ]
      }
     ],
     "prompt_number": 10
    },
    {
     "cell_type": "code",
     "collapsed": false,
     "input": [
      "bunch = generators.Gaussian6DTwiss(\n",
      "    n_particles, intensity, e, m_p, circumference, gamma,\n",
      "    inj_alpha_x, inj_beta_x, epsn_x,\n",
      "    inj_alpha_y, inj_beta_y, epsn_y, beta_z, epsn_z\n",
      "    ).generate()\n",
      "generators.MatchRFBucket2D(\n",
      "    n_particles, intensity, e, m_p, circumference, gamma,\n",
      "    rfsystems.rfbucket, epsn_z=epsn_z\n",
      "    ).update(bunch)\n",
      "plot_phase_space(bunch)"
     ],
     "language": "python",
     "metadata": {},
     "outputs": [
      {
       "output_type": "stream",
       "stream": "stdout",
       "text": [
        "\n",
        "*** Maximum RMS emittance 4.76186429682 eV s.\n",
        "... distance to target emittance:"
       ]
      },
      {
       "output_type": "stream",
       "stream": "stdout",
       "text": [
        " 0.286025924213\n",
        "... distance to target emittance:"
       ]
      },
      {
       "output_type": "stream",
       "stream": "stdout",
       "text": [
        " 0.286280731494\n",
        "... distance to target emittance:"
       ]
      },
      {
       "output_type": "stream",
       "stream": "stdout",
       "text": [
        " -0.00155969354539\n",
        "\n",
        "--> Emittance:"
       ]
      },
      {
       "output_type": "stream",
       "stream": "stdout",
       "text": [
        " 1.20000256448\n",
        "--> Bunch length: 12.0228252955\n"
       ]
      }
     ],
     "prompt_number": 11
    },
    {
     "cell_type": "code",
     "collapsed": false,
     "input": [
      "coords_n_momenta_dict = bunch.get_coords_n_momenta_dict()\n",
      "coords_n_momenta_dict['x'] = np.append(coords_n_momenta_dict['x'], 0)\n",
      "bunch = generators.ImportDistribution(\n",
      "    n_particles, intensity, e, m_p, circumference, gamma,\n",
      "    coords_n_momenta_dict\n",
      "    ).generate()"
     ],
     "language": "python",
     "metadata": {},
     "outputs": [
      {
       "ename": "ValueError",
       "evalue": "lengths of given phase space coordinate arrays do not coincide with self.macroparticlenumber.",
       "output_type": "pyerr",
       "traceback": [
        "\u001b[0;31m---------------------------------------------------------------------------\u001b[0m\n\u001b[0;31mValueError\u001b[0m                                Traceback (most recent call last)",
        "\u001b[0;32m<ipython-input-17-7ac3a72132f4>\u001b[0m in \u001b[0;36m<module>\u001b[0;34m()\u001b[0m\n\u001b[1;32m      3\u001b[0m bunch = generators.ImportDistribution(\n\u001b[1;32m      4\u001b[0m     \u001b[0mn_particles\u001b[0m\u001b[0;34m,\u001b[0m \u001b[0mintensity\u001b[0m\u001b[0;34m,\u001b[0m \u001b[0me\u001b[0m\u001b[0;34m,\u001b[0m \u001b[0mm_p\u001b[0m\u001b[0;34m,\u001b[0m \u001b[0mcircumference\u001b[0m\u001b[0;34m,\u001b[0m \u001b[0mgamma\u001b[0m\u001b[0;34m,\u001b[0m\u001b[0;34m\u001b[0m\u001b[0m\n\u001b[0;32m----> 5\u001b[0;31m     \u001b[0mcoords_n_momenta_dict\u001b[0m\u001b[0;34m\u001b[0m\u001b[0m\n\u001b[0m\u001b[1;32m      6\u001b[0m     ).generate()\n",
        "\u001b[0;32m/home/oeftiger/cern/git/PyHEADTAIL-new/PyHEADTAIL/particles/generators.py\u001b[0m in \u001b[0;36mgenerate\u001b[0;34m(self)\u001b[0m\n\u001b[1;32m    116\u001b[0m                          \u001b[0mcircumference\u001b[0m\u001b[0;34m=\u001b[0m\u001b[0mself\u001b[0m\u001b[0;34m.\u001b[0m\u001b[0mcircumference\u001b[0m\u001b[0;34m,\u001b[0m\u001b[0;34m\u001b[0m\u001b[0m\n\u001b[1;32m    117\u001b[0m                          \u001b[0mgamma_reference\u001b[0m\u001b[0;34m=\u001b[0m\u001b[0mself\u001b[0m\u001b[0;34m.\u001b[0m\u001b[0mgamma_reference\u001b[0m\u001b[0;34m,\u001b[0m\u001b[0;34m\u001b[0m\u001b[0m\n\u001b[0;32m--> 118\u001b[0;31m                          coords_n_momenta_dict=coords_n_momenta_dict)\n\u001b[0m\u001b[1;32m    119\u001b[0m \u001b[0;34m\u001b[0m\u001b[0m\n\u001b[1;32m    120\u001b[0m     \u001b[0;32mdef\u001b[0m \u001b[0mupdate\u001b[0m\u001b[0;34m(\u001b[0m\u001b[0mself\u001b[0m\u001b[0;34m,\u001b[0m \u001b[0mbeam\u001b[0m\u001b[0;34m)\u001b[0m\u001b[0;34m:\u001b[0m\u001b[0;34m\u001b[0m\u001b[0m\n",
        "\u001b[0;32m/home/oeftiger/cern/git/PyHEADTAIL-new/PyHEADTAIL/particles/particles.pyc\u001b[0m in \u001b[0;36m__init__\u001b[0;34m(self, macroparticlenumber, particlenumber_per_mp, charge, mass, circumference, gamma_reference, coords_n_momenta_dict)\u001b[0m\n\u001b[1;32m     52\u001b[0m         '''\n\u001b[1;32m     53\u001b[0m         \u001b[0mself\u001b[0m\u001b[0;34m.\u001b[0m\u001b[0mid\u001b[0m \u001b[0;34m=\u001b[0m \u001b[0mnp\u001b[0m\u001b[0;34m.\u001b[0m\u001b[0marange\u001b[0m\u001b[0;34m(\u001b[0m\u001b[0;36m1\u001b[0m\u001b[0;34m,\u001b[0m \u001b[0mself\u001b[0m\u001b[0;34m.\u001b[0m\u001b[0mmacroparticlenumber\u001b[0m\u001b[0;34m+\u001b[0m\u001b[0;36m1\u001b[0m\u001b[0;34m,\u001b[0m \u001b[0mdtype\u001b[0m\u001b[0;34m=\u001b[0m\u001b[0mint\u001b[0m\u001b[0;34m)\u001b[0m\u001b[0;34m\u001b[0m\u001b[0m\n\u001b[0;32m---> 54\u001b[0;31m         \u001b[0mself\u001b[0m\u001b[0;34m.\u001b[0m\u001b[0mupdate\u001b[0m\u001b[0;34m(\u001b[0m\u001b[0mcoords_n_momenta_dict\u001b[0m\u001b[0;34m)\u001b[0m\u001b[0;34m\u001b[0m\u001b[0m\n\u001b[0m\u001b[1;32m     55\u001b[0m \u001b[0;34m\u001b[0m\u001b[0m\n\u001b[1;32m     56\u001b[0m     \u001b[0;34m@\u001b[0m\u001b[0mproperty\u001b[0m\u001b[0;34m\u001b[0m\u001b[0m\n",
        "\u001b[0;32m/home/oeftiger/cern/git/PyHEADTAIL-new/PyHEADTAIL/particles/particles.pyc\u001b[0m in \u001b[0;36mupdate\u001b[0;34m(self, coords_n_momenta_dict)\u001b[0m\n\u001b[1;32m    137\u001b[0m                coords_n_momenta_dict.values()):\n\u001b[1;32m    138\u001b[0m             raise ValueError(\"lengths of given phase space coordinate arrays\" +\n\u001b[0;32m--> 139\u001b[0;31m                              \" do not coincide with self.macroparticlenumber.\")\n\u001b[0m\u001b[1;32m    140\u001b[0m         \u001b[0;32mfor\u001b[0m \u001b[0mcoord\u001b[0m\u001b[0;34m,\u001b[0m \u001b[0marray\u001b[0m \u001b[0;32min\u001b[0m \u001b[0mcoords_n_momenta_dict\u001b[0m\u001b[0;34m.\u001b[0m\u001b[0mitems\u001b[0m\u001b[0;34m(\u001b[0m\u001b[0;34m)\u001b[0m\u001b[0;34m:\u001b[0m\u001b[0;34m\u001b[0m\u001b[0m\n\u001b[1;32m    141\u001b[0m             \u001b[0msetattr\u001b[0m\u001b[0;34m(\u001b[0m\u001b[0mself\u001b[0m\u001b[0;34m,\u001b[0m \u001b[0mcoord\u001b[0m\u001b[0;34m,\u001b[0m \u001b[0marray\u001b[0m\u001b[0;34m)\u001b[0m\u001b[0;34m\u001b[0m\u001b[0m\n",
        "\u001b[0;31mValueError\u001b[0m: lengths of given phase space coordinate arrays do not coincide with self.macroparticlenumber."
       ]
      }
     ],
     "prompt_number": 17
    }
   ],
   "metadata": {}
  }
 ]
}