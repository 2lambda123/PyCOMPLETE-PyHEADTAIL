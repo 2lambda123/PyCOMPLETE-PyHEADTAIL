{
 "metadata": {
  "name": "",
  "signature": "sha256:8be94e440481a461ec4c10ce854a4c37af08ce512b5fcdf0b8934eb1388800a3"
 },
 "nbformat": 3,
 "nbformat_minor": 0,
 "worksheets": [
  {
   "cells": [
    {
     "cell_type": "code",
     "collapsed": false,
     "input": [
      "import numpy as np\n",
      "from scipy.constants import m_p, c, e\n",
      "import matplotlib.pyplot as plt\n",
      "import PySussix\n",
      "\n",
      "from PyHEADTAIL.trackers.transverse_tracking import TransverseMap\n",
      "from PyHEADTAIL.rfq.rfq import RFQLongitudinalKick, RFQTransverseKick, RFQTransverseDetuner\n",
      "from PyHEADTAIL.particles.particles import Particles"
     ],
     "language": "python",
     "metadata": {},
     "outputs": [],
     "prompt_number": 1
    },
    {
     "cell_type": "code",
     "collapsed": false,
     "input": [],
     "language": "python",
     "metadata": {},
     "outputs": [],
     "prompt_number": 6
    },
    {
     "cell_type": "heading",
     "level": 4,
     "metadata": {},
     "source": [
      "Things tested:\n",
      "  - Instantiation of a \n",
      "\n",
      "  - Incoherent tune spectrum introduced by RFQ Transverse Detuner or Kick (from SUSSIX).\n",
      "\n",
      "To add: are formulae for RFQ correct?"
     ]
    },
    {
     "cell_type": "code",
     "collapsed": false,
     "input": [
      "# Basic parameters.\n",
      "n_turns = 512\n",
      "n_segments = 2\n",
      "n_macroparticles = 500\n",
      "\n",
      "Q_x = 64.28\n",
      "Q_y = 59.31\n",
      "Q_s = 0.0020443\n",
      "\n",
      "C = 26658.883\n",
      "R = C / (2.*np.pi)\n",
      "\n",
      "alpha_x_inj = 0.\n",
      "alpha_y_inj = 0.\n",
      "beta_x_inj = 66.0064\n",
      "beta_y_inj = 71.5376\n",
      "alpha_0 = 0.0003225"
     ],
     "language": "python",
     "metadata": {},
     "outputs": [],
     "prompt_number": 3
    },
    {
     "cell_type": "code",
     "collapsed": false,
     "input": [],
     "language": "python",
     "metadata": {},
     "outputs": [],
     "prompt_number": 3
    },
    {
     "cell_type": "code",
     "collapsed": false,
     "input": [
      "# Parameters for transverse map.\n",
      "s = np.arange(0, n_segments + 1) * C / n_segments\n",
      "\n",
      "alpha_x = alpha_x_inj * np.ones(n_segments)\n",
      "beta_x = beta_x_inj * np.ones(n_segments)\n",
      "D_x = np.zeros(n_segments)\n",
      "\n",
      "alpha_y = alpha_y_inj * np.ones(n_segments)\n",
      "beta_y = beta_y_inj * np.ones(n_segments)\n",
      "D_y = np.zeros(n_segments)"
     ],
     "language": "python",
     "metadata": {},
     "outputs": [],
     "prompt_number": 4
    },
    {
     "cell_type": "code",
     "collapsed": false,
     "input": [
      "# CASE I\n",
      "# With RFQ transverse as Detuner\n",
      "bunch = generate_bunch(\n",
      "    n_macroparticles, alpha_x_inj, alpha_y_inj, beta_x_inj, beta_y_inj,\n",
      "    alpha_0, Q_s, R)\n",
      "\n",
      "rfq_t = RFQTransverseDetuner(v_2=2e9, omega=800e6*2.*np.pi, phi_0=0.,\n",
      "                             beta_x_RFQ=200., beta_y_RFQ=100.)\n",
      "trans_map = TransverseMap(\n",
      "    C, s, alpha_x, beta_x, D_x, alpha_y, beta_y, D_y, Q_x, Q_y, rfq_t)\n",
      "\n",
      "trans_one_turn = [ m for m in trans_map ]\n",
      "map_ = trans_one_turn\n",
      "\n",
      "x_i, xp_i, y_i, yp_i = track_n_save(bunch, map_)\n",
      "analyse_n_plot(bunch, x_i, xp_i, y_i, yp_i)"
     ],
     "language": "python",
     "metadata": {},
     "outputs": [
      {
       "output_type": "stream",
       "stream": "stdout",
       "text": [
        "0.0613595001221\n",
        "0"
       ]
      },
      {
       "output_type": "stream",
       "stream": "stdout",
       "text": [
        "\n",
        "100"
       ]
      },
      {
       "output_type": "stream",
       "stream": "stdout",
       "text": [
        "\n",
        "200"
       ]
      },
      {
       "output_type": "stream",
       "stream": "stdout",
       "text": [
        "\n",
        "300"
       ]
      },
      {
       "output_type": "stream",
       "stream": "stdout",
       "text": [
        "\n",
        "400"
       ]
      },
      {
       "output_type": "stream",
       "stream": "stdout",
       "text": [
        "\n"
       ]
      }
     ],
     "prompt_number": 5
    },
    {
     "cell_type": "code",
     "collapsed": false,
     "input": [
      "# CASE II\n",
      "# With RFQ transverse as Kick\n",
      "bunch = generate_bunch(\n",
      "    n_macroparticles, alpha_x_inj, alpha_y_inj, beta_x_inj, beta_y_inj,\n",
      "    alpha_0, Q_s, R)\n",
      "\n",
      "rfq_t = RFQTransverseKick(v_2=2e9, omega=800e6*2.*np.pi, phi_0=0.)\n",
      "trans_map = TransverseMap(\n",
      "    C, s, alpha_x, beta_x, D_x, alpha_y, beta_y, D_y, Q_x, Q_y)\n",
      "\n",
      "trans_one_turn = [ m for m in trans_map ]\n",
      "map_ = trans_one_turn + [rfq_t]\n",
      "\n",
      "x_i, xp_i, y_i, yp_i = track_n_save(bunch, map_)\n",
      "analyse_n_plot(bunch, x_i, xp_i, y_i, yp_i)"
     ],
     "language": "python",
     "metadata": {},
     "outputs": [
      {
       "output_type": "stream",
       "stream": "stdout",
       "text": [
        "0.062066888747\n",
        "0"
       ]
      },
      {
       "output_type": "stream",
       "stream": "stdout",
       "text": [
        "\n",
        "100"
       ]
      },
      {
       "output_type": "stream",
       "stream": "stdout",
       "text": [
        "\n",
        "200"
       ]
      },
      {
       "output_type": "stream",
       "stream": "stdout",
       "text": [
        "\n",
        "300"
       ]
      },
      {
       "output_type": "stream",
       "stream": "stdout",
       "text": [
        "\n",
        "400"
       ]
      },
      {
       "output_type": "stream",
       "stream": "stdout",
       "text": [
        "\n"
       ]
      }
     ],
     "prompt_number": 10
    },
    {
     "cell_type": "code",
     "collapsed": false,
     "input": [
      "# CASE III\n",
      "# With RFQ longitudinal Kick.\n",
      "bunch = generate_bunch(\n",
      "    n_macroparticles, alpha_x_inj, alpha_y_inj, beta_x_inj, beta_y_inj,\n",
      "    alpha_0, Q_s, R)\n",
      "\n",
      "rfq_long = RFQLongitudinalKick(v_2=2e9, omega=800e6*2.*np.pi, phi_0=0.)\n",
      "trans_map = TransverseMap(\n",
      "    C, s, alpha_x, beta_x, D_x, alpha_y, beta_y, D_y, Q_x, Q_y)\n",
      "\n",
      "trans_one_turn = [ m for m in trans_map ]\n",
      "map_ = trans_one_turn + [rfq_long]\n",
      "\n",
      "x_i, xp_i, y_i, yp_i = track_n_save(bunch, map_)\n",
      "analyse_n_plot(bunch, x_i, xp_i, y_i, yp_i)"
     ],
     "language": "python",
     "metadata": {},
     "outputs": [
      {
       "output_type": "stream",
       "stream": "stdout",
       "text": [
        "0.0622043765432\n",
        "0"
       ]
      },
      {
       "output_type": "stream",
       "stream": "stdout",
       "text": [
        "\n",
        "100"
       ]
      },
      {
       "output_type": "stream",
       "stream": "stdout",
       "text": [
        "\n",
        "200"
       ]
      },
      {
       "output_type": "stream",
       "stream": "stdout",
       "text": [
        "\n",
        "300"
       ]
      },
      {
       "output_type": "stream",
       "stream": "stdout",
       "text": [
        "\n",
        "400"
       ]
      },
      {
       "output_type": "stream",
       "stream": "stdout",
       "text": [
        "\n"
       ]
      }
     ],
     "prompt_number": 11
    },
    {
     "cell_type": "code",
     "collapsed": false,
     "input": [
      "# CASE IV\n",
      "# With RFQ transverse as Detuner. With more than 1 thread.\n",
      "bunch = generate_bunch(\n",
      "    n_macroparticles, alpha_x_inj, alpha_y_inj, beta_x_inj, beta_y_inj,\n",
      "    alpha_0, Q_s, R)\n",
      "\n",
      "rfq_t = RFQTransverseDetuner(v_2=2e9, omega=800e6*2.*np.pi, phi_0=0.,\n",
      "                             beta_x_RFQ=200., beta_y_RFQ=100., n_threads=8)\n",
      "trans_map = TransverseMap(\n",
      "    C, s, alpha_x, beta_x, D_x, alpha_y, beta_y, D_y, Q_x, Q_y, rfq_t)\n",
      "\n",
      "trans_one_turn = [ m for m in trans_map ]\n",
      "map_ = trans_one_turn\n",
      "\n",
      "x_i, xp_i, y_i, yp_i = track_n_save(bunch, map_)\n",
      "analyse_n_plot(bunch, x_i, xp_i, y_i, yp_i)"
     ],
     "language": "python",
     "metadata": {},
     "outputs": [
      {
       "output_type": "stream",
       "stream": "stdout",
       "text": [
        "0.0602504450516\n",
        "0"
       ]
      },
      {
       "output_type": "stream",
       "stream": "stdout",
       "text": [
        "\n",
        "100"
       ]
      },
      {
       "output_type": "stream",
       "stream": "stdout",
       "text": [
        "\n",
        "200"
       ]
      },
      {
       "output_type": "stream",
       "stream": "stdout",
       "text": [
        "\n",
        "300"
       ]
      },
      {
       "output_type": "stream",
       "stream": "stdout",
       "text": [
        "\n",
        "400"
       ]
      },
      {
       "output_type": "stream",
       "stream": "stdout",
       "text": [
        "\n"
       ]
      }
     ],
     "prompt_number": 6
    },
    {
     "cell_type": "code",
     "collapsed": false,
     "input": [
      "# HELPERS\n",
      "def calc_sussix_spec(x, xp, y, yp, p_idx, turn, window_width, q_x, q_y, n_lines=10):\n",
      "\n",
      "    # Initialise Sussix object\n",
      "    SX = PySussix.Sussix()\n",
      "    SX.sussix_inp(nt1=1, nt2=window_width, idam=2, ir=0, tunex=q_x, tuney=q_y)\n",
      "\n",
      "    tunes_x = np.empty(n_lines)\n",
      "    tunes_y = np.empty(n_lines)\n",
      "\n",
      "    SX.sussix(x[p_idx,turn:turn+window_width], xp[p_idx,turn:turn+window_width],\n",
      "              y[p_idx,turn:turn+window_width], yp[p_idx,turn:turn+window_width],\n",
      "              x[p_idx,turn:turn+window_width], xp[p_idx,turn:turn+window_width]) # this line is not used by sussix!\n",
      "\n",
      "    return SX.ox[:n_lines], SX.oy[:n_lines]\n",
      "\n",
      "def track_n_save(bunch, map_):\n",
      "    n_particles = bunch.n_macroparticles\n",
      "    x_i = np.empty((n_particles, n_turns))\n",
      "    xp_i = np.empty((n_particles, n_turns))\n",
      "    y_i = np.empty((n_particles, n_turns))\n",
      "    yp_i = np.empty((n_particles, n_turns))\n",
      "\n",
      "    for i in xrange(n_turns):\n",
      "        x_i[:,i] = bunch.x[:]\n",
      "        xp_i[:,i] = bunch.xp[:]\n",
      "        y_i[:,i] = bunch.y[:]\n",
      "        yp_i[:,i] = bunch.yp[:]\n",
      "   \n",
      "        for m_ in map_:\n",
      "            m_.track(bunch)\n",
      "\n",
      "    return x_i, xp_i, y_i, yp_i\n",
      "\n",
      "def generate_bunch(n_macroparticles, alpha_x, alpha_y, beta_x, beta_y, alpha_0, Q_s, R):\n",
      "    intensity = 1.05e11\n",
      "    sigma_z = 0.059958\n",
      "    gamma = 3730.26\n",
      "    eta = alpha_0 - 1. / gamma**2\n",
      "    gamma_t = 1. / np.sqrt(alpha_0)\n",
      "    p0 = np.sqrt(gamma**2 - 1) * m_p * c\n",
      "\n",
      "    beta_z = eta * R / Q_s\n",
      "\n",
      "    epsn_x = 3.75e-6 # [m rad]\n",
      "    epsn_y = 3.75e-6 # [m rad]\n",
      "    epsn_z = sigma_z**2 * p0 / (beta_z * e) # WITH OR WITHOUT 4 PI???\n",
      "    \n",
      "    bunch = Particles.as_gaussian_linear(\n",
      "        macroparticlenumber=n_macroparticles, intensity=intensity, charge=e,\n",
      "        gamma_reference=gamma, mass=m_p, circumference=C,\n",
      "        alpha_x=alpha_x, beta_x=beta_x, epsn_x=epsn_x,\n",
      "        alpha_y=alpha_y, beta_y=beta_y, epsn_y=epsn_y,\n",
      "        beta_z=beta_z, epsn_z=epsn_z)\n",
      "    print bunch.sigma_z()\n",
      "    \n",
      "    return bunch\n",
      "\n",
      "def analyse_n_plot(bunch, x_i, xp_i, y_i, yp_i):\n",
      "    ox = np.empty(bunch.n_macroparticles)\n",
      "    oy = np.empty(bunch.n_macroparticles)\n",
      "    for p_idx in range(bunch.n_macroparticles):\n",
      "        ox[p_idx], oy[p_idx] = calc_sussix_spec(x_i, xp_i, y_i, yp_i, p_idx,\n",
      "                                   turn=0, window_width=512, q_x=Q_x%1, q_y=Q_y%1, n_lines=1)\n",
      "        if p_idx%100 == 0:\n",
      "            print p_idx\n",
      "\n",
      "    fig = plt.figure(figsize=(20,20))\n",
      "    ax1 = fig.add_subplot(311)\n",
      "    ax2 = fig.add_subplot(312)\n",
      "    ax3 = fig.add_subplot(313)\n",
      "\n",
      "    ax1.scatter(ox, oy)\n",
      "    ax2.hist(ox, bins=50, color='blue')\n",
      "    ax3.hist(oy, bins=50, color='red')\n",
      "    plt.show()"
     ],
     "language": "python",
     "metadata": {},
     "outputs": [],
     "prompt_number": 2
    },
    {
     "cell_type": "code",
     "collapsed": false,
     "input": [],
     "language": "python",
     "metadata": {},
     "outputs": []
    }
   ],
   "metadata": {}
  }
 ]
}