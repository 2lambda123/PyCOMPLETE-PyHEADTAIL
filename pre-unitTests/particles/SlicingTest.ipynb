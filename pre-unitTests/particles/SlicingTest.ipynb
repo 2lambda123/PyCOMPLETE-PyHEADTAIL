{
 "metadata": {
  "name": "",
  "signature": "sha256:7874c101384e50b52bc44e7d800051f0e5bb07b5e5683ad8a613e0820a62659b"
 },
 "nbformat": 3,
 "nbformat_minor": 0,
 "worksheets": [
  {
   "cells": [
    {
     "cell_type": "code",
     "collapsed": false,
     "input": [
      "import numpy as np\n",
      "from scipy.constants import m_p, c, e\n",
      "import matplotlib.pyplot as plt\n",
      "\n",
      "from PyHEADTAIL.particles.particles import Particles\n",
      "from PyHEADTAIL.particles.slicing import UniformBinSlicer, UniformChargeSlicer, ModeIsNotUniformBin, ModeIsUniformCharge"
     ],
     "language": "python",
     "metadata": {},
     "outputs": [],
     "prompt_number": 1
    },
    {
     "cell_type": "code",
     "collapsed": false,
     "input": [
      "# Basic parameters.\n",
      "n_macroparticles = 500\n",
      "\n",
      "Q_x = 64.28\n",
      "Q_y = 59.31\n",
      "Q_s = 0.0020443\n",
      "\n",
      "C = 26658.883\n",
      "R = C / (2.*np.pi)\n",
      "\n",
      "alpha_x_inj = 0.\n",
      "alpha_y_inj = 0.\n",
      "beta_x_inj = 66.0064\n",
      "beta_y_inj = 71.5376\n",
      "alpha_0 = 0.0003225"
     ],
     "language": "python",
     "metadata": {},
     "outputs": [],
     "prompt_number": 2
    },
    {
     "cell_type": "code",
     "collapsed": false,
     "input": [],
     "language": "python",
     "metadata": {},
     "outputs": [],
     "prompt_number": 3
    },
    {
     "cell_type": "code",
     "collapsed": false,
     "input": [
      "# Call all the properties / attributes of the SliceSet and Slicer.\n",
      "# Note that most of them are also called and actually checked for\n",
      "# their values in the visual checks below.\n",
      "# particle_indices_of_slice and slice_index_of_particle are checked\n",
      "# by the method test_particle_indices_of_slice(bunch, slice_set).\n",
      "# Stats are checked by method slice_set_statistics(bunch, slice_set)."
     ],
     "language": "python",
     "metadata": {},
     "outputs": [],
     "prompt_number": 24
    },
    {
     "cell_type": "code",
     "collapsed": false,
     "input": [
      "# Uniform bin slicer\n",
      "n_slices = 10\n",
      "n_sigma_z = 2\n",
      "uniform_bin_slicer = UniformBinSlicer(n_slices, n_sigma_z)\n",
      "\n",
      "bunch = generate_bunch(\n",
      "    n_macroparticles, alpha_x_inj, alpha_y_inj, beta_x_inj, beta_y_inj,\n",
      "    alpha_0, Q_s, R)\n",
      "\n",
      "# Request slice_set from bunch with the uniform_bin_slicer config.\n",
      "print 'bunch._slice_sets', bunch._slice_sets\n",
      "uniform_bin_slice_set = bunch.get_slices(uniform_bin_slicer)\n",
      "print 'bunch._slice_sets', bunch._slice_sets\n",
      "\n",
      "print '\\n UNIFORM BIN SLICE SET, NSIGMAZ=2, 10 SLICES \\n'\n",
      "print 'slicer.config', uniform_bin_slicer.config\n",
      "call_slice_set_attributes(bunch, uniform_bin_slice_set)\n",
      "#call_slicer_attributes(uniform_bin_slice_set)\n",
      "\n",
      "# Let bunch remove the slice_set.\n",
      "bunch.clean_slices()\n",
      "print 'bunch._slice_sets', bunch._slice_sets"
     ],
     "language": "python",
     "metadata": {},
     "outputs": [
      {
       "output_type": "stream",
       "stream": "stdout",
       "text": [
        "0.0575732196233\n",
        "bunch._slice_sets {}\n",
        "bunch._slice_sets {<PyHEADTAIL.particles.slicing.UniformBinSlicer object at 0xb3b7dcc>: <PyHEADTAIL.particles.slicing.SliceSet object at 0xb3b750c>}\n",
        "\n",
        " UNIFORM BIN SLICE SET, NSIGMAZ=2, 10 SLICES \n",
        "\n",
        "slicer.config ('uniform_bin', 10, 2, None)\n",
        "z_cut_head 0.112429494769\n",
        "z_cut_tail -0.117863383724\n",
        "z_centers [-0.10634874 -0.08331945 -0.06029016 -0.03726088 -0.01423159  0.0087977\n",
        "  0.03182699  0.05485628  0.07788556  0.10091485]\n",
        "n_slices 10\n",
        "slice_widths [ 0.02302929  0.02302929  0.02302929  0.02302929  0.02302929  0.02302929\n",
        "  0.02302929  0.02302929  0.02302929  0.02302929]\n",
        "slice_positions [  0  17  45  93 170 236 316 377 430 460 481]\n",
        "n_macroparticles_per_slice [17 28 48 77 66 80 61 53 30 21]\n",
        "particles_within_cuts [  0   1   2   3   4   5   6   7   8   9  10  11  12  13  15  16  17  18\n",
        "  19  20  21  22  23  24  25  26  27  28  29  30  31  32  33  34  35  36\n",
        "  37  38  39  40  41  42  43  44  45  46  47  48  49  51  53  54  55  56\n",
        "  57  58  59  60  61  62  63  65  66  67  68  69  70  71  72  73  74  75\n",
        "  76  77  78  79  81  82  83  85  86  87  88  89  90  91  92  93  94  95\n",
        "  96  98  99 100 101 102 103 104 105 106 107 108 109 110 111 112 113 114\n",
        " 115 116 117 118 119 121 122 123 124 125 126 127 128 129 130 131 132 133\n",
        " 134 136 137 138 139 140 141 142 143 144 145 146 147 148 149 150 151 152\n",
        " 153 154 156 157 158 159 160 161 162 163 164 165 166 167 168 169 170 172\n",
        " 173 174 175 176 177 178 179 180 181 183 184 185 186 187 188 189 190 191\n",
        " 192 193 194 195 196 197 198 199 200 201 202 203 204 205 206 207 208 209\n",
        " 210 211 212 213 214 215 216 217 219 220 221 222 223 224 225 226 227 228\n",
        " 229 230 231 232 233 234 235 236 237 238 239 240 241 242 243 244 245 246\n",
        " 247 248 249 250 251 252 253 254 255 256 257 258 259 260 261 262 264 265\n",
        " 266 267 268 269 270 271 272 273 274 275 276 277 278 279 280 281 282 283\n",
        " 284 285 286 287 288 289 290 291 292 293 295 296 297 298 299 302 303 304\n",
        " 305 306 307 308 309 310 311 312 313 314 315 316 317 318 319 320 321 322\n",
        " 323 324 325 326 327 328 329 330 331 332 333 334 335 336 337 338 339 340\n",
        " 341 342 343 344 345 346 347 348 349 350 351 352 353 354 355 356 357 358\n",
        " 359 360 361 362 363 364 365 366 367 368 369 370 371 372 373 374 375 376\n",
        " 377 378 379 380 381 382 383 384 385 386 387 388 389 390 392 393 394 395\n",
        " 396 397 398 399 400 401 402 403 404 405 406 407 408 409 410 411 412 413\n",
        " 414 415 416 417 418 419 420 421 422 423 424 425 426 427 428 429 430 431\n",
        " 432 433 434 435 436 437 438 439 440 441 442 443 444 445 446 447 448 449\n",
        " 450 451 452 453 454 455 456 457 458 459 460 461 462 463 464 465 466 467\n",
        " 469 470 471 472 473 474 475 476 477 478 479 480 481 482 483 484 485 486\n",
        " 487 488 489 490 491 492 493 494 495 496 497 498 499]\n",
        "particle_indices_by_slice [  2   3  88 153 163 172 183 196 314 326 351 369 372 422 439 454 471  41\n",
        "  45  53  66  71  78 100 102 127 212 233 234 256 297 322 329 336 360 364\n",
        " 397 401 408 438 441 449 457 459 491  11  16  24  36  38  76  92 105 112\n",
        " 115 131 145 149 159 186 187 195 202 216 217 227 229 246 259 264 266 269\n",
        " 287 291 298 304 317 318 321 355 365 393 402 404 411 412 430 440 456 476\n",
        " 478 481 489  19  27  34  42  47  58  68  74  79  86  94 108 113 116 117\n",
        " 121 136 137 144 146 147 148 151 160 162 168 170 176 181 189 190 200 213\n",
        " 214 225 231 237 243 245 252 253 255 261 268 270 272 286 302 308 312 315\n",
        " 320 324 328 331 332 340 346 354 368 377 384 386 400 407 409 413 423 429\n",
        " 433 458 465 467 470 472 474 480   4   6  29  56  57  59  65  99 101 107\n",
        " 123 124 130 138 143 152 165 167 169 188 192 198 199 204 208 211 220 221\n",
        " 240 249 251 254 265 275 277 283 289 296 313 325 363 366 370 378 381 382\n",
        " 388 389 394 405 414 417 418 419 424 426 443 446 452 453 466 479 483 484\n",
        " 496 498   7  10  23  26  28  33  44  48  51  54  72  73  77  81  82  85\n",
        "  89  91  93 104 109 114 119 125 126 128 142 166 174 175 185 191 193 201\n",
        " 207 210 226 228 236 242 248 267 280 295 305 306 316 341 350 352 356 362\n",
        " 367 373 374 390 392 395 406 416 420 421 428 431 434 436 442 445 451 455\n",
        " 460 461 473 482 485 486 490 493 495 499   1   5  12  15  17  31  35  55\n",
        "  69  87  96 106 118 132 139 140 154 157 158 161 164 178 184 194 205 223\n",
        " 232 241 250 257 260 273 274 281 285 293 303 311 323 335 337 339 343 358\n",
        " 359 376 379 380 403 410 425 432 435 447 448 462 463 475 477 487 497   0\n",
        "   8  13  20  25  37  43  46  61  63  70  75 103 110 111 173 180 197 203\n",
        " 209 219 222 230 235 239 244 247 279 288 290 292 299 307 309 319 327 344\n",
        " 347 348 357 371 375 383 387 396 398 415 450 464 469 488 492 494  21  22\n",
        "  40  49  62  67  83  95 122 129 133 134 141 150 156 206 258 262 276 330\n",
        " 333 338 342 345 349 353 361 385 427 437   9  18  30  32  39  60  90  98\n",
        " 177 179 215 224 238 271 278 282 284 310 334 399 444]\n",
        "  Particle_indices_of_slice <-> slice_index_of_particle PASSED\n",
        "line_density_derivative_gauss [ 130.26890018  607.92153416  738.19043434  434.22966726   86.84593345\n",
        " -173.6918669  -477.65263398 -607.92153416 -564.49856744 -260.53780035]\n",
        "line_density_derivative [  477.65263398   673.05598425  1063.86268478   390.80670053    65.13445009\n",
        "  -108.55741681  -586.2100508   -673.05598425  -694.76746761  -390.80670053]\n",
        "bunch._slice_sets {}\n"
       ]
      }
     ],
     "prompt_number": 4
    },
    {
     "cell_type": "code",
     "collapsed": false,
     "input": [
      "# Uniform charge slicer\n",
      "n_slices = 10\n",
      "n_sigma_z = 2\n",
      "\n",
      "uniform_charge_slicer = UniformChargeSlicer(n_slices, n_sigma_z)\n",
      "uniform_charge_slice_set = bunch.get_slices(uniform_charge_slicer)\n",
      "\n",
      "bunch = generate_bunch(\n",
      "    n_macroparticles, alpha_x_inj, alpha_y_inj, beta_x_inj, beta_y_inj,\n",
      "    alpha_0, Q_s, R)\n",
      "\n",
      "print uniform_charge_slice_set.mode\n",
      "\n",
      "print '\\n UNIFORM CHARGE SLICE SET, NSIGMAZ=2, 10 SLICES \\n'\n",
      "print 'slicer.config', uniform_charge_slicer.config\n",
      "call_slice_set_attributes(bunch, uniform_charge_slice_set)\n"
     ],
     "language": "python",
     "metadata": {},
     "outputs": [
      {
       "output_type": "stream",
       "stream": "stdout",
       "text": [
        "0.0598598073823\n",
        "uniform_charge\n",
        "\n",
        " UNIFORM CHARGE SLICE SET, NSIGMAZ=2, 10 SLICES \n",
        "\n",
        "slicer.config ('uniform_charge', 10, 2, None)\n",
        "z_cut_head 0.112429494769\n",
        "z_cut_tail -0.117863383724\n",
        "z_centers [-0.09445926 -0.05923434 -0.03988449 -0.02613759 -0.01083228  0.00528909\n",
        "  0.02057399  0.03677042  0.0568385   0.09069533]\n",
        "n_slices 10\n",
        "slice_widths [ 0.04680824  0.0236416   0.0150581   0.0124357   0.01817492  0.0140678\n",
        "  0.016502    0.01589086  0.02424531  0.04346834]\n",
        "slice_positions [  0  48  96 145 193 241 289 337 385 433 481]\n",
        "n_macroparticles_per_slice [48 48 49 48 48 48 48 48 48 48]\n",
        "particles_within_cuts [  0   1   2   3   4   5   6   7   8   9  10  11  12  13  15  16  17  18\n",
        "  19  20  21  22  23  24  25  26  27  28  29  30  31  32  33  34  35  36\n",
        "  37  38  39  40  41  42  43  44  45  46  47  48  49  51  53  54  55  56\n",
        "  57  58  59  60  61  62  63  65  66  67  68  69  70  71  72  73  74  75\n",
        "  76  77  78  79  81  82  83  85  86  87  88  89  90  91  92  93  94  95\n",
        "  96  98  99 100 101 102 103 104 105 106 107 108 109 110 111 112 113 114\n",
        " 115 116 117 118 119 121 122 123 124 125 126 127 128 129 130 131 132 133\n",
        " 134 136 137 138 139 140 141 142 143 144 145 146 147 148 149 150 151 152\n",
        " 153 154 156 157 158 159 160 161 162 163 164 165 166 167 168 169 170 172\n",
        " 173 174 175 176 177 178 179 180 181 183 184 185 186 187 188 189 190 191\n",
        " 192 193 194 195 196 197 198 199 200 201 202 203 204 205 206 207 208 209\n",
        " 210 211 212 213 214 215 216 217 219 220 221 222 223 224 225 226 227 228\n",
        " 229 230 231 232 233 234 235 236 237 238 239 240 241 242 243 244 245 246\n",
        " 247 248 249 250 251 252 253 254 255 256 257 258 259 260 261 262 264 265\n",
        " 266 267 268 269 270 271 272 273 274 275 276 277 278 279 280 281 282 283\n",
        " 284 285 286 287 288 289 290 291 292 293 295 296 297 298 299 302 303 304\n",
        " 305 306 307 308 309 310 311 312 313 314 315 316 317 318 319 320 321 322\n",
        " 323 324 325 326 327 328 329 330 331 332 333 334 335 336 337 338 339 340\n",
        " 341 342 343 344 345 346 347 348 349 350 351 352 353 354 355 356 357 358\n",
        " 359 360 361 362 363 364 365 366 367 368 369 370 371 372 373 374 375 376\n",
        " 377 378 379 380 381 382 383 384 385 386 387 388 389 390 392 393 394 395\n",
        " 396 397 398 399 400 401 402 403 404 405 406 407 408 409 410 411 412 413\n",
        " 414 415 416 417 418 419 420 421 422 423 424 425 426 427 428 429 430 431\n",
        " 432 433 434 435 436 437 438 439 440 441 442 443 444 445 446 447 448 449\n",
        " 450 451 452 453 454 455 456 457 458 459 460 461 462 463 464 465 466 467\n",
        " 469 470 471 472 473 474 475 476 477 478 479 480 481 482 483 484 485 486\n",
        " 487 488 489 490 491 492 493 494 495 496 497 498 499]\n",
        "particle_indices_by_slice [  2   3  41  45  53  66  71  78  88 100 102 127 153 163 172 183 195 196\n",
        " 212 233 234 256 259 297 314 322 326 329 336 351 355 360 364 369 372 397\n",
        " 401 408 422 438 439 441 449 454 457 459 471 491  11  16  24  36  38  76\n",
        "  92 105 108 112 115 116 131 145 149 159 186 187 202 216 217 227 229 246\n",
        " 264 266 269 287 291 298 304 317 318 321 365 393 402 404 411 412 430 440\n",
        " 456 458 476 478 481 489  42  58  74  94 113 117 121 136 137 144 148 160\n",
        " 168 170 181 189 213 225 231 237 243 245 252 253 261 268 270 272 286 308\n",
        " 312 315 332 346 354 368 377 384 400 407 409 413 423 429 433 465 467 470\n",
        " 480   4  19  27  34  47  59  68  79  86  99 101 107 123 146 147 151 162\n",
        " 169 176 190 198 200 208 211 214 220 240 249 254 255 289 302 320 324 328\n",
        " 331 340 363 370 381 386 388 414 424 443 472 474 479   6  29  56  57  65\n",
        "  81 124 130 138 143 152 165 167 188 192 199 204 221 236 251 265 275 277\n",
        " 283 296 306 313 325 366 378 382 389 394 405 416 417 418 419 426 434 446\n",
        " 452 453 466 483 484 496 498   7  10  23  26  33  51  73  82  89  93 109\n",
        " 114 119 125 126 128 166 174 175 191 193 201 207 242 248 280 295 316 341\n",
        " 350 352 356 362 373 374 390 392 395 406 420 421 428 436 445 451 473 485\n",
        " 493  28  35  44  48  54  72  77  85  87  91 104 132 142 154 157 185 194\n",
        " 205 210 226 228 250 257 260 267 273 274 285 305 343 367 379 380 410 431\n",
        " 432 442 447 455 460 461 462 475 482 486 490 495 499   1   5  12  15  17\n",
        "  25  31  55  69  75  96 106 118 139 140 158 161 164 178 184 203 223 232\n",
        " 241 281 293 303 307 311 319 323 335 337 339 348 358 359 376 403 415 425\n",
        " 435 448 463 477 487 492 497   0   8  13  20  21  37  43  46  61  63  70\n",
        " 103 110 111 122 173 180 197 209 219 222 230 235 239 244 247 279 288 290\n",
        " 292 299 309 327 344 347 357 371 375 383 387 396 398 437 450 464 469 488\n",
        " 494   9  18  22  30  32  39  40  49  60  62  67  83  90  95  98 129 133\n",
        " 134 141 150 156 177 179 206 215 224 238 258 262 271 276 278 282 284 310\n",
        " 330 333 334 338 342 345 349 353 361 385 399 427 444]\n",
        "  Particle_indices_of_slice <-> slice_index_of_particle PASSED\n",
        "line_density_derivative_gauss"
       ]
      },
      {
       "ename": "ModeIsNotUniformBin",
       "evalue": "This SliceSet has self.mode not set to 'uniform_bin'!",
       "output_type": "pyerr",
       "traceback": [
        "\u001b[1;31m---------------------------------------------------------------------------\u001b[0m\n\u001b[1;31mModeIsNotUniformBin\u001b[0m                       Traceback (most recent call last)",
        "\u001b[1;32m<ipython-input-5-aa23cd31712a>\u001b[0m in \u001b[0;36m<module>\u001b[1;34m()\u001b[0m\n\u001b[0;32m     14\u001b[0m \u001b[1;32mprint\u001b[0m \u001b[1;34m'\\n UNIFORM CHARGE SLICE SET, NSIGMAZ=2, 10 SLICES \\n'\u001b[0m\u001b[1;33m\u001b[0m\u001b[0m\n\u001b[0;32m     15\u001b[0m \u001b[1;32mprint\u001b[0m \u001b[1;34m'slicer.config'\u001b[0m\u001b[1;33m,\u001b[0m \u001b[0muniform_charge_slicer\u001b[0m\u001b[1;33m.\u001b[0m\u001b[0mconfig\u001b[0m\u001b[1;33m\u001b[0m\u001b[0m\n\u001b[1;32m---> 16\u001b[1;33m \u001b[0mcall_slice_set_attributes\u001b[0m\u001b[1;33m(\u001b[0m\u001b[0mbunch\u001b[0m\u001b[1;33m,\u001b[0m \u001b[0muniform_charge_slice_set\u001b[0m\u001b[1;33m)\u001b[0m\u001b[1;33m\u001b[0m\u001b[0m\n\u001b[0m",
        "\u001b[1;32m<ipython-input-3-8a92f0f8d4b4>\u001b[0m in \u001b[0;36mcall_slice_set_attributes\u001b[1;34m(bunch, slice_set)\u001b[0m\n\u001b[0;32m    161\u001b[0m     \u001b[0mslice_set_statistics\u001b[0m\u001b[1;33m(\u001b[0m\u001b[0mbunch\u001b[0m\u001b[1;33m,\u001b[0m \u001b[0mslice_set\u001b[0m\u001b[1;33m)\u001b[0m\u001b[1;33m\u001b[0m\u001b[0m\n\u001b[0;32m    162\u001b[0m \u001b[1;33m\u001b[0m\u001b[0m\n\u001b[1;32m--> 163\u001b[1;33m     \u001b[1;32mprint\u001b[0m \u001b[1;34m'line_density_derivative_gauss'\u001b[0m\u001b[1;33m,\u001b[0m \u001b[0mslice_set\u001b[0m\u001b[1;33m.\u001b[0m\u001b[0mline_density_derivative_gauss\u001b[0m\u001b[1;33m(\u001b[0m\u001b[1;33m)\u001b[0m\u001b[1;33m\u001b[0m\u001b[0m\n\u001b[0m\u001b[0;32m    164\u001b[0m     \u001b[1;32mprint\u001b[0m \u001b[1;34m'line_density_derivative'\u001b[0m\u001b[1;33m,\u001b[0m \u001b[0mslice_set\u001b[0m\u001b[1;33m.\u001b[0m\u001b[0mline_density_derivative\u001b[0m\u001b[1;33m(\u001b[0m\u001b[1;33m)\u001b[0m\u001b[1;33m\u001b[0m\u001b[0m\n\u001b[0;32m    165\u001b[0m \u001b[1;33m\u001b[0m\u001b[0m\n",
        "\u001b[1;32m/home/michael/TECH/PyHEADTAIL/particles/slicing.pyc\u001b[0m in \u001b[0;36mline_density_derivative_gauss\u001b[1;34m(self)\u001b[0m\n\u001b[0;32m    146\u001b[0m         '''\n\u001b[0;32m    147\u001b[0m         \u001b[1;32mif\u001b[0m \u001b[0mself\u001b[0m\u001b[1;33m.\u001b[0m\u001b[0mmode\u001b[0m \u001b[1;32mis\u001b[0m \u001b[1;32mnot\u001b[0m \u001b[1;34m'uniform_bin'\u001b[0m\u001b[1;33m:\u001b[0m\u001b[1;33m\u001b[0m\u001b[0m\n\u001b[1;32m--> 148\u001b[1;33m             \u001b[1;32mraise\u001b[0m \u001b[0mModeIsNotUniformBin\u001b[0m\u001b[1;33m(\u001b[0m\u001b[1;33m)\u001b[0m\u001b[1;33m\u001b[0m\u001b[0m\n\u001b[0m\u001b[0;32m    149\u001b[0m         derivative = (ndimage.gaussian_filter1d(\n\u001b[0;32m    150\u001b[0m                 self.n_macroparticles_per_slice, sigma=1, order=1, mode='wrap')\n",
        "\u001b[1;31mModeIsNotUniformBin\u001b[0m: This SliceSet has self.mode not set to 'uniform_bin'!"
       ]
      }
     ],
     "prompt_number": 5
    },
    {
     "cell_type": "code",
     "collapsed": false,
     "input": [
      "# Other cases. When are slicers equal?\n",
      "n_slices = 10\n",
      "n_sigma_z = 2\n",
      "uniform_bin_slicer = UniformBinSlicer(n_slices, n_sigma_z)\n",
      "uniform_charge_slicer = UniformChargeSlicer(n_slices, n_sigma_z)\n",
      "\n",
      "uniform_charge_slicer == uniform_bin_slicer"
     ],
     "language": "python",
     "metadata": {},
     "outputs": [
      {
       "metadata": {},
       "output_type": "pyout",
       "prompt_number": 37,
       "text": [
        "False"
       ]
      }
     ],
     "prompt_number": 37
    },
    {
     "cell_type": "code",
     "collapsed": false,
     "input": [
      "# Other cases. When are slicers equal?\n",
      "n_slices = 10\n",
      "n_sigma_z = 2\n",
      "uniform_bin_slicer = UniformBinSlicer(n_slices, n_sigma_z)\n",
      "uniform_bin_slicer_2 = UniformBinSlicer(n_slices, n_sigma_z)\n",
      "\n",
      "uniform_bin_slicer_2 == uniform_bin_slicer"
     ],
     "language": "python",
     "metadata": {},
     "outputs": [
      {
       "metadata": {},
       "output_type": "pyout",
       "prompt_number": 38,
       "text": [
        "True"
       ]
      }
     ],
     "prompt_number": 38
    },
    {
     "cell_type": "code",
     "collapsed": false,
     "input": [
      "# Does bunch slice_set management work?\n",
      "n_slices = 10\n",
      "n_sigma_z = 2\n",
      "\n",
      "bunch = generate_bunch(\n",
      "    n_macroparticles, alpha_x_inj, alpha_y_inj, beta_x_inj, beta_y_inj,\n",
      "    alpha_0, Q_s, R)\n",
      "\n",
      "uniform_charge_slicer = UniformChargeSlicer(n_slices, n_sigma_z)\n",
      "uniform_bin_slicer = UniformBinSlicer(n_slices, n_sigma_z)\n",
      "\n",
      "print bunch._slice_sets\n",
      "uniform_charge_slice_set = bunch.get_slices(uniform_charge_slicer)\n",
      "print bunch._slice_sets\n",
      "uniform_bin_slice_set = bunch.get_slices(uniform_bin_slicer)\n",
      "uniform_charge_slice_set = bunch.get_slices(uniform_charge_slicer)\n",
      "print bunch._slice_sets\n",
      "\n",
      "bunch.clean_slices()\n",
      "print bunch._slice_sets"
     ],
     "language": "python",
     "metadata": {},
     "outputs": [
      {
       "output_type": "stream",
       "stream": "stdout",
       "text": [
        "0.0595336895638\n",
        "{}\n",
        "{<PyHEADTAIL.particles.slicing.UniformChargeSlicer object at 0xbb3ba0c>: <PyHEADTAIL.particles.slicing.SliceSet object at 0xbb3b06c>}\n",
        "{<PyHEADTAIL.particles.slicing.UniformChargeSlicer object at 0xbb3ba0c>: <PyHEADTAIL.particles.slicing.SliceSet object at 0xbb3b06c>, <PyHEADTAIL.particles.slicing.UniformBinSlicer object at 0xbb3be6c>: <PyHEADTAIL.particles.slicing.SliceSet object at 0xbb3b66c>}\n",
        "{}\n"
       ]
      }
     ],
     "prompt_number": 43
    },
    {
     "cell_type": "code",
     "collapsed": false,
     "input": [
      "# Old method update_slices should give RuntimeError.\n",
      "n_slices = 10\n",
      "n_sigma_z = 2\n",
      "\n",
      "bunch = generate_bunch(\n",
      "    n_macroparticles, alpha_x_inj, alpha_y_inj, beta_x_inj, beta_y_inj,\n",
      "    alpha_0, Q_s, R)\n",
      "\n",
      "uniform_charge_slicer = UniformChargeSlicer(n_slices, n_sigma_z)\n",
      "uniform_charge_slicer.update_slices(bunch)"
     ],
     "language": "python",
     "metadata": {},
     "outputs": [
      {
       "output_type": "stream",
       "stream": "stdout",
       "text": [
        "0.0565168954393\n"
       ]
      },
      {
       "ename": "RuntimeError",
       "evalue": "update_slices(beam) no longer exists. Instead, remove all previously recorded SliceSetobjects in the beam via beam.clean_slices() when the longitudinal state of the beam is changed. Concretely: replace slices.update_slices(beam) by beam.clean_slices().The SliceSet objects should be retrieved via beam.get_slices(Slicer) *only*. In this way the beam can memorize previously created slice snapshots. This minimises computation time.",
       "output_type": "pyerr",
       "traceback": [
        "\u001b[1;31m---------------------------------------------------------------------------\u001b[0m\n\u001b[1;31mRuntimeError\u001b[0m                              Traceback (most recent call last)",
        "\u001b[1;32m<ipython-input-44-98b4db9278ee>\u001b[0m in \u001b[0;36m<module>\u001b[1;34m()\u001b[0m\n\u001b[0;32m      8\u001b[0m \u001b[1;33m\u001b[0m\u001b[0m\n\u001b[0;32m      9\u001b[0m \u001b[0muniform_charge_slicer\u001b[0m \u001b[1;33m=\u001b[0m \u001b[0mUniformChargeSlicer\u001b[0m\u001b[1;33m(\u001b[0m\u001b[0mn_slices\u001b[0m\u001b[1;33m,\u001b[0m \u001b[0mn_sigma_z\u001b[0m\u001b[1;33m)\u001b[0m\u001b[1;33m\u001b[0m\u001b[0m\n\u001b[1;32m---> 10\u001b[1;33m \u001b[0muniform_charge_slicer\u001b[0m\u001b[1;33m.\u001b[0m\u001b[0mupdate_slices\u001b[0m\u001b[1;33m(\u001b[0m\u001b[0mbunch\u001b[0m\u001b[1;33m)\u001b[0m\u001b[1;33m\u001b[0m\u001b[0m\n\u001b[0m",
        "\u001b[1;32m/home/michael/TECH/PyHEADTAIL/particles/slicing.py\u001b[0m in \u001b[0;36mupdate_slices\u001b[1;34m(self, beam)\u001b[0m\n\u001b[0;32m    299\u001b[0m                            \u001b[1;34m'In this way the beam can memorize previously '\u001b[0m \u001b[1;33m+\u001b[0m\u001b[1;33m\u001b[0m\u001b[0m\n\u001b[0;32m    300\u001b[0m                            \u001b[1;34m'created slice snapshots. This minimises '\u001b[0m \u001b[1;33m+\u001b[0m\u001b[1;33m\u001b[0m\u001b[0m\n\u001b[1;32m--> 301\u001b[1;33m                            'computation time.')\n\u001b[0m\u001b[0;32m    302\u001b[0m \u001b[1;33m\u001b[0m\u001b[0m\n\u001b[0;32m    303\u001b[0m \u001b[1;32mclass\u001b[0m \u001b[0mUniformBinSlicer\u001b[0m\u001b[1;33m(\u001b[0m\u001b[0mSlicer\u001b[0m\u001b[1;33m)\u001b[0m\u001b[1;33m:\u001b[0m\u001b[1;33m\u001b[0m\u001b[0m\n",
        "\u001b[1;31mRuntimeError\u001b[0m: update_slices(beam) no longer exists. Instead, remove all previously recorded SliceSetobjects in the beam via beam.clean_slices() when the longitudinal state of the beam is changed. Concretely: replace slices.update_slices(beam) by beam.clean_slices().The SliceSet objects should be retrieved via beam.get_slices(Slicer) *only*. In this way the beam can memorize previously created slice snapshots. This minimises computation time."
       ]
      }
     ],
     "prompt_number": 44
    },
    {
     "cell_type": "code",
     "collapsed": false,
     "input": [
      "# VISUAL CHECKS FOR DIFFERENT SLICER CONFIGURATIONS."
     ],
     "language": "python",
     "metadata": {},
     "outputs": []
    },
    {
     "cell_type": "code",
     "collapsed": false,
     "input": [
      "# CASE I\n",
      "# UniformBinSlicer, no longitudinal cut.\n",
      "n_slices = 10\n",
      "n_sigma_z = None\n",
      "uniform_bin_slicer = UniformBinSlicer(n_slices, n_sigma_z)\n",
      "\n",
      "bunch = generate_bunch(\n",
      "    n_macroparticles, alpha_x_inj, alpha_y_inj, beta_x_inj, beta_y_inj,\n",
      "    alpha_0, Q_s, R)\n",
      "print 'bunch._slice_sets', bunch._slice_sets\n",
      "\n",
      "# Request slice_set from bunch with the uniform_bin_slicer config.\n",
      "uniform_bin_slice_set = bunch.get_slices(uniform_bin_slicer)\n",
      "print 'bunch._slice_sets', bunch._slice_sets\n",
      "\n",
      "plot_results_uniform_bin(bunch, uniform_bin_slice_set)"
     ],
     "language": "python",
     "metadata": {},
     "outputs": [
      {
       "output_type": "stream",
       "stream": "stdout",
       "text": [
        " 0.0593438696891\n",
        "bunch._slice_sets {}\n",
        "bunch._slice_sets {<PyHEADTAIL.particles.slicing.UniformBinSlicer object at 0xb962fec>: <PyHEADTAIL.particles.slicing.SliceSet object at 0xa74becc>}\n"
       ]
      }
     ],
     "prompt_number": 15
    },
    {
     "cell_type": "code",
     "collapsed": false,
     "input": [
      "# CASE II\n",
      "# UniformBinSlicer, n_sigma_z = 1\n",
      "n_slices = 10\n",
      "n_sigma_z = 1\n",
      "uniform_bin_slicer = UniformBinSlicer(n_slices, n_sigma_z)\n",
      "\n",
      "bunch = generate_bunch(\n",
      "    n_macroparticles, alpha_x_inj, alpha_y_inj, beta_x_inj, beta_y_inj,\n",
      "    alpha_0, Q_s, R)\n",
      "print 'bunch._slice_sets', bunch._slice_sets\n",
      "\n",
      "# Request slice_set from bunch with the uniform_bin_slicer config.\n",
      "uniform_bin_slice_set = bunch.get_slices(uniform_bin_slicer)\n",
      "print 'bunch._slice_sets', bunch._slice_sets\n",
      "\n",
      "plot_results_uniform_bin(bunch, uniform_bin_slice_set)"
     ],
     "language": "python",
     "metadata": {},
     "outputs": [
      {
       "output_type": "stream",
       "stream": "stdout",
       "text": [
        "0.0637267185672\n",
        "bunch._slice_sets {}\n",
        "bunch._slice_sets {<PyHEADTAIL.particles.slicing.UniformBinSlicer object at 0xa7072ac>: <PyHEADTAIL.particles.slicing.SliceSet object at 0xa638bac>}\n"
       ]
      }
     ],
     "prompt_number": 4
    },
    {
     "cell_type": "code",
     "collapsed": false,
     "input": [
      "# CASE II b.\n",
      "# UniformBinSlicer, set z_cuts\n",
      "n_slices = 10\n",
      "z_cuts = (-0.05, 0.15)\n",
      "uniform_bin_slicer = UniformBinSlicer(n_slices, z_cuts=z_cuts)\n",
      "\n",
      "bunch = generate_bunch(\n",
      "    n_macroparticles, alpha_x_inj, alpha_y_inj, beta_x_inj, beta_y_inj,\n",
      "    alpha_0, Q_s, R)\n",
      "print 'bunch._slice_sets', bunch._slice_sets\n",
      "\n",
      "# Request slice_set from bunch with the uniform_bin_slicer config.\n",
      "uniform_bin_slice_set = bunch.get_slices(uniform_bin_slicer)\n",
      "print 'bunch._slice_sets', bunch._slice_sets\n",
      "\n",
      "plot_results_uniform_bin(bunch, uniform_bin_slice_set)"
     ],
     "language": "python",
     "metadata": {},
     "outputs": [
      {
       "output_type": "stream",
       "stream": "stdout",
       "text": [
        "0.0631288588703\n",
        "bunch._slice_sets {}\n",
        "bunch._slice_sets {<PyHEADTAIL.particles.slicing.UniformBinSlicer object at 0xb7de46c>: <PyHEADTAIL.particles.slicing.SliceSet object at 0xba2e44c>}\n"
       ]
      }
     ],
     "prompt_number": 5
    },
    {
     "cell_type": "code",
     "collapsed": false,
     "input": [
      "# CASE II c.\n",
      "# UniformBinSlicer, set z_cuts and n_sigma_z (THIS SHOULD FAIL).\n",
      "n_slices = 10\n",
      "z_cuts = (-0.05, 0.1)\n",
      "n_sigma_z = 2\n",
      "uniform_bin_slicer = UniformBinSlicer(n_slices, n_sigma_z=n_sigma_z, z_cuts=z_cuts)"
     ],
     "language": "python",
     "metadata": {},
     "outputs": [
      {
       "ename": "ValueError",
       "evalue": "Both arguments n_sigma_z and z_cuts are given while only one is accepted!",
       "output_type": "pyerr",
       "traceback": [
        "\u001b[1;31m---------------------------------------------------------------------------\u001b[0m\n\u001b[1;31mValueError\u001b[0m                                Traceback (most recent call last)",
        "\u001b[1;32m<ipython-input-28-14fcaa95864c>\u001b[0m in \u001b[0;36m<module>\u001b[1;34m()\u001b[0m\n\u001b[0;32m      4\u001b[0m \u001b[0mz_cuts\u001b[0m \u001b[1;33m=\u001b[0m \u001b[1;33m(\u001b[0m\u001b[1;33m-\u001b[0m\u001b[1;36m0.05\u001b[0m\u001b[1;33m,\u001b[0m \u001b[1;36m0.1\u001b[0m\u001b[1;33m)\u001b[0m\u001b[1;33m\u001b[0m\u001b[0m\n\u001b[0;32m      5\u001b[0m \u001b[0mn_sigma_z\u001b[0m \u001b[1;33m=\u001b[0m \u001b[1;36m2\u001b[0m\u001b[1;33m\u001b[0m\u001b[0m\n\u001b[1;32m----> 6\u001b[1;33m \u001b[0muniform_bin_slicer\u001b[0m \u001b[1;33m=\u001b[0m \u001b[0mUniformBinSlicer\u001b[0m\u001b[1;33m(\u001b[0m\u001b[0mn_slices\u001b[0m\u001b[1;33m,\u001b[0m \u001b[0mn_sigma_z\u001b[0m\u001b[1;33m=\u001b[0m\u001b[0mn_sigma_z\u001b[0m\u001b[1;33m,\u001b[0m \u001b[0mz_cuts\u001b[0m\u001b[1;33m=\u001b[0m\u001b[0mz_cuts\u001b[0m\u001b[1;33m)\u001b[0m\u001b[1;33m\u001b[0m\u001b[0m\n\u001b[0m",
        "\u001b[1;32m/home/michael/TECH/PyHEADTAIL/particles/slicing.py\u001b[0m in \u001b[0;36m__init__\u001b[1;34m(self, n_slices, n_sigma_z, z_cuts)\u001b[0m\n\u001b[0;32m    313\u001b[0m         \u001b[1;32mif\u001b[0m \u001b[0mn_sigma_z\u001b[0m \u001b[1;32mand\u001b[0m \u001b[0mz_cuts\u001b[0m\u001b[1;33m:\u001b[0m\u001b[1;33m\u001b[0m\u001b[0m\n\u001b[0;32m    314\u001b[0m             raise ValueError(\"Both arguments n_sigma_z and z_cuts are\" +\n\u001b[1;32m--> 315\u001b[1;33m                              \" given while only one is accepted!\")\n\u001b[0m\u001b[0;32m    316\u001b[0m         \u001b[0mmode\u001b[0m \u001b[1;33m=\u001b[0m \u001b[1;34m'uniform_bin'\u001b[0m\u001b[1;33m\u001b[0m\u001b[0m\n\u001b[0;32m    317\u001b[0m         \u001b[0mself\u001b[0m\u001b[1;33m.\u001b[0m\u001b[0mconfig\u001b[0m \u001b[1;33m=\u001b[0m \u001b[1;33m(\u001b[0m\u001b[0mmode\u001b[0m\u001b[1;33m,\u001b[0m \u001b[0mn_slices\u001b[0m\u001b[1;33m,\u001b[0m \u001b[0mn_sigma_z\u001b[0m\u001b[1;33m,\u001b[0m \u001b[0mz_cuts\u001b[0m\u001b[1;33m)\u001b[0m\u001b[1;33m\u001b[0m\u001b[0m\n",
        "\u001b[1;31mValueError\u001b[0m: Both arguments n_sigma_z and z_cuts are given while only one is accepted!"
       ]
      }
     ],
     "prompt_number": 28
    },
    {
     "cell_type": "code",
     "collapsed": false,
     "input": [
      "# CASE III\n",
      "# UniformChargeSlicer, no longitudinal cut.\n",
      "n_slices = 10\n",
      "n_sigma_z = None\n",
      "uniform_charge_slicer = UniformChargeSlicer(n_slices, n_sigma_z)\n",
      "\n",
      "bunch = generate_bunch(\n",
      "    n_macroparticles, alpha_x_inj, alpha_y_inj, beta_x_inj, beta_y_inj,\n",
      "    alpha_0, Q_s, R)\n",
      "print 'bunch._slice_sets', bunch._slice_sets\n",
      "\n",
      "# Request slice_set from bunch with the uniform_charge_slicer config.\n",
      "uniform_charge_slice_set = bunch.get_slices(uniform_charge_slicer)\n",
      "print 'bunch._slice_sets', bunch._slice_sets\n",
      "\n",
      "plot_results_uniform_charge(bunch, uniform_charge_slice_set)"
     ],
     "language": "python",
     "metadata": {},
     "outputs": [
      {
       "output_type": "stream",
       "stream": "stdout",
       "text": [
        "0.0577608000961\n",
        "bunch._slice_sets {}\n",
        "bunch._slice_sets {<PyHEADTAIL.particles.slicing.UniformChargeSlicer object at 0xb5d806c>: <PyHEADTAIL.particles.slicing.SliceSet object at 0xb5d8e0c>}\n",
        "bunch._slice_sets {}\n"
       ]
      }
     ],
     "prompt_number": 6
    },
    {
     "cell_type": "code",
     "collapsed": false,
     "input": [
      "# CASE IV\n",
      "# UniformChargeSlicer, n_sigma_z = 1\n",
      "n_slices = 10\n",
      "n_sigma_z = 1\n",
      "uniform_charge_slicer = UniformChargeSlicer(n_slices, n_sigma_z)\n",
      "\n",
      "bunch = generate_bunch(\n",
      "    n_macroparticles, alpha_x_inj, alpha_y_inj, beta_x_inj, beta_y_inj,\n",
      "    alpha_0, Q_s, R)\n",
      "print 'bunch._slice_sets', bunch._slice_sets\n",
      "\n",
      "# Request slice_set from bunch with the uniform_charge_slicer config.\n",
      "uniform_charge_slice_set = bunch.get_slices(uniform_charge_slicer)\n",
      "print 'bunch._slice_sets', bunch._slice_sets\n",
      "\n",
      "plot_results_uniform_charge(bunch, uniform_charge_slice_set)"
     ],
     "language": "python",
     "metadata": {},
     "outputs": [
      {
       "output_type": "stream",
       "stream": "stdout",
       "text": [
        "0.0628828122465\n",
        "bunch._slice_sets {}\n",
        "bunch._slice_sets {<PyHEADTAIL.particles.slicing.UniformChargeSlicer object at 0xb67432c>: <PyHEADTAIL.particles.slicing.SliceSet object at 0xb6741ac>}\n",
        "bunch._slice_sets {}\n"
       ]
      }
     ],
     "prompt_number": 7
    },
    {
     "cell_type": "code",
     "collapsed": false,
     "input": [
      "# CASE IV b.\n",
      "# UniformChargeSlicer, set z_cuts\n",
      "n_slices = 10\n",
      "z_cuts = (-0.05, 0.1)\n",
      "uniform_charge_slicer = UniformChargeSlicer(n_slices, z_cuts=z_cuts)\n",
      "\n",
      "bunch = generate_bunch(\n",
      "    n_macroparticles, alpha_x_inj, alpha_y_inj, beta_x_inj, beta_y_inj,\n",
      "    alpha_0, Q_s, R)\n",
      "print 'bunch._slice_sets', bunch._slice_sets\n",
      "\n",
      "# Request slice_set from bunch with the uniform_bin_slicer config.\n",
      "uniform_charge_slice_set = bunch.get_slices(uniform_charge_slicer)\n",
      "print 'bunch._slice_sets', bunch._slice_sets\n",
      "\n",
      "plot_results_uniform_charge(bunch, uniform_charge_slice_set)"
     ],
     "language": "python",
     "metadata": {},
     "outputs": [
      {
       "output_type": "stream",
       "stream": "stdout",
       "text": [
        "0.0611823558584\n",
        "bunch._slice_sets {}\n",
        "bunch._slice_sets {<PyHEADTAIL.particles.slicing.UniformChargeSlicer object at 0xb8c5b0c>: <PyHEADTAIL.particles.slicing.SliceSet object at 0xb8c5fec>}\n"
       ]
      }
     ],
     "prompt_number": 26
    },
    {
     "cell_type": "code",
     "collapsed": false,
     "input": [
      "# CASE IV c.\n",
      "# UniformChargeSlicer, set z_cuts and n_sigma_z (THIS SHOULD FAIL).\n",
      "n_slices = 10\n",
      "z_cuts = (-0.05, 0.1)\n",
      "n_sigma_z = 2\n",
      "uniform_charge_slicer = UniformChargeSlicer(n_slices, n_sigma_z=n_sigma_z, z_cuts=z_cuts)"
     ],
     "language": "python",
     "metadata": {},
     "outputs": [
      {
       "ename": "ValueError",
       "evalue": "Both arguments n_sigma_z and z_cuts are given while only one is accepted!",
       "output_type": "pyerr",
       "traceback": [
        "\u001b[1;31m---------------------------------------------------------------------------\u001b[0m\n\u001b[1;31mValueError\u001b[0m                                Traceback (most recent call last)",
        "\u001b[1;32m<ipython-input-27-43aca7726807>\u001b[0m in \u001b[0;36m<module>\u001b[1;34m()\u001b[0m\n\u001b[0;32m      4\u001b[0m \u001b[0mz_cuts\u001b[0m \u001b[1;33m=\u001b[0m \u001b[1;33m(\u001b[0m\u001b[1;33m-\u001b[0m\u001b[1;36m0.05\u001b[0m\u001b[1;33m,\u001b[0m \u001b[1;36m0.1\u001b[0m\u001b[1;33m)\u001b[0m\u001b[1;33m\u001b[0m\u001b[0m\n\u001b[0;32m      5\u001b[0m \u001b[0mn_sigma_z\u001b[0m \u001b[1;33m=\u001b[0m \u001b[1;36m2\u001b[0m\u001b[1;33m\u001b[0m\u001b[0m\n\u001b[1;32m----> 6\u001b[1;33m \u001b[0muniform_charge_slicer\u001b[0m \u001b[1;33m=\u001b[0m \u001b[0mUniformChargeSlicer\u001b[0m\u001b[1;33m(\u001b[0m\u001b[0mn_slices\u001b[0m\u001b[1;33m,\u001b[0m \u001b[0mn_sigma_z\u001b[0m\u001b[1;33m=\u001b[0m\u001b[0mn_sigma_z\u001b[0m\u001b[1;33m,\u001b[0m \u001b[0mz_cuts\u001b[0m\u001b[1;33m=\u001b[0m\u001b[0mz_cuts\u001b[0m\u001b[1;33m)\u001b[0m\u001b[1;33m\u001b[0m\u001b[0m\n\u001b[0m",
        "\u001b[1;32m/home/michael/TECH/PyHEADTAIL/particles/slicing.py\u001b[0m in \u001b[0;36m__init__\u001b[1;34m(self, n_slices, n_sigma_z, z_cuts)\u001b[0m\n\u001b[0;32m    346\u001b[0m         \u001b[1;32mif\u001b[0m \u001b[0mn_sigma_z\u001b[0m \u001b[1;32mand\u001b[0m \u001b[0mz_cuts\u001b[0m\u001b[1;33m:\u001b[0m\u001b[1;33m\u001b[0m\u001b[0m\n\u001b[0;32m    347\u001b[0m             raise ValueError(\"Both arguments n_sigma_z and z_cuts are\" +\n\u001b[1;32m--> 348\u001b[1;33m                              \" given while only one is accepted!\")\n\u001b[0m\u001b[0;32m    349\u001b[0m         \u001b[0mmode\u001b[0m \u001b[1;33m=\u001b[0m \u001b[1;34m'uniform_charge'\u001b[0m\u001b[1;33m\u001b[0m\u001b[0m\n\u001b[0;32m    350\u001b[0m         \u001b[0mself\u001b[0m\u001b[1;33m.\u001b[0m\u001b[0mconfig\u001b[0m \u001b[1;33m=\u001b[0m \u001b[1;33m(\u001b[0m\u001b[0mmode\u001b[0m\u001b[1;33m,\u001b[0m \u001b[0mn_slices\u001b[0m\u001b[1;33m,\u001b[0m \u001b[0mn_sigma_z\u001b[0m\u001b[1;33m,\u001b[0m \u001b[0mz_cuts\u001b[0m\u001b[1;33m)\u001b[0m\u001b[1;33m\u001b[0m\u001b[0m\n",
        "\u001b[1;31mValueError\u001b[0m: Both arguments n_sigma_z and z_cuts are given while only one is accepted!"
       ]
      }
     ],
     "prompt_number": 27
    },
    {
     "cell_type": "code",
     "collapsed": false,
     "input": [
      "# HELPERS\n",
      "def generate_bunch(n_macroparticles, alpha_x, alpha_y, beta_x, beta_y, alpha_0, Q_s, R):\n",
      "\n",
      "    intensity = 1.05e11\n",
      "    sigma_z = 0.059958\n",
      "    gamma = 3730.26\n",
      "    eta = alpha_0 - 1. / gamma**2\n",
      "    gamma_t = 1. / np.sqrt(alpha_0)\n",
      "    p0 = np.sqrt(gamma**2 - 1) * m_p * c\n",
      "\n",
      "    beta_z = eta * R / Q_s\n",
      "\n",
      "    epsn_x = 3.75e-6 # [m rad]\n",
      "    epsn_y = 3.75e-6 # [m rad]\n",
      "    epsn_z = sigma_z**2 * p0 / (beta_z * e) # WITH OR WITHOUT 4 PI???\n",
      "    \n",
      "    bunch = Particles.as_gaussian_linear(\n",
      "        macroparticlenumber=n_macroparticles, intensity=intensity, charge=e,\n",
      "        gamma_reference=gamma, mass=m_p, circumference=C,\n",
      "        alpha_x=alpha_x, beta_x=beta_x, epsn_x=epsn_x,\n",
      "        alpha_y=alpha_y, beta_y=beta_y, epsn_y=epsn_y,\n",
      "        beta_z=beta_z, epsn_z=epsn_z)\n",
      "    print bunch.sigma_z()\n",
      "    \n",
      "    return bunch\n",
      "\n",
      "def plot_slice_set_structure(axes, bunch, slice_set):\n",
      "    '''Plot basic structure of SliceSet - z_bins, z_centers,\n",
      "    n_macroparticles_per_slice.\n",
      "    '''\n",
      "    [axes.axvline(z, c='b', lw=2) for z in slice_set.z_bins[1:]]\n",
      "    axes.axvline(slice_set.z_bins[0], c='b', lw=2,\n",
      "                 label='z_bins')\n",
      "    [axes.axvline(z, c='b', ls='dashed') for z in\n",
      "        slice_set.z_centers[1:]]\n",
      "    axes.axvline(slice_set.z_centers[0], c='b', ls='dashed',\n",
      "                 label='z_centers')\n",
      "    axes.plot(slice_set.z_centers,\n",
      "              slice_set.n_macroparticles_per_slice,\n",
      "              'x', color='black', ms=10, mew=2,\n",
      "              label='z_centers vs. n_macroparticles')\n",
      "    y_up =  max(slice_set.n_macroparticles_per_slice)\n",
      "    y_up += 0.1 * y_up\n",
      "    axes.set_ylim((0,y_up))\n",
      "    axes.set_xlim(((1+0.1) * min(bunch.z), (1+0.1) * max(bunch.z)))\n",
      "\n",
      "def plot_particle_indices_of_slice(axes, bunch, slice_set):\n",
      "    '''Show all particles in a z vs. slice_index plot. Add SliceSet\n",
      "    and slice boundaries. particles_within_cuts are overlayed\n",
      "    to see if they have been correctly determined.\n",
      "    '''\n",
      "    z_cut_tail = slice_set.z_cut_tail\n",
      "    z_cut_head = slice_set.z_cut_head\n",
      "    part_in_cuts = slice_set.particles_within_cuts\n",
      "    six = slice_set.slice_index_of_particle\n",
      "\n",
      "    axes.plot(six, bunch.z, '.r', ms=12, label='All particles')\n",
      "    axes.plot(six.take(part_in_cuts), bunch.z.take(part_in_cuts), '.g',\n",
      "             label='particles_within_cuts')\n",
      "    axes.axhline(z_cut_tail, color='b', ls='dashed',\n",
      "                label='SliceSet boundaries')\n",
      "    axes.axhline(z_cut_head, color='b', ls='dashed')\n",
      "    [axes.axhline(z, color='b', ls='dashed') for z in\n",
      "        slice_set.z_bins]\n",
      "    axes.axvline(0, color='m', label='slices 0 and n-1')\n",
      "    axes.axvline(slice_set.n_slices-1, color='m')\n",
      "    axes.set_xlim((min(slice_set.slice_index_of_particle)-1,\n",
      "                   max(slice_set.slice_index_of_particle)+1))\n",
      "    axes.legend(loc='lower right')\n",
      "\n",
      "def test_particle_indices_of_slice(bunch, slice_set):\n",
      "    '''Get particle_indices_of_slice for specific slice index. Apply\n",
      "    'inverse function' slice_index_of_particle to get back slice_index\n",
      "    if everything works correctly.\n",
      "    '''\n",
      "    all_pass = True\n",
      "    for i in xrange(slice_set.n_slices):\n",
      "        pix_slice = slice_set.particle_indices_of_slice(i)\n",
      "        six_pix = slice_set.slice_index_of_particle[pix_slice]\n",
      "        if (six_pix != i).any():\n",
      "            all_pass = False\n",
      "\n",
      "    if all_pass:\n",
      "        print ('  Particle_indices_of_slice <-> slice_index_of_particle PASSED')\n",
      "    if not all_pass:\n",
      "        print ('  Particle_indices_of_slice and slice_index_of_particle FAILED')\n",
      "\n",
      "def slice_set_statistics(bunch, slice_set):\n",
      "    '''Test if statistics functions are executable. No value\n",
      "    checking\n",
      "    '''\n",
      "    slice_set.mean_x(bunch)\n",
      "    slice_set.sigma_x(bunch)\n",
      "    slice_set.epsn_x(bunch)\n",
      "    slice_set.mean_y(bunch)\n",
      "    slice_set.sigma_y(bunch)\n",
      "    slice_set.epsn_y(bunch)\n",
      "    slice_set.mean_z(bunch)\n",
      "    slice_set.sigma_z(bunch)\n",
      "    slice_set.epsn_z(bunch)\n",
      "    \n",
      "def plot_results_uniform_bin(bunch, uniform_bin_slice_set):\n",
      "    # Plot environment\n",
      "    fig = plt.figure(figsize=(12,12))\n",
      "    ax1 = fig.add_subplot(211)\n",
      "    ax2 = fig.add_subplot(212)\n",
      "\n",
      "    plot_slice_set_structure(axes=ax1, bunch=bunch,\n",
      "                             slice_set=uniform_bin_slice_set)\n",
      "    if n_sigma_z == None:\n",
      "        ax1.hist(bunch.z, uniform_bin_slice_set.n_slices, color='r', alpha=0.6,\n",
      "                 label='matplotlib hist')\n",
      "    ax1.legend(loc='lower left')\n",
      "\n",
      "    plot_particle_indices_of_slice(axes=ax2, bunch=bunch,\n",
      "                                   slice_set=uniform_bin_slice_set)\n",
      "\n",
      "    ax1.set_xlabel('z [m]')\n",
      "    ax1.set_ylabel('# macroparticles')\n",
      "    ax2.set_xlabel('slice index')\n",
      "    ax2.set_ylabel('z [m]')\n",
      "    plt.show()\n",
      "    \n",
      "def plot_results_uniform_charge(bunch, uniform_charge_slice_set):\n",
      "    # Plot environment\n",
      "    fig = plt.figure(figsize=(12,12))\n",
      "    ax1 = fig.add_subplot(211)\n",
      "    ax2 = fig.add_subplot(212)\n",
      "\n",
      "    plot_slice_set_structure(axes=ax1, bunch=bunch,\n",
      "                             slice_set=uniform_charge_slice_set)\n",
      "\n",
      "    n_particles_within_cuts = len(uniform_charge_slice_set.particles_within_cuts)\n",
      "    ax1.axhline(n_particles_within_cuts / float(uniform_charge_slice_set.n_slices),\n",
      "                c='r', ls='dashed', lw=2,\n",
      "                label='expected number of particles per slice')\n",
      "    ax1.legend(loc='lower left')\n",
      "\n",
      "    plot_particle_indices_of_slice(axes=ax2, bunch=bunch,\n",
      "                                   slice_set=uniform_charge_slice_set)\n",
      "\n",
      "    ax1.set_xlabel('z [m]')\n",
      "    ax1.set_ylabel('# macroparticles')\n",
      "    ax2.set_xlabel('slice index')\n",
      "    ax2.set_ylabel('z [m]')\n",
      "    plt.show()\n",
      "\n",
      "def call_slice_set_attributes(bunch, slice_set):\n",
      "    # Call all the properties / attributes / methods.\n",
      "    print 'z_cut_head', slice_set.z_cut_head\n",
      "    print 'z_cut_tail', slice_set.z_cut_tail\n",
      "    print 'z_centers', slice_set.z_centers\n",
      "    print 'n_slices', slice_set.n_slices\n",
      "    print 'slice_widths', slice_set.slice_widths\n",
      "    print 'slice_positions', slice_set.slice_positions\n",
      "    print 'n_macroparticles_per_slice', slice_set.n_macroparticles_per_slice\n",
      "    print 'particles_within_cuts', slice_set.particles_within_cuts\n",
      "    print 'particle_indices_by_slice', slice_set.particle_indices_by_slice\n",
      "\n",
      "    test_particle_indices_of_slice(bunch, slice_set)\n",
      "    slice_set_statistics(bunch, slice_set)\n",
      "\n",
      "    print 'line_density_derivative_gauss', slice_set.line_density_derivative_gauss()\n",
      "    print 'line_density_derivative', slice_set.line_density_derivative()\n",
      "\n",
      "    \n",
      "def call_slicer_attributes():\n",
      "    pass"
     ],
     "language": "python",
     "metadata": {},
     "outputs": [],
     "prompt_number": 3
    },
    {
     "cell_type": "code",
     "collapsed": false,
     "input": [],
     "language": "python",
     "metadata": {},
     "outputs": []
    }
   ],
   "metadata": {}
  }
 ]
}