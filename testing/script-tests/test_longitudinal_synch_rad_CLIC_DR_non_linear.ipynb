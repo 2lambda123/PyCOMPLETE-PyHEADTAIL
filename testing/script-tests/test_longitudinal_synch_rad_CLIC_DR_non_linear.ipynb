{
 "cells": [
  {
   "cell_type": "code",
   "execution_count": null,
   "metadata": {
    "collapsed": false
   },
   "outputs": [],
   "source": [
    "from __future__ import division\n",
    "%matplotlib tk\n",
    "\n",
    "import sys, os\n",
    "BIN=os.path.expanduser('../../../')\n",
    "sys.path.append(BIN)\n",
    "\n",
    "from scipy.constants import e,c\n",
    "from PyHEADTAIL.synch_rad.synch_rad import Sync_rad_transverse, Sync_rad_longitudinal\n",
    "import numpy as np\n",
    "import matplotlib.pyplot as plt\n",
    "\n",
    "macroparticlenumber = 50000\n",
    "n_turns = 512*8\n",
    "tt = np.arange(n_turns)\n",
    "\n",
    "import pickle"
   ]
  },
  {
   "cell_type": "code",
   "execution_count": null,
   "metadata": {
    "collapsed": false
   },
   "outputs": [],
   "source": [
    "from CLIC_DR import CLIC_DR\n",
    "machine = CLIC_DR(machine_configuration='3TeV', n_segments=1)\n",
    "n_turns_vec = np.arange(0, n_turns, 1)*(machine.circumference/c)*1e3"
   ]
  },
  {
   "cell_type": "code",
   "execution_count": null,
   "metadata": {
    "collapsed": false
   },
   "outputs": [],
   "source": [
    "# BEAM\n",
    "# ====\n",
    "epsn_x  = 5*0.456e-6\n",
    "epsn_y  = 5*0.0048e-6\n",
    "sigma_z = 5*1.8e-3\n",
    "\n",
    "intensity = 4.1e9\n",
    "bunch   = machine.generate_6D_Gaussian_bunch(\n",
    "    macroparticlenumber, intensity, epsn_x, epsn_y, sigma_z=sigma_z)\n",
    "\n",
    "bunch.x  += 1.e-6\n",
    "bunch.xp += 1.e-6\n",
    "bunch.y  += 1.e-6\n",
    "bunch.yp += 1.e-6\n",
    "bunch.z  *= 0.\n",
    "bunch.dp *= 0.\n",
    "#bunch.z  += 0.0416\n",
    "\n"
   ]
  },
  {
   "cell_type": "code",
   "execution_count": null,
   "metadata": {
    "collapsed": true
   },
   "outputs": [],
   "source": [
    "# SYNCHROTRON RADIATION\n",
    "# =====================\n",
    "synchdamp_z = (1e-3*(c/machine.circumference))\n",
    "E_loss = 3.98e6\n",
    "eq_sig_dp=1.074e-3\n",
    "sync_rad_longitudinal = Sync_rad_longitudinal(\n",
    "\teq_sig_dp=eq_sig_dp, synchdamp_z=synchdamp_z, E_loss=E_loss)"
   ]
  },
  {
   "cell_type": "code",
   "execution_count": null,
   "metadata": {
    "collapsed": false
   },
   "outputs": [],
   "source": [
    "# TRACKING LOOP\n",
    "# =============\n",
    "machine.one_turn_map.append(sync_rad_longitudinal)"
   ]
  },
  {
   "cell_type": "code",
   "execution_count": null,
   "metadata": {
    "collapsed": false
   },
   "outputs": [],
   "source": [
    "# Tracking\n",
    "# ========\n",
    "\n",
    "#%matplotlib inline\n",
    "plt.close()\n",
    "\n",
    "print '--> Begin tracking...'\n",
    "\n",
    "fig, ((ax1,ax2),(ax3,ax4)) = plt.subplots(2, 2, figsize=(14,10))\n",
    "        \n",
    "sigma_x  = np.zeros(n_turns) + np.NAN\n",
    "sigma_xp = np.zeros(n_turns) + np.NAN\n",
    "mean_x   = np.zeros(n_turns) + np.NAN\n",
    "epsn_x   = np.zeros(n_turns) + np.NAN\n",
    "sigma_y  = np.zeros(n_turns) + np.NAN\n",
    "sigma_yp = np.zeros(n_turns) + np.NAN\n",
    "mean_y   = np.zeros(n_turns) + np.NAN\n",
    "epsn_y   = np.zeros(n_turns) + np.NAN\n",
    "sigma_z  = np.zeros(n_turns) + np.NAN\n",
    "sigma_dp = np.zeros(n_turns) + np.NAN\n",
    "mean_z   = np.zeros(n_turns) + np.NAN\n",
    "epsn_z   = np.zeros(n_turns) + np.NAN\n",
    "mean_dp   = np.zeros(n_turns) + np.NAN\n",
    "\n",
    "for i in range(n_turns):\n",
    "    machine.track(bunch)\n",
    "    sigma_x[i]  = bunch.sigma_x()\n",
    "    mean_x[i]   = bunch.mean_x()\n",
    "    epsn_x[i]   = bunch.epsn_x()\n",
    "    sigma_y[i]  = bunch.sigma_y()\n",
    "    mean_y[i]   = bunch.mean_y()\n",
    "    epsn_y[i]   = bunch.epsn_y()\n",
    "    sigma_z[i]  = bunch.sigma_z()\n",
    "    sigma_dp[i] = bunch.sigma_dp()\n",
    "    mean_z[i]   = bunch.mean_z()\n",
    "    epsn_z[i]   = bunch.epsn_z()    \n",
    "    mean_dp[i]   = bunch.mean_dp()    \n",
    "        \n",
    "    if not (i+1)%10:\n",
    "        #ax.set_title('Turn: ' + str(i))\n",
    "        '''\n",
    "        ax = ax1\n",
    "        ax.set_xlim(-9e-4, 9e-4)\n",
    "        ax.set_ylim(-1e-4, 1e-4)\n",
    "        ax.scatter(bunch.x, bunch.xp, lw=0., s=8)\n",
    "        ax.ticklabel_format(style='sci', scilimits=(0,0),axis='y')\n",
    "\n",
    "        ax = ax2\n",
    "        ax.set_xlim(0, n_turns)\n",
    "        ax.set_xlabel('turn')\n",
    "        ax.plot(sigma_x)\n",
    "        ax.set_ylabel('sigma_x [m]')\n",
    "        ax.ticklabel_format(style='sci', scilimits=(0,0),axis='y')\n",
    "        \n",
    "        ax = ax3\n",
    "        ax.set_xlim(0, n_turns)\n",
    "        ax.set_xlabel('turn')\n",
    "        ax.plot(mean_x)\n",
    "        ax.set_ylabel('mean_x')\n",
    "        ax.ticklabel_format(style='sci', scilimits=(0,0),axis='y')  \n",
    "        \n",
    "        ax = ax4\n",
    "        ax.set_xlim(0, n_turns)\n",
    "        ax.set_xlabel('turn')\n",
    "        ax.plot(epsn_x)\n",
    "        ax.set_ylabel('epsn_x')\n",
    "        ax.ticklabel_format(style='sci', scilimits=(0,0),axis='y')\n",
    "        ''\n",
    "\n",
    "        ax = ax1\n",
    "        ax.set_xlim(-5e-5, 5e-5)\n",
    "        ax.set_ylim(-5e-6, 5e-6)\n",
    "        ax.scatter(bunch.y, bunch.yp, lw=0., s=8)\n",
    "        ax.ticklabel_format(style='sci', scilimits=(0,0),axis='y')\n",
    "\n",
    "        ax = ax2\n",
    "        ax.set_xlim(0, n_turns)\n",
    "        ax.set_xlabel('turn')\n",
    "        ax.plot(sigma_y)\n",
    "        ax.set_ylabel('sigma_y [m]')\n",
    "        ax.ticklabel_format(style='sci', scilimits=(0,0),axis='y')\n",
    "        \n",
    "        ax = ax3\n",
    "        ax.set_xlim(0, n_turns)\n",
    "        ax.set_xlabel('turn')\n",
    "        ax.plot(mean_y)\n",
    "        ax.set_ylabel('mean_y')\n",
    "        ax.ticklabel_format(style='sci', scilimits=(0,0),axis='y')  \n",
    "        \n",
    "        ax = ax4\n",
    "        ax.set_xlim(0, n_turns)\n",
    "        ax.set_xlabel('turn')\n",
    "        ax.plot(epsn_y)\n",
    "        ax.set_ylabel('epsn_y')\n",
    "        ax.ticklabel_format(style='sci', scilimits=(0,0),axis='y')\n",
    "        '''\n",
    "        size_font = 15\n",
    "        \n",
    "        ax = ax1\n",
    "        plt.rc(\"font\", size=size_font)\n",
    "        ax.set_xlim(0.02, 0.06)\n",
    "        ax.set_xlabel('z', fontsize=size_font)\n",
    "        ax.set_ylim(-1e-2, 1e-2)\n",
    "        ax.set_ylabel('$\\delta$', fontsize=size_font, rotation = 0)\n",
    "        ax.scatter(bunch.z, bunch.dp, s=8, color = 'b')\n",
    "        ax.scatter(bunch.z[50], bunch.dp[50], s=8, color = 'r')\n",
    "        ax.scatter(bunch.z[51], bunch.dp[51], s=8, color = 'w')\n",
    "        ax.ticklabel_format(style='sci', scilimits=(0,0),axis='y', useOffset = False)\n",
    "        \n",
    "        ax = ax2\n",
    "        plt.rc(\"font\", size=size_font)\n",
    "        ax.set_xlim(0, n_turns_vec[-1])\n",
    "        ax.set_xlabel('t [ms]', fontsize=size_font)\n",
    "        ax.plot(n_turns_vec, mean_z)\n",
    "        ax.set_ylabel('$<z>$ [m]', fontsize=size_font)\n",
    "        ax.ticklabel_format(style='sci', scilimits=(0,0),axis='y', useOffset = False)\n",
    "        \n",
    "#        ax = ax3\n",
    "#        plt.rc(\"font\", size=size_font)\n",
    "#        ax.set_xlim(0, n_turns_vec[-1])\n",
    "#        ax.set_xlabel('t [ms]', fontsize=size_font)\n",
    "#        ax.plot(n_turns_vec, sigma_dp)\n",
    "#        ax.set_ylabel('sigma_dp', fontsize=size_font)\n",
    "#        ax.ticklabel_format(style='sci', scilimits=(0,0),axis='y', useOffset = False)  \n",
    "        \n",
    "        ax = ax3\n",
    "        plt.rc(\"font\", size=size_font)\n",
    "        ax.set_xlim(0, n_turns_vec[-1])\n",
    "        ax.set_xlabel('t [ms]', fontsize=size_font)\n",
    "        ax.plot(n_turns_vec, mean_dp, label= 'Energy loss\\nEvaluated :%.2e [eV]\\nExpected :%.2e [eV]\\nERROR :%.2f'%((mean_dp[4]-mean_dp[5])*machine.p0*c/np.abs(machine.charge),E_loss,(E_loss-((mean_dp[4]-mean_dp[5])*machine.p0*c/np.abs(machine.charge)))*100/E_loss)+'%')\n",
    "        ax.legend (loc=0, fontsize = 10)\n",
    "        ax.set_ylabel('mean_dp', fontsize=size_font)\n",
    "        ax.ticklabel_format(style='sci', scilimits=(0,0), axis='y', useOffset = False)  \n",
    "        \n",
    "        ax = ax4\n",
    "        plt.rc(\"font\", size=size_font)\n",
    "        ax.set_xlim(0, n_turns_vec[-1])\n",
    "        ax.set_xlabel('t [ms]', fontsize=size_font)\n",
    "        ax.axhline(eq_sig_dp, label= 'Equilibrium momentum spread\\nExpected :%.2e'%(eq_sig_dp), lw=2, color = 'yellow')\n",
    "        ax.plot(n_turns_vec, sigma_dp)\n",
    "        ax.legend (loc=0, fontsize = 10)\n",
    "        ax.set_ylabel('$\\sigma_dp$', fontsize=size_font)\n",
    "        ax.ticklabel_format(style='sci', scilimits=(0,0), axis='y', useOffset = False)\n",
    "        ''\n",
    "\n",
    "        #plt.savefig('mismatched_nonlinear_' + '%02d'%i + '.png', dpi=150)\n",
    "        \n",
    "\n",
    "        plt.draw()\n",
    "        ax1.cla()\n",
    "        ax2.cla()\n",
    "        ax3.cla()\n",
    "        ax4.cla()\n",
    "\n",
    "        '' \n",
    "        #print 'bunch.z and bunch.dp = ',bunch.z, bunch.dp\n",
    "        #print 'mean_z = ',mean_z\n",
    "        #print 'sigma_dp = ',sigma_dp\n",
    "        #print 'sigma_z = ',sigma_z\n",
    "        \n",
    "print '--> Done.'\n",
    "print 'epsn_x =', epsn_x[-1]\n",
    "print 'epsn_y =', epsn_y[-1]"
   ]
  },
  {
   "cell_type": "code",
   "execution_count": null,
   "metadata": {
    "collapsed": false
   },
   "outputs": [],
   "source": [
    "sigma_z"
   ]
  },
  {
   "cell_type": "code",
   "execution_count": null,
   "metadata": {
    "collapsed": false
   },
   "outputs": [],
   "source": [
    "epsn_z[-1]"
   ]
  },
  {
   "cell_type": "code",
   "execution_count": null,
   "metadata": {
    "collapsed": true
   },
   "outputs": [],
   "source": []
  },
  {
   "cell_type": "code",
   "execution_count": null,
   "metadata": {
    "collapsed": true
   },
   "outputs": [],
   "source": []
  }
 ],
 "metadata": {
  "kernelspec": {
   "display_name": "Python 2",
   "language": "python",
   "name": "python2"
  },
  "language_info": {
   "codemirror_mode": {
    "name": "ipython",
    "version": 2
   },
   "file_extension": ".py",
   "mimetype": "text/x-python",
   "name": "python",
   "nbconvert_exporter": "python",
   "pygments_lexer": "ipython2",
   "version": "2.7.10"
  }
 },
 "nbformat": 4,
 "nbformat_minor": 0
}
