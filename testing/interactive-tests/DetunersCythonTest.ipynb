{
 "cells": [
  {
   "cell_type": "code",
   "execution_count": 1,
   "metadata": {
    "collapsed": false
   },
   "outputs": [],
   "source": [
    "import sys, os\n",
    "BIN = os.path.expanduser(\"../../../\")\n",
    "sys.path.append(BIN)"
   ]
  },
  {
   "cell_type": "code",
   "execution_count": 2,
   "metadata": {
    "collapsed": false
   },
   "outputs": [
    {
     "name": "stdout",
     "output_type": "stream",
     "text": [
      "PyHEADTAIL v1.2.0-153-gbc0ea69a06-dirty\n",
      "\n",
      "\n",
      "No module named PySussix\n",
      "trying PySUSSIX...\n"
     ]
    },
    {
     "ename": "ImportError",
     "evalue": "dlopen(../../../PySUSSIX/pysussix.so, 2): Library not loaded: /usr/local/lib/gcc/4.9/libgfortran.3.dylib\n  Referenced from: /Users/stefan/CERN/PySUSSIX/PySussix.so\n  Reason: image not found",
     "output_type": "error",
     "traceback": [
      "\u001b[0;31m---------------------------------------------------------------------------\u001b[0m",
      "\u001b[0;31mImportError\u001b[0m                               Traceback (most recent call last)",
      "\u001b[0;32m<ipython-input-2-cbc2a4e5dbb8>\u001b[0m in \u001b[0;36m<module>\u001b[0;34m()\u001b[0m\n\u001b[1;32m     12\u001b[0m     \u001b[0;32mprint\u001b[0m \u001b[0mem\u001b[0m\u001b[0;34m\u001b[0m\u001b[0m\n\u001b[1;32m     13\u001b[0m     \u001b[0;32mprint\u001b[0m \u001b[0;34m(\u001b[0m\u001b[0;34m'trying PySUSSIX...'\u001b[0m\u001b[0;34m)\u001b[0m\u001b[0;34m\u001b[0m\u001b[0m\n\u001b[0;32m---> 14\u001b[0;31m     \u001b[0;32mfrom\u001b[0m \u001b[0mPySUSSIX\u001b[0m \u001b[0;32mimport\u001b[0m \u001b[0mSussix\u001b[0m\u001b[0;34m\u001b[0m\u001b[0m\n\u001b[0m\u001b[1;32m     15\u001b[0m \u001b[0;34m\u001b[0m\u001b[0m\n",
      "\u001b[0;32m/Users/stefan/CERN/PySUSSIX/__init__.py\u001b[0m in \u001b[0;36m<module>\u001b[0;34m()\u001b[0m\n\u001b[0;32m----> 1\u001b[0;31m \u001b[0;32mfrom\u001b[0m \u001b[0mPySussix\u001b[0m \u001b[0;32mimport\u001b[0m \u001b[0;34m*\u001b[0m\u001b[0;34m\u001b[0m\u001b[0m\n\u001b[0m",
      "\u001b[0;32m/Users/stefan/CERN/PySUSSIX/PySussix.py\u001b[0m in \u001b[0;36m<module>\u001b[0;34m()\u001b[0m\n\u001b[1;32m     24\u001b[0m \u001b[0;34m\u001b[0m\u001b[0m\n\u001b[1;32m     25\u001b[0m \u001b[0;34m\u001b[0m\u001b[0m\n\u001b[0;32m---> 26\u001b[0;31m \u001b[0;32mimport\u001b[0m \u001b[0mpysussix\u001b[0m\u001b[0;34m\u001b[0m\u001b[0m\n\u001b[0m\u001b[1;32m     27\u001b[0m \u001b[0;34m\u001b[0m\u001b[0m\n\u001b[1;32m     28\u001b[0m \u001b[0;34m\u001b[0m\u001b[0m\n",
      "\u001b[0;31mImportError\u001b[0m: dlopen(../../../PySUSSIX/pysussix.so, 2): Library not loaded: /usr/local/lib/gcc/4.9/libgfortran.3.dylib\n  Referenced from: /Users/stefan/CERN/PySUSSIX/PySussix.so\n  Reason: image not found"
     ]
    }
   ],
   "source": [
    "import numpy as np\n",
    "from scipy.constants import m_p, c, e\n",
    "import matplotlib.pyplot as plt\n",
    "\n",
    "from PyHEADTAIL.trackers.transverse_tracking import TransverseMap\n",
    "from PyHEADTAIL.trackers.detuners_cython import Chromaticity, AmplitudeDetuning\n",
    "import PyHEADTAIL.particles.generators as generators\n",
    "\n",
    "try:\n",
    "    from PySussix import Sussix\n",
    "except ImportError as em:\n",
    "    print em\n",
    "    print ('trying PySUSSIX...')\n",
    "    from PySUSSIX import Sussix\n",
    "\n"
   ]
  },
  {
   "cell_type": "code",
   "execution_count": null,
   "metadata": {
    "collapsed": false
   },
   "outputs": [],
   "source": [
    "# HELPERS\n",
    "def calc_sussix_spec(x, xp, y, yp, p_idx, turn, window_width, q_x, q_y, n_lines=10):\n",
    "\n",
    "    # Initialise Sussix object\n",
    "    SX = Sussix()\n",
    "    SX.sussix_inp(nt1=1, nt2=window_width, idam=2, ir=0, tunex=q_x, tuney=q_y)\n",
    "\n",
    "    tunes_x = np.empty(n_lines)\n",
    "    tunes_y = np.empty(n_lines)\n",
    "\n",
    "    SX.sussix(x[p_idx,turn:turn+window_width], xp[p_idx,turn:turn+window_width],\n",
    "              y[p_idx,turn:turn+window_width], yp[p_idx,turn:turn+window_width],\n",
    "              x[p_idx,turn:turn+window_width], xp[p_idx,turn:turn+window_width]) # this line is not used by sussix!\n",
    "\n",
    "    return SX.ox[:n_lines], SX.oy[:n_lines]\n",
    "\n",
    "def track_n_save(bunch, map_):\n",
    "    n_particles = bunch.macroparticlenumber\n",
    "    x_i = np.empty((n_particles, n_turns))\n",
    "    xp_i = np.empty((n_particles, n_turns))\n",
    "    y_i = np.empty((n_particles, n_turns))\n",
    "    yp_i = np.empty((n_particles, n_turns))\n",
    "\n",
    "    for i in xrange(n_turns):\n",
    "        x_i[:,i] = bunch.x[:]\n",
    "        xp_i[:,i] = bunch.xp[:]\n",
    "        y_i[:,i] = bunch.y[:]\n",
    "        yp_i[:,i] = bunch.yp[:]\n",
    "   \n",
    "        for m_ in map_:\n",
    "            m_.track(bunch)\n",
    "\n",
    "    return x_i, xp_i, y_i, yp_i\n",
    "\n",
    "def analyse_n_plot(bunch, x_i, xp_i, y_i, yp_i):\n",
    "    ox = np.empty(bunch.macroparticlenumber)\n",
    "    oy = np.empty(bunch.macroparticlenumber)\n",
    "    print 'analysing particle spectra ... this may take some time.'\n",
    "    for p_idx in range(bunch.macroparticlenumber):\n",
    "        ox[p_idx], oy[p_idx] = calc_sussix_spec(x_i, xp_i, y_i, yp_i, p_idx,\n",
    "                                   turn=0, window_width=512, q_x=Q_x%1, q_y=Q_y%1, n_lines=1)\n",
    "        if (p_idx)%100 == 0:\n",
    "            print 'particle', p_idx\n",
    "\n",
    "    fig = plt.figure(figsize=(20,20))\n",
    "    ax1 = fig.add_subplot(311)\n",
    "    ax2 = fig.add_subplot(312, sharex=ax1)\n",
    "    ax3 = fig.add_subplot(313)\n",
    "\n",
    "    ax1.scatter(ox, oy)\n",
    "    ax1.set_ylabel(r'$Q_y$')\n",
    "    ax1.set_xlabel(r'$Q_x$')\n",
    "    ax2.hist(ox, bins=50, color='blue')\n",
    "    ax2.set_xlabel(r'$Q_x$')\n",
    "    ax3.hist(oy, bins=50, color='red')\n",
    "    ax3.set_xlabel(r'$Q_y$')\n",
    "    \n",
    "    print 'std dev. Qx', np.std(ox)\n",
    "    print 'std dev. Qy', np.std(oy)\n",
    "    plt.show()\n",
    "\n",
    "def generate_bunch(n_macroparticles, alpha_x, alpha_y, beta_x, beta_y, alpha_0, Q_s, R):\n",
    "    intensity = 1.05e11\n",
    "    sigma_z = 0.059958\n",
    "    gamma = 3730.26\n",
    "    eta = alpha_0 - 1. / gamma**2\n",
    "    gamma_t = 1. / np.sqrt(alpha_0)\n",
    "    p0 = np.sqrt(gamma**2 - 1) * m_p * c\n",
    "\n",
    "    beta_z = eta * R / Q_s\n",
    "\n",
    "    epsn_x = 3.75e-6 # [m rad]\n",
    "    epsn_y = 3.75e-6 # [m rad]\n",
    "    epsn_z = 4 * np.pi * sigma_z**2 * p0 / (beta_z * e)\n",
    "    \n",
    "    bunch = generators.generate_Gaussian6DTwiss(\n",
    "        macroparticlenumber=n_macroparticles, intensity=intensity, charge=e,\n",
    "        gamma=gamma, mass=m_p, circumference=C,\n",
    "        alpha_x=alpha_x, beta_x=beta_x, epsn_x=epsn_x,\n",
    "        alpha_y=alpha_y, beta_y=beta_y, epsn_y=epsn_y,\n",
    "        beta_z=beta_z, epsn_z=epsn_z)\n",
    "    #print bunch.sigma_z()\n",
    "\n",
    "    return bunch"
   ]
  },
  {
   "cell_type": "code",
   "execution_count": 13,
   "metadata": {
    "collapsed": false
   },
   "outputs": [],
   "source": [
    "# Basic parameters.\n",
    "n_turns = 1024\n",
    "n_segments = 1\n",
    "n_macroparticles = 500\n",
    "\n",
    "Q_x = 64.28\n",
    "Q_y = 59.31\n",
    "Q_s = 0.0020443\n",
    "\n",
    "C = 26658.883\n",
    "R = C / (2.*np.pi)\n",
    "\n",
    "alpha_x_inj = 0.\n",
    "alpha_y_inj = 0.\n",
    "beta_x_inj = 66.0064\n",
    "beta_y_inj = 71.5376\n",
    "alpha_0 = 0.0003225"
   ]
  },
  {
   "cell_type": "code",
   "execution_count": 14,
   "metadata": {
    "collapsed": false
   },
   "outputs": [],
   "source": [
    "# Parameters for transverse map.\n",
    "s = np.arange(0, n_segments + 1) * C / n_segments\n",
    "\n",
    "alpha_x = alpha_x_inj * np.ones(n_segments)\n",
    "beta_x = beta_x_inj * np.ones(n_segments)\n",
    "D_x = np.zeros(n_segments)\n",
    "\n",
    "alpha_y = alpha_y_inj * np.ones(n_segments)\n",
    "beta_y = beta_y_inj * np.ones(n_segments)\n",
    "D_y = np.zeros(n_segments)"
   ]
  },
  {
   "cell_type": "code",
   "execution_count": 15,
   "metadata": {
    "collapsed": false
   },
   "outputs": [
    {
     "name": "stdout",
     "output_type": "stream",
     "text": [
      "analysing particle spectra ... this may take some time.\n",
      "particle 0\n",
      "particle 100\n",
      "particle 200\n",
      "particle 300\n",
      "particle 400\n",
      "std dev. Qx 0.000467435528749\n",
      "std dev. Qy 0.000484197335185\n"
     ]
    }
   ],
   "source": [
    "# CASE I\n",
    "# With amplitude detuning (python implementation)\n",
    "\n",
    "# EXPECTED TUNE SPREADS AT THE GIVEN SETTINGS ARE 5e-4 FOR HORIZONTAL\n",
    "# AND VERTICAL.\n",
    "bunch = generate_bunch(\n",
    "    n_macroparticles, alpha_x_inj, alpha_y_inj, beta_x_inj, beta_y_inj,\n",
    "    alpha_0, Q_s, R)\n",
    "\n",
    "ampl_det = AmplitudeDetuning.from_octupole_currents_LHC(i_focusing=400, i_defocusing=-400)\n",
    "trans_map = TransverseMap(\n",
    "    C, s, alpha_x, beta_x, D_x, alpha_y, beta_y, D_y, Q_x, Q_y, ampl_det)\n",
    "\n",
    "trans_one_turn = [ m for m in trans_map ]\n",
    "map_ = trans_one_turn\n",
    "\n",
    "x_i, xp_i, y_i, yp_i = track_n_save(bunch, map_)\n",
    "analyse_n_plot(bunch, x_i, xp_i, y_i, yp_i)"
   ]
  },
  {
   "cell_type": "code",
   "execution_count": 7,
   "metadata": {
    "collapsed": false
   },
   "outputs": [
    {
     "name": "stdout",
     "output_type": "stream",
     "text": [
      "analysing particle spectra ... this may take some time.\n",
      "particle 0\n",
      "particle 100\n",
      "particle 200\n",
      "particle 300\n",
      "particle 400\n",
      "std dev. Qx 0.000540500671855\n",
      "std dev. Qy 0.000270202792096\n"
     ]
    }
   ],
   "source": [
    "# CASE II\n",
    "# With first order Chromaticity (python implementation)\n",
    "bunch = generate_bunch(\n",
    "    n_macroparticles, alpha_x_inj, alpha_y_inj, beta_x_inj, beta_y_inj,\n",
    "    alpha_0, Q_s, R)\n",
    "\n",
    "chroma = Chromaticity(Qp_x=[6], Qp_y=[3])\n",
    "trans_map = TransverseMap(\n",
    "    C, s, alpha_x, beta_x, D_x, alpha_y, beta_y, D_y, Q_x, Q_y, chroma)\n",
    "\n",
    "trans_one_turn = [ m for m in trans_map ]\n",
    "map_ = trans_one_turn\n",
    "\n",
    "x_i, xp_i, y_i, yp_i = track_n_save(bunch, map_)\n",
    "analyse_n_plot(bunch, x_i, xp_i, y_i, yp_i)"
   ]
  },
  {
   "cell_type": "code",
   "execution_count": 14,
   "metadata": {
    "collapsed": false
   },
   "outputs": [
    {
     "name": "stdout",
     "output_type": "stream",
     "text": [
      "analysing particle spectra ... this may take some time.\n",
      "particle 0\n",
      "particle 100\n",
      "particle 200\n",
      "particle 300\n",
      "particle 400\n",
      "std dev. Qx 0.000629145458034\n",
      "std dev. Qy 0.000372983046923\n"
     ]
    }
   ],
   "source": [
    "# CASE III\n",
    "# With higher order Chromaticity (python implementation)\n",
    "bunch = generate_bunch(\n",
    "    n_macroparticles, alpha_x_inj, alpha_y_inj, beta_x_inj, beta_y_inj,\n",
    "    alpha_0, Q_s, R)\n",
    "\n",
    "chroma = Chromaticity(Qp_x=[6., 4e4], Qp_y=[3., 0., 2e8])\n",
    "trans_map = TransverseMap(\n",
    "    C, s, alpha_x, beta_x, D_x, alpha_y, beta_y, D_y, Q_x, Q_y, chroma)\n",
    "\n",
    "trans_one_turn = [ m for m in trans_map ]\n",
    "map_ = trans_one_turn\n",
    "\n",
    "x_i, xp_i, y_i, yp_i = track_n_save(bunch, map_)\n",
    "analyse_n_plot(bunch, x_i, xp_i, y_i, yp_i)"
   ]
  },
  {
   "cell_type": "code",
   "execution_count": 15,
   "metadata": {
    "collapsed": false
   },
   "outputs": [],
   "source": [
    "os.remove('sussix.inp')"
   ]
  },
  {
   "cell_type": "code",
   "execution_count": null,
   "metadata": {
    "collapsed": false
   },
   "outputs": [],
   "source": []
  }
 ],
 "metadata": {
  "kernelspec": {
   "display_name": "Python 2",
   "language": "python",
   "name": "python2"
  },
  "language_info": {
   "codemirror_mode": {
    "name": "ipython",
    "version": 2
   },
   "file_extension": ".py",
   "mimetype": "text/x-python",
   "name": "python",
   "nbconvert_exporter": "python",
   "pygments_lexer": "ipython2",
   "version": "2.7.10"
  }
 },
 "nbformat": 4,
 "nbformat_minor": 0
}
