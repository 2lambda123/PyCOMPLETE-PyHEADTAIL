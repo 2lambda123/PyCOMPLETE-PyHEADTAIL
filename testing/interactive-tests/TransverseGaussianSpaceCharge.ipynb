{
 "cells": [
  {
   "cell_type": "code",
   "execution_count": 1,
   "metadata": {
    "collapsed": false
   },
   "outputs": [
    {
     "name": "stderr",
     "output_type": "stream",
     "text": [
      "/home/oeftiger/anaconda/lib/python2.7/site-packages/scipy/ndimage/measurements.py:36: RuntimeWarning: numpy.dtype size changed, may indicate binary incompatibility\n",
      "  from . import _ni_label\n",
      "/home/oeftiger/anaconda/lib/python2.7/site-packages/codepy/cuda.py:1: DeprecationWarning: codepy.cgen is deprecated. Use the separate 'cgen' module instead, see the Python package index.\n",
      "  import cgen\n"
     ]
    },
    {
     "name": "stdout",
     "output_type": "stream",
     "text": [
      "PyHEADTAIL v1.6.0.83\n",
      "\n",
      "\n"
     ]
    },
    {
     "name": "stderr",
     "output_type": "stream",
     "text": [
      "/home/oeftiger/anaconda/lib/python2.7/site-packages/scipy/interpolate/interpolate.py:30: RuntimeWarning: numpy.dtype size changed, may indicate binary incompatibility\n",
      "  from . import _ppoly\n",
      "/home/oeftiger/anaconda/lib/python2.7/site-packages/scipy/sparse/lil.py:21: RuntimeWarning: numpy.dtype size changed, may indicate binary incompatibility\n",
      "  from . import _csparsetools\n",
      "/home/oeftiger/anaconda/lib/python2.7/site-packages/scipy/sparse/csgraph/__init__.py:150: RuntimeWarning: numpy.dtype size changed, may indicate binary incompatibility\n",
      "  from ._shortest_path import shortest_path, floyd_warshall, dijkstra,\\\n",
      "/home/oeftiger/anaconda/lib/python2.7/site-packages/scipy/sparse/csgraph/_validation.py:5: RuntimeWarning: numpy.dtype size changed, may indicate binary incompatibility\n",
      "  from ._tools import csgraph_to_dense, csgraph_from_dense,\\\n",
      "/home/oeftiger/anaconda/lib/python2.7/site-packages/scipy/sparse/csgraph/__init__.py:152: RuntimeWarning: numpy.dtype size changed, may indicate binary incompatibility\n",
      "  from ._traversal import breadth_first_order, depth_first_order, \\\n",
      "/home/oeftiger/anaconda/lib/python2.7/site-packages/scipy/sparse/csgraph/__init__.py:154: RuntimeWarning: numpy.dtype size changed, may indicate binary incompatibility\n",
      "  from ._min_spanning_tree import minimum_spanning_tree\n",
      "/home/oeftiger/anaconda/lib/python2.7/site-packages/scipy/sparse/csgraph/__init__.py:155: RuntimeWarning: numpy.dtype size changed, may indicate binary incompatibility\n",
      "  from ._reordering import reverse_cuthill_mckee, maximum_bipartite_matching\n",
      "/home/oeftiger/anaconda/lib/python2.7/site-packages/scipy/spatial/__init__.py:90: RuntimeWarning: numpy.dtype size changed, may indicate binary incompatibility\n",
      "  from .ckdtree import *\n",
      "/home/oeftiger/anaconda/lib/python2.7/site-packages/scipy/spatial/__init__.py:91: RuntimeWarning: numpy.dtype size changed, may indicate binary incompatibility\n",
      "  from .qhull import *\n"
     ]
    }
   ],
   "source": [
    "import sys, os\n",
    "BIN = os.path.abspath(\"../../..\")\n",
    "sys.path.append(BIN)\n",
    "\n",
    "from scipy.special import erfc, wofz\n",
    "\n",
    "import warnings\n",
    "warnings.filterwarnings('always')\n",
    "\n",
    "import numpy as np\n",
    "from scipy.constants import m_p, c, e, epsilon_0, pi\n",
    "\n",
    "import PyHEADTAIL.spacecharge.spacecharge as sc\n",
    "from PyHEADTAIL.particles.particles import Particles\n",
    "from PyHEADTAIL.particles import generators, slicing\n",
    "from PyHEADTAIL.spacecharge.spacecharge import TransverseGaussianSpaceCharge\n",
    "\n",
    "%matplotlib inline\n",
    "import matplotlib.pyplot as plt\n",
    "\n",
    "np.random.seed(0)"
   ]
  },
  {
   "cell_type": "code",
   "execution_count": 2,
   "metadata": {
    "collapsed": false
   },
   "outputs": [],
   "source": [
    "# general simulation parameters\n",
    "n_turns = 20000\n",
    "n_particles = 10000\n",
    "n_segments = 1\n",
    "\n",
    "# machine parameters\n",
    "circumference = 157.\n",
    "inj_alpha_x = 0\n",
    "inj_alpha_y = 0\n",
    "inj_beta_x = 6.3 # in [m]\n",
    "inj_beta_y = 5.7 # in [m]\n",
    "Qx = 5.1\n",
    "Qy = 6.1\n",
    "gamma_tr = 4.05\n",
    "alpha_c_array = [gamma_tr**-2]\n",
    "V_rf = 8e3 # in [V]\n",
    "harmonic = 1\n",
    "phi_offset = 0 # measured from aligned focussing phase (0 or pi)\n",
    "pipe_radius = 5e-2\n",
    "\n",
    "# beam parameters\n",
    "Ekin = 1.4e9 # in [eV]\n",
    "intensity = 1.684e12\n",
    "epsn_x = 2.5e-6 # in [m*rad]\n",
    "epsn_y = 2.5e-6 # in [m*rad]\n",
    "epsn_z = 1.2 # 4pi*sig_z*sig_dp (*p0/e) in [eVs]\n",
    "\n",
    "# calculations\n",
    "gamma = 1 + e * Ekin / (m_p * c**2)\n",
    "beta = np.sqrt(1 - gamma**-2)\n",
    "eta = alpha_c_array[0] - gamma**-2\n",
    "if eta < 0:\n",
    "    phi_offset = np.pi - phi_offset\n",
    "Etot = gamma * m_p * c**2 / e\n",
    "p0 = np.sqrt(gamma**2 - 1) * m_p * c\n",
    "Qs = np.sqrt(np.abs(eta) * V_rf / (2 * np.pi * beta**2 * Etot))\n",
    "beta_z = np.abs(eta) * circumference / (2 * np.pi * Qs)\n",
    "turn_period = circumference / (beta * c)\n",
    "\n",
    "# BETATRON\n",
    "# Loop on number of segments and create the TransverseSegmentMap\n",
    "# for each segment.\n",
    "s = np.arange(0, n_segments + 1) * circumference / n_segments\n",
    "alpha_x = inj_alpha_x * np.ones(n_segments)\n",
    "beta_x  = inj_beta_x * np.ones(n_segments)\n",
    "D_x     = np.zeros(n_segments)\n",
    "alpha_y = inj_alpha_y * np.ones(n_segments)\n",
    "beta_y  = inj_beta_y * np.ones(n_segments)\n",
    "D_y     = np.zeros(n_segments)"
   ]
  },
  {
   "cell_type": "code",
   "execution_count": 3,
   "metadata": {
    "collapsed": false
   },
   "outputs": [],
   "source": [
    "bunch = generators.generate_Gaussian6DTwiss( \n",
    "    # implicitly tests Gaussian and Gaussian2DTwiss as well\n",
    "    n_particles, intensity, e, m_p, circumference, gamma,\n",
    "    inj_alpha_x, inj_alpha_y,\n",
    "    inj_beta_x, inj_beta_y, beta_z,\n",
    "    epsn_x, epsn_y, epsn_z,\n",
    "    )\n",
    "slicer = slicing.UniformBinSlicer(20, n_sigma_z=4)\n",
    "besc = TransverseGaussianSpaceCharge(slicer, circumference)"
   ]
  },
  {
   "cell_type": "code",
   "execution_count": 4,
   "metadata": {
    "collapsed": false
   },
   "outputs": [],
   "source": [
    "slices = bunch.get_slices(slicer, statistics=[\"mean_x\", \"mean_y\", \"sigma_x\", \"sigma_y\"])"
   ]
  },
  {
   "cell_type": "code",
   "execution_count": 5,
   "metadata": {
    "collapsed": false
   },
   "outputs": [
    {
     "name": "stderr",
     "output_type": "stream",
     "text": [
      "/home/oeftiger/anaconda/lib/python2.7/site-packages/matplotlib/collections.py:590: FutureWarning: elementwise comparison failed; returning scalar instead, but in the future will perform elementwise comparison\n",
      "  if self._edgecolors == str('face'):\n",
      "/home/oeftiger/anaconda/lib/python2.7/site-packages/matplotlib/collections.py:590: FutureWarning: elementwise comparison failed; returning scalar instead, but in the future will perform elementwise comparison\n",
      "  if self._edgecolors == str('face'):\n"
     ]
    },
    {
     "data": {
      "image/png": "[encoded data removed]",
      "text/plain": [
       "<matplotlib.figure.Figure at 0x7efd58575a50>"
      ]
     },
     "metadata": {},
     "output_type": "display_data"
    }
   ],
   "source": [
    "xp0 = bunch.xp.copy()\n",
    "yp0 = bunch.yp.copy()\n",
    "plt.scatter(bunch.x, xp0)\n",
    "plt.show()"
   ]
  },
  {
   "cell_type": "code",
   "execution_count": 6,
   "metadata": {
    "collapsed": false
   },
   "outputs": [
    {
     "name": "stdout",
     "output_type": "stream",
     "text": [
      "0.00259419341406 0.00249178889205\n"
     ]
    }
   ],
   "source": [
    "print bunch.sigma_x(), bunch.sigma_y()"
   ]
  },
  {
   "cell_type": "code",
   "execution_count": 7,
   "metadata": {
    "collapsed": false
   },
   "outputs": [
    {
     "data": {
      "text/plain": [
       "[<matplotlib.lines.Line2D at 0x7efce9956510>]"
      ]
     },
     "execution_count": 7,
     "metadata": {},
     "output_type": "execute_result"
    },
    {
     "data": {
      "image/png": "[encoded data removed]",
      "text/plain": [
       "<matplotlib.figure.Figure at 0x7efd585daf10>"
      ]
     },
     "metadata": {},
     "output_type": "display_data"
    }
   ],
   "source": [
    "plt.plot(slices.lambda_bins(smoothen=False))"
   ]
  },
  {
   "cell_type": "code",
   "execution_count": 8,
   "metadata": {
    "collapsed": false
   },
   "outputs": [],
   "source": [
    "besc.track(bunch)\n",
    "xp1 = bunch.xp\n",
    "yp1 = bunch.yp"
   ]
  },
  {
   "cell_type": "code",
   "execution_count": 9,
   "metadata": {
    "collapsed": false
   },
   "outputs": [
    {
     "name": "stderr",
     "output_type": "stream",
     "text": [
      "/home/oeftiger/anaconda/lib/python2.7/site-packages/matplotlib/collections.py:590: FutureWarning: elementwise comparison failed; returning scalar instead, but in the future will perform elementwise comparison\n",
      "  if self._edgecolors == str('face'):\n",
      "/home/oeftiger/anaconda/lib/python2.7/site-packages/matplotlib/collections.py:590: FutureWarning: elementwise comparison failed; returning scalar instead, but in the future will perform elementwise comparison\n",
      "  if self._edgecolors == str('face'):\n"
     ]
    },
    {
     "data": {
      "image/png": "[encoded data removed]",
      "text/plain": [
       "<matplotlib.figure.Figure at 0x7efce9911910>"
      ]
     },
     "metadata": {},
     "output_type": "display_data"
    }
   ],
   "source": [
    "plt.scatter(bunch.x, xp1)\n",
    "plt.show()"
   ]
  },
  {
   "cell_type": "code",
   "execution_count": 10,
   "metadata": {
    "collapsed": false
   },
   "outputs": [
    {
     "data": {
      "image/png": "[encoded data removed]",
      "text/plain": [
       "<matplotlib.figure.Figure at 0x7efce9911ed0>"
      ]
     },
     "metadata": {},
     "output_type": "display_data"
    }
   ],
   "source": [
    "x = np.arange(-2e-5, 2e-5, 1e-8)\n",
    "y = np.zeros(len(x))\n",
    "sig_x = 1.2e-6\n",
    "sig_y = 1e-6\n",
    "\n",
    "plt.plot(x, besc._efieldn_mit(x, y, sig_x, sig_y)[0])\n",
    "plt.plot(x, besc._efieldn_mitmod(x, y, sig_x, sig_y)[0])\n",
    "try:\n",
    "    plt.plot(x, besc._efieldn_koelbig(x, y, sig_x, sig_y)[0])\n",
    "    plt.plot(x, besc._efieldn_pyecloud(x, y, sig_x, sig_y)[0])\n",
    "except ImportError:\n",
    "    pass\n",
    "plt.xlim(x[0]*1.1, x[-1]*1.1)\n",
    "plt.show()"
   ]
  },
  {
   "cell_type": "code",
   "execution_count": 11,
   "metadata": {
    "collapsed": false
   },
   "outputs": [
    {
     "name": "stdout",
     "output_type": "stream",
     "text": [
      "1000 loops, best of 3: 844 µs per loop\n"
     ]
    }
   ],
   "source": [
    "%timeit besc._efieldn_mit(x, y, sig_x, sig_y)"
   ]
  },
  {
   "cell_type": "code",
   "execution_count": 12,
   "metadata": {
    "collapsed": false
   },
   "outputs": [
    {
     "name": "stdout",
     "output_type": "stream",
     "text": [
      "1000 loops, best of 3: 1.42 ms per loop\n"
     ]
    }
   ],
   "source": [
    "%timeit besc._efieldn_mitmod(x, y, sig_x, sig_y)"
   ]
  },
  {
   "cell_type": "code",
   "execution_count": 13,
   "metadata": {
    "collapsed": false
   },
   "outputs": [
    {
     "name": "stdout",
     "output_type": "stream",
     "text": [
      "100 loops, best of 3: 5.99 ms per loop\n"
     ]
    }
   ],
   "source": [
    "%timeit besc._efieldn_koelbig(x, y, sig_x, sig_y)"
   ]
  },
  {
   "cell_type": "code",
   "execution_count": 14,
   "metadata": {
    "collapsed": false
   },
   "outputs": [
    {
     "name": "stdout",
     "output_type": "stream",
     "text": [
      "100 loops, best of 3: 6.57 ms per loop\n"
     ]
    }
   ],
   "source": [
    "%timeit besc._efieldn_pyecloud(x, y, sig_x, sig_y)"
   ]
  },
  {
   "cell_type": "code",
   "execution_count": 15,
   "metadata": {
    "collapsed": false
   },
   "outputs": [
    {
     "data": {
      "image/png": "[encoded data removed]",
      "text/plain": [
       "<matplotlib.figure.Figure at 0x7efce9870650>"
      ]
     },
     "metadata": {},
     "output_type": "display_data"
    }
   ],
   "source": [
    "eround_x, _ = besc.get_efieldn(x, y, 0, 0, sig_x, sig_x)\n",
    "en_x, _ = besc.get_efieldn(x, y, 0, 0, sig_x, sig_x+1e-10)\n",
    "plt.plot(x, eround_x)\n",
    "plt.plot(x, en_x)\n",
    "plt.show()"
   ]
  },
  {
   "cell_type": "code",
   "execution_count": 15,
   "metadata": {
    "collapsed": false
   },
   "outputs": [],
   "source": []
  }
 ],
 "metadata": {
  "kernelspec": {
   "display_name": "Python 2",
   "language": "python",
   "name": "python2"
  },
  "language_info": {
   "codemirror_mode": {
    "name": "ipython",
    "version": 2
   },
   "file_extension": ".py",
   "mimetype": "text/x-python",
   "name": "python",
   "nbconvert_exporter": "python",
   "pygments_lexer": "ipython2",
   "version": "2.7.10"
  }
 },
 "nbformat": 4,
 "nbformat_minor": 0
}
