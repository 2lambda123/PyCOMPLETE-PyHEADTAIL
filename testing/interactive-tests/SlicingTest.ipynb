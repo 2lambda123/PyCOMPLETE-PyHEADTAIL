{
 "metadata": {
  "name": "",
  "signature": "sha256:e135ba2bdf078a458dfad749b04ffda51dd7583fb6b5496df4e2c84ced356936"
 },
 "nbformat": 3,
 "nbformat_minor": 0,
 "worksheets": [
  {
   "cells": [
    {
     "cell_type": "code",
     "collapsed": false,
     "input": [
      "import sys, os\n",
      "#BIN = os.path.expanduser(\"~/cern/git/PyHEADTAIL-new/\")\n",
      "BIN = os.path.expanduser(\"~/TECH/PyHEADTAIL/\")\n",
      "sys.path.append(BIN)"
     ],
     "language": "python",
     "metadata": {},
     "outputs": [],
     "prompt_number": 1
    },
    {
     "cell_type": "code",
     "collapsed": false,
     "input": [
      "import numpy as np\n",
      "from scipy.constants import m_p, c, e\n",
      "import matplotlib.pyplot as plt\n",
      "\n",
      "from PyHEADTAIL.particles.particles import Particles\n",
      "import PyHEADTAIL.particles.generators as generators\n",
      "from PyHEADTAIL.particles.slicing import UniformBinSlicer, UniformChargeSlicer, ModeIsNotUniformBin, ModeIsUniformCharge"
     ],
     "language": "python",
     "metadata": {},
     "outputs": [
      {
       "output_type": "stream",
       "stream": "stdout",
       "text": [
        "PyHEADTAIL v1.0.0\n",
        "\n",
        "\n"
       ]
      }
     ],
     "prompt_number": 2
    },
    {
     "cell_type": "code",
     "collapsed": false,
     "input": [
      "# HELPERS\n",
      "\n",
      "def plot_slice_set_structure(axes, bunch, slice_set):\n",
      "    '''Plot basic structure of SliceSet - z_bins, z_centers,\n",
      "    n_macroparticles_per_slice.\n",
      "    '''\n",
      "    [axes.axvline(z, c='b', lw=2) for z in slice_set.z_bins[1:]]\n",
      "    axes.axvline(slice_set.z_bins[0], c='b', lw=2,\n",
      "                 label='z_bins')\n",
      "    [axes.axvline(z, c='b', ls='dashed') for z in\n",
      "        slice_set.z_centers[1:]]\n",
      "    axes.axvline(slice_set.z_centers[0], c='b', ls='dashed',\n",
      "                 label='z_centers')\n",
      "    axes.plot(slice_set.z_centers,\n",
      "              slice_set.n_macroparticles_per_slice,\n",
      "              'x', color='black', ms=10, mew=2,\n",
      "              label='z_centers vs. n_macroparticles')\n",
      "    y_up =  max(slice_set.n_macroparticles_per_slice)\n",
      "    y_up += 0.1 * y_up\n",
      "    axes.set_ylim((0,y_up))\n",
      "    axes.set_xlim(((1+0.1) * min(bunch.z), (1+0.1) * max(bunch.z)))\n",
      "\n",
      "def plot_particle_indices_of_slice(axes, bunch, slice_set):\n",
      "    '''Show all particles in a z vs. slice_index plot. Add SliceSet\n",
      "    and slice boundaries. particles_within_cuts are overlayed\n",
      "    to see if they have been correctly determined.\n",
      "    '''\n",
      "    z_cut_tail = slice_set.z_cut_tail\n",
      "    z_cut_head = slice_set.z_cut_head\n",
      "    part_in_cuts = slice_set.particles_within_cuts\n",
      "    six = slice_set.slice_index_of_particle\n",
      "\n",
      "    axes.plot(six, bunch.z, '.r', ms=12, label='All particles')\n",
      "    axes.plot(six.take(part_in_cuts), bunch.z.take(part_in_cuts), '.g',\n",
      "             label='particles_within_cuts')\n",
      "    axes.axhline(z_cut_tail, color='b', ls='dashed',\n",
      "                label='SliceSet boundaries')\n",
      "    axes.axhline(z_cut_head, color='b', ls='dashed')\n",
      "    [axes.axhline(z, color='b', ls='dashed') for z in\n",
      "        slice_set.z_bins]\n",
      "    axes.axvline(0, color='m', label='slices 0 and n-1')\n",
      "    axes.axvline(slice_set.n_slices-1, color='m')\n",
      "    axes.set_xlim((min(slice_set.slice_index_of_particle)-1,\n",
      "                   max(slice_set.slice_index_of_particle)+1))\n",
      "    axes.legend(loc='lower right')\n",
      "\n",
      "def test_particle_indices_of_slice(bunch, slice_set):\n",
      "    '''Get particle_indices_of_slice for specific slice index. Apply\n",
      "    'inverse function' slice_index_of_particle to get back slice_index\n",
      "    if everything works correctly.\n",
      "    '''\n",
      "    all_pass = True\n",
      "    for i in xrange(slice_set.n_slices):\n",
      "        pix_slice = slice_set.particle_indices_of_slice(i)\n",
      "        six_pix = slice_set.slice_index_of_particle[pix_slice]\n",
      "        if (six_pix != i).any():\n",
      "            all_pass = False\n",
      "\n",
      "    if all_pass:\n",
      "        print ('  Particle_indices_of_slice <-> slice_index_of_particle PASSED')\n",
      "    if not all_pass:\n",
      "        print ('  Particle_indices_of_slice and slice_index_of_particle FAILED')\n",
      "\n",
      "def slice_set_statistics(bunch, slice_set):\n",
      "    '''Test if statistics functions are executable. No value\n",
      "    checking\n",
      "    '''\n",
      "    slice_set.mean_x(bunch)\n",
      "    slice_set.sigma_x(bunch)\n",
      "    slice_set.epsn_x(bunch)\n",
      "    slice_set.mean_y(bunch)\n",
      "    slice_set.sigma_y(bunch)\n",
      "    slice_set.epsn_y(bunch)\n",
      "    slice_set.mean_z(bunch)\n",
      "    slice_set.sigma_z(bunch)\n",
      "    slice_set.epsn_z(bunch)\n",
      "    \n",
      "def plot_results_uniform_bin(bunch, uniform_bin_slice_set):\n",
      "    # Plot environment\n",
      "    fig = plt.figure(figsize=(12,12))\n",
      "    ax1 = fig.add_subplot(211)\n",
      "    ax2 = fig.add_subplot(212)\n",
      "\n",
      "    plot_slice_set_structure(axes=ax1, bunch=bunch,\n",
      "                             slice_set=uniform_bin_slice_set)\n",
      "    if n_sigma_z == None:\n",
      "        ax1.hist(bunch.z, uniform_bin_slice_set.n_slices, color='r', alpha=0.6,\n",
      "                 label='matplotlib hist')\n",
      "    ax1.legend(loc='lower left')\n",
      "\n",
      "    plot_particle_indices_of_slice(axes=ax2, bunch=bunch,\n",
      "                                   slice_set=uniform_bin_slice_set)\n",
      "\n",
      "    ax1.set_xlabel('z [m]')\n",
      "    ax1.set_ylabel('# macroparticles')\n",
      "    ax2.set_xlabel('slice index')\n",
      "    ax2.set_ylabel('z [m]')\n",
      "    plt.show()\n",
      "    \n",
      "def plot_results_uniform_charge(bunch, uniform_charge_slice_set):\n",
      "    # Plot environment\n",
      "    fig = plt.figure(figsize=(12,12))\n",
      "    ax1 = fig.add_subplot(211)\n",
      "    ax2 = fig.add_subplot(212)\n",
      "\n",
      "    plot_slice_set_structure(axes=ax1, bunch=bunch,\n",
      "                             slice_set=uniform_charge_slice_set)\n",
      "\n",
      "    n_particles_within_cuts = len(uniform_charge_slice_set.particles_within_cuts)\n",
      "    ax1.axhline(n_particles_within_cuts / float(uniform_charge_slice_set.n_slices),\n",
      "                c='r', ls='dashed', lw=2,\n",
      "                label='expected number of particles per slice')\n",
      "    ax1.legend(loc='lower left')\n",
      "\n",
      "    plot_particle_indices_of_slice(axes=ax2, bunch=bunch,\n",
      "                                   slice_set=uniform_charge_slice_set)\n",
      "\n",
      "    ax1.set_xlabel('z [m]')\n",
      "    ax1.set_ylabel('# macroparticles')\n",
      "    ax2.set_xlabel('slice index')\n",
      "    ax2.set_ylabel('z [m]')\n",
      "    plt.show()\n",
      "\n",
      "def call_slice_set_attributes(bunch, slice_set):\n",
      "    # Call all the properties / attributes / methods.\n",
      "    print 'z_cut_head', slice_set.z_cut_head\n",
      "    print 'z_cut_tail', slice_set.z_cut_tail\n",
      "    print 'z_centers', slice_set.z_centers\n",
      "    print 'n_slices', slice_set.n_slices\n",
      "    print 'slice_widths', slice_set.slice_widths\n",
      "    print 'slice_positions', slice_set.slice_positions\n",
      "    print 'n_macroparticles_per_slice', slice_set.n_macroparticles_per_slice\n",
      "    print 'particles_within_cuts', slice_set.particles_within_cuts\n",
      "    print 'particle_indices_by_slice', slice_set.particle_indices_by_slice\n",
      "\n",
      "    test_particle_indices_of_slice(bunch, slice_set)\n",
      "    slice_set_statistics(bunch, slice_set)\n",
      "\n",
      "    print 'line_density_derivative_gauss', slice_set.line_density_derivative_gauss()\n",
      "    print 'line_density_derivative', slice_set.line_density_derivative()\n",
      "\n",
      "    \n",
      "def call_slicer_attributes():\n",
      "    pass\n",
      "\n",
      "def clean_bunch(bunch):\n",
      "    bunch.clean_slices()"
     ],
     "language": "python",
     "metadata": {
      "slideshow": {
       "slide_type": "-"
      }
     },
     "outputs": [],
     "prompt_number": 3
    },
    {
     "cell_type": "code",
     "collapsed": false,
     "input": [
      "# Basic parameters.\n",
      "n_macroparticles = 500\n",
      "\n",
      "Q_x = 64.28\n",
      "Q_y = 59.31\n",
      "Q_s = 0.0020443\n",
      "\n",
      "C = 26658.883\n",
      "R = C / (2.*np.pi)\n",
      "\n",
      "alpha_x_inj = 0.\n",
      "alpha_y_inj = 0.\n",
      "beta_x_inj = 66.0064\n",
      "beta_y_inj = 71.5376\n",
      "alpha_0 = [0.0003225]"
     ],
     "language": "python",
     "metadata": {},
     "outputs": [],
     "prompt_number": 4
    },
    {
     "cell_type": "code",
     "collapsed": false,
     "input": [
      "# general simulation parameters\n",
      "n_particles = 10000\n",
      "\n",
      "# machine parameters\n",
      "circumference = 157.\n",
      "inj_alpha_x = 0\n",
      "inj_alpha_y = 0\n",
      "inj_beta_x = 5.9 # in [m]\n",
      "inj_beta_y = 5.7 # in [m]\n",
      "Qx = 5.1\n",
      "Qy = 6.1\n",
      "gamma_tr = 4.05\n",
      "alpha_c_array = [gamma_tr**-2]\n",
      "V_rf = 8e3 # in [V]\n",
      "harmonic = 1\n",
      "phi_offset = 0 # measured from aligned focussing phase (0 or pi)\n",
      "pipe_radius = 5e-2\n",
      "\n",
      "# beam parameters\n",
      "Ekin = 1.4e9 # in [eV]\n",
      "intensity = 1.684e12\n",
      "epsn_x = 2.5e-6 # in [m*rad]\n",
      "epsn_y = 2.5e-6 # in [m*rad]\n",
      "epsn_z = 1.2 # 4pi*sig_z*sig_dp (*p0/e) in [eVs]\n",
      "\n",
      "# calculations\n",
      "gamma = 1 + e * Ekin / (m_p * c**2)\n",
      "beta = np.sqrt(1 - gamma**-2)\n",
      "eta = alpha_c_array[0] - gamma**-2\n",
      "if eta < 0:\n",
      "    phi_offset = np.pi - phi_offset\n",
      "Etot = gamma * m_p * c**2 / e\n",
      "p0 = np.sqrt(gamma**2 - 1) * m_p * c\n",
      "Qs = np.sqrt(np.abs(eta) * V_rf / (2 * np.pi * beta**2 * Etot))\n",
      "beta_z = np.abs(eta) * circumference / (2 * np.pi * Qs)\n",
      "turn_period = circumference / (beta * c)\n",
      "\n",
      "bunch = generators.Gaussian6DTwiss( # implicitly tests Gaussian and Gaussian2DTwiss as well\n",
      "    n_particles, intensity, e, m_p, circumference, gamma,\n",
      "    inj_alpha_x, inj_beta_x, epsn_x,\n",
      "    inj_alpha_y, inj_beta_y, epsn_y, \n",
      "    beta_z, epsn_z\n",
      "    ).generate()"
     ],
     "language": "python",
     "metadata": {},
     "outputs": [],
     "prompt_number": 5
    },
    {
     "cell_type": "code",
     "collapsed": false,
     "input": [
      "# Call all the properties / attributes of the SliceSet and Slicer.\n",
      "# Note that most of them are also called and actually checked for\n",
      "# their values in the visual checks below.\n",
      "# particle_indices_of_slice and slice_index_of_particle are checked\n",
      "# by the method test_particle_indices_of_slice(bunch, slice_set).\n",
      "# Stats are checked by method slice_set_statistics(bunch, slice_set)."
     ],
     "language": "python",
     "metadata": {},
     "outputs": [],
     "prompt_number": 24
    },
    {
     "cell_type": "code",
     "collapsed": false,
     "input": [
      "# Uniform bin slicer\n",
      "n_slices = 10\n",
      "n_sigma_z = 2\n",
      "uniform_bin_slicer = UniformBinSlicer(n_slices, n_sigma_z)\n",
      "\n",
      "# Request slice_set from bunch with the uniform_bin_slicer config.\n",
      "print 'bunch._slice_sets', bunch._slice_sets\n",
      "uniform_bin_slice_set = bunch.get_slices(uniform_bin_slicer)\n",
      "print 'bunch._slice_sets', bunch._slice_sets\n",
      "\n",
      "print '\\n UNIFORM BIN SLICE SET, NSIGMAZ=2, 10 SLICES \\n'\n",
      "print 'slicer.config', uniform_bin_slicer.config\n",
      "call_slice_set_attributes(bunch, uniform_bin_slice_set)\n",
      "#call_slicer_attributes(uniform_bin_slice_set)\n",
      "\n",
      "# Let bunch remove the slice_set.\n",
      "bunch.clean_slices()\n",
      "print 'bunch._slice_sets', bunch._slice_sets"
     ],
     "language": "python",
     "metadata": {},
     "outputs": [
      {
       "output_type": "stream",
       "stream": "stdout",
       "text": [
        "bunch._slice_sets {}\n",
        "bunch._slice_sets {<PyHEADTAIL.particles.slicing.UniformBinSlicer object at 0xb38d5ac>: <PyHEADTAIL.particles.slicing.SliceSet object at 0xb38d50c>}\n",
        "\n",
        " UNIFORM BIN SLICE SET, NSIGMAZ=2, 10 SLICES \n",
        "\n",
        "slicer.config ('uniform_bin', 10, 2, None)\n",
        "z_cut_head 22.7996162145\n",
        "z_cut_tail -22.8285748504\n",
        "z_centers [-20.5471653  -15.98434619 -11.42152708  -6.85870798  -2.29588887\n",
        "   2.26693024   6.82974934  11.39256845  15.95538755  20.51820666]\n",
        "n_slices 10\n",
        "slice_widths [ 4.56281911  4.56281911  4.56281911  4.56281911  4.56281911  4.56281911\n",
        "  4.56281911  4.56281911  4.56281911  4.56281911]\n",
        "slice_positions [   0  300  884 1817 3234 4795 6300 7583 8607 9212 9518]\n",
        "n_macroparticles_per_slice [ 300  584  933 1417 1561 1505 1283 1024  605  306]\n",
        "particles_within_cuts [   1    2    3 ..., 9996 9998 9999]\n",
        "particle_indices_by_slice [  42  110  133 ..., 9912 9981 9987]\n",
        "  Particle_indices_of_slice <-> slice_index_of_particle PASSED\n",
        "line_density_derivative_gauss [ 62.24177244  69.36506627  91.17154056  68.70738689   9.64323181\n",
        " -30.4635562  -52.70863941 -74.18652842 -78.56978227 -65.52923579]\n",
        "line_density_derivative [ 62.24222205  69.36501155  91.28128691  68.81710466   9.64316116\n",
        " -30.46362276 -52.70864226 -74.2961735  -78.67942858 -65.52966336]\n",
        "bunch._slice_sets {}\n"
       ]
      }
     ],
     "prompt_number": 6
    },
    {
     "cell_type": "code",
     "collapsed": false,
     "input": [
      "# Uniform charge slicer\n",
      "n_slices = 10\n",
      "n_sigma_z = 2\n",
      "\n",
      "clean_bunch(bunch)\n",
      "\n",
      "uniform_charge_slicer = UniformChargeSlicer(n_slices, n_sigma_z)\n",
      "uniform_charge_slice_set = bunch.get_slices(uniform_charge_slicer)\n",
      "\n",
      "print uniform_charge_slice_set.mode\n",
      "\n",
      "print '\\n UNIFORM CHARGE SLICE SET, NSIGMAZ=2, 10 SLICES \\n'\n",
      "print 'slicer.config', uniform_charge_slicer.config\n",
      "\n",
      "call_slice_set_attributes(bunch, uniform_charge_slice_set)\n"
     ],
     "language": "python",
     "metadata": {},
     "outputs": [
      {
       "output_type": "stream",
       "stream": "stdout",
       "text": [
        "uniform_charge\n",
        "\n",
        " UNIFORM CHARGE SLICE SET, NSIGMAZ=2, 10 SLICES \n",
        "\n",
        "slicer.config ('uniform_charge', 10, 2, None)\n",
        "z_cut_head 22.7996162145\n",
        "z_cut_tail -22.8285748504\n",
        "z_centers [-18.03982656 -11.0399457   -7.25274194  -4.29051947  -1.50884537\n",
        "   1.31827166   4.22781944   7.46863064  11.34093631  18.12500028]\n",
        "n_slices 10\n",
        "slice_widths [ 9.57749659  4.42226514  3.15214237  2.77230257  2.79104563  2.86318843\n",
        "  2.95590714  3.52571526  4.21889609  9.34923186]\n",
        "slice_positions [   0  951 1903 2855 3807 4759 5711 6663 7614 8566 9518]\n",
        "n_macroparticles_per_slice [951 952 952 952 952 952 952 951 952 952]\n",
        "particles_within_cuts [   1    2    3 ..., 9996 9998 9999]\n",
        "particle_indices_by_slice [  12   25   42 ..., 9975 9981 9987]\n",
        "  Particle_indices_of_slice <-> slice_index_of_particle PASSED\n",
        "line_density_derivative_gauss"
       ]
      },
      {
       "ename": "ModeIsNotUniformBin",
       "evalue": "This SliceSet has self.mode not set to 'uniform_bin'!",
       "output_type": "pyerr",
       "traceback": [
        "\u001b[1;31m---------------------------------------------------------------------------\u001b[0m\n\u001b[1;31mModeIsNotUniformBin\u001b[0m                       Traceback (most recent call last)",
        "\u001b[1;32m<ipython-input-7-f8d8147b1e0d>\u001b[0m in \u001b[0;36m<module>\u001b[1;34m()\u001b[0m\n\u001b[0;32m     13\u001b[0m \u001b[1;32mprint\u001b[0m \u001b[1;34m'slicer.config'\u001b[0m\u001b[1;33m,\u001b[0m \u001b[0muniform_charge_slicer\u001b[0m\u001b[1;33m.\u001b[0m\u001b[0mconfig\u001b[0m\u001b[1;33m\u001b[0m\u001b[0m\n\u001b[0;32m     14\u001b[0m \u001b[1;33m\u001b[0m\u001b[0m\n\u001b[1;32m---> 15\u001b[1;33m \u001b[0mcall_slice_set_attributes\u001b[0m\u001b[1;33m(\u001b[0m\u001b[0mbunch\u001b[0m\u001b[1;33m,\u001b[0m \u001b[0muniform_charge_slice_set\u001b[0m\u001b[1;33m)\u001b[0m\u001b[1;33m\u001b[0m\u001b[0m\n\u001b[0m",
        "\u001b[1;32m<ipython-input-3-a5e3ac6dc425>\u001b[0m in \u001b[0;36mcall_slice_set_attributes\u001b[1;34m(bunch, slice_set)\u001b[0m\n\u001b[0;32m    137\u001b[0m     \u001b[0mslice_set_statistics\u001b[0m\u001b[1;33m(\u001b[0m\u001b[0mbunch\u001b[0m\u001b[1;33m,\u001b[0m \u001b[0mslice_set\u001b[0m\u001b[1;33m)\u001b[0m\u001b[1;33m\u001b[0m\u001b[0m\n\u001b[0;32m    138\u001b[0m \u001b[1;33m\u001b[0m\u001b[0m\n\u001b[1;32m--> 139\u001b[1;33m     \u001b[1;32mprint\u001b[0m \u001b[1;34m'line_density_derivative_gauss'\u001b[0m\u001b[1;33m,\u001b[0m \u001b[0mslice_set\u001b[0m\u001b[1;33m.\u001b[0m\u001b[0mline_density_derivative_gauss\u001b[0m\u001b[1;33m(\u001b[0m\u001b[1;33m)\u001b[0m\u001b[1;33m\u001b[0m\u001b[0m\n\u001b[0m\u001b[0;32m    140\u001b[0m     \u001b[1;32mprint\u001b[0m \u001b[1;34m'line_density_derivative'\u001b[0m\u001b[1;33m,\u001b[0m \u001b[0mslice_set\u001b[0m\u001b[1;33m.\u001b[0m\u001b[0mline_density_derivative\u001b[0m\u001b[1;33m(\u001b[0m\u001b[1;33m)\u001b[0m\u001b[1;33m\u001b[0m\u001b[0m\n\u001b[0;32m    141\u001b[0m \u001b[1;33m\u001b[0m\u001b[0m\n",
        "\u001b[1;32m/home/michael/TECH/PyHEADTAIL/particles/slicing.pyc\u001b[0m in \u001b[0;36mline_density_derivative_gauss\u001b[1;34m(self, sigma, smoothen_before, smoothen_after)\u001b[0m\n\u001b[0;32m    151\u001b[0m         '''\n\u001b[0;32m    152\u001b[0m         \u001b[1;32mif\u001b[0m \u001b[0mself\u001b[0m\u001b[1;33m.\u001b[0m\u001b[0mmode\u001b[0m \u001b[1;32mis\u001b[0m \u001b[1;32mnot\u001b[0m \u001b[1;34m'uniform_bin'\u001b[0m\u001b[1;33m:\u001b[0m\u001b[1;33m\u001b[0m\u001b[0m\n\u001b[1;32m--> 153\u001b[1;33m             \u001b[1;32mraise\u001b[0m \u001b[0mModeIsNotUniformBin\u001b[0m\u001b[1;33m(\u001b[0m\u001b[1;33m)\u001b[0m\u001b[1;33m\u001b[0m\u001b[0m\n\u001b[0m\u001b[0;32m    154\u001b[0m         \u001b[1;32mif\u001b[0m \u001b[0msigma\u001b[0m \u001b[1;32mis\u001b[0m \u001b[0mNone\u001b[0m\u001b[1;33m:\u001b[0m\u001b[1;33m\u001b[0m\u001b[0m\n\u001b[0;32m    155\u001b[0m             \u001b[0msigma\u001b[0m \u001b[1;33m=\u001b[0m \u001b[1;36m0.02\u001b[0m \u001b[1;33m*\u001b[0m \u001b[0mself\u001b[0m\u001b[1;33m.\u001b[0m\u001b[0mn_slices\u001b[0m\u001b[1;33m\u001b[0m\u001b[0m\n",
        "\u001b[1;31mModeIsNotUniformBin\u001b[0m: This SliceSet has self.mode not set to 'uniform_bin'!"
       ]
      }
     ],
     "prompt_number": 7
    },
    {
     "cell_type": "code",
     "collapsed": false,
     "input": [
      "# Other cases. When are slicers equal?\n",
      "n_slices = 10\n",
      "n_sigma_z = 2\n",
      "uniform_bin_slicer = UniformBinSlicer(n_slices, n_sigma_z)\n",
      "uniform_charge_slicer = UniformChargeSlicer(n_slices, n_sigma_z)\n",
      "\n",
      "uniform_charge_slicer == uniform_bin_slicer"
     ],
     "language": "python",
     "metadata": {},
     "outputs": [
      {
       "metadata": {},
       "output_type": "pyout",
       "prompt_number": 8,
       "text": [
        "False"
       ]
      },
      {
       "output_type": "stream",
       "stream": "stdout",
       "text": [
        "\n"
       ]
      }
     ],
     "prompt_number": 8
    },
    {
     "cell_type": "code",
     "collapsed": false,
     "input": [
      "# Other cases. When are slicers equal?\n",
      "n_slices = 10\n",
      "n_sigma_z = 2\n",
      "uniform_bin_slicer = UniformBinSlicer(n_slices, n_sigma_z)\n",
      "uniform_bin_slicer_2 = UniformBinSlicer(n_slices, n_sigma_z)\n",
      "\n",
      "uniform_bin_slicer_2 == uniform_bin_slicer"
     ],
     "language": "python",
     "metadata": {},
     "outputs": [
      {
       "metadata": {},
       "output_type": "pyout",
       "prompt_number": 9,
       "text": [
        "True"
       ]
      }
     ],
     "prompt_number": 9
    },
    {
     "cell_type": "code",
     "collapsed": false,
     "input": [
      "# Does bunch slice_set management work?\n",
      "n_slices = 10\n",
      "n_sigma_z = 2\n",
      "\n",
      "clean_bunch(bunch)\n",
      "\n",
      "uniform_charge_slicer = UniformChargeSlicer(n_slices, n_sigma_z)\n",
      "uniform_bin_slicer = UniformBinSlicer(n_slices, n_sigma_z)\n",
      "\n",
      "print bunch._slice_sets\n",
      "uniform_charge_slice_set = bunch.get_slices(uniform_charge_slicer)\n",
      "print bunch._slice_sets\n",
      "uniform_bin_slice_set = bunch.get_slices(uniform_bin_slicer)\n",
      "uniform_charge_slice_set = bunch.get_slices(uniform_charge_slicer)\n",
      "print bunch._slice_sets\n",
      "\n",
      "bunch.clean_slices()\n",
      "print bunch._slice_sets"
     ],
     "language": "python",
     "metadata": {},
     "outputs": [
      {
       "output_type": "stream",
       "stream": "stdout",
       "text": [
        "{}\n",
        "{<PyHEADTAIL.particles.slicing.UniformChargeSlicer object at 0xbaf4aac>: <PyHEADTAIL.particles.slicing.SliceSet object at 0xbb0bd4c>}\n",
        "{<PyHEADTAIL.particles.slicing.UniformChargeSlicer object at 0xbaf4aac>: <PyHEADTAIL.particles.slicing.SliceSet object at 0xbb0bd4c>, <PyHEADTAIL.particles.slicing.UniformBinSlicer object at 0xbaf4acc>: <PyHEADTAIL.particles.slicing.SliceSet object at 0xbaf4f6c>}\n",
        "{}\n"
       ]
      }
     ],
     "prompt_number": 14
    },
    {
     "cell_type": "code",
     "collapsed": false,
     "input": [
      "# Old method update_slices should give RuntimeError.\n",
      "n_slices = 10\n",
      "n_sigma_z = 2\n",
      "\n",
      "clean_bunch(bunch)\n",
      "\n",
      "uniform_charge_slicer = UniformChargeSlicer(n_slices, n_sigma_z)\n",
      "uniform_charge_slicer.update_slices(bunch)"
     ],
     "language": "python",
     "metadata": {},
     "outputs": [
      {
       "ename": "RuntimeError",
       "evalue": "update_slices(beam) no longer exists. Instead, remove all previously recorded SliceSetobjects in the beam via beam.clean_slices() when the longitudinal state of the beam is changed. Concretely: replace slices.update_slices(beam) by beam.clean_slices().The SliceSet objects should be retrieved via beam.get_slices(Slicer) *only*. In this way the beam can memorize previously created slice snapshots. This minimises computation time.",
       "output_type": "pyerr",
       "traceback": [
        "\u001b[1;31m---------------------------------------------------------------------------\u001b[0m\n\u001b[1;31mRuntimeError\u001b[0m                              Traceback (most recent call last)",
        "\u001b[1;32m<ipython-input-15-0b57cb3163e8>\u001b[0m in \u001b[0;36m<module>\u001b[1;34m()\u001b[0m\n\u001b[0;32m      6\u001b[0m \u001b[1;33m\u001b[0m\u001b[0m\n\u001b[0;32m      7\u001b[0m \u001b[0muniform_charge_slicer\u001b[0m \u001b[1;33m=\u001b[0m \u001b[0mUniformChargeSlicer\u001b[0m\u001b[1;33m(\u001b[0m\u001b[0mn_slices\u001b[0m\u001b[1;33m,\u001b[0m \u001b[0mn_sigma_z\u001b[0m\u001b[1;33m)\u001b[0m\u001b[1;33m\u001b[0m\u001b[0m\n\u001b[1;32m----> 8\u001b[1;33m \u001b[0muniform_charge_slicer\u001b[0m\u001b[1;33m.\u001b[0m\u001b[0mupdate_slices\u001b[0m\u001b[1;33m(\u001b[0m\u001b[0mbunch\u001b[0m\u001b[1;33m)\u001b[0m\u001b[1;33m\u001b[0m\u001b[0m\n\u001b[0m",
        "\u001b[1;32m/home/michael/TECH/PyHEADTAIL/particles/slicing.pyc\u001b[0m in \u001b[0;36mupdate_slices\u001b[1;34m(self, beam)\u001b[0m\n\u001b[0;32m    307\u001b[0m                            \u001b[1;34m'In this way the beam can memorize previously '\u001b[0m \u001b[1;33m+\u001b[0m\u001b[1;33m\u001b[0m\u001b[0m\n\u001b[0;32m    308\u001b[0m                            \u001b[1;34m'created slice snapshots. This minimises '\u001b[0m \u001b[1;33m+\u001b[0m\u001b[1;33m\u001b[0m\u001b[0m\n\u001b[1;32m--> 309\u001b[1;33m                            'computation time.')\n\u001b[0m\u001b[0;32m    310\u001b[0m \u001b[1;33m\u001b[0m\u001b[0m\n\u001b[0;32m    311\u001b[0m \u001b[1;32mclass\u001b[0m \u001b[0mUniformBinSlicer\u001b[0m\u001b[1;33m(\u001b[0m\u001b[0mSlicer\u001b[0m\u001b[1;33m)\u001b[0m\u001b[1;33m:\u001b[0m\u001b[1;33m\u001b[0m\u001b[0m\n",
        "\u001b[1;31mRuntimeError\u001b[0m: update_slices(beam) no longer exists. Instead, remove all previously recorded SliceSetobjects in the beam via beam.clean_slices() when the longitudinal state of the beam is changed. Concretely: replace slices.update_slices(beam) by beam.clean_slices().The SliceSet objects should be retrieved via beam.get_slices(Slicer) *only*. In this way the beam can memorize previously created slice snapshots. This minimises computation time."
       ]
      }
     ],
     "prompt_number": 15
    },
    {
     "cell_type": "code",
     "collapsed": false,
     "input": [
      "# VISUAL CHECKS FOR DIFFERENT SLICER CONFIGURATIONS."
     ],
     "language": "python",
     "metadata": {},
     "outputs": [],
     "prompt_number": 16
    },
    {
     "cell_type": "code",
     "collapsed": false,
     "input": [
      "# CASE I\n",
      "# UniformBinSlicer, no longitudinal cut.\n",
      "n_slices = 10\n",
      "n_sigma_z = None\n",
      "uniform_bin_slicer = UniformBinSlicer(n_slices, n_sigma_z)\n",
      "\n",
      "clean_bunch(bunch)\n",
      "\n",
      "print 'bunch._slice_sets', bunch._slice_sets\n",
      "\n",
      "# Request slice_set from bunch with the uniform_bin_slicer config.\n",
      "uniform_bin_slice_set = bunch.get_slices(uniform_bin_slicer)\n",
      "print 'bunch._slice_sets', bunch._slice_sets\n",
      "\n",
      "plot_results_uniform_bin(bunch, uniform_bin_slice_set)"
     ],
     "language": "python",
     "metadata": {},
     "outputs": [
      {
       "output_type": "stream",
       "stream": "stdout",
       "text": [
        "bunch._slice_sets {}\n",
        "bunch._slice_sets {<PyHEADTAIL.particles.slicing.UniformBinSlicer object at 0xb68e9ec>: <PyHEADTAIL.particles.slicing.SliceSet object at 0xb68e9cc>}\n"
       ]
      }
     ],
     "prompt_number": 17
    },
    {
     "cell_type": "code",
     "collapsed": false,
     "input": [
      "# CASE II\n",
      "# UniformBinSlicer, n_sigma_z = 1\n",
      "n_slices = 10\n",
      "n_sigma_z = 1\n",
      "uniform_bin_slicer = UniformBinSlicer(n_slices, n_sigma_z)\n",
      "\n",
      "clean_bunch(bunch)\n",
      "\n",
      "print 'bunch._slice_sets', bunch._slice_sets\n",
      "\n",
      "# Request slice_set from bunch with the uniform_bin_slicer config.\n",
      "uniform_bin_slice_set = bunch.get_slices(uniform_bin_slicer)\n",
      "print 'bunch._slice_sets', bunch._slice_sets\n",
      "\n",
      "plot_results_uniform_bin(bunch, uniform_bin_slice_set)"
     ],
     "language": "python",
     "metadata": {},
     "outputs": [
      {
       "output_type": "stream",
       "stream": "stdout",
       "text": [
        "bunch._slice_sets {}\n",
        "bunch._slice_sets {<PyHEADTAIL.particles.slicing.UniformBinSlicer object at 0xb783dcc>: <PyHEADTAIL.particles.slicing.SliceSet object at 0xb783dec>}\n"
       ]
      }
     ],
     "prompt_number": 18
    },
    {
     "cell_type": "code",
     "collapsed": false,
     "input": [
      "# CASE II b.\n",
      "# UniformBinSlicer, set z_cuts\n",
      "n_slices = 10\n",
      "z_cuts = (-0.05, 0.15)\n",
      "uniform_bin_slicer = UniformBinSlicer(n_slices, z_cuts=z_cuts)\n",
      "\n",
      "clean_bunch(bunch)\n",
      "\n",
      "print 'bunch._slice_sets', bunch._slice_sets\n",
      "\n",
      "# Request slice_set from bunch with the uniform_bin_slicer config.\n",
      "uniform_bin_slice_set = bunch.get_slices(uniform_bin_slicer)\n",
      "print 'bunch._slice_sets', bunch._slice_sets\n",
      "\n",
      "plot_results_uniform_bin(bunch, uniform_bin_slice_set)"
     ],
     "language": "python",
     "metadata": {},
     "outputs": [
      {
       "output_type": "stream",
       "stream": "stdout",
       "text": [
        "bunch._slice_sets {}\n",
        "bunch._slice_sets {<PyHEADTAIL.particles.slicing.UniformBinSlicer object at 0xb9985ac>: <PyHEADTAIL.particles.slicing.SliceSet object at 0xb9983cc>}\n"
       ]
      }
     ],
     "prompt_number": 19
    },
    {
     "cell_type": "code",
     "collapsed": false,
     "input": [
      "# CASE II c.\n",
      "# UniformBinSlicer, set z_cuts and n_sigma_z (THIS SHOULD FAIL).\n",
      "n_slices = 10\n",
      "z_cuts = (-0.05, 0.1)\n",
      "n_sigma_z = 2\n",
      "uniform_bin_slicer = UniformBinSlicer(n_slices, n_sigma_z=n_sigma_z, z_cuts=z_cuts)"
     ],
     "language": "python",
     "metadata": {},
     "outputs": [
      {
       "ename": "ValueError",
       "evalue": "Both arguments n_sigma_z and z_cuts are given while only one is accepted!",
       "output_type": "pyerr",
       "traceback": [
        "\u001b[1;31m---------------------------------------------------------------------------\u001b[0m\n\u001b[1;31mValueError\u001b[0m                                Traceback (most recent call last)",
        "\u001b[1;32m<ipython-input-20-14fcaa95864c>\u001b[0m in \u001b[0;36m<module>\u001b[1;34m()\u001b[0m\n\u001b[0;32m      4\u001b[0m \u001b[0mz_cuts\u001b[0m \u001b[1;33m=\u001b[0m \u001b[1;33m(\u001b[0m\u001b[1;33m-\u001b[0m\u001b[1;36m0.05\u001b[0m\u001b[1;33m,\u001b[0m \u001b[1;36m0.1\u001b[0m\u001b[1;33m)\u001b[0m\u001b[1;33m\u001b[0m\u001b[0m\n\u001b[0;32m      5\u001b[0m \u001b[0mn_sigma_z\u001b[0m \u001b[1;33m=\u001b[0m \u001b[1;36m2\u001b[0m\u001b[1;33m\u001b[0m\u001b[0m\n\u001b[1;32m----> 6\u001b[1;33m \u001b[0muniform_bin_slicer\u001b[0m \u001b[1;33m=\u001b[0m \u001b[0mUniformBinSlicer\u001b[0m\u001b[1;33m(\u001b[0m\u001b[0mn_slices\u001b[0m\u001b[1;33m,\u001b[0m \u001b[0mn_sigma_z\u001b[0m\u001b[1;33m=\u001b[0m\u001b[0mn_sigma_z\u001b[0m\u001b[1;33m,\u001b[0m \u001b[0mz_cuts\u001b[0m\u001b[1;33m=\u001b[0m\u001b[0mz_cuts\u001b[0m\u001b[1;33m)\u001b[0m\u001b[1;33m\u001b[0m\u001b[0m\n\u001b[0m",
        "\u001b[1;32m/home/michael/TECH/PyHEADTAIL/particles/slicing.pyc\u001b[0m in \u001b[0;36m__init__\u001b[1;34m(self, n_slices, n_sigma_z, z_cuts)\u001b[0m\n\u001b[0;32m    321\u001b[0m         \u001b[1;32mif\u001b[0m \u001b[0mn_sigma_z\u001b[0m \u001b[1;32mand\u001b[0m \u001b[0mz_cuts\u001b[0m\u001b[1;33m:\u001b[0m\u001b[1;33m\u001b[0m\u001b[0m\n\u001b[0;32m    322\u001b[0m             raise ValueError(\"Both arguments n_sigma_z and z_cuts are\" +\n\u001b[1;32m--> 323\u001b[1;33m                              \" given while only one is accepted!\")\n\u001b[0m\u001b[0;32m    324\u001b[0m         \u001b[0mmode\u001b[0m \u001b[1;33m=\u001b[0m \u001b[1;34m'uniform_bin'\u001b[0m\u001b[1;33m\u001b[0m\u001b[0m\n\u001b[0;32m    325\u001b[0m         \u001b[0mself\u001b[0m\u001b[1;33m.\u001b[0m\u001b[0mconfig\u001b[0m \u001b[1;33m=\u001b[0m \u001b[1;33m(\u001b[0m\u001b[0mmode\u001b[0m\u001b[1;33m,\u001b[0m \u001b[0mn_slices\u001b[0m\u001b[1;33m,\u001b[0m \u001b[0mn_sigma_z\u001b[0m\u001b[1;33m,\u001b[0m \u001b[0mz_cuts\u001b[0m\u001b[1;33m)\u001b[0m\u001b[1;33m\u001b[0m\u001b[0m\n",
        "\u001b[1;31mValueError\u001b[0m: Both arguments n_sigma_z and z_cuts are given while only one is accepted!"
       ]
      }
     ],
     "prompt_number": 20
    },
    {
     "cell_type": "code",
     "collapsed": false,
     "input": [
      "# CASE III\n",
      "# UniformChargeSlicer, no longitudinal cut.\n",
      "n_slices = 10\n",
      "n_sigma_z = None\n",
      "uniform_charge_slicer = UniformChargeSlicer(n_slices, n_sigma_z)\n",
      "\n",
      "clean_bunch(bunch)\n",
      "\n",
      "print 'bunch._slice_sets', bunch._slice_sets\n",
      "\n",
      "# Request slice_set from bunch with the uniform_charge_slicer config.\n",
      "uniform_charge_slice_set = bunch.get_slices(uniform_charge_slicer)\n",
      "print 'bunch._slice_sets', bunch._slice_sets\n",
      "\n",
      "plot_results_uniform_charge(bunch, uniform_charge_slice_set)"
     ],
     "language": "python",
     "metadata": {},
     "outputs": [
      {
       "output_type": "stream",
       "stream": "stdout",
       "text": [
        "bunch._slice_sets {}\n",
        "bunch._slice_sets {<PyHEADTAIL.particles.slicing.UniformChargeSlicer object at 0xb4ec40c>: <PyHEADTAIL.particles.slicing.SliceSet object at 0xb4ec64c>}\n"
       ]
      }
     ],
     "prompt_number": 21
    },
    {
     "cell_type": "code",
     "collapsed": false,
     "input": [
      "# CASE IV\n",
      "# UniformChargeSlicer, n_sigma_z = 1\n",
      "n_slices = 10\n",
      "n_sigma_z = 1\n",
      "uniform_charge_slicer = UniformChargeSlicer(n_slices, n_sigma_z)\n",
      "\n",
      "clean_bunch(bunch)\n",
      "\n",
      "print 'bunch._slice_sets', bunch._slice_sets\n",
      "\n",
      "# Request slice_set from bunch with the uniform_charge_slicer config.\n",
      "uniform_charge_slice_set = bunch.get_slices(uniform_charge_slicer)\n",
      "print 'bunch._slice_sets', bunch._slice_sets\n",
      "\n",
      "plot_results_uniform_charge(bunch, uniform_charge_slice_set)"
     ],
     "language": "python",
     "metadata": {},
     "outputs": [
      {
       "output_type": "stream",
       "stream": "stdout",
       "text": [
        "bunch._slice_sets {}\n",
        "bunch._slice_sets {<PyHEADTAIL.particles.slicing.UniformChargeSlicer object at 0xb83e74c>: <PyHEADTAIL.particles.slicing.SliceSet object at 0xb83e6ec>}\n"
       ]
      }
     ],
     "prompt_number": 22
    },
    {
     "cell_type": "code",
     "collapsed": false,
     "input": [
      "# CASE IV b.\n",
      "# UniformChargeSlicer, set z_cuts\n",
      "n_slices = 10\n",
      "z_cuts = (-20, 30)\n",
      "uniform_charge_slicer = UniformChargeSlicer(n_slices, z_cuts=z_cuts)\n",
      "\n",
      "clean_bunch(bunch)\n",
      "\n",
      "print 'bunch._slice_sets', bunch._slice_sets\n",
      "\n",
      "# Request slice_set from bunch with the uniform_bin_slicer config.\n",
      "uniform_charge_slice_set = bunch.get_slices(uniform_charge_slicer)\n",
      "print 'bunch._slice_sets', bunch._slice_sets\n",
      "\n",
      "plot_results_uniform_charge(bunch, uniform_charge_slice_set)"
     ],
     "language": "python",
     "metadata": {},
     "outputs": [
      {
       "output_type": "stream",
       "stream": "stdout",
       "text": [
        "bunch._slice_sets {}\n",
        "bunch._slice_sets {<PyHEADTAIL.particles.slicing.UniformChargeSlicer object at 0xb4cd2ec>: <PyHEADTAIL.particles.slicing.SliceSet object at 0xb4cda2c>}\n"
       ]
      }
     ],
     "prompt_number": 27
    },
    {
     "cell_type": "code",
     "collapsed": false,
     "input": [
      "# CASE IV c.\n",
      "# UniformChargeSlicer, set z_cuts and n_sigma_z (THIS SHOULD FAIL).\n",
      "n_slices = 10\n",
      "z_cuts = (-0.05, 0.1)\n",
      "n_sigma_z = 2\n",
      "uniform_charge_slicer = UniformChargeSlicer(n_slices, n_sigma_z=n_sigma_z, z_cuts=z_cuts)"
     ],
     "language": "python",
     "metadata": {},
     "outputs": [
      {
       "ename": "ValueError",
       "evalue": "Both arguments n_sigma_z and z_cuts are given while only one is accepted!",
       "output_type": "pyerr",
       "traceback": [
        "\u001b[1;31m---------------------------------------------------------------------------\u001b[0m\n\u001b[1;31mValueError\u001b[0m                                Traceback (most recent call last)",
        "\u001b[1;32m<ipython-input-28-43aca7726807>\u001b[0m in \u001b[0;36m<module>\u001b[1;34m()\u001b[0m\n\u001b[0;32m      4\u001b[0m \u001b[0mz_cuts\u001b[0m \u001b[1;33m=\u001b[0m \u001b[1;33m(\u001b[0m\u001b[1;33m-\u001b[0m\u001b[1;36m0.05\u001b[0m\u001b[1;33m,\u001b[0m \u001b[1;36m0.1\u001b[0m\u001b[1;33m)\u001b[0m\u001b[1;33m\u001b[0m\u001b[0m\n\u001b[0;32m      5\u001b[0m \u001b[0mn_sigma_z\u001b[0m \u001b[1;33m=\u001b[0m \u001b[1;36m2\u001b[0m\u001b[1;33m\u001b[0m\u001b[0m\n\u001b[1;32m----> 6\u001b[1;33m \u001b[0muniform_charge_slicer\u001b[0m \u001b[1;33m=\u001b[0m \u001b[0mUniformChargeSlicer\u001b[0m\u001b[1;33m(\u001b[0m\u001b[0mn_slices\u001b[0m\u001b[1;33m,\u001b[0m \u001b[0mn_sigma_z\u001b[0m\u001b[1;33m=\u001b[0m\u001b[0mn_sigma_z\u001b[0m\u001b[1;33m,\u001b[0m \u001b[0mz_cuts\u001b[0m\u001b[1;33m=\u001b[0m\u001b[0mz_cuts\u001b[0m\u001b[1;33m)\u001b[0m\u001b[1;33m\u001b[0m\u001b[0m\n\u001b[0m",
        "\u001b[1;32m/home/michael/TECH/PyHEADTAIL/particles/slicing.pyc\u001b[0m in \u001b[0;36m__init__\u001b[1;34m(self, n_slices, n_sigma_z, z_cuts)\u001b[0m\n\u001b[0;32m    354\u001b[0m         \u001b[1;32mif\u001b[0m \u001b[0mn_sigma_z\u001b[0m \u001b[1;32mand\u001b[0m \u001b[0mz_cuts\u001b[0m\u001b[1;33m:\u001b[0m\u001b[1;33m\u001b[0m\u001b[0m\n\u001b[0;32m    355\u001b[0m             raise ValueError(\"Both arguments n_sigma_z and z_cuts are\" +\n\u001b[1;32m--> 356\u001b[1;33m                              \" given while only one is accepted!\")\n\u001b[0m\u001b[0;32m    357\u001b[0m         \u001b[0mmode\u001b[0m \u001b[1;33m=\u001b[0m \u001b[1;34m'uniform_charge'\u001b[0m\u001b[1;33m\u001b[0m\u001b[0m\n\u001b[0;32m    358\u001b[0m         \u001b[0mself\u001b[0m\u001b[1;33m.\u001b[0m\u001b[0mconfig\u001b[0m \u001b[1;33m=\u001b[0m \u001b[1;33m(\u001b[0m\u001b[0mmode\u001b[0m\u001b[1;33m,\u001b[0m \u001b[0mn_slices\u001b[0m\u001b[1;33m,\u001b[0m \u001b[0mn_sigma_z\u001b[0m\u001b[1;33m,\u001b[0m \u001b[0mz_cuts\u001b[0m\u001b[1;33m)\u001b[0m\u001b[1;33m\u001b[0m\u001b[0m\n",
        "\u001b[1;31mValueError\u001b[0m: Both arguments n_sigma_z and z_cuts are given while only one is accepted!"
       ]
      }
     ],
     "prompt_number": 28
    },
    {
     "cell_type": "code",
     "collapsed": false,
     "input": [],
     "language": "python",
     "metadata": {},
     "outputs": []
    }
   ],
   "metadata": {}
  }
 ]
}