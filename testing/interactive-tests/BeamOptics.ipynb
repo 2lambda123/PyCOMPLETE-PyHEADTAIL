{
 "cells": [
  {
   "cell_type": "code",
   "execution_count": 1,
   "metadata": {
    "collapsed": true
   },
   "outputs": [],
   "source": [
    "import sys, os\n",
    "BIN = os.path.expanduser(\"../../../\")\n",
    "sys.path.append(BIN)"
   ]
  },
  {
   "cell_type": "code",
   "execution_count": 2,
   "metadata": {
    "collapsed": false
   },
   "outputs": [
    {
     "name": "stdout",
     "output_type": "stream",
     "text": [
      "PyHEADTAIL v1.2.0-80-gc9c5aca439-dirty\n",
      "\n",
      "\n"
     ]
    }
   ],
   "source": [
    "import numpy as np\n",
    "from scipy.constants import m_p, c, e\n",
    "from mpl_toolkits.mplot3d import Axes3D\n",
    "import matplotlib.pyplot as plt\n",
    "import matplotlib.patches as mpatches\n",
    "import math as m\n",
    "\n",
    "from PyHEADTAIL.trackers.transverse_tracking import TransverseMap\n",
    "from PyHEADTAIL.trackers.simple_long_tracking import LinearMap\n",
    "import PyHEADTAIL.particles.generators as generators\n",
    "import PyHEADTAIL.cobra_functions.stats as st\n",
    "from PyHEADTAIL.particles.slicing import UniformBinSlicer\n",
    "from PyHEADTAIL.general.printers import SilentPrinter\n",
    "\n"
   ]
  },
  {
   "cell_type": "markdown",
   "metadata": {},
   "source": [
    "This interactive test file tests the inference of beam parameters (optics) via the beam coordinates as implemented in the Particles class. \n",
    "\n",
    "The following tests are available:\n",
    "* **plot_params_vs_gamma(...):** Plots the relative L1-error of the estimated parameters vs gamma. The function should run and not produces NaN's for any values of gamma. The relative error should stay small (1e-2..). [Exception: The inference of the dispersion is unprecise for small gamma (< 10) and small values of the dispersion.]\n",
    "The first and last slice should show a bigger error than the other slices in the inference of epsn_x. The machine parameters are the ones from the SPS. The following gammas are plotted: [1,20] (for small gammas), [17, 19] (around gamma-transition at 18), [1, 1e4] for the big picture\n",
    "* **test_transverse_map(...):** Generates a bunch and tracks using various TransverseMap elements. Check whether the nominal and estimated parameters are close.\n",
    "* **compute_distribution_beam_optics(...):** Plots the distribution of the estimated parameters against the nominal value. Check whether the distribution is symmetrical around the nominal value."
   ]
  },
  {
   "cell_type": "code",
   "execution_count": 6,
   "metadata": {
    "collapsed": false
   },
   "outputs": [],
   "source": [
    "\n",
    "def plot_params_vs_gamma(ax=[-1.4,-1], ay=[-1.1, 1.1], bx=[35, 81], by=[4, 51], dx=[-3, 20], dy=[-4, 1000], N=50000):\n",
    "    # global parameters\n",
    "    nsamples = 10\n",
    "    Q_x = 20.13\n",
    "    Q_y = 20.18\n",
    "    Q_s = 0.017\n",
    "    epsx = [3.75e-6, 4e-5]\n",
    "    epsy = [3.75e-6, 3.75e-6]\n",
    "    gx = (1. + np.array(ax)*np.array(ax))/np.array(bx)\n",
    "    C = 6911.\n",
    "    R = C / (2.*np.pi)\n",
    "\n",
    "    alpha_0 = [0.00308]    \n",
    "    \n",
    "    # for the slicer\n",
    "    n_slices = 5\n",
    "    \n",
    "        \n",
    "    def _run_for_range(gammas):\n",
    "        \"\"\" Run the test for the specified gamma range\"\"\"\n",
    "        \n",
    "        def _plot_error(values_dp, gammas, title='param', logscale=False, param=ax):\n",
    "            \"\"\" Plot the computed values usiing dp, dE in a nice way\"\"\"\n",
    "            plt.figure()\n",
    "            ax1, = plt.plot(gammas, values_dp[:,0], label= title + ' ' + str(param[0]))\n",
    "            ax2, = plt.plot(gammas, values_dp[:,1], label= title + ' ' + str(param[1]))\n",
    "\n",
    "            plt.xlabel('gamma')\n",
    "            plt.ylabel('relative <L1 error> of ' + str(nsamples) + ' samples, N=' + str(N))\n",
    "            plt.title(title)\n",
    "            plt.legend(handles=[ax1, ax2])\n",
    "            if logscale:\n",
    "                plt.yscale('log')\n",
    "            plt.show()\n",
    "            \n",
    "        def _plot_error_per_slice(values, gammas, title='param', logscale=False, param=epsx):\n",
    "            slice_n = values.shape[2]\n",
    "            for pidx in range(len(epsx)):\n",
    "                plt.figure()\n",
    "                plt.plot(gammas, values[:,pidx,:])\n",
    "                plt.legend(['slice ' + str(i) for i in range(slice_n)])\n",
    "                plt.xlabel('gamma')\n",
    "                plt.ylabel('relative <L1 error> of ' + str(nsamples) + ' samples, N=' + str(N))\n",
    "                plt.title(title + ' = ' + str(epsx[pidx]))\n",
    "                plt.show()\n",
    "\n",
    "        \n",
    "        \n",
    "        ax_L1 = np.zeros(shape=(len(gammas),2))\n",
    "        bx_L1 = np.zeros(shape=(len(gammas),2))\n",
    "        dx_L1 = np.zeros(shape=(len(gammas),2))\n",
    "        epsx_L1 = np.zeros(shape=(len(gammas),2))\n",
    "        epsx_L1_per_slice = np.zeros(shape=(len(gammas),2, n_slices))\n",
    "        gx_L1 = np.zeros(shape=(len(gammas),2))\n",
    "        for i, gamma in enumerate(gammas):\n",
    "            for j in range(len(ax)):\n",
    "                for s in range(nsamples):\n",
    "                    b = generate_bunch(N, ax[j], ay[j], bx[j], by[j], LinearMap(alpha_0, C, Q_s), dx[j], dy[j], gamma=gamma,\n",
    "                                       epsn_x=epsx[j], epsn_y=epsy[j])\n",
    "                    b._warningprinter=SilentPrinter() # to supress the small gamma warnings\n",
    "                    \n",
    "                    # prepare the slicer\n",
    "                    slicer = UniformBinSlicer(n_slices, z_cuts=(np.min(b.z)-0.1, np.max(b.z)+0.1))\n",
    "                    slice_set = slicer.slice(b)\n",
    "                    \n",
    "                    ax_L1[i,j] += abs(ax[j] - b.alpha_Twiss_x())/abs(ax[j])\n",
    "                    bx_L1[i,j] += abs(bx[j] - b.beta_Twiss_x())/abs(bx[j])\n",
    "                    dx_L1[i,j] += abs(dx[j] - b.dispersion_x())/abs(dx[j])\n",
    "                    epsx_L1[i,j] += abs(epsx[j] - b.epsn_x())/abs(epsx[j])\n",
    "                    gx_L1[i,j] += abs(gx[j] - b.gamma_Twiss_x())/abs(gx[j])\n",
    "                    epsx_per_slice = slicer._epsn_x(slice_set, b)\n",
    "                    for sliceidx in xrange(n_slices):\n",
    "                        epsx_L1_per_slice[i,j,sliceidx] += abs(epsx[j] - epsx_per_slice[sliceidx])/abs(epsx[j])\n",
    "                        \n",
    "                        \n",
    "\n",
    "                ax_L1[i,j] /= nsamples\n",
    "                dx_L1[i,j] /= nsamples\n",
    "                bx_L1[i,j] /= nsamples\n",
    "                epsx_L1[i,j] /= nsamples\n",
    "                gx_L1[i,j] /= nsamples\n",
    "                for sliceidx in xrange(n_slices):\n",
    "                    epsx_L1_per_slice[i,j,sliceidx] /= nsamples\n",
    "                    \n",
    "        _plot_error(ax_L1, gammas, title='alpha_x', param=ax)    \n",
    "        _plot_error(bx_L1, gammas, title='beta_x' , param=bx)\n",
    "        _plot_error(gx_L1, gammas, title='gamma_x', param=gx)\n",
    "        _plot_error(dx_L1, gammas, title='disp_x', param=dx, logscale=True) \n",
    "        _plot_error(epsx_L1, gammas, title='epsn_x',param=epsx)\n",
    "        \n",
    "        # plot the emittance per slice\n",
    "        _plot_error_per_slice(epsx_L1_per_slice, gammas, title='epsx', param=epsx)\n",
    "    _run_for_range(gammas=np.arange(1.5,19,1))\n",
    "    _run_for_range(gammas=np.arange(17,19,0.1))\n",
    "    _run_for_range(gammas=np.arange(2,10000,100))\n",
    "\n",
    "       \n",
    "\n",
    "            \n",
    "            \n",
    "            \n",
    "    "
   ]
  },
  {
   "cell_type": "code",
   "execution_count": 7,
   "metadata": {
    "collapsed": true
   },
   "outputs": [],
   "source": [
    "def generate_bunch(n_macroparticles, alpha_x, alpha_y, beta_x, beta_y, linear_map, dispx, dispy, epsn_x=3.75e-6,\n",
    "                   epsn_y=3.75e-6, gamma = 3730.27):\n",
    "    # generate a alpha=0, beta=1 bunch first\n",
    "    # then transform...\n",
    "    intensity = 1.05e11\n",
    "    sigma_z = 0.23#0.59958\n",
    "    gamma_t = 1. / np.sqrt(linear_map.alpha_array[0])\n",
    "    p0 = np.sqrt(gamma**2 - 1) * m_p * c\n",
    "\n",
    "    beta_z = np.abs((linear_map.eta(dp=0, gamma=gamma) * linear_map.circumference / \n",
    "              (2 * np.pi * linear_map.Qs)))\n",
    "\n",
    "    epsn_z = 4 * np.pi * sigma_z**2 * p0 / (beta_z * e)\n",
    "    #print ('epsn_z: ' + str(epsn_z))\n",
    "    \n",
    "    bunch = generators.Gaussian6DTwiss(\n",
    "        macroparticlenumber=n_macroparticles, intensity=intensity, charge=e,\n",
    "        gamma_reference=gamma, mass=m_p, circumference=linear_map.circumference,\n",
    "        alpha_x=0., beta_x=1., epsn_x=epsn_x,\n",
    "        alpha_y=0., beta_y=1., epsn_y=epsn_y,\n",
    "        beta_z=beta_z, epsn_z=epsn_z).generate()\n",
    "    \n",
    "    \n",
    "    # Scale to correct beta and alpha\n",
    "    xx = bunch.x.copy()\n",
    "    yy = bunch.y.copy()\n",
    "    bunch.x *= np.sqrt(beta_x)\n",
    "    bunch.xp = -alpha_x/np.sqrt(beta_x) * xx + 1./np.sqrt(beta_x) * bunch.xp\n",
    "    \n",
    "    bunch.y *= np.sqrt(beta_y)\n",
    "    bunch.yp = -alpha_y/np.sqrt(beta_y) * yy + 1./np.sqrt(beta_y) * bunch.yp\n",
    "    \n",
    "    \n",
    "    \n",
    "    bunch.x += dispx * bunch.dp\n",
    "    bunch.y += dispy * bunch.dp\n",
    "    \n",
    "    return bunch"
   ]
  },
  {
   "cell_type": "code",
   "execution_count": 8,
   "metadata": {
    "collapsed": false,
    "scrolled": true
   },
   "outputs": [
    {
     "ename": "KeyboardInterrupt",
     "evalue": "",
     "output_type": "error",
     "traceback": [
      "\u001b[1;31m---------------------------------------------------------------------------\u001b[0m",
      "\u001b[1;31mKeyboardInterrupt\u001b[0m                         Traceback (most recent call last)",
      "\u001b[1;32m<ipython-input-8-ef3c192eb3d2>\u001b[0m in \u001b[0;36m<module>\u001b[1;34m()\u001b[0m\n\u001b[0;32m      2\u001b[0m \u001b[0mget_ipython\u001b[0m\u001b[1;33m(\u001b[0m\u001b[1;33m)\u001b[0m\u001b[1;33m.\u001b[0m\u001b[0mmagic\u001b[0m\u001b[1;33m(\u001b[0m\u001b[1;34mu'matplotlib inline'\u001b[0m\u001b[1;33m)\u001b[0m\u001b[1;33m\u001b[0m\u001b[0m\n\u001b[0;32m      3\u001b[0m \u001b[0mnp\u001b[0m\u001b[1;33m.\u001b[0m\u001b[0mrandom\u001b[0m\u001b[1;33m.\u001b[0m\u001b[0mseed\u001b[0m\u001b[1;33m(\u001b[0m\u001b[1;36m111\u001b[0m\u001b[1;33m)\u001b[0m\u001b[1;33m\u001b[0m\u001b[0m\n\u001b[1;32m----> 4\u001b[1;33m \u001b[0mplot_params_vs_gamma\u001b[0m\u001b[1;33m(\u001b[0m\u001b[1;33m)\u001b[0m\u001b[1;33m\u001b[0m\u001b[0m\n\u001b[0m",
      "\u001b[1;32m<ipython-input-6-cf33159d4e10>\u001b[0m in \u001b[0;36mplot_params_vs_gamma\u001b[1;34m(ax, ay, bx, by, dx, dy, N)\u001b[0m\n\u001b[0;32m     92\u001b[0m         \u001b[1;31m# plot the emittance per slice\u001b[0m\u001b[1;33m\u001b[0m\u001b[1;33m\u001b[0m\u001b[0m\n\u001b[0;32m     93\u001b[0m         \u001b[0m_plot_error_per_slice\u001b[0m\u001b[1;33m(\u001b[0m\u001b[0mepsx_L1_per_slice\u001b[0m\u001b[1;33m,\u001b[0m \u001b[0mgammas\u001b[0m\u001b[1;33m,\u001b[0m \u001b[0mtitle\u001b[0m\u001b[1;33m=\u001b[0m\u001b[1;34m'epsx'\u001b[0m\u001b[1;33m,\u001b[0m \u001b[0mparam\u001b[0m\u001b[1;33m=\u001b[0m\u001b[0mepsx\u001b[0m\u001b[1;33m)\u001b[0m\u001b[1;33m\u001b[0m\u001b[0m\n\u001b[1;32m---> 94\u001b[1;33m     \u001b[0m_run_for_range\u001b[0m\u001b[1;33m(\u001b[0m\u001b[0mgammas\u001b[0m\u001b[1;33m=\u001b[0m\u001b[0mnp\u001b[0m\u001b[1;33m.\u001b[0m\u001b[0marange\u001b[0m\u001b[1;33m(\u001b[0m\u001b[1;36m1.5\u001b[0m\u001b[1;33m,\u001b[0m\u001b[1;36m19\u001b[0m\u001b[1;33m,\u001b[0m\u001b[1;36m1\u001b[0m\u001b[1;33m)\u001b[0m\u001b[1;33m)\u001b[0m\u001b[1;33m\u001b[0m\u001b[0m\n\u001b[0m\u001b[0;32m     95\u001b[0m     \u001b[0m_run_for_range\u001b[0m\u001b[1;33m(\u001b[0m\u001b[0mgammas\u001b[0m\u001b[1;33m=\u001b[0m\u001b[0mnp\u001b[0m\u001b[1;33m.\u001b[0m\u001b[0marange\u001b[0m\u001b[1;33m(\u001b[0m\u001b[1;36m17\u001b[0m\u001b[1;33m,\u001b[0m\u001b[1;36m19\u001b[0m\u001b[1;33m,\u001b[0m\u001b[1;36m0.1\u001b[0m\u001b[1;33m)\u001b[0m\u001b[1;33m)\u001b[0m\u001b[1;33m\u001b[0m\u001b[0m\n\u001b[0;32m     96\u001b[0m     \u001b[0m_run_for_range\u001b[0m\u001b[1;33m(\u001b[0m\u001b[0mgammas\u001b[0m\u001b[1;33m=\u001b[0m\u001b[0mnp\u001b[0m\u001b[1;33m.\u001b[0m\u001b[0marange\u001b[0m\u001b[1;33m(\u001b[0m\u001b[1;36m2\u001b[0m\u001b[1;33m,\u001b[0m\u001b[1;36m10000\u001b[0m\u001b[1;33m,\u001b[0m\u001b[1;36m100\u001b[0m\u001b[1;33m)\u001b[0m\u001b[1;33m)\u001b[0m\u001b[1;33m\u001b[0m\u001b[0m\n",
      "\u001b[1;32m<ipython-input-6-cf33159d4e10>\u001b[0m in \u001b[0;36m_run_for_range\u001b[1;34m(gammas)\u001b[0m\n\u001b[0;32m     70\u001b[0m                     \u001b[0mepsx_L1\u001b[0m\u001b[1;33m[\u001b[0m\u001b[0mi\u001b[0m\u001b[1;33m,\u001b[0m\u001b[0mj\u001b[0m\u001b[1;33m]\u001b[0m \u001b[1;33m+=\u001b[0m \u001b[0mabs\u001b[0m\u001b[1;33m(\u001b[0m\u001b[0mepsx\u001b[0m\u001b[1;33m[\u001b[0m\u001b[0mj\u001b[0m\u001b[1;33m]\u001b[0m \u001b[1;33m-\u001b[0m \u001b[0mb\u001b[0m\u001b[1;33m.\u001b[0m\u001b[0mepsn_x\u001b[0m\u001b[1;33m(\u001b[0m\u001b[1;33m)\u001b[0m\u001b[1;33m)\u001b[0m\u001b[1;33m/\u001b[0m\u001b[0mabs\u001b[0m\u001b[1;33m(\u001b[0m\u001b[0mepsx\u001b[0m\u001b[1;33m[\u001b[0m\u001b[0mj\u001b[0m\u001b[1;33m]\u001b[0m\u001b[1;33m)\u001b[0m\u001b[1;33m\u001b[0m\u001b[0m\n\u001b[0;32m     71\u001b[0m                     \u001b[0mgx_L1\u001b[0m\u001b[1;33m[\u001b[0m\u001b[0mi\u001b[0m\u001b[1;33m,\u001b[0m\u001b[0mj\u001b[0m\u001b[1;33m]\u001b[0m \u001b[1;33m+=\u001b[0m \u001b[0mabs\u001b[0m\u001b[1;33m(\u001b[0m\u001b[0mgx\u001b[0m\u001b[1;33m[\u001b[0m\u001b[0mj\u001b[0m\u001b[1;33m]\u001b[0m \u001b[1;33m-\u001b[0m \u001b[0mb\u001b[0m\u001b[1;33m.\u001b[0m\u001b[0mgamma_Twiss_x\u001b[0m\u001b[1;33m(\u001b[0m\u001b[1;33m)\u001b[0m\u001b[1;33m)\u001b[0m\u001b[1;33m/\u001b[0m\u001b[0mabs\u001b[0m\u001b[1;33m(\u001b[0m\u001b[0mgx\u001b[0m\u001b[1;33m[\u001b[0m\u001b[0mj\u001b[0m\u001b[1;33m]\u001b[0m\u001b[1;33m)\u001b[0m\u001b[1;33m\u001b[0m\u001b[0m\n\u001b[1;32m---> 72\u001b[1;33m                     \u001b[0mepsx_per_slice\u001b[0m \u001b[1;33m=\u001b[0m \u001b[0mslicer\u001b[0m\u001b[1;33m.\u001b[0m\u001b[0m_epsn_x\u001b[0m\u001b[1;33m(\u001b[0m\u001b[0mslice_set\u001b[0m\u001b[1;33m,\u001b[0m \u001b[0mb\u001b[0m\u001b[1;33m)\u001b[0m\u001b[1;33m\u001b[0m\u001b[0m\n\u001b[0m\u001b[0;32m     73\u001b[0m                     \u001b[1;32mfor\u001b[0m \u001b[0msliceidx\u001b[0m \u001b[1;32min\u001b[0m \u001b[0mxrange\u001b[0m\u001b[1;33m(\u001b[0m\u001b[0mn_slices\u001b[0m\u001b[1;33m)\u001b[0m\u001b[1;33m:\u001b[0m\u001b[1;33m\u001b[0m\u001b[0m\n\u001b[0;32m     74\u001b[0m                         \u001b[0mepsx_L1_per_slice\u001b[0m\u001b[1;33m[\u001b[0m\u001b[0mi\u001b[0m\u001b[1;33m,\u001b[0m\u001b[0mj\u001b[0m\u001b[1;33m,\u001b[0m\u001b[0msliceidx\u001b[0m\u001b[1;33m]\u001b[0m \u001b[1;33m+=\u001b[0m \u001b[0mabs\u001b[0m\u001b[1;33m(\u001b[0m\u001b[0mepsx\u001b[0m\u001b[1;33m[\u001b[0m\u001b[0mj\u001b[0m\u001b[1;33m]\u001b[0m \u001b[1;33m-\u001b[0m \u001b[0mepsx_per_slice\u001b[0m\u001b[1;33m[\u001b[0m\u001b[0msliceidx\u001b[0m\u001b[1;33m]\u001b[0m\u001b[1;33m)\u001b[0m\u001b[1;33m/\u001b[0m\u001b[0mabs\u001b[0m\u001b[1;33m(\u001b[0m\u001b[0mepsx\u001b[0m\u001b[1;33m[\u001b[0m\u001b[0mj\u001b[0m\u001b[1;33m]\u001b[0m\u001b[1;33m)\u001b[0m\u001b[1;33m\u001b[0m\u001b[0m\n",
      "\u001b[1;32m/afs/cern.ch/user/s/shegglin/Programming/PyHEADTAIL/particles/slicing.py\u001b[0m in \u001b[0;36m_epsn_x\u001b[1;34m(self, sliceset, beam)\u001b[0m\n\u001b[0;32m    378\u001b[0m \u001b[1;33m\u001b[0m\u001b[0m\n\u001b[0;32m    379\u001b[0m     \u001b[1;32mdef\u001b[0m \u001b[0m_epsn_x\u001b[0m\u001b[1;33m(\u001b[0m\u001b[0mself\u001b[0m\u001b[1;33m,\u001b[0m \u001b[0msliceset\u001b[0m\u001b[1;33m,\u001b[0m \u001b[0mbeam\u001b[0m\u001b[1;33m)\u001b[0m\u001b[1;33m:\u001b[0m \u001b[1;31m# dp will always be resent in a sliced beam\u001b[0m\u001b[1;33m\u001b[0m\u001b[0m\n\u001b[1;32m--> 380\u001b[1;33m         \u001b[1;32mreturn\u001b[0m \u001b[0mself\u001b[0m\u001b[1;33m.\u001b[0m\u001b[0m_epsn\u001b[0m\u001b[1;33m(\u001b[0m\u001b[0msliceset\u001b[0m\u001b[1;33m,\u001b[0m \u001b[0mbeam\u001b[0m\u001b[1;33m.\u001b[0m\u001b[0mx\u001b[0m\u001b[1;33m,\u001b[0m \u001b[0mbeam\u001b[0m\u001b[1;33m.\u001b[0m\u001b[0mxp\u001b[0m\u001b[1;33m,\u001b[0m \u001b[0mbeam\u001b[0m\u001b[1;33m.\u001b[0m\u001b[0mdp\u001b[0m\u001b[1;33m)\u001b[0m \u001b[1;33m*\u001b[0m \u001b[0mbeam\u001b[0m\u001b[1;33m.\u001b[0m\u001b[0mbetagamma\u001b[0m\u001b[1;33m\u001b[0m\u001b[0m\n\u001b[0m\u001b[0;32m    381\u001b[0m \u001b[1;33m\u001b[0m\u001b[0m\n\u001b[0;32m    382\u001b[0m     \u001b[1;32mdef\u001b[0m \u001b[0m_eff_epsn_x\u001b[0m\u001b[1;33m(\u001b[0m\u001b[0mself\u001b[0m\u001b[1;33m,\u001b[0m \u001b[0msliceset\u001b[0m\u001b[1;33m,\u001b[0m \u001b[0mbeam\u001b[0m\u001b[1;33m)\u001b[0m\u001b[1;33m:\u001b[0m\u001b[1;33m\u001b[0m\u001b[0m\n",
      "\u001b[1;32m/afs/cern.ch/user/s/shegglin/Programming/PyHEADTAIL/particles/slicing.py\u001b[0m in \u001b[0;36m_epsn\u001b[1;34m(self, sliceset, u, up, dp)\u001b[0m\n\u001b[0;32m    418\u001b[0m                                \u001b[0msliceset\u001b[0m\u001b[1;33m.\u001b[0m\u001b[0mparticles_within_cuts\u001b[0m\u001b[1;33m,\u001b[0m\u001b[1;33m\u001b[0m\u001b[0m\n\u001b[0;32m    419\u001b[0m                                \u001b[0msliceset\u001b[0m\u001b[1;33m.\u001b[0m\u001b[0mn_macroparticles_per_slice\u001b[0m\u001b[1;33m,\u001b[0m\u001b[1;33m\u001b[0m\u001b[0m\n\u001b[1;32m--> 420\u001b[1;33m                                u, up, dp, epsn_u)\n\u001b[0m\u001b[0;32m    421\u001b[0m         \u001b[1;32mreturn\u001b[0m \u001b[0mepsn_u\u001b[0m\u001b[1;33m\u001b[0m\u001b[0m\n\u001b[0;32m    422\u001b[0m \u001b[1;33m\u001b[0m\u001b[0m\n",
      "\u001b[1;31mKeyboardInterrupt\u001b[0m: "
     ]
    }
   ],
   "source": [
    "# Run this to test the parameter inference vs gamma\n",
    "%matplotlib inline\n",
    "np.random.seed(111)\n",
    "plot_params_vs_gamma()"
   ]
  },
  {
   "cell_type": "code",
   "execution_count": null,
   "metadata": {
    "collapsed": false
   },
   "outputs": [],
   "source": [
    "def test_transverse_map(n_macroparticles, linear_map, gamma = 3730.27):\n",
    "    ax = np.array([-1.2, 2., 3.])\n",
    "    ay = np.array([0.3, 2., 3.])\n",
    "    bx = np.array([82., 90., 100.])\n",
    "    by = np.array([45., 30, 80.])\n",
    "    gx = (ax*ax + 1.) / bx\n",
    "    gy = (ay*ay + 1.) / by\n",
    "    dx = np.array([0.5, 5.3, 0.3])\n",
    "    dy = np.array([0.2, -4.1, 2.09])\n",
    "    segments = np.linspace(0., C, num=4)\n",
    "    \n",
    "    # generate a map with the given parameters\n",
    "    trans_map = TransverseMap(C, segments, ax, bx, dx, ay, by, dy, Q_x, Q_y)\n",
    "    map_ = [m for m in trans_map]\n",
    "    \n",
    "    # generate a bunch matched to the alpha, beta and d of the first segment\n",
    "    b = generate_bunch(n_macroparticles, ax[0], ay[0], bx[0], by[0], linear_map, dx[0], dy[0], gamma=gamma)\n",
    "    \n",
    "    def print_parameters(b, it):\n",
    "        it = it % 3 #to make sure that after the last segment you access the first segment's parameters\n",
    "        print('alphax: ' + str(ax[it]) + ' <---> ' + str(b.alpha_Twiss_x()))\n",
    "        print('alphay: ' + str(ay[it]) + ' <---> ' + str(b.alpha_Twiss_y()))\n",
    "        print('betax: ' + str(bx[it]) + ' <---> ' + str(b.beta_Twiss_x()))\n",
    "        print('betay: ' + str(by[it]) + ' <---> ' + str(b.beta_Twiss_y()))\n",
    "        print('gammax: ' + str(gx[it]) + ' <---> ' + str(b.gamma_Twiss_x()))\n",
    "        print('gammay: ' + str(gy[it]) + ' <---> ' + str(b.gamma_Twiss_y()))\n",
    "        print('dispx: ' + str(dx[it]) + ' <---> ' + str(b.dispersion_x()))\n",
    "        print('dispy: ' + str(dy[it]) + ' <---> ' + str(b.dispersion_y()))\n",
    "        print('epsnx: ' + str(3.75e-6) + ' <---> ' + str(b.epsn_x()))\n",
    "        print('epsny: ' + str(3.75e-6) + ' <---> ' + str(b.epsn_y()))\n",
    "        print('epsnz: ' + 'TODO' + ' <---> ' + str(b.epsn_z()))\n",
    "        print('\\n')\n",
    "    \n",
    "    print_parameters(b, 0) # matched to the first segment\n",
    "    #track and check parameters!\n",
    "    nturns = 3\n",
    "    for n in xrange(nturns):\n",
    "        for it,m in enumerate(map_):\n",
    "            m.track(b)\n",
    "            print_parameters(b, it+1)\n",
    "    #check after the last segment           \n",
    "\n",
    "            \n",
    "    "
   ]
  },
  {
   "cell_type": "code",
   "execution_count": null,
   "metadata": {
    "collapsed": false
   },
   "outputs": [],
   "source": [
    "def plot_phase_space(beam, direction):\n",
    "    plt.figure()\n",
    "    u = getattr(beam, direction[0])\n",
    "    up = getattr(beam, direction[1])\n",
    "    plt.scatter(u, up)\n",
    "    minimum = min(min(u),min(up))\n",
    "    maximum =  max(max(u), max(up))\n",
    "    plt.ylim([minimum, maximum])\n",
    "    plt.xlim([minimum, maximum])\n",
    "    plt.xlabel(direction[0])\n",
    "    plt.ylabel(direction[1])\n",
    "    plt.show()"
   ]
  },
  {
   "cell_type": "code",
   "execution_count": null,
   "metadata": {
    "collapsed": false
   },
   "outputs": [],
   "source": [
    "# Generate a bunch with the given optics and compare them to the statistically computed parameters\n",
    "def compute_statistical_beam_optics(alphax, alphay, betax, betay, long_map, dispx, dispy, gamma=3000):\n",
    "    b = generate_bunch(n_macroparticles, alphax, alphay, betax, betay, long_map, dispx, dispy, gamma=gamma)\n",
    "    gammax = (1. + alphax**2)/betax\n",
    "    gammay = (1. + alphay**2)/betay\n",
    "    print('Compare the nominal and the statistically computed quantities from the beam')\n",
    "    print('nominal: <---> statistical:')\n",
    "    print('alphax: ' + str(alphax) + ' <---> ' + str(b.alpha_Twiss_x()))\n",
    "    print('alphay: ' + str(alphay) + ' <---> ' + str(b.alpha_Twiss_y()))\n",
    "    print('betax: ' + str(betax) + ' <---> ' + str(b.beta_Twiss_x()))\n",
    "    print('betay: ' + str(betay) + ' <---> ' + str(b.beta_Twiss_y()))\n",
    "    print('gammax: ' + str(gammax) + ' <---> ' + str(b.gamma_Twiss_x()))\n",
    "    print('gammay: ' + str(gammay) + ' <---> ' + str(b.gamma_Twiss_y()))\n",
    "    print('dispx: ' + str(dispx) + ' <---> ' + str(b.dispersion_x()))\n",
    "    print('dispy: ' + str(dispy) + ' <---> ' + str(b.dispersion_y()))\n",
    "\n",
    "    "
   ]
  },
  {
   "cell_type": "code",
   "execution_count": null,
   "metadata": {
    "collapsed": true
   },
   "outputs": [],
   "source": [
    "def plot_histogram(measurements, exact_value, title=\"Dummy\"):\n",
    "    plt.hist(measurements)\n",
    "    plt.axvline(measurements.mean(), color='r', linestyle='dashed', linewidth=2)\n",
    "    plt.axvline(exact_value, color='g', linewidth=2)\n",
    "    plt.title(title)\n",
    "    plt.xlabel('Value')\n",
    "    plt.ylabel('# observations')\n",
    "    m = mpatches.Patch(color='red', label='mean')\n",
    "    ex = mpatches.Patch(color='green', label='input')\n",
    "\n",
    "    plt.legend(handles=[m, ex])\n",
    "    plt.show()\n"
   ]
  },
  {
   "cell_type": "code",
   "execution_count": null,
   "metadata": {
    "collapsed": true
   },
   "outputs": [],
   "source": [
    "def compute_distribution_beam_optics(alphax, alphay, betax, betay, long_map, dispx, dispy, gamma=3000):\n",
    "    nsamples = 100\n",
    "    stat_betax = np.zeros(nsamples)\n",
    "    stat_betay = np.zeros(nsamples)\n",
    "    stat_alphax = np.zeros(nsamples)\n",
    "    stat_alphay = np.zeros(nsamples)\n",
    "    stat_dispx = np.zeros(nsamples)\n",
    "    stat_dispy = np.zeros(nsamples)\n",
    "\n",
    "    for i in xrange(nsamples):\n",
    "        b = generate_bunch(n_macroparticles, alphax, alphay, betax, betay, long_map, dispx, dispy,gamma=gamma)\n",
    "        stat_betax[i] = b.beta_Twiss_x()\n",
    "        stat_betay[i] = b.beta_Twiss_y()\n",
    "        stat_dispx[i] = b.dispersion_x()\n",
    "        stat_dispy[i] = b.dispersion_y()\n",
    "        stat_alphax[i] = b.alpha_Twiss_x()\n",
    "        stat_alphay[i] = b.alpha_Twiss_y()\n",
    "        \n",
    "    plot_histogram(stat_betax, betax, 'beta_x')\n",
    "    plot_histogram(stat_betay, betay, 'beta_y')\n",
    "    plot_histogram(stat_alphax, alphax, 'alpha_x')\n",
    "    plot_histogram(stat_alphay, alphay, 'alpha_y')\n",
    "    plot_histogram(stat_dispx, dispx, 'disp_x')\n",
    "    plot_histogram(stat_dispy, dispy, 'disp_y')\n",
    "\n",
    "    plt.show()\n"
   ]
  },
  {
   "cell_type": "code",
   "execution_count": null,
   "metadata": {
    "collapsed": false
   },
   "outputs": [],
   "source": [
    "# Basic simulation parameters\n",
    "n_turns = 10\n",
    "n_segments = 2\n",
    "n_macroparticles = 100000\n",
    "\n",
    "Q_x = 20.13\n",
    "Q_y = 20.18\n",
    "Q_s = 0.017\n",
    "\n",
    "C = 6911.\n",
    "R = C / (2.*np.pi)\n",
    "\n",
    "alpha_0 = [0.00308]\n",
    "long_map = LinearMap(alpha_0, C, Q_s)"
   ]
  },
  {
   "cell_type": "code",
   "execution_count": 28,
   "metadata": {
    "collapsed": false,
    "scrolled": true
   },
   "outputs": [
    {
     "name": "stdout",
     "output_type": "stream",
     "text": [
      "mass: 1.672621777e-27\n",
      "c**2: 8.98755178737e+16\n",
      "E0: 1.50327748415e-07\n",
      "Compare the nominal and the statistically computed quantities from the beam\n",
      "nominal: <---> statistical:\n",
      "alphax: 0.5 <---> 0.504224685051\n",
      "alphay: -1.7 <---> -1.702302858\n",
      "betax: 90 <---> 89.9905967293\n",
      "betay: 40 <---> 39.8553717925\n",
      "gammax: 0.0138888888889 <---> 0.0139374843439\n",
      "gammay: 0.09725 <---> 0.0977994896308\n",
      "dispx: 4.3 <---> -9.00060239054\n",
      "dispy: -3.0 <---> -2.99965109113\n"
     ]
    },
    {
     "data": {
      "image/png": "[encoded data removed]",
      "text/plain": [
       "<matplotlib.figure.Figure at 0x7f35236450d0>"
      ]
     },
     "metadata": {},
     "output_type": "display_data"
    },
    {
     "data": {
      "image/png": "[encoded data removed]",
      "text/plain": [
       "<matplotlib.figure.Figure at 0x7f35136e9950>"
      ]
     },
     "metadata": {},
     "output_type": "display_data"
    },
    {
     "data": {
      "image/png": "[encoded data removed]",
      "text/plain": [
       "<matplotlib.figure.Figure at 0x7f3518151550>"
      ]
     },
     "metadata": {},
     "output_type": "display_data"
    },
    {
     "data": {
      "image/png": "[encoded data removed]",
      "text/plain": [
       "<matplotlib.figure.Figure at 0x7f351805d090>"
      ]
     },
     "metadata": {},
     "output_type": "display_data"
    },
    {
     "data": {
      "image/png": "[encoded data removed]",
      "text/plain": [
       "<matplotlib.figure.Figure at 0x7f351384e2d0>"
      ]
     },
     "metadata": {},
     "output_type": "display_data"
    },
    {
     "data": {
      "image/png": "[encoded data removed]",
      "text/plain": [
       "<matplotlib.figure.Figure at 0x7f351356ea90>"
      ]
     },
     "metadata": {},
     "output_type": "display_data"
    }
   ],
   "source": [
    "%matplotlib inline\n",
    "alphax = 0.5\n",
    "alphay = -1.7\n",
    "betax = 90\n",
    "betay = 40\n",
    "dispx = 4.3\n",
    "dispy = -3.\n",
    "gamma = 1000\n",
    "beam2 = generate_bunch(n_macroparticles, alphax, alphay, betax, betay, long_map, dispx, dispy, gamma=gamma)\n",
    "print('mass: ' + str(beam2.mass))\n",
    "print('c**2: ' + str(c**2))\n",
    "print('E0: ' + str(beam2.gamma*beam2.mass*c*c))\n",
    "compute_statistical_beam_optics(alphax, alphay, betax, betay, long_map, dispx, dispy, gamma)\n",
    "\n",
    "compute_distribution_beam_optics(alphax, alphay, betax, betay, long_map, dispx, dispy, gamma)\n"
   ]
  },
  {
   "cell_type": "code",
   "execution_count": 29,
   "metadata": {
    "collapsed": false
   },
   "outputs": [
    {
     "data": {
      "image/png": "[encoded data removed]",
      "text/plain": [
       "<matplotlib.figure.Figure at 0x7f3523608750>"
      ]
     },
     "metadata": {},
     "output_type": "display_data"
    },
    {
     "data": {
      "image/png": "[encoded data removed]",
      "text/plain": [
       "<matplotlib.figure.Figure at 0x7f35135d3c10>"
      ]
     },
     "metadata": {},
     "output_type": "display_data"
    },
    {
     "data": {
      "image/png": "[encoded data removed]",
      "text/plain": [
       "<matplotlib.figure.Figure at 0x7f35135d3d50>"
      ]
     },
     "metadata": {},
     "output_type": "display_data"
    },
    {
     "data": {
      "image/png": "[encoded data removed]",
      "text/plain": [
       "<matplotlib.figure.Figure at 0x7f3518ebaf90>"
      ]
     },
     "metadata": {},
     "output_type": "display_data"
    }
   ],
   "source": [
    "%matplotlib inline\n",
    "plot_phase_space(beam2, ['x', 'xp'])\n",
    "plot_phase_space(beam2, ['y', 'yp'])\n",
    "plot_phase_space(beam2, ['z', 'dp'])\n",
    "plt.plot(beam2.dp)\n",
    "plt.show()"
   ]
  },
  {
   "cell_type": "code",
   "execution_count": 30,
   "metadata": {
    "collapsed": false,
    "scrolled": true
   },
   "outputs": [
    {
     "name": "stdout",
     "output_type": "stream",
     "text": [
      "\n",
      "*** PyHEADTAIL WARNING! Non-zero dispersion; ensure the beam has been \"blown-up\" accordingly upon creation!\n",
      "alphax: -1.2 <---> -1.20242369323\n",
      "alphay: 0.3 <---> 0.301179894728\n",
      "betax: 82.0 <---> 81.8230034112\n",
      "betay: 45.0 <---> 45.0673821196\n",
      "gammax: 0.029756097561 <---> 0.0298916274896\n",
      "gammay: 0.0242222222222 <---> 0.0242017458679\n",
      "dispx: 0.5 <---> 0.499759749417\n",
      "dispy: 0.2 <---> 0.199771935505\n",
      "epsnx: 3.75e-06 <---> 3.75490592226e-06\n",
      "epsny: 3.75e-06 <---> 3.77608700458e-06\n",
      "epsnz: TODO <---> 41.9086749681\n",
      "\n",
      "\n",
      "alphax: 2.0 <---> 2.01201660252\n",
      "alphay: 2.0 <---> 1.99644899782\n",
      "betax: 90.0 <---> 90.3901480096\n",
      "betay: 30.0 <---> 29.9507415396\n",
      "gammax: 0.0555555555556 <---> 0.0558491264812\n",
      "gammay: 0.166666666667 <---> 0.16646695022\n",
      "dispx: 5.3 <---> 5.29957206117\n",
      "dispy: -4.1 <---> -4.09953198962\n",
      "epsnx: 3.75e-06 <---> 3.75490592226e-06\n",
      "epsny: 3.75e-06 <---> 3.77608700462e-06\n",
      "epsnz: TODO <---> 41.9086749681\n",
      "\n",
      "\n",
      "alphax: 3.0 <---> 2.98299946822\n",
      "alphay: 3.0 <---> 3.00473608065\n",
      "betax: 100.0 <---> 99.4616986273\n",
      "betay: 80.0 <---> 80.1321427193\n",
      "gammax: 0.1 <---> 0.0995185680921\n",
      "gammay: 0.125 <---> 0.125148767698\n",
      "dispx: 0.3 <---> 0.300489674003\n",
      "dispy: 2.09 <---> 2.09008079582\n",
      "epsnx: 3.75e-06 <---> 3.75490592226e-06\n",
      "epsny: 3.75e-06 <---> 3.77608700462e-06\n",
      "epsnz: TODO <---> 41.9086749681\n",
      "\n",
      "\n",
      "alphax: -1.2 <---> -1.20804078735\n",
      "alphay: 0.3 <---> 0.300232371451\n",
      "betax: 82.0 <---> 82.4227424173\n",
      "betay: 45.0 <---> 44.9318161842\n",
      "gammax: 0.029756097561 <---> 0.0298383974105\n",
      "gammay: 0.0242222222222 <---> 0.0242620835178\n",
      "dispx: 0.5 <---> 0.500187929297\n",
      "dispy: 0.2 <---> 0.199409102345\n",
      "epsnx: 3.75e-06 <---> 3.75490592226e-06\n",
      "epsny: 3.75e-06 <---> 3.77608700458e-06\n",
      "epsnz: TODO <---> 41.9086749681\n",
      "\n",
      "\n",
      "alphax: 2.0 <---> 1.99690864507\n",
      "alphay: 2.0 <---> 2.00141343719\n",
      "betax: 90.0 <---> 89.6763267375\n",
      "betay: 30.0 <---> 30.0376408392\n",
      "gammax: 0.0555555555556 <---> 0.0556182921203\n",
      "gammay: 0.166666666667 <---> 0.166646101582\n",
      "dispx: 5.3 <---> 5.29943752869\n",
      "dispy: -4.1 <---> -4.09990851697\n",
      "epsnx: 3.75e-06 <---> 3.75490592235e-06\n",
      "epsny: 3.75e-06 <---> 3.77608700462e-06\n",
      "epsnz: TODO <---> 41.9086749681\n",
      "\n",
      "\n",
      "alphax: 3.0 <---> 2.9982772165\n",
      "alphay: 3.0 <---> 2.99876642456\n",
      "betax: 100.0 <---> 100.120368146\n",
      "betay: 80.0 <---> 79.9294667259\n",
      "gammax: 0.1 <---> 0.0997765634699\n",
      "gammay: 0.125 <---> 0.125017724732\n",
      "dispx: 0.3 <---> 0.300087361693\n",
      "dispy: 2.09 <---> 2.09074421651\n",
      "epsnx: 3.75e-06 <---> 3.75490592226e-06\n",
      "epsny: 3.75e-06 <---> 3.77608700464e-06\n",
      "epsnz: TODO <---> 41.9086749681\n",
      "\n",
      "\n",
      "alphax: -1.2 <---> -1.19660462159\n",
      "alphay: 0.3 <---> 0.298525228625\n",
      "betax: 82.0 <---> 82.1265106493\n",
      "betay: 45.0 <---> 45.0197461245\n",
      "gammax: 0.029756097561 <---> 0.0296111767222\n",
      "gammay: 0.0242222222222 <---> 0.0241919914233\n",
      "dispx: 0.5 <---> 0.500497543496\n",
      "dispy: 0.2 <---> 0.199724880525\n",
      "epsnx: 3.75e-06 <---> 3.75490592226e-06\n",
      "epsny: 3.75e-06 <---> 3.77608700458e-06\n",
      "epsnz: TODO <---> 41.9086749681\n",
      "\n",
      "\n",
      "alphax: 2.0 <---> 1.98843508851\n",
      "alphay: 2.0 <---> 2.00175816203\n",
      "betax: 90.0 <---> 89.6533556104\n",
      "betay: 30.0 <---> 30.0014082744\n",
      "gammax: 0.0555555555556 <---> 0.0552558693145\n",
      "gammay: 0.166666666667 <---> 0.16689335692\n",
      "dispx: 5.3 <---> 5.29965786262\n",
      "dispy: -4.1 <---> -4.10039010722\n",
      "epsnx: 3.75e-06 <---> 3.75490592218e-06\n",
      "epsny: 3.75e-06 <---> 3.7760870047e-06\n",
      "epsnz: TODO <---> 41.9086749681\n",
      "\n",
      "\n",
      "alphax: 3.0 <---> 3.01731209386\n",
      "alphay: 3.0 <---> 2.99685015668\n",
      "betax: 100.0 <---> 100.526359187\n",
      "betay: 80.0 <---> 79.9581395814\n",
      "gammax: 0.1 <---> 0.100512665071\n",
      "gammay: 0.125 <---> 0.124829203304\n",
      "dispx: 0.3 <---> 0.299629932385\n",
      "dispy: 2.09 <---> 2.09055294814\n",
      "epsnx: 3.75e-06 <---> 3.75490592226e-06\n",
      "epsny: 3.75e-06 <---> 3.77608700458e-06\n",
      "epsnz: TODO <---> 41.9086749681\n",
      "\n",
      "\n",
      "alphax: -1.2 <---> -1.19242369305\n",
      "alphay: 0.3 <---> 0.301649099485\n",
      "betax: 82.0 <---> 81.5639727364\n",
      "betay: 45.0 <---> 45.0432147531\n",
      "gammax: 0.029756097561 <---> 0.0296929414115\n",
      "gammay: 0.0242222222222 <---> 0.0242210105384\n",
      "dispx: 0.5 <---> 0.500493254623\n",
      "dispy: 0.2 <---> 0.200356617305\n",
      "epsnx: 3.75e-06 <---> 3.75490592226e-06\n",
      "epsny: 3.75e-06 <---> 3.77608700458e-06\n",
      "epsnz: TODO <---> 41.9086749681\n",
      "\n",
      "\n"
     ]
    }
   ],
   "source": [
    "test_transverse_map(100000, long_map, 4000) "
   ]
  },
  {
   "cell_type": "code",
   "execution_count": 16,
   "metadata": {
    "collapsed": false
   },
   "outputs": [
    {
     "name": "stdout",
     "output_type": "stream",
     "text": [
      "part within cuts: [   0    1    2 ..., 9997 9998 9999] len:9999\n",
      "n_macroparts: [ 186 3409 5590  803   11]\n",
      "slice idx of part: [2 2 2 ..., 1 1 1]\n",
      "\n",
      "\n",
      "cov x per slice via std: [  2.49466971e-07   2.60082680e-07   2.53435507e-07   2.54910379e-07\n",
      "   1.13646127e-07]\n",
      "cov x per slice via cov: [  2.49466971e-07   2.60082680e-07   2.53435507e-07   2.54910379e-07\n",
      "   1.13646127e-07]\n",
      "\n",
      "output from cov_per_slice:\n",
      "[  1.07699058e-05   1.12800753e-05   1.12019929e-05   1.10313466e-05\n",
      "   9.12549567e-06]\n",
      "[  3.63114120e-06   3.73652866e-06   3.74868679e-06   3.79238567e-06\n",
      "   3.71961229e-06]\n"
     ]
    }
   ],
   "source": [
    "np.random.seed(3)\n",
    "alpha0=[0.003]\n",
    "C = 6900\n",
    "Qs = 0.0017\n",
    "bunch = generate_bunch(n_macroparticles=10000, alpha_x=0.3, alpha_y=-0.2, beta_x=31, beta_y=54,\n",
    "                      linear_map=LinearMap(alpha0, C, Qs),\n",
    "                      dispx=4., dispy=0.6,\n",
    "                      epsn_x=3.75e-6, epsn_y=3.75e-6,\n",
    "                      gamma = 3730.27)\n",
    "n_slices = 5\n",
    "slicer = UniformBinSlicer(n_slices, z_cuts=(np.min(bunch.z)+0.1, np.max(bunch.z)+0.1)) # some particles outside slicer\n",
    "slice_set = slicer.slice(bunch)\n",
    "print('part within cuts: ' + str(slice_set.particles_within_cuts) + ' len:' + str(len(slice_set.particles_within_cuts)))\n",
    "print('n_macroparts: ' + str(slice_set.n_macroparticles_per_slice))\n",
    "print('slice idx of part: ' + str(slice_set.slice_index_of_particle))\n",
    "x_slice0 = bunch.x[slice_set.slice_index_of_particle == 0]\n",
    "x_slice1 = bunch.x[slice_set.slice_index_of_particle == 1]\n",
    "xp_slice0 = bunch.xp[slice_set.slice_index_of_particle == 0]\n",
    "xp_slice1 = bunch.xp[slice_set.slice_index_of_particle == 1]\n",
    "\n",
    "print('\\n')\n",
    "\n",
    "std_per_slice = np.zeros(n_slices)\n",
    "st.std_per_slice(slice_set.slice_index_of_particle,\n",
    "                 slice_set.particles_within_cuts,\n",
    "                 slice_set.n_macroparticles_per_slice,\n",
    "                 bunch.x,\n",
    "                 std_per_slice)\n",
    "\n",
    "cov_per_slice = np.zeros(n_slices)\n",
    "st.cov_per_slice(slice_set.slice_index_of_particle,\n",
    "                 slice_set.particles_within_cuts,\n",
    "                 slice_set.n_macroparticles_per_slice,\n",
    "                 bunch.x, bunch.x,\n",
    "                 cov_per_slice)\n",
    "                                              \n",
    "\n",
    "print('cov x per slice via std: ' + str(std_per_slice**2))\n",
    "print('cov x per slice via cov: ' + str(cov_per_slice))\n",
    "\n",
    "\n",
    "print('\\noutput from cov_per_slice:')\n",
    "\n",
    "slicer.add_statistics(slice_set, bunch, True)\n",
    "\n",
    "print(slice_set.eff_epsn_x)\n",
    "print(slice_set.epsn_x)\n"
   ]
  },
  {
   "cell_type": "code",
   "execution_count": null,
   "metadata": {
    "collapsed": true
   },
   "outputs": [],
   "source": [
    "\n"
   ]
  },
  {
   "cell_type": "code",
   "execution_count": null,
   "metadata": {
    "collapsed": true
   },
   "outputs": [],
   "source": []
  }
 ],
 "metadata": {
  "kernelspec": {
   "display_name": "Python 2",
   "language": "python",
   "name": "python2"
  },
  "language_info": {
   "codemirror_mode": {
    "name": "ipython",
    "version": 2
   },
   "file_extension": ".py",
   "mimetype": "text/x-python",
   "name": "python",
   "nbconvert_exporter": "python",
   "pygments_lexer": "ipython2",
   "version": "2.7.9"
  }
 },
 "nbformat": 4,
 "nbformat_minor": 0
}
