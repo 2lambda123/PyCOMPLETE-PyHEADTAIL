{
 "cells": [
  {
   "cell_type": "code",
   "execution_count": 1,
   "metadata": {
    "collapsed": true
   },
   "outputs": [],
   "source": [
    "from __future__ import division\n",
    "import sys, os\n",
    "\n",
    "where = \"/afs/cern.ch/user/o/oeftiger/w/private/\"\n",
    "# BIN = where + \"git/PyHEADTAIL-lxblaster/\"\n",
    "BIN = where + \"git/PyHEADTAIL/\"\n",
    "sys.path.append(BIN)\n",
    "BIN = where + \"git/PyPIC-experimental\"\n",
    "sys.path.append(BIN)\n",
    "BIN = where + \"git\"\n",
    "sys.path.append(BIN)\n",
    "\n",
    "import copy"
   ]
  },
  {
   "cell_type": "code",
   "execution_count": 2,
   "metadata": {
    "collapsed": false
   },
   "outputs": [
    {
     "name": "stdout",
     "output_type": "stream",
     "text": [
      "PyHEADTAIL v1.4.1-23-gf8be831a76-dirty\n",
      "\n",
      "\n"
     ]
    }
   ],
   "source": [
    "import numpy as np\n",
    "from scipy.constants import m_p, c, e\n",
    "import matplotlib.pyplot as plt\n",
    "%matplotlib inline\n",
    "\n",
    "np.random.seed(0)\n",
    "\n",
    "from PyPIC.meshing import UniformMesh1D\n",
    "\n",
    "from pycuda.autoinit import context\n",
    "from pycuda import gpuarray\n",
    "from pycuda import cumath\n",
    "\n",
    "import PyHEADTAIL\n",
    "import PyHEADTAIL.gpu\n",
    "\n",
    "from PyHEADTAIL.particles.particles import Particles\n",
    "from PyHEADTAIL.gpu.slicing import MeshSlicer\n",
    "from PyHEADTAIL.trackers.simple_long_tracking import LinearMap\n",
    "from PyHEADTAIL.particles.generators import generate_Gaussian6DTwiss\n",
    "\n",
    "from PyCERNmachines.CERNmachines import SPS"
   ]
  },
  {
   "cell_type": "code",
   "execution_count": 3,
   "metadata": {
    "collapsed": true
   },
   "outputs": [],
   "source": [
    "# general simulation parameters\n",
    "n_segments = 250\n",
    "\n",
    "# beam parameters\n",
    "charge = e\n",
    "mass = m_p\n",
    "gamma = 27.72855209 # 26 GeV injection\n",
    "intensity = 2.5e11 * 0.5\n",
    "epsn_x = 2.5e-6 # in [m*rad]\n",
    "epsn_y = 2.5e-6 # in [m*rad]\n",
    "sig_z = 0.23 # in [m]\n",
    "\n",
    "#simulation parameters\n",
    "macroparticlenumber = 2*1024*1024\n",
    " #must be multiple of nslices\n",
    "particlenumber_per_mp = intensity/macroparticlenumber\n",
    "\n",
    "#create a params for slicers\n",
    "nslices = 256\n",
    "z_cuts = (-20.,30.) #asymmetric to check uniform_charge_slicer\n",
    "n_sigma_z = 5"
   ]
  },
  {
   "cell_type": "code",
   "execution_count": 4,
   "metadata": {
    "collapsed": false
   },
   "outputs": [
    {
     "name": "stdout",
     "output_type": "stream",
     "text": [
      "Synchrotron init. From kwargs: machine_configuration = 'Q20-injection'\n",
      "Synchrotron init. From kwargs: n_segments = 250\n"
     ]
    }
   ],
   "source": [
    "machine = SPS(n_segments=n_segments, machine_configuration='Q20-injection')"
   ]
  },
  {
   "cell_type": "code",
   "execution_count": 5,
   "metadata": {
    "collapsed": false
   },
   "outputs": [],
   "source": [
    "def create_bunch(z_min=-1, z_max=1):\n",
    "    z = np.linspace(z_min, z_max, num=macroparticlenumber)\n",
    "    y = np.copy(z)\n",
    "    x = np.copy(z)\n",
    "    xp = np.linspace(-0.5, 0.5, num=macroparticlenumber)\n",
    "    yp = np.copy(xp)\n",
    "    dp = np.copy(xp)\n",
    "    coords_n_momenta_dict = {\n",
    "        'x': x, 'y': y, 'z': z,\n",
    "        'xp': xp, 'yp': yp, 'dp': dp\n",
    "    }\n",
    "\n",
    "    #create a bunch\n",
    "    return Particles(\n",
    "        macroparticlenumber, particlenumber_per_mp, e, m_p,\n",
    "        machine.circumference, gamma, coords_n_momenta_dict\n",
    "    )\n",
    "def create_gaussian_bunch():\n",
    "    return machine.generate_6D_Gaussian_bunch_matched(\n",
    "        n_macroparticles=macroparticlenumber,\n",
    "        intensity=intensity,\n",
    "        epsn_x=epsn_x,\n",
    "        epsn_y=epsn_y,\n",
    "        sigma_z=sig_z\n",
    "    )"
   ]
  },
  {
   "cell_type": "code",
   "execution_count": 6,
   "metadata": {
    "collapsed": true
   },
   "outputs": [],
   "source": [
    "def create_mesh(nslices=nslices, z_cuts=z_cuts):\n",
    "    return UniformMesh1D(z_cuts[0],\n",
    "                         np.diff(z_cuts)[0] / nslices,\n",
    "                         nslices,\n",
    "                         mathlib=cumath)"
   ]
  },
  {
   "cell_type": "code",
   "execution_count": 7,
   "metadata": {
    "collapsed": false
   },
   "outputs": [],
   "source": [
    "beam = create_bunch()"
   ]
  },
  {
   "cell_type": "code",
   "execution_count": 8,
   "metadata": {
    "collapsed": false
   },
   "outputs": [],
   "source": [
    "mesh = create_mesh()\n",
    "basic_slicer = MeshSlicer(mesh, context)\n",
    "basic_slice_set = basic_slicer.slice(beam)"
   ]
  },
  {
   "cell_type": "code",
   "execution_count": 9,
   "metadata": {
    "collapsed": false
   },
   "outputs": [
    {
     "data": {
      "text/plain": [
       "(-20.0, 30.0)"
      ]
     },
     "execution_count": 9,
     "metadata": {},
     "output_type": "execute_result"
    }
   ],
   "source": [
    "basic_slicer.get_long_cuts(beam)"
   ]
  },
  {
   "cell_type": "code",
   "execution_count": 10,
   "metadata": {
    "collapsed": false
   },
   "outputs": [],
   "source": [
    "unif_bin_slicer = MeshSlicer(mesh, context)\n",
    "unif_bin_slicer2 = MeshSlicer(mesh, context)\n",
    "assert unif_bin_slicer == unif_bin_slicer2\n",
    "assert not unif_bin_slicer != unif_bin_slicer2"
   ]
  },
  {
   "cell_type": "code",
   "execution_count": 11,
   "metadata": {
    "collapsed": true
   },
   "outputs": [],
   "source": [
    "unif_bin_slicer = MeshSlicer(mesh, context)\n",
    "unif_bin_slicer2 = MeshSlicer(create_mesh(nslices=nslices+1), context)\n",
    "assert unif_bin_slicer != unif_bin_slicer2\n",
    "assert not unif_bin_slicer == unif_bin_slicer2"
   ]
  },
  {
   "cell_type": "code",
   "execution_count": 12,
   "metadata": {
    "collapsed": false
   },
   "outputs": [],
   "source": [
    "z_min, z_max = -2., 2.\n",
    "bunch = create_bunch(z_min=z_min, z_max=z_max)\n",
    "z_cuts = (z_min-1, z_max+1)\n",
    "\n",
    "mesh = create_mesh(z_cuts=z_cuts)\n",
    "\n",
    "slice_set = MeshSlicer(mesh, context).slice(bunch)\n",
    "n_particles = gpuarray.sum(slice_set.n_macroparticles_per_slice).get()\n",
    "assert (macroparticlenumber == n_particles)"
   ]
  },
  {
   "cell_type": "code",
   "execution_count": 13,
   "metadata": {
    "collapsed": false
   },
   "outputs": [
    {
     "name": "stdout",
     "output_type": "stream",
     "text": [
      "works\n"
     ]
    }
   ],
   "source": [
    "basic_slicer.add_statistics(\n",
    "    basic_slice_set, beam, True,\n",
    "    basic_slice_set.lower_bounds,\n",
    "    basic_slice_set.upper_bounds\n",
    ")\n",
    "basic_slice_set.mean_x\n",
    "basic_slice_set.sigma_x\n",
    "print 'works'"
   ]
  },
  {
   "cell_type": "code",
   "execution_count": 14,
   "metadata": {
    "collapsed": true
   },
   "outputs": [],
   "source": [
    "z_min, z_max = -2., 2.\n",
    "bunch = create_bunch(z_min=z_min, z_max=z_max)\n",
    "z_cuts = (z_min+1, z_max-1)\n",
    "\n",
    "mesh = create_mesh(z_cuts=z_cuts)\n",
    "\n",
    "slice_set = MeshSlicer(mesh, context).slice(bunch)\n",
    "n_particles = gpuarray.sum(slice_set.n_macroparticles_per_slice).get()\n",
    "assert n_particles == bunch.macroparticlenumber/2"
   ]
  },
  {
   "cell_type": "code",
   "execution_count": 15,
   "metadata": {
    "collapsed": false
   },
   "outputs": [
    {
     "name": "stdout",
     "output_type": "stream",
     "text": [
      "*** Maximum RMS bunch length 0.235788291837m.\n",
      "... distance to target bunch length: -2.4290e-02\n",
      "... distance to target bunch length: -2.4255e-02\n",
      "... distance to target bunch length: -9.4232e-03\n",
      "... distance to target bunch length: -5.0846e-03\n",
      "... distance to target bunch length: -2.0166e-03\n",
      "... distance to target bunch length: -6.6153e-04\n",
      "... distance to target bunch length: -1.2571e-04\n",
      "... distance to target bunch length: -9.7555e-06\n",
      "... distance to target bunch length: -1.5712e-07\n",
      "... distance to target bunch length: -1.9993e-10\n",
      "--> Bunch length: 0.23\n",
      "--> Emittance: 0.407764779947\n"
     ]
    }
   ],
   "source": [
    "beam = create_gaussian_bunch()\n",
    "mesh = create_mesh(z_cuts=(min(beam.z.get()), max(beam.z.get())*(1+1e-15)))\n",
    "slice_set = MeshSlicer(mesh, context).slice(beam)"
   ]
  },
  {
   "cell_type": "code",
   "execution_count": 16,
   "metadata": {
    "collapsed": true
   },
   "outputs": [],
   "source": [
    "beam_ram = copy.copy(beam)\n",
    "for coord in beam_ram.coords_n_momenta:\n",
    "    setattr(beam_ram, coord, getattr(beam_ram, coord).get())\n",
    "beam_ram.id = beam_ram.id.get()"
   ]
  },
  {
   "cell_type": "code",
   "execution_count": 17,
   "metadata": {
    "collapsed": false
   },
   "outputs": [
    {
     "data": {
      "text/plain": [
       "[<matplotlib.lines.Line2D at 0x7fdd88f9cfd0>]"
      ]
     },
     "execution_count": 17,
     "metadata": {},
     "output_type": "execute_result"
    },
    {
     "data": {
      "image/png": "[encoded data removed]",
      "text/plain": [
       "<matplotlib.figure.Figure at 0x7fdd8ad23510>"
      ]
     },
     "metadata": {},
     "output_type": "display_data"
    }
   ],
   "source": [
    "plt.plot(slice_set.n_macroparticles_per_slice.get())"
   ]
  },
  {
   "cell_type": "code",
   "execution_count": 18,
   "metadata": {
    "collapsed": false
   },
   "outputs": [],
   "source": [
    "from PyHEADTAIL.particles.slicing import UniformBinSlicer\n",
    "slice_set_ram = beam_ram.get_slices(UniformBinSlicer(\n",
    "        nslices, z_cuts=(float(slice_set.z_cut_tail), float(slice_set.z_cut_head))))"
   ]
  },
  {
   "cell_type": "code",
   "execution_count": 19,
   "metadata": {
    "collapsed": false
   },
   "outputs": [
    {
     "data": {
      "text/plain": [
       "[<matplotlib.lines.Line2D at 0x7fdd88c87310>]"
      ]
     },
     "execution_count": 19,
     "metadata": {},
     "output_type": "execute_result"
    },
    {
     "data": {
      "image/png": "[encoded data removed]",
      "text/plain": [
       "<matplotlib.figure.Figure at 0x7fdd88f4b9d0>"
      ]
     },
     "metadata": {},
     "output_type": "display_data"
    }
   ],
   "source": [
    "plt.plot(slice_set_ram.n_macroparticles_per_slice)"
   ]
  },
  {
   "cell_type": "code",
   "execution_count": 20,
   "metadata": {
    "collapsed": false
   },
   "outputs": [
    {
     "data": {
      "text/plain": [
       "True"
      ]
     },
     "execution_count": 20,
     "metadata": {},
     "output_type": "execute_result"
    }
   ],
   "source": [
    "np.all(beam.z.get() == beam_ram.z)"
   ]
  },
  {
   "cell_type": "code",
   "execution_count": 21,
   "metadata": {
    "collapsed": false
   },
   "outputs": [
    {
     "data": {
      "text/plain": [
       "True"
      ]
     },
     "execution_count": 21,
     "metadata": {},
     "output_type": "execute_result"
    }
   ],
   "source": [
    "np.all(slice_set.n_macroparticles_per_slice.get() == slice_set_ram.n_macroparticles_per_slice)"
   ]
  },
  {
   "cell_type": "code",
   "execution_count": 22,
   "metadata": {
    "collapsed": false
   },
   "outputs": [
    {
     "data": {
      "text/plain": [
       "[<matplotlib.lines.Line2D at 0x7fdd88c34f10>]"
      ]
     },
     "execution_count": 22,
     "metadata": {},
     "output_type": "execute_result"
    },
    {
     "data": {
      "image/png": "[encoded data removed]",
      "text/plain": [
       "<matplotlib.figure.Figure at 0x7fdd88c9f210>"
      ]
     },
     "metadata": {},
     "output_type": "display_data"
    }
   ],
   "source": [
    "plt.plot(slice_set_ram.lambda_bins(1))"
   ]
  },
  {
   "cell_type": "code",
   "execution_count": 23,
   "metadata": {
    "collapsed": false
   },
   "outputs": [
    {
     "data": {
      "text/plain": [
       "[<matplotlib.lines.Line2D at 0x7fdd88b5d890>]"
      ]
     },
     "execution_count": 23,
     "metadata": {},
     "output_type": "execute_result"
    },
    {
     "data": {
      "image/png": "[encoded data removed]",
      "text/plain": [
       "<matplotlib.figure.Figure at 0x7fdd88bda090>"
      ]
     },
     "metadata": {},
     "output_type": "display_data"
    }
   ],
   "source": [
    "plt.plot(slice_set.lambda_bins(1).get())"
   ]
  },
  {
   "cell_type": "code",
   "execution_count": 24,
   "metadata": {
    "collapsed": false
   },
   "outputs": [
    {
     "data": {
      "text/plain": [
       "True"
      ]
     },
     "execution_count": 24,
     "metadata": {},
     "output_type": "execute_result"
    }
   ],
   "source": [
    "np.allclose(slice_set_ram.lambda_bins(1), slice_set.lambda_bins(1).get())"
   ]
  },
  {
   "cell_type": "code",
   "execution_count": 31,
   "metadata": {
    "collapsed": false
   },
   "outputs": [
    {
     "data": {
      "text/plain": [
       "[<matplotlib.lines.Line2D at 0x7fdd88830c10>]"
      ]
     },
     "execution_count": 31,
     "metadata": {},
     "output_type": "execute_result"
    },
    {
     "data": {
      "image/png": "[encoded data removed]",
      "text/plain": [
       "<matplotlib.figure.Figure at 0x7fdd888efc10>"
      ]
     },
     "metadata": {},
     "output_type": "display_data"
    }
   ],
   "source": [
    "plt.plot(slice_set_ram.lambda_prime_bins(1))"
   ]
  },
  {
   "cell_type": "code",
   "execution_count": 26,
   "metadata": {
    "collapsed": false
   },
   "outputs": [
    {
     "data": {
      "text/plain": [
       "[<matplotlib.lines.Line2D at 0x7fdd88a2ed90>]"
      ]
     },
     "execution_count": 26,
     "metadata": {},
     "output_type": "execute_result"
    },
    {
     "data": {
      "image/png": "[encoded data removed]",
      "text/plain": [
       "<matplotlib.figure.Figure at 0x7fdd88aba390>"
      ]
     },
     "metadata": {},
     "output_type": "display_data"
    }
   ],
   "source": [
    "plt.plot(slice_set.lambda_prime_bins(1).get())"
   ]
  },
  {
   "cell_type": "code",
   "execution_count": 27,
   "metadata": {
    "collapsed": false
   },
   "outputs": [
    {
     "data": {
      "text/plain": [
       "True"
      ]
     },
     "execution_count": 27,
     "metadata": {},
     "output_type": "execute_result"
    }
   ],
   "source": [
    "np.allclose(slice_set_ram.lambda_prime_bins(1, False, False) / slice_set_ram.charge_per_mp,\n",
    "            slice_set.lambda_prime_bins(1, False, False).get() / slice_set.charge_per_mp)"
   ]
  }
 ],
 "metadata": {
  "kernelspec": {
   "display_name": "Python 2",
   "language": "python",
   "name": "python2"
  },
  "language_info": {
   "codemirror_mode": {
    "name": "ipython",
    "version": 2
   },
   "file_extension": ".py",
   "mimetype": "text/x-python",
   "name": "python",
   "nbconvert_exporter": "python",
   "pygments_lexer": "ipython2",
   "version": "2.7.10"
  }
 },
 "nbformat": 4,
 "nbformat_minor": 0
}
