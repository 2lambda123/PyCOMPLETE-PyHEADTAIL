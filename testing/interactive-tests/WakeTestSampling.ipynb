{
 "cells": [
  {
   "cell_type": "code",
   "execution_count": 1,
   "metadata": {
    "collapsed": false
   },
   "outputs": [
    {
     "name": "stdout",
     "output_type": "stream",
     "text": [
      "PyHEADTAIL v1.2.0-95-gd3ff8ca191-dirty\n",
      "\n",
      "\n",
      "Synchrotron init. From kwargs: machine_configuration = '1.4GeV'\n",
      "Synchrotron init. From kwargs: longitudinal_focusing = 'linear'\n",
      "Synchrotron init. From kwargs: n_segments = 1\n"
     ]
    },
    {
     "name": "stderr",
     "output_type": "stream",
     "text": [
      "/usr/lib64/python2.7/site-packages/matplotlib/__init__.py:855: UserWarning: text.fontsize is deprecated and replaced with font.size; please use the latter.\n",
      "  warnings.warn(self.msg_depr % (key, alt_key))\n"
     ]
    }
   ],
   "source": [
    "import sys\n",
    "import numpy as np\n",
    "from scipy.constants import c\n",
    "from scipy.interpolate import interp1d\n",
    "import matplotlib.pyplot as plt\n",
    "%matplotlib tk\n",
    "\n",
    "import MyStyle as ms\n",
    "ms.set_mystyle()\n",
    "\n",
    "\n",
    "cases = ['160MeV', '1GeV', '1c4GeV']\n",
    "case  = casem = '160MeV'\n",
    "case  = '1c4GeV'; casem = '1.4GeV'\n",
    "A = np.loadtxt('./PSB_'+case+'.wake')\n",
    "\n",
    "\n",
    "from PyCERNmachines.CERNmachines import PSB\n",
    "\n",
    "machine = PSB(n_segments=1, machine_configuration=casem, longitudinal_focusing='linear')\n",
    "sigma_z = 500e-9*machine.beta*c/4.\n",
    "bunch = machine.generate_6D_Gaussian_bunch(1e6, 1e12, 6e-6, 6e-6, sigma_z)\n",
    "\n",
    "A[:,0]  *= 1e-9 * machine.beta*c\n",
    "A[:,1:] *= 1e15\n",
    "\n",
    "\n",
    "from PyHEADTAIL.impedances.wakes import WakeTable, check_wake_sampling\n",
    "from PyHEADTAIL.particles.slicing import UniformBinSlicer\n",
    "\n",
    "wake_table = WakeTable('./PSB_'+case+'.wake', \n",
    "                       ['time', 'dipole_x', 'dipole_y', 'quadrupole_x', 'quadrupole_y'])"
   ]
  },
  {
   "cell_type": "code",
   "execution_count": 2,
   "metadata": {
    "collapsed": false
   },
   "outputs": [],
   "source": [
    "zz = wake_table.wake_table['time']*1e-9*machine.beta*c\n",
    "z_tmp = np.ma.masked_outside(zz, -5, 5)\n",
    "zz = z_tmp[~z_tmp.mask]"
   ]
  },
  {
   "cell_type": "code",
   "execution_count": 3,
   "metadata": {
    "collapsed": false
   },
   "outputs": [
    {
     "name": "stdout",
     "output_type": "stream",
     "text": [
      "*** PyHEADTAIL WARNING! n_slices will be overridden to match given combination of z_cuts and z_sampling_points.\n"
     ]
    }
   ],
   "source": [
    "slicer = UniformBinSlicer(zz, z_cuts=(-50, 50), z_sample_points=zz)\n",
    "ss = bunch.get_slices(slicer).z_centers\n",
    "bb = bunch.get_slices(slicer).z_bins"
   ]
  },
  {
   "cell_type": "code",
   "execution_count": 5,
   "metadata": {
    "collapsed": false
   },
   "outputs": [
    {
     "name": "stdout",
     "output_type": "stream",
     "text": [
      "*** PyHEADTAIL WARNING! dipole_x Found low beta wake.\n",
      "\n",
      "--> Resulting number of slices: 3642\n"
     ]
    }
   ],
   "source": [
    "ax1 = check_wake_sampling(bunch, slicer, wake_table, machine.beta, 'dipole_x', bins=False)\n",
    "ax1.set_xlim(-100, 100)\n",
    "\n",
    "plt.tight_layout()\n",
    "plt.show()"
   ]
  },
  {
   "cell_type": "code",
   "execution_count": 6,
   "metadata": {
    "collapsed": false
   },
   "outputs": [
    {
     "name": "stdout",
     "output_type": "stream",
     "text": [
      "3643\n"
     ]
    }
   ],
   "source": [
    "print len(ss)"
   ]
  },
  {
   "cell_type": "code",
   "execution_count": null,
   "metadata": {
    "collapsed": true
   },
   "outputs": [],
   "source": []
  }
 ],
 "metadata": {
  "kernelspec": {
   "display_name": "Python 2",
   "language": "python",
   "name": "python2"
  },
  "language_info": {
   "codemirror_mode": {
    "name": "ipython",
    "version": 2
   },
   "file_extension": ".py",
   "mimetype": "text/x-python",
   "name": "python",
   "nbconvert_exporter": "python",
   "pygments_lexer": "ipython2",
   "version": "2.7.8"
  }
 },
 "nbformat": 4,
 "nbformat_minor": 0
}
