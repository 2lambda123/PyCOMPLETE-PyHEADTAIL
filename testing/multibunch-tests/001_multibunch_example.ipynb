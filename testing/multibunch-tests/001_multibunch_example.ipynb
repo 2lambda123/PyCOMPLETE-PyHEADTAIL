{
 "cells": [
  {
   "cell_type": "code",
   "execution_count": null,
   "metadata": {
    "collapsed": false
   },
   "outputs": [],
   "source": [
    "%matplotlib inline\n",
    "from __future__ import division\n",
    "\n",
    "\n",
    "import sys, os\n",
    "BIN = os.path.expanduser(\"../../../\")\n",
    "sys.path.append(BIN)\n",
    "\n",
    "import sys, time\n",
    "import numpy as np\n",
    "from mpi4py import MPI\n",
    "from scipy.constants import c, e, m_p\n",
    "import matplotlib.pyplot as plt\n",
    "\n",
    "from PyHEADTAIL.particles.slicing import UniformBinSlicer\n",
    "from PyHEADTAIL.impedances.wakes import CircularResistiveWall, CircularResonator, WakeField\n",
    "from PyHEADTAIL.monitors.monitors import BunchMonitor, SliceMonitor\n",
    "from PyHEADTAIL.machines.synchrotron import Synchrotron\n",
    "from PyHEADTAIL.feedback.feedback import OneboxFeedback\n",
    "from PyHEADTAIL.feedback.processors.multiplication import ChargeWeighter\n",
    "from PyHEADTAIL.feedback.processors.linear_transform import Averager"
   ]
  },
  {
   "cell_type": "markdown",
   "metadata": {},
   "source": [
    "# Multibunch PyHEADTAIL example"
   ]
  },
  {
   "cell_type": "markdown",
   "metadata": {},
   "source": [
    "## Machine settings"
   ]
  },
  {
   "cell_type": "code",
   "execution_count": null,
   "metadata": {
    "collapsed": false
   },
   "outputs": [],
   "source": [
    "n_turns = 300\n",
    "\n",
    "n_macroparticles = 100000 # per bunch \n",
    "intensity = 2.3e11\n",
    "intensity = 2.3e13\n",
    "\n",
    "alpha = 53.86**-2\n",
    "\n",
    "p0 = 7000e9 * e / c\n",
    "\n",
    "accQ_x = 62.31\n",
    "accQ_y = 60.32\n",
    "Q_s = 2.1e-3\n",
    "chroma=0\n",
    "\n",
    "circumference = 26658.883\n",
    "\n",
    "beta_x = circumference / (2.*np.pi*accQ_x)\n",
    "beta_y = circumference / (2.*np.pi*accQ_y)\n",
    "\n",
    "h_RF = 35640\n",
    "h_bunch = 3564\n",
    "\n",
    "epsn_x = 2e-6\n",
    "epsn_y = 2e-6\n",
    "sigma_z = 0.09\n",
    "\n",
    "machine = Synchrotron(\n",
    "        optics_mode='smooth', circumference=circumference,\n",
    "        n_segments=1, s=None, name=None,\n",
    "        alpha_x=None, beta_x=beta_x, D_x=0,\n",
    "        alpha_y=None, beta_y=beta_y, D_y=0,\n",
    "        accQ_x=accQ_x, accQ_y=accQ_y, Qp_x=chroma, Qp_y=chroma,\n",
    "        app_x=0, app_y=0, app_xy=0,\n",
    "        alpha_mom_compaction=alpha, longitudinal_mode='linear',\n",
    "        h_RF=np.atleast_1d(h_RF), p0=p0,\n",
    "        charge=e, mass=m_p, wrap_z=False, Q_s=Q_s)"
   ]
  },
  {
   "cell_type": "markdown",
   "metadata": {},
   "source": [
    "## Filling scheme"
   ]
  },
  {
   "cell_type": "code",
   "execution_count": null,
   "metadata": {
    "collapsed": false
   },
   "outputs": [],
   "source": [
    "filling_scheme = [] # A list of filled buckets\n",
    "for i in range(3):\n",
    "    for j in range(72):\n",
    "        filling_scheme.append(i*80+j)\n",
    "\n",
    "allbunches = machine.generate_6D_Gaussian_bunch(n_macroparticles, intensity,\n",
    "                                                epsn_x, epsn_y, sigma_z=sigma_z,\n",
    "                                                filling_scheme=filling_scheme,\n",
    "                                                matched=False)"
   ]
  },
  {
   "cell_type": "markdown",
   "metadata": {},
   "source": [
    "## Wakes"
   ]
  },
  {
   "cell_type": "code",
   "execution_count": null,
   "metadata": {
    "collapsed": false
   },
   "outputs": [],
   "source": [
    "slicer = UniformBinSlicer(20, z_cuts=(-2.*sigma_z, 2.*sigma_z),\n",
    "                               circumference=machine.circumference, h_bunch=h_bunch)\n",
    "\n",
    "mpi_settings = 'mpi_full_ring_fft'\n",
    "n_turns_wake = 3\n",
    "\n",
    "# pipe radius [m]\n",
    "b = 13.2e-3\n",
    "# length of the pipe [m]\n",
    "L=100000.\n",
    "# conductivity of the pipe 1/[Ohm m]\n",
    "sigma = 1./(7.88e-10)\n",
    "\n",
    "wakes = CircularResistiveWall(b,L,sigma,b/c,beta_beam=machine.beta)\n",
    "# wakes = CircularResonator(135e6, 1.97e9, 31000, n_turns_wake=n_turns_wake)\n",
    "\n",
    "wake_field = WakeField(slicer, wakes, mpi=mpi_settings)\n",
    "machine.one_turn_map.append(wake_field)"
   ]
  },
  {
   "cell_type": "markdown",
   "metadata": {},
   "source": [
    "## Tracking"
   ]
  },
  {
   "cell_type": "code",
   "execution_count": null,
   "metadata": {
    "collapsed": false
   },
   "outputs": [],
   "source": [
    "simulation_parameters_dict = {'gamma'           : machine.gamma,\\\n",
    "                              'intensity'       : intensity,\\\n",
    "                              'Qx'              : accQ_x,\\\n",
    "                              'Qy'              : accQ_y,\\\n",
    "                              'Qs'              : Q_s,\\\n",
    "                              'beta_x'          : beta_x,\\\n",
    "                              'beta_y'          : beta_y,\\\n",
    "#                               'beta_z'          : bucket.beta_z,\\\n",
    "                              'epsn_x'          : epsn_x,\\\n",
    "                              'epsn_y'          : epsn_y,\\\n",
    "                              'sigma_z'         : sigma_z,\\\n",
    "                             }\n",
    "\n",
    "bunchmonitor = BunchMonitor('bunch_by_bunch_data', n_turns,\n",
    "                            simulation_parameters_dict,\n",
    "                            write_buffer_every=10, buffer_size=10,\n",
    "                            mpi=True, filling_scheme=filling_scheme)\n",
    "\n",
    "\n",
    "for i in range(n_turns):\n",
    "    t0 = time.clock()\n",
    "\n",
    "    machine.track(allbunches)\n",
    "    bunchmonitor.dump(allbunches)\n",
    "\n",
    "    bunch_list = allbunches.split_to_views()\n",
    "    bunch = bunch_list[0]\n",
    "    if i == 0:\n",
    "        print('Turn      mean_x      mean_y      mean_z     epsn_x     epsn_y     epsn_z   sigma_z  sigma_dp     Time')\n",
    "    if i%10 == 0:\n",
    "        print('{:4d}   {:+.2e}   {:+.2e}   {:+.2e}   {:.2e}   {:.2e}   {:.2e}      {:.2f}      {:.2f}   {:2s}'.format(i, bunch.mean_x(), bunch.mean_y(), bunch.mean_z(), bunch.epsn_x(), bunch.epsn_y(), bunch.epsn_z(), bunch.sigma_z(), bunch.sigma_dp(), str(time.clock() - t0)))\n",
    "print('\\n*** Successfully completed!')\n"
   ]
  },
  {
   "cell_type": "markdown",
   "metadata": {},
   "source": [
    "## Bunch monitor data from the h5 file"
   ]
  },
  {
   "cell_type": "code",
   "execution_count": null,
   "metadata": {
    "collapsed": false
   },
   "outputs": [],
   "source": [
    "import h5py\n",
    "\n",
    "h5f = h5py.File('bunch_by_bunch_data.h5','r')\n",
    "\n",
    "data_mean_x = None\n",
    "data_mean_y = None\n",
    "data_mean_z = None\n",
    "    \n",
    "\n",
    "for i, bunch_id in enumerate(filling_scheme):\n",
    "    t_mean_x = h5f['Bunches'][str(bunch_id)]['mean_x'][:]\n",
    "    t_epsn_x = h5f['Bunches'][str(bunch_id)]['epsn_x'][:]\n",
    "    t_mean_y = h5f['Bunches'][str(bunch_id)]['mean_y'][:]\n",
    "    t_mean_z = h5f['Bunches'][str(bunch_id)]['mean_z'][:]\n",
    "\n",
    "    if data_mean_x is None:\n",
    "        valid_map = (t_epsn_x > 0)\n",
    "\n",
    "        turns = np.linspace(1,np.sum(valid_map),np.sum(valid_map))\n",
    "        bunch_spacing = circumference/float(h_bunch)\n",
    "\n",
    "        data_mean_x = np.zeros((np.sum(valid_map),len(filling_scheme)))\n",
    "        data_mean_y = np.zeros((np.sum(valid_map),len(filling_scheme)))\n",
    "        data_mean_z = np.zeros((np.sum(valid_map),len(filling_scheme)))\n",
    "\n",
    "\n",
    "    np.copyto(data_mean_x[:,i],t_mean_x[valid_map])\n",
    "    np.copyto(data_mean_y[:,i],t_mean_y[valid_map])\n",
    "    np.copyto(data_mean_z[:,i],t_mean_z[valid_map]+-bunch_id*bunch_spacing)\n",
    "\n",
    "os.remove('./bunch_by_bunch_data.h5')"
   ]
  },
  {
   "cell_type": "markdown",
   "metadata": {},
   "source": [
    "## Turn-by-turn bunch postion plot"
   ]
  },
  {
   "cell_type": "code",
   "execution_count": null,
   "metadata": {
    "collapsed": false
   },
   "outputs": [],
   "source": [
    "fig, (ax1, ax2) = plt.subplots(1, 2, figsize=(12, 4))\n",
    "ax1_z = ax1.twiny()\n",
    "ax2_z = ax2.twiny()\n",
    "\n",
    "plot_n_turns = 50\n",
    "\n",
    "ax1.set_color_cycle([plt.cm.viridis(i) for i in np.linspace(0, 1, plot_n_turns)])\n",
    "ax2.set_color_cycle([plt.cm.viridis(i) for i in np.linspace(0, 1, plot_n_turns)])\n",
    "\n",
    "for i in range(plot_n_turns):\n",
    "\n",
    "    ax1.plot(filling_scheme, data_mean_x[-(i+1),:]*1e3, '.')\n",
    "    ax2.plot(filling_scheme, data_mean_y[-(i+1),:]*1e3, '.')\n",
    "    if i == 0:\n",
    "        ax1_z.plot(data_mean_z[-(i+1),:], np.zeros(len(data_mean_x[-(i+1),:])),'.')\n",
    "        ax1_z.cla()\n",
    "        ax2_z.plot(data_mean_z[-(i+1),:], np.zeros(len(data_mean_x[-(i+1),:])),'.')\n",
    "        ax2_z.cla()\n",
    "        ax1_z.set_xlim(np.max(data_mean_z[-(i+1),:]),np.min(data_mean_z[-(i+1),:]))\n",
    "        ax2_z.set_xlim(np.max(data_mean_z[-(i+1),:]),np.min(data_mean_z[-(i+1),:]))\n",
    "\n",
    "\n",
    "ax1_z.set_xlabel('Distance [m]')\n",
    "ax2_z.set_xlabel('Distance [m]')\n",
    "\n",
    "\n",
    "ax1.set_xlabel('Bucket #')\n",
    "ax2.set_xlabel('Bucket #')\n",
    "\n",
    "ax1.set_ylabel('Bunch mean_x [mm]')\n",
    "ax2.set_ylabel('Bunch mean_y [mm]')\n",
    "plt.tight_layout()\n",
    "plt.show()"
   ]
  },
  {
   "cell_type": "code",
   "execution_count": null,
   "metadata": {
    "collapsed": true
   },
   "outputs": [],
   "source": []
  }
 ],
 "metadata": {
  "kernelspec": {
   "display_name": "Python 2",
   "language": "python",
   "name": "python2"
  },
  "language_info": {
   "codemirror_mode": {
    "name": "ipython",
    "version": 2
   },
   "file_extension": ".py",
   "mimetype": "text/x-python",
   "name": "python",
   "nbconvert_exporter": "python",
   "pygments_lexer": "ipython2",
   "version": "2.7.14"
  }
 },
 "nbformat": 4,
 "nbformat_minor": 2
}
